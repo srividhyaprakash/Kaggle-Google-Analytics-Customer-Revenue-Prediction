{
 "cells": [
  {
   "cell_type": "code",
   "execution_count": 1,
   "metadata": {},
   "outputs": [],
   "source": [
    "import numpy as np \n",
    "import pandas as pd \n",
    "import matplotlib.pyplot as plt \n",
    "import os \n",
    "import json\n",
    "from pandas.io.json import json_normalize"
   ]
  },
  {
   "cell_type": "code",
   "execution_count": 2,
   "metadata": {},
   "outputs": [],
   "source": [
    "os.chdir(\"GoogleAnalyticsSales/\")"
   ]
  },
  {
   "cell_type": "code",
   "execution_count": 3,
   "metadata": {},
   "outputs": [],
   "source": [
    "JSON_COLUMNS = ['device', 'geoNetwork', 'totals', 'trafficSource']\n",
    "# converter applies a converter function while you are loading the data, you are loading it as\n",
    "# json.loadstring = json.loads() for each of those columns in the list\n",
    "train_set = pd.read_csv(\"train.csv\", \n",
    "                     converters={column: json.loads for column in JSON_COLUMNS}, \n",
    "                     dtype={'fullVisitorId': 'str'})"
   ]
  },
  {
   "cell_type": "code",
   "execution_count": 27,
   "metadata": {
    "scrolled": true
   },
   "outputs": [
    {
     "data": {
      "text/plain": [
       "channelGrouping\n",
       "(Other)              120\n",
       "Affiliates         16403\n",
       "Direct            143026\n",
       "Display             6262\n",
       "Organic Search    381561\n",
       "Paid Search        25326\n",
       "Referral          104838\n",
       "Social            226117\n",
       "dtype: int64"
      ]
     },
     "execution_count": 27,
     "metadata": {},
     "output_type": "execute_result"
    }
   ],
   "source": [
    "train_set.groupby(\"channelGrouping\").size()"
   ]
  },
  {
   "cell_type": "code",
   "execution_count": null,
   "metadata": {
    "scrolled": true
   },
   "outputs": [],
   "source": [
    "train_set.groupby(\"socialEngagementType\").size()"
   ]
  },
  {
   "cell_type": "code",
   "execution_count": null,
   "metadata": {
    "scrolled": true
   },
   "outputs": [],
   "source": [
    "train_set.groupby(\"visitNumber\").size()"
   ]
  },
  {
   "cell_type": "code",
   "execution_count": 7,
   "metadata": {},
   "outputs": [],
   "source": [
    "# drop it since it has just one value for all the columns\n",
    "train_set.drop([\"socialEngagementType\"], axis=1, inplace=True)"
   ]
  },
  {
   "cell_type": "code",
   "execution_count": 8,
   "metadata": {
    "scrolled": false
   },
   "outputs": [
    {
     "name": "stdout",
     "output_type": "stream",
     "text": [
      "(903653, 54) \n",
      " Index(['channelGrouping', 'date', 'fullVisitorId', 'sessionId', 'visitId',\n",
      "       'visitNumber', 'visitStartTime', 'device.browser', 'device.browserSize',\n",
      "       'device.browserVersion', 'device.deviceCategory', 'device.flashVersion',\n",
      "       'device.isMobile', 'device.language', 'device.mobileDeviceBranding',\n",
      "       'device.mobileDeviceInfo', 'device.mobileDeviceMarketingName',\n",
      "       'device.mobileDeviceModel', 'device.mobileInputSelector',\n",
      "       'device.operatingSystem', 'device.operatingSystemVersion',\n",
      "       'device.screenColors', 'device.screenResolution', 'geoNetwork.city',\n",
      "       'geoNetwork.cityId', 'geoNetwork.continent', 'geoNetwork.country',\n",
      "       'geoNetwork.latitude', 'geoNetwork.longitude', 'geoNetwork.metro',\n",
      "       'geoNetwork.networkDomain', 'geoNetwork.networkLocation',\n",
      "       'geoNetwork.region', 'geoNetwork.subContinent', 'totals.bounces',\n",
      "       'totals.hits', 'totals.newVisits', 'totals.pageviews',\n",
      "       'totals.transactionRevenue', 'totals.visits', 'trafficSource.adContent',\n",
      "       'trafficSource.adwordsClickInfo.adNetworkType',\n",
      "       'trafficSource.adwordsClickInfo.criteriaParameters',\n",
      "       'trafficSource.adwordsClickInfo.gclId',\n",
      "       'trafficSource.adwordsClickInfo.isVideoAd',\n",
      "       'trafficSource.adwordsClickInfo.page',\n",
      "       'trafficSource.adwordsClickInfo.slot', 'trafficSource.campaign',\n",
      "       'trafficSource.campaignCode', 'trafficSource.isTrueDirect',\n",
      "       'trafficSource.keyword', 'trafficSource.medium',\n",
      "       'trafficSource.referralPath', 'trafficSource.source'],\n",
      "      dtype='object')\n"
     ]
    }
   ],
   "source": [
    "# for each column, since you are already loaded it as JSON\n",
    "for column in JSON_COLUMNS:\n",
    "        # normalize them, that is whether all the rows has this variable or not, create a seperate column\n",
    "        # for each of them and give NaN is that attribute is not present for the row\n",
    "        column_as_df = json_normalize(list(train_set[column]))\n",
    "        # convert each json key in that column to column.subcolumn, for example, device.isMobile.\n",
    "        column_as_df.columns = [f\"{column}.{subcolumn}\" for subcolumn in column_as_df.columns]\n",
    "        # drop the main column, for example \"device\" and merge all the columns you just created like \"device.browser\"\n",
    "        train_set = train_set.drop(column, axis=1).merge(column_as_df, right_index=True, left_index=True)\n",
    "print(train_set.shape, \"\\n\", train_set.columns)"
   ]
  },
  {
   "cell_type": "code",
   "execution_count": null,
   "metadata": {
    "scrolled": true
   },
   "outputs": [],
   "source": [
    "# go through all the columns in the train_set\n",
    "for column in train_set.columns:\n",
    "    # whichever column was a JSON and you split it\n",
    "    if \".\" in column:\n",
    "        print(train_set.groupby(column).size())\n",
    "        # check how many different values you have in them, if its just one value throughout the dataset, drop it\n",
    "        if (len(train_set.groupby(column).size()) == 1):\n",
    "            train_set.drop(column, axis=1, inplace=True)"
   ]
  },
  {
   "cell_type": "code",
   "execution_count": 30,
   "metadata": {
    "scrolled": false
   },
   "outputs": [
    {
     "data": {
      "text/plain": [
       "Index(['channelGrouping', 'date', 'fullVisitorId', 'sessionId', 'visitId',\n",
       "       'visitNumber', 'visitStartTime', 'device.browser',\n",
       "       'device.deviceCategory', 'device.isMobile', 'device.operatingSystem',\n",
       "       'geoNetwork.city', 'geoNetwork.continent', 'geoNetwork.country',\n",
       "       'geoNetwork.metro', 'geoNetwork.networkDomain', 'geoNetwork.region',\n",
       "       'geoNetwork.subContinent', 'totals.hits', 'totals.pageviews',\n",
       "       'totals.transactionRevenue', 'trafficSource.adContent',\n",
       "       'trafficSource.adwordsClickInfo.adNetworkType',\n",
       "       'trafficSource.adwordsClickInfo.gclId',\n",
       "       'trafficSource.adwordsClickInfo.page',\n",
       "       'trafficSource.adwordsClickInfo.slot', 'trafficSource.campaign',\n",
       "       'trafficSource.keyword', 'trafficSource.medium',\n",
       "       'trafficSource.referralPath', 'trafficSource.source'],\n",
       "      dtype='object')"
      ]
     },
     "execution_count": 30,
     "metadata": {},
     "output_type": "execute_result"
    }
   ],
   "source": [
    "# you are left with 31 columns\n",
    "train_set.columns"
   ]
  },
  {
   "cell_type": "code",
   "execution_count": 42,
   "metadata": {},
   "outputs": [],
   "source": [
    "# convert the int64 datatype of date to meaningful dates of typedatetime64\n",
    "train_set.date = pd.to_datetime(train_set.date,format='%Y%m%d')"
   ]
  },
  {
   "cell_type": "code",
   "execution_count": 43,
   "metadata": {},
   "outputs": [
    {
     "data": {
      "text/html": [
       "<div>\n",
       "<style scoped>\n",
       "    .dataframe tbody tr th:only-of-type {\n",
       "        vertical-align: middle;\n",
       "    }\n",
       "\n",
       "    .dataframe tbody tr th {\n",
       "        vertical-align: top;\n",
       "    }\n",
       "\n",
       "    .dataframe thead th {\n",
       "        text-align: right;\n",
       "    }\n",
       "</style>\n",
       "<table border=\"1\" class=\"dataframe\">\n",
       "  <thead>\n",
       "    <tr style=\"text-align: right;\">\n",
       "      <th></th>\n",
       "      <th>channelGrouping</th>\n",
       "      <th>date</th>\n",
       "      <th>fullVisitorId</th>\n",
       "      <th>sessionId</th>\n",
       "      <th>visitId</th>\n",
       "      <th>visitNumber</th>\n",
       "      <th>visitStartTime</th>\n",
       "      <th>device.browser</th>\n",
       "      <th>device.deviceCategory</th>\n",
       "      <th>device.isMobile</th>\n",
       "      <th>...</th>\n",
       "      <th>trafficSource.adContent</th>\n",
       "      <th>trafficSource.adwordsClickInfo.adNetworkType</th>\n",
       "      <th>trafficSource.adwordsClickInfo.gclId</th>\n",
       "      <th>trafficSource.adwordsClickInfo.page</th>\n",
       "      <th>trafficSource.adwordsClickInfo.slot</th>\n",
       "      <th>trafficSource.campaign</th>\n",
       "      <th>trafficSource.keyword</th>\n",
       "      <th>trafficSource.medium</th>\n",
       "      <th>trafficSource.referralPath</th>\n",
       "      <th>trafficSource.source</th>\n",
       "    </tr>\n",
       "  </thead>\n",
       "  <tbody>\n",
       "    <tr>\n",
       "      <th>0</th>\n",
       "      <td>Organic Search</td>\n",
       "      <td>2016-09-02</td>\n",
       "      <td>1.13166E+18</td>\n",
       "      <td>1131660440785968503_1472830385</td>\n",
       "      <td>1472830385</td>\n",
       "      <td>1</td>\n",
       "      <td>1472830385</td>\n",
       "      <td>Chrome</td>\n",
       "      <td>desktop</td>\n",
       "      <td>False</td>\n",
       "      <td>...</td>\n",
       "      <td>NaN</td>\n",
       "      <td>NaN</td>\n",
       "      <td>NaN</td>\n",
       "      <td>NaN</td>\n",
       "      <td>NaN</td>\n",
       "      <td>(not set)</td>\n",
       "      <td>(not provided)</td>\n",
       "      <td>organic</td>\n",
       "      <td>NaN</td>\n",
       "      <td>google</td>\n",
       "    </tr>\n",
       "    <tr>\n",
       "      <th>1</th>\n",
       "      <td>Organic Search</td>\n",
       "      <td>2016-09-02</td>\n",
       "      <td>3.77306E+17</td>\n",
       "      <td>377306020877927890_1472880147</td>\n",
       "      <td>1472880147</td>\n",
       "      <td>1</td>\n",
       "      <td>1472880147</td>\n",
       "      <td>Firefox</td>\n",
       "      <td>desktop</td>\n",
       "      <td>False</td>\n",
       "      <td>...</td>\n",
       "      <td>NaN</td>\n",
       "      <td>NaN</td>\n",
       "      <td>NaN</td>\n",
       "      <td>NaN</td>\n",
       "      <td>NaN</td>\n",
       "      <td>(not set)</td>\n",
       "      <td>(not provided)</td>\n",
       "      <td>organic</td>\n",
       "      <td>NaN</td>\n",
       "      <td>google</td>\n",
       "    </tr>\n",
       "    <tr>\n",
       "      <th>2</th>\n",
       "      <td>Organic Search</td>\n",
       "      <td>2016-09-02</td>\n",
       "      <td>3.89555E+18</td>\n",
       "      <td>3895546263509774583_1472865386</td>\n",
       "      <td>1472865386</td>\n",
       "      <td>1</td>\n",
       "      <td>1472865386</td>\n",
       "      <td>Chrome</td>\n",
       "      <td>desktop</td>\n",
       "      <td>False</td>\n",
       "      <td>...</td>\n",
       "      <td>NaN</td>\n",
       "      <td>NaN</td>\n",
       "      <td>NaN</td>\n",
       "      <td>NaN</td>\n",
       "      <td>NaN</td>\n",
       "      <td>(not set)</td>\n",
       "      <td>(not provided)</td>\n",
       "      <td>organic</td>\n",
       "      <td>NaN</td>\n",
       "      <td>google</td>\n",
       "    </tr>\n",
       "    <tr>\n",
       "      <th>3</th>\n",
       "      <td>Organic Search</td>\n",
       "      <td>2016-09-02</td>\n",
       "      <td>4.76345E+18</td>\n",
       "      <td>4763447161404445595_1472881213</td>\n",
       "      <td>1472881213</td>\n",
       "      <td>1</td>\n",
       "      <td>1472881213</td>\n",
       "      <td>UC Browser</td>\n",
       "      <td>desktop</td>\n",
       "      <td>False</td>\n",
       "      <td>...</td>\n",
       "      <td>NaN</td>\n",
       "      <td>NaN</td>\n",
       "      <td>NaN</td>\n",
       "      <td>NaN</td>\n",
       "      <td>NaN</td>\n",
       "      <td>(not set)</td>\n",
       "      <td>google + online</td>\n",
       "      <td>organic</td>\n",
       "      <td>NaN</td>\n",
       "      <td>google</td>\n",
       "    </tr>\n",
       "    <tr>\n",
       "      <th>4</th>\n",
       "      <td>Organic Search</td>\n",
       "      <td>2016-09-02</td>\n",
       "      <td>2.72944E+16</td>\n",
       "      <td>27294437909732085_1472822600</td>\n",
       "      <td>1472822600</td>\n",
       "      <td>2</td>\n",
       "      <td>1472822600</td>\n",
       "      <td>Chrome</td>\n",
       "      <td>mobile</td>\n",
       "      <td>True</td>\n",
       "      <td>...</td>\n",
       "      <td>NaN</td>\n",
       "      <td>NaN</td>\n",
       "      <td>NaN</td>\n",
       "      <td>NaN</td>\n",
       "      <td>NaN</td>\n",
       "      <td>(not set)</td>\n",
       "      <td>(not provided)</td>\n",
       "      <td>organic</td>\n",
       "      <td>NaN</td>\n",
       "      <td>google</td>\n",
       "    </tr>\n",
       "  </tbody>\n",
       "</table>\n",
       "<p>5 rows × 31 columns</p>\n",
       "</div>"
      ],
      "text/plain": [
       "  channelGrouping       date fullVisitorId                       sessionId  \\\n",
       "0  Organic Search 2016-09-02   1.13166E+18  1131660440785968503_1472830385   \n",
       "1  Organic Search 2016-09-02   3.77306E+17   377306020877927890_1472880147   \n",
       "2  Organic Search 2016-09-02   3.89555E+18  3895546263509774583_1472865386   \n",
       "3  Organic Search 2016-09-02   4.76345E+18  4763447161404445595_1472881213   \n",
       "4  Organic Search 2016-09-02   2.72944E+16    27294437909732085_1472822600   \n",
       "\n",
       "      visitId  visitNumber  visitStartTime device.browser  \\\n",
       "0  1472830385            1      1472830385         Chrome   \n",
       "1  1472880147            1      1472880147        Firefox   \n",
       "2  1472865386            1      1472865386         Chrome   \n",
       "3  1472881213            1      1472881213     UC Browser   \n",
       "4  1472822600            2      1472822600         Chrome   \n",
       "\n",
       "  device.deviceCategory  device.isMobile         ...           \\\n",
       "0               desktop            False         ...            \n",
       "1               desktop            False         ...            \n",
       "2               desktop            False         ...            \n",
       "3               desktop            False         ...            \n",
       "4                mobile             True         ...            \n",
       "\n",
       "  trafficSource.adContent trafficSource.adwordsClickInfo.adNetworkType  \\\n",
       "0                     NaN                                          NaN   \n",
       "1                     NaN                                          NaN   \n",
       "2                     NaN                                          NaN   \n",
       "3                     NaN                                          NaN   \n",
       "4                     NaN                                          NaN   \n",
       "\n",
       "  trafficSource.adwordsClickInfo.gclId trafficSource.adwordsClickInfo.page  \\\n",
       "0                                  NaN                                 NaN   \n",
       "1                                  NaN                                 NaN   \n",
       "2                                  NaN                                 NaN   \n",
       "3                                  NaN                                 NaN   \n",
       "4                                  NaN                                 NaN   \n",
       "\n",
       "  trafficSource.adwordsClickInfo.slot trafficSource.campaign  \\\n",
       "0                                 NaN              (not set)   \n",
       "1                                 NaN              (not set)   \n",
       "2                                 NaN              (not set)   \n",
       "3                                 NaN              (not set)   \n",
       "4                                 NaN              (not set)   \n",
       "\n",
       "  trafficSource.keyword trafficSource.medium trafficSource.referralPath  \\\n",
       "0        (not provided)              organic                        NaN   \n",
       "1        (not provided)              organic                        NaN   \n",
       "2        (not provided)              organic                        NaN   \n",
       "3       google + online              organic                        NaN   \n",
       "4        (not provided)              organic                        NaN   \n",
       "\n",
       "  trafficSource.source  \n",
       "0               google  \n",
       "1               google  \n",
       "2               google  \n",
       "3               google  \n",
       "4               google  \n",
       "\n",
       "[5 rows x 31 columns]"
      ]
     },
     "execution_count": 43,
     "metadata": {},
     "output_type": "execute_result"
    }
   ],
   "source": [
    "train_set.head()"
   ]
  },
  {
   "cell_type": "code",
   "execution_count": null,
   "metadata": {},
   "outputs": [],
   "source": []
  }
 ],
 "metadata": {
  "kernelspec": {
   "display_name": "Python [default]",
   "language": "python",
   "name": "python3"
  },
  "language_info": {
   "codemirror_mode": {
    "name": "ipython",
    "version": 3
   },
   "file_extension": ".py",
   "mimetype": "text/x-python",
   "name": "python",
   "nbconvert_exporter": "python",
   "pygments_lexer": "ipython3",
   "version": "3.6.6"
  }
 },
 "nbformat": 4,
 "nbformat_minor": 2
}
