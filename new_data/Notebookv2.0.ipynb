{
 "cells": [
  {
   "cell_type": "code",
   "execution_count": 1,
   "metadata": {},
   "outputs": [],
   "source": [
    "import os\n",
    "import tensorflow as tf\n",
    "import pandas as pd\n",
    "import json\n",
    "import numpy as np\n",
    "\n",
    "from pandas.io.json import json_normalize #package for flattening json in pandas df\n",
    "import matplotlib.pyplot as plt\n"
   ]
  },
  {
   "cell_type": "code",
   "execution_count": 2,
   "metadata": {
    "scrolled": true
   },
   "outputs": [
    {
     "name": "stdout",
     "output_type": "stream",
     "text": [
      "Notebookv2.0.ipynb pickle_files.zip   \u001b[31mtest_v2.csv\u001b[m\u001b[m        train_v2.csv\r\n"
     ]
    }
   ],
   "source": [
    "!ls\n"
   ]
  },
  {
   "cell_type": "code",
   "execution_count": 5,
   "metadata": {},
   "outputs": [],
   "source": [
    "one_row = pd.read_csv(\"train_v2.csv\", nrows=1)"
   ]
  },
  {
   "cell_type": "code",
   "execution_count": 6,
   "metadata": {},
   "outputs": [],
   "source": [
    "one_row = list(one_row)"
   ]
  },
  {
   "cell_type": "code",
   "execution_count": 7,
   "metadata": {},
   "outputs": [
    {
     "data": {
      "text/plain": [
       "['channelGrouping',\n",
       " 'customDimensions',\n",
       " 'date',\n",
       " 'device',\n",
       " 'fullVisitorId',\n",
       " 'geoNetwork',\n",
       " 'hits',\n",
       " 'socialEngagementType',\n",
       " 'totals',\n",
       " 'trafficSource',\n",
       " 'visitId',\n",
       " 'visitNumber',\n",
       " 'visitStartTime']"
      ]
     },
     "execution_count": 7,
     "metadata": {},
     "output_type": "execute_result"
    }
   ],
   "source": [
    "one_row"
   ]
  },
  {
   "cell_type": "code",
   "execution_count": 21,
   "metadata": {},
   "outputs": [
    {
     "name": "stdout",
     "output_type": "stream",
     "text": [
      "CPU times: user 19.3 s, sys: 2.4 s, total: 21.7 s\n",
      "Wall time: 27.4 s\n"
     ]
    }
   ],
   "source": [
    "%%time \n",
    "no_of_rows = 803178\n",
    "# converter applies a converter function while you are loading the data, you are loading it as\n",
    "# json.loadstring = json.loads() for each of those columns in the list\n",
    "train_set = pd.read_csv(\"train_v2.csv\", usecols=[i for i in one_row if i!= 'hits'], dtype={'fullVisitorId': 'str'}, nrows = no_of_rows)"
   ]
  },
  {
   "cell_type": "code",
   "execution_count": 22,
   "metadata": {
    "scrolled": true
   },
   "outputs": [
    {
     "data": {
      "text/html": [
       "<div>\n",
       "<style scoped>\n",
       "    .dataframe tbody tr th:only-of-type {\n",
       "        vertical-align: middle;\n",
       "    }\n",
       "\n",
       "    .dataframe tbody tr th {\n",
       "        vertical-align: top;\n",
       "    }\n",
       "\n",
       "    .dataframe thead th {\n",
       "        text-align: right;\n",
       "    }\n",
       "</style>\n",
       "<table border=\"1\" class=\"dataframe\">\n",
       "  <thead>\n",
       "    <tr style=\"text-align: right;\">\n",
       "      <th></th>\n",
       "      <th>channelGrouping</th>\n",
       "      <th>customDimensions</th>\n",
       "      <th>date</th>\n",
       "      <th>device</th>\n",
       "      <th>fullVisitorId</th>\n",
       "      <th>geoNetwork</th>\n",
       "      <th>socialEngagementType</th>\n",
       "      <th>totals</th>\n",
       "      <th>trafficSource</th>\n",
       "      <th>visitId</th>\n",
       "      <th>visitNumber</th>\n",
       "      <th>visitStartTime</th>\n",
       "    </tr>\n",
       "  </thead>\n",
       "  <tbody>\n",
       "    <tr>\n",
       "      <th>0</th>\n",
       "      <td>Organic Search</td>\n",
       "      <td>[{'index': '4', 'value': 'EMEA'}]</td>\n",
       "      <td>20171016</td>\n",
       "      <td>{\"browser\": \"Firefox\", \"browserVersion\": \"not ...</td>\n",
       "      <td>3162355547410993243</td>\n",
       "      <td>{\"continent\": \"Europe\", \"subContinent\": \"Weste...</td>\n",
       "      <td>Not Socially Engaged</td>\n",
       "      <td>{\"visits\": \"1\", \"hits\": \"1\", \"pageviews\": \"1\",...</td>\n",
       "      <td>{\"campaign\": \"(not set)\", \"source\": \"google\", ...</td>\n",
       "      <td>1508198450</td>\n",
       "      <td>1</td>\n",
       "      <td>1508198450</td>\n",
       "    </tr>\n",
       "    <tr>\n",
       "      <th>1</th>\n",
       "      <td>Referral</td>\n",
       "      <td>[{'index': '4', 'value': 'North America'}]</td>\n",
       "      <td>20171016</td>\n",
       "      <td>{\"browser\": \"Chrome\", \"browserVersion\": \"not a...</td>\n",
       "      <td>8934116514970143966</td>\n",
       "      <td>{\"continent\": \"Americas\", \"subContinent\": \"Nor...</td>\n",
       "      <td>Not Socially Engaged</td>\n",
       "      <td>{\"visits\": \"1\", \"hits\": \"2\", \"pageviews\": \"2\",...</td>\n",
       "      <td>{\"referralPath\": \"/a/google.com/transportation...</td>\n",
       "      <td>1508176307</td>\n",
       "      <td>6</td>\n",
       "      <td>1508176307</td>\n",
       "    </tr>\n",
       "    <tr>\n",
       "      <th>2</th>\n",
       "      <td>Direct</td>\n",
       "      <td>[{'index': '4', 'value': 'North America'}]</td>\n",
       "      <td>20171016</td>\n",
       "      <td>{\"browser\": \"Chrome\", \"browserVersion\": \"not a...</td>\n",
       "      <td>7992466427990357681</td>\n",
       "      <td>{\"continent\": \"Americas\", \"subContinent\": \"Nor...</td>\n",
       "      <td>Not Socially Engaged</td>\n",
       "      <td>{\"visits\": \"1\", \"hits\": \"2\", \"pageviews\": \"2\",...</td>\n",
       "      <td>{\"campaign\": \"(not set)\", \"source\": \"(direct)\"...</td>\n",
       "      <td>1508201613</td>\n",
       "      <td>1</td>\n",
       "      <td>1508201613</td>\n",
       "    </tr>\n",
       "    <tr>\n",
       "      <th>3</th>\n",
       "      <td>Organic Search</td>\n",
       "      <td>[{'index': '4', 'value': 'EMEA'}]</td>\n",
       "      <td>20171016</td>\n",
       "      <td>{\"browser\": \"Chrome\", \"browserVersion\": \"not a...</td>\n",
       "      <td>9075655783635761930</td>\n",
       "      <td>{\"continent\": \"Asia\", \"subContinent\": \"Western...</td>\n",
       "      <td>Not Socially Engaged</td>\n",
       "      <td>{\"visits\": \"1\", \"hits\": \"2\", \"pageviews\": \"2\",...</td>\n",
       "      <td>{\"campaign\": \"(not set)\", \"source\": \"google\", ...</td>\n",
       "      <td>1508169851</td>\n",
       "      <td>1</td>\n",
       "      <td>1508169851</td>\n",
       "    </tr>\n",
       "    <tr>\n",
       "      <th>4</th>\n",
       "      <td>Organic Search</td>\n",
       "      <td>[{'index': '4', 'value': 'Central America'}]</td>\n",
       "      <td>20171016</td>\n",
       "      <td>{\"browser\": \"Chrome\", \"browserVersion\": \"not a...</td>\n",
       "      <td>6960673291025684308</td>\n",
       "      <td>{\"continent\": \"Americas\", \"subContinent\": \"Cen...</td>\n",
       "      <td>Not Socially Engaged</td>\n",
       "      <td>{\"visits\": \"1\", \"hits\": \"2\", \"pageviews\": \"2\",...</td>\n",
       "      <td>{\"campaign\": \"(not set)\", \"source\": \"google\", ...</td>\n",
       "      <td>1508190552</td>\n",
       "      <td>1</td>\n",
       "      <td>1508190552</td>\n",
       "    </tr>\n",
       "  </tbody>\n",
       "</table>\n",
       "</div>"
      ],
      "text/plain": [
       "  channelGrouping                              customDimensions      date  \\\n",
       "0  Organic Search             [{'index': '4', 'value': 'EMEA'}]  20171016   \n",
       "1        Referral    [{'index': '4', 'value': 'North America'}]  20171016   \n",
       "2          Direct    [{'index': '4', 'value': 'North America'}]  20171016   \n",
       "3  Organic Search             [{'index': '4', 'value': 'EMEA'}]  20171016   \n",
       "4  Organic Search  [{'index': '4', 'value': 'Central America'}]  20171016   \n",
       "\n",
       "                                              device        fullVisitorId  \\\n",
       "0  {\"browser\": \"Firefox\", \"browserVersion\": \"not ...  3162355547410993243   \n",
       "1  {\"browser\": \"Chrome\", \"browserVersion\": \"not a...  8934116514970143966   \n",
       "2  {\"browser\": \"Chrome\", \"browserVersion\": \"not a...  7992466427990357681   \n",
       "3  {\"browser\": \"Chrome\", \"browserVersion\": \"not a...  9075655783635761930   \n",
       "4  {\"browser\": \"Chrome\", \"browserVersion\": \"not a...  6960673291025684308   \n",
       "\n",
       "                                          geoNetwork  socialEngagementType  \\\n",
       "0  {\"continent\": \"Europe\", \"subContinent\": \"Weste...  Not Socially Engaged   \n",
       "1  {\"continent\": \"Americas\", \"subContinent\": \"Nor...  Not Socially Engaged   \n",
       "2  {\"continent\": \"Americas\", \"subContinent\": \"Nor...  Not Socially Engaged   \n",
       "3  {\"continent\": \"Asia\", \"subContinent\": \"Western...  Not Socially Engaged   \n",
       "4  {\"continent\": \"Americas\", \"subContinent\": \"Cen...  Not Socially Engaged   \n",
       "\n",
       "                                              totals  \\\n",
       "0  {\"visits\": \"1\", \"hits\": \"1\", \"pageviews\": \"1\",...   \n",
       "1  {\"visits\": \"1\", \"hits\": \"2\", \"pageviews\": \"2\",...   \n",
       "2  {\"visits\": \"1\", \"hits\": \"2\", \"pageviews\": \"2\",...   \n",
       "3  {\"visits\": \"1\", \"hits\": \"2\", \"pageviews\": \"2\",...   \n",
       "4  {\"visits\": \"1\", \"hits\": \"2\", \"pageviews\": \"2\",...   \n",
       "\n",
       "                                       trafficSource     visitId  visitNumber  \\\n",
       "0  {\"campaign\": \"(not set)\", \"source\": \"google\", ...  1508198450            1   \n",
       "1  {\"referralPath\": \"/a/google.com/transportation...  1508176307            6   \n",
       "2  {\"campaign\": \"(not set)\", \"source\": \"(direct)\"...  1508201613            1   \n",
       "3  {\"campaign\": \"(not set)\", \"source\": \"google\", ...  1508169851            1   \n",
       "4  {\"campaign\": \"(not set)\", \"source\": \"google\", ...  1508190552            1   \n",
       "\n",
       "   visitStartTime  \n",
       "0      1508198450  \n",
       "1      1508176307  \n",
       "2      1508201613  \n",
       "3      1508169851  \n",
       "4      1508190552  "
      ]
     },
     "execution_count": 22,
     "metadata": {},
     "output_type": "execute_result"
    }
   ],
   "source": [
    "train_set.head()"
   ]
  },
  {
   "cell_type": "code",
   "execution_count": 23,
   "metadata": {},
   "outputs": [
    {
     "data": {
      "text/plain": [
       "(803178, 12)"
      ]
     },
     "execution_count": 23,
     "metadata": {},
     "output_type": "execute_result"
    }
   ],
   "source": [
    "train_set.shape"
   ]
  },
  {
   "cell_type": "code",
   "execution_count": 10,
   "metadata": {},
   "outputs": [],
   "source": [
    "test_set = pd.read_pickle(\"preprocessed_test_set_without_hits.pkl\")"
   ]
  },
  {
   "cell_type": "code",
   "execution_count": 11,
   "metadata": {},
   "outputs": [
    {
     "data": {
      "text/plain": [
       "(401589, 53)"
      ]
     },
     "execution_count": 11,
     "metadata": {},
     "output_type": "execute_result"
    }
   ],
   "source": [
    "test_set.shape"
   ]
  },
  {
   "cell_type": "code",
   "execution_count": null,
   "metadata": {},
   "outputs": [],
   "source": []
  },
  {
   "cell_type": "code",
   "execution_count": 10,
   "metadata": {
    "scrolled": true
   },
   "outputs": [
    {
     "data": {
      "text/plain": [
       "'{\"browser\": \"Firefox\", \"browserVersion\": \"not available in demo dataset\", \"browserSize\": \"not available in demo dataset\", \"operatingSystem\": \"Windows\", \"operatingSystemVersion\": \"not available in demo dataset\", \"isMobile\": false, \"mobileDeviceBranding\": \"not available in demo dataset\", \"mobileDeviceModel\": \"not available in demo dataset\", \"mobileInputSelector\": \"not available in demo dataset\", \"mobileDeviceInfo\": \"not available in demo dataset\", \"mobileDeviceMarketingName\": \"not available in demo dataset\", \"flashVersion\": \"not available in demo dataset\", \"language\": \"not available in demo dataset\", \"screenColors\": \"not available in demo dataset\", \"screenResolution\": \"not available in demo dataset\", \"deviceCategory\": \"desktop\"}'"
      ]
     },
     "execution_count": 10,
     "metadata": {},
     "output_type": "execute_result"
    }
   ],
   "source": [
    "train_set[\"device\"][0]"
   ]
  },
  {
   "cell_type": "code",
   "execution_count": 11,
   "metadata": {},
   "outputs": [
    {
     "data": {
      "text/plain": [
       "str"
      ]
     },
     "execution_count": 11,
     "metadata": {},
     "output_type": "execute_result"
    }
   ],
   "source": [
    "type(train_set[\"device\"][0])"
   ]
  },
  {
   "cell_type": "code",
   "execution_count": 12,
   "metadata": {},
   "outputs": [
    {
     "data": {
      "text/plain": [
       "channelGrouping         object\n",
       "customDimensions        object\n",
       "date                     int64\n",
       "device                  object\n",
       "fullVisitorId           object\n",
       "geoNetwork              object\n",
       "socialEngagementType    object\n",
       "totals                  object\n",
       "trafficSource           object\n",
       "visitId                  int64\n",
       "visitNumber              int64\n",
       "visitStartTime           int64\n",
       "dtype: object"
      ]
     },
     "execution_count": 12,
     "metadata": {},
     "output_type": "execute_result"
    }
   ],
   "source": [
    "train_set.dtypes"
   ]
  },
  {
   "cell_type": "code",
   "execution_count": 13,
   "metadata": {},
   "outputs": [
    {
     "data": {
      "text/plain": [
       "str"
      ]
     },
     "execution_count": 13,
     "metadata": {},
     "output_type": "execute_result"
    }
   ],
   "source": [
    "type(train_set[\"customDimensions\"][0])"
   ]
  },
  {
   "cell_type": "code",
   "execution_count": 14,
   "metadata": {},
   "outputs": [
    {
     "data": {
      "text/plain": [
       "\"[{'index': '4', 'value': 'EMEA'}]\""
      ]
     },
     "execution_count": 14,
     "metadata": {},
     "output_type": "execute_result"
    }
   ],
   "source": [
    "train_set[\"customDimensions\"][0]"
   ]
  },
  {
   "cell_type": "code",
   "execution_count": 24,
   "metadata": {},
   "outputs": [],
   "source": [
    "train_set = train_set.join(train_set[\"device\"].apply(json.loads).apply(pd.Series))"
   ]
  },
  {
   "cell_type": "code",
   "execution_count": 25,
   "metadata": {},
   "outputs": [
    {
     "data": {
      "text/html": [
       "<div>\n",
       "<style scoped>\n",
       "    .dataframe tbody tr th:only-of-type {\n",
       "        vertical-align: middle;\n",
       "    }\n",
       "\n",
       "    .dataframe tbody tr th {\n",
       "        vertical-align: top;\n",
       "    }\n",
       "\n",
       "    .dataframe thead th {\n",
       "        text-align: right;\n",
       "    }\n",
       "</style>\n",
       "<table border=\"1\" class=\"dataframe\">\n",
       "  <thead>\n",
       "    <tr style=\"text-align: right;\">\n",
       "      <th></th>\n",
       "      <th>channelGrouping</th>\n",
       "      <th>customDimensions</th>\n",
       "      <th>date</th>\n",
       "      <th>device</th>\n",
       "      <th>fullVisitorId</th>\n",
       "      <th>geoNetwork</th>\n",
       "      <th>socialEngagementType</th>\n",
       "      <th>totals</th>\n",
       "      <th>trafficSource</th>\n",
       "      <th>visitId</th>\n",
       "      <th>...</th>\n",
       "      <th>mobileDeviceBranding</th>\n",
       "      <th>mobileDeviceModel</th>\n",
       "      <th>mobileInputSelector</th>\n",
       "      <th>mobileDeviceInfo</th>\n",
       "      <th>mobileDeviceMarketingName</th>\n",
       "      <th>flashVersion</th>\n",
       "      <th>language</th>\n",
       "      <th>screenColors</th>\n",
       "      <th>screenResolution</th>\n",
       "      <th>deviceCategory</th>\n",
       "    </tr>\n",
       "  </thead>\n",
       "  <tbody>\n",
       "    <tr>\n",
       "      <th>0</th>\n",
       "      <td>Organic Search</td>\n",
       "      <td>[{'index': '4', 'value': 'EMEA'}]</td>\n",
       "      <td>20171016</td>\n",
       "      <td>{\"browser\": \"Firefox\", \"browserVersion\": \"not ...</td>\n",
       "      <td>3162355547410993243</td>\n",
       "      <td>{\"continent\": \"Europe\", \"subContinent\": \"Weste...</td>\n",
       "      <td>Not Socially Engaged</td>\n",
       "      <td>{\"visits\": \"1\", \"hits\": \"1\", \"pageviews\": \"1\",...</td>\n",
       "      <td>{\"campaign\": \"(not set)\", \"source\": \"google\", ...</td>\n",
       "      <td>1508198450</td>\n",
       "      <td>...</td>\n",
       "      <td>not available in demo dataset</td>\n",
       "      <td>not available in demo dataset</td>\n",
       "      <td>not available in demo dataset</td>\n",
       "      <td>not available in demo dataset</td>\n",
       "      <td>not available in demo dataset</td>\n",
       "      <td>not available in demo dataset</td>\n",
       "      <td>not available in demo dataset</td>\n",
       "      <td>not available in demo dataset</td>\n",
       "      <td>not available in demo dataset</td>\n",
       "      <td>desktop</td>\n",
       "    </tr>\n",
       "    <tr>\n",
       "      <th>1</th>\n",
       "      <td>Referral</td>\n",
       "      <td>[{'index': '4', 'value': 'North America'}]</td>\n",
       "      <td>20171016</td>\n",
       "      <td>{\"browser\": \"Chrome\", \"browserVersion\": \"not a...</td>\n",
       "      <td>8934116514970143966</td>\n",
       "      <td>{\"continent\": \"Americas\", \"subContinent\": \"Nor...</td>\n",
       "      <td>Not Socially Engaged</td>\n",
       "      <td>{\"visits\": \"1\", \"hits\": \"2\", \"pageviews\": \"2\",...</td>\n",
       "      <td>{\"referralPath\": \"/a/google.com/transportation...</td>\n",
       "      <td>1508176307</td>\n",
       "      <td>...</td>\n",
       "      <td>not available in demo dataset</td>\n",
       "      <td>not available in demo dataset</td>\n",
       "      <td>not available in demo dataset</td>\n",
       "      <td>not available in demo dataset</td>\n",
       "      <td>not available in demo dataset</td>\n",
       "      <td>not available in demo dataset</td>\n",
       "      <td>not available in demo dataset</td>\n",
       "      <td>not available in demo dataset</td>\n",
       "      <td>not available in demo dataset</td>\n",
       "      <td>desktop</td>\n",
       "    </tr>\n",
       "    <tr>\n",
       "      <th>2</th>\n",
       "      <td>Direct</td>\n",
       "      <td>[{'index': '4', 'value': 'North America'}]</td>\n",
       "      <td>20171016</td>\n",
       "      <td>{\"browser\": \"Chrome\", \"browserVersion\": \"not a...</td>\n",
       "      <td>7992466427990357681</td>\n",
       "      <td>{\"continent\": \"Americas\", \"subContinent\": \"Nor...</td>\n",
       "      <td>Not Socially Engaged</td>\n",
       "      <td>{\"visits\": \"1\", \"hits\": \"2\", \"pageviews\": \"2\",...</td>\n",
       "      <td>{\"campaign\": \"(not set)\", \"source\": \"(direct)\"...</td>\n",
       "      <td>1508201613</td>\n",
       "      <td>...</td>\n",
       "      <td>not available in demo dataset</td>\n",
       "      <td>not available in demo dataset</td>\n",
       "      <td>not available in demo dataset</td>\n",
       "      <td>not available in demo dataset</td>\n",
       "      <td>not available in demo dataset</td>\n",
       "      <td>not available in demo dataset</td>\n",
       "      <td>not available in demo dataset</td>\n",
       "      <td>not available in demo dataset</td>\n",
       "      <td>not available in demo dataset</td>\n",
       "      <td>mobile</td>\n",
       "    </tr>\n",
       "    <tr>\n",
       "      <th>3</th>\n",
       "      <td>Organic Search</td>\n",
       "      <td>[{'index': '4', 'value': 'EMEA'}]</td>\n",
       "      <td>20171016</td>\n",
       "      <td>{\"browser\": \"Chrome\", \"browserVersion\": \"not a...</td>\n",
       "      <td>9075655783635761930</td>\n",
       "      <td>{\"continent\": \"Asia\", \"subContinent\": \"Western...</td>\n",
       "      <td>Not Socially Engaged</td>\n",
       "      <td>{\"visits\": \"1\", \"hits\": \"2\", \"pageviews\": \"2\",...</td>\n",
       "      <td>{\"campaign\": \"(not set)\", \"source\": \"google\", ...</td>\n",
       "      <td>1508169851</td>\n",
       "      <td>...</td>\n",
       "      <td>not available in demo dataset</td>\n",
       "      <td>not available in demo dataset</td>\n",
       "      <td>not available in demo dataset</td>\n",
       "      <td>not available in demo dataset</td>\n",
       "      <td>not available in demo dataset</td>\n",
       "      <td>not available in demo dataset</td>\n",
       "      <td>not available in demo dataset</td>\n",
       "      <td>not available in demo dataset</td>\n",
       "      <td>not available in demo dataset</td>\n",
       "      <td>desktop</td>\n",
       "    </tr>\n",
       "    <tr>\n",
       "      <th>4</th>\n",
       "      <td>Organic Search</td>\n",
       "      <td>[{'index': '4', 'value': 'Central America'}]</td>\n",
       "      <td>20171016</td>\n",
       "      <td>{\"browser\": \"Chrome\", \"browserVersion\": \"not a...</td>\n",
       "      <td>6960673291025684308</td>\n",
       "      <td>{\"continent\": \"Americas\", \"subContinent\": \"Cen...</td>\n",
       "      <td>Not Socially Engaged</td>\n",
       "      <td>{\"visits\": \"1\", \"hits\": \"2\", \"pageviews\": \"2\",...</td>\n",
       "      <td>{\"campaign\": \"(not set)\", \"source\": \"google\", ...</td>\n",
       "      <td>1508190552</td>\n",
       "      <td>...</td>\n",
       "      <td>not available in demo dataset</td>\n",
       "      <td>not available in demo dataset</td>\n",
       "      <td>not available in demo dataset</td>\n",
       "      <td>not available in demo dataset</td>\n",
       "      <td>not available in demo dataset</td>\n",
       "      <td>not available in demo dataset</td>\n",
       "      <td>not available in demo dataset</td>\n",
       "      <td>not available in demo dataset</td>\n",
       "      <td>not available in demo dataset</td>\n",
       "      <td>desktop</td>\n",
       "    </tr>\n",
       "  </tbody>\n",
       "</table>\n",
       "<p>5 rows × 28 columns</p>\n",
       "</div>"
      ],
      "text/plain": [
       "  channelGrouping                              customDimensions      date  \\\n",
       "0  Organic Search             [{'index': '4', 'value': 'EMEA'}]  20171016   \n",
       "1        Referral    [{'index': '4', 'value': 'North America'}]  20171016   \n",
       "2          Direct    [{'index': '4', 'value': 'North America'}]  20171016   \n",
       "3  Organic Search             [{'index': '4', 'value': 'EMEA'}]  20171016   \n",
       "4  Organic Search  [{'index': '4', 'value': 'Central America'}]  20171016   \n",
       "\n",
       "                                              device        fullVisitorId  \\\n",
       "0  {\"browser\": \"Firefox\", \"browserVersion\": \"not ...  3162355547410993243   \n",
       "1  {\"browser\": \"Chrome\", \"browserVersion\": \"not a...  8934116514970143966   \n",
       "2  {\"browser\": \"Chrome\", \"browserVersion\": \"not a...  7992466427990357681   \n",
       "3  {\"browser\": \"Chrome\", \"browserVersion\": \"not a...  9075655783635761930   \n",
       "4  {\"browser\": \"Chrome\", \"browserVersion\": \"not a...  6960673291025684308   \n",
       "\n",
       "                                          geoNetwork  socialEngagementType  \\\n",
       "0  {\"continent\": \"Europe\", \"subContinent\": \"Weste...  Not Socially Engaged   \n",
       "1  {\"continent\": \"Americas\", \"subContinent\": \"Nor...  Not Socially Engaged   \n",
       "2  {\"continent\": \"Americas\", \"subContinent\": \"Nor...  Not Socially Engaged   \n",
       "3  {\"continent\": \"Asia\", \"subContinent\": \"Western...  Not Socially Engaged   \n",
       "4  {\"continent\": \"Americas\", \"subContinent\": \"Cen...  Not Socially Engaged   \n",
       "\n",
       "                                              totals  \\\n",
       "0  {\"visits\": \"1\", \"hits\": \"1\", \"pageviews\": \"1\",...   \n",
       "1  {\"visits\": \"1\", \"hits\": \"2\", \"pageviews\": \"2\",...   \n",
       "2  {\"visits\": \"1\", \"hits\": \"2\", \"pageviews\": \"2\",...   \n",
       "3  {\"visits\": \"1\", \"hits\": \"2\", \"pageviews\": \"2\",...   \n",
       "4  {\"visits\": \"1\", \"hits\": \"2\", \"pageviews\": \"2\",...   \n",
       "\n",
       "                                       trafficSource     visitId  \\\n",
       "0  {\"campaign\": \"(not set)\", \"source\": \"google\", ...  1508198450   \n",
       "1  {\"referralPath\": \"/a/google.com/transportation...  1508176307   \n",
       "2  {\"campaign\": \"(not set)\", \"source\": \"(direct)\"...  1508201613   \n",
       "3  {\"campaign\": \"(not set)\", \"source\": \"google\", ...  1508169851   \n",
       "4  {\"campaign\": \"(not set)\", \"source\": \"google\", ...  1508190552   \n",
       "\n",
       "       ...                 mobileDeviceBranding  \\\n",
       "0      ...        not available in demo dataset   \n",
       "1      ...        not available in demo dataset   \n",
       "2      ...        not available in demo dataset   \n",
       "3      ...        not available in demo dataset   \n",
       "4      ...        not available in demo dataset   \n",
       "\n",
       "               mobileDeviceModel            mobileInputSelector  \\\n",
       "0  not available in demo dataset  not available in demo dataset   \n",
       "1  not available in demo dataset  not available in demo dataset   \n",
       "2  not available in demo dataset  not available in demo dataset   \n",
       "3  not available in demo dataset  not available in demo dataset   \n",
       "4  not available in demo dataset  not available in demo dataset   \n",
       "\n",
       "                mobileDeviceInfo      mobileDeviceMarketingName  \\\n",
       "0  not available in demo dataset  not available in demo dataset   \n",
       "1  not available in demo dataset  not available in demo dataset   \n",
       "2  not available in demo dataset  not available in demo dataset   \n",
       "3  not available in demo dataset  not available in demo dataset   \n",
       "4  not available in demo dataset  not available in demo dataset   \n",
       "\n",
       "                    flashVersion                       language  \\\n",
       "0  not available in demo dataset  not available in demo dataset   \n",
       "1  not available in demo dataset  not available in demo dataset   \n",
       "2  not available in demo dataset  not available in demo dataset   \n",
       "3  not available in demo dataset  not available in demo dataset   \n",
       "4  not available in demo dataset  not available in demo dataset   \n",
       "\n",
       "                    screenColors               screenResolution deviceCategory  \n",
       "0  not available in demo dataset  not available in demo dataset        desktop  \n",
       "1  not available in demo dataset  not available in demo dataset        desktop  \n",
       "2  not available in demo dataset  not available in demo dataset         mobile  \n",
       "3  not available in demo dataset  not available in demo dataset        desktop  \n",
       "4  not available in demo dataset  not available in demo dataset        desktop  \n",
       "\n",
       "[5 rows x 28 columns]"
      ]
     },
     "execution_count": 25,
     "metadata": {},
     "output_type": "execute_result"
    }
   ],
   "source": [
    "train_set.head()"
   ]
  },
  {
   "cell_type": "code",
   "execution_count": 26,
   "metadata": {
    "scrolled": false
   },
   "outputs": [
    {
     "name": "stdout",
     "output_type": "stream",
     "text": [
      "CPU times: user 2min 35s, sys: 727 ms, total: 2min 36s\n",
      "Wall time: 2min 35s\n"
     ]
    }
   ],
   "source": [
    "%%time \n",
    "train_set = train_set.join(train_set[\"geoNetwork\"].apply(json.loads).apply(pd.Series))"
   ]
  },
  {
   "cell_type": "code",
   "execution_count": 27,
   "metadata": {},
   "outputs": [
    {
     "data": {
      "text/html": [
       "<div>\n",
       "<style scoped>\n",
       "    .dataframe tbody tr th:only-of-type {\n",
       "        vertical-align: middle;\n",
       "    }\n",
       "\n",
       "    .dataframe tbody tr th {\n",
       "        vertical-align: top;\n",
       "    }\n",
       "\n",
       "    .dataframe thead th {\n",
       "        text-align: right;\n",
       "    }\n",
       "</style>\n",
       "<table border=\"1\" class=\"dataframe\">\n",
       "  <thead>\n",
       "    <tr style=\"text-align: right;\">\n",
       "      <th></th>\n",
       "      <th>channelGrouping</th>\n",
       "      <th>customDimensions</th>\n",
       "      <th>date</th>\n",
       "      <th>device</th>\n",
       "      <th>fullVisitorId</th>\n",
       "      <th>geoNetwork</th>\n",
       "      <th>socialEngagementType</th>\n",
       "      <th>totals</th>\n",
       "      <th>trafficSource</th>\n",
       "      <th>visitId</th>\n",
       "      <th>...</th>\n",
       "      <th>subContinent</th>\n",
       "      <th>country</th>\n",
       "      <th>region</th>\n",
       "      <th>metro</th>\n",
       "      <th>city</th>\n",
       "      <th>cityId</th>\n",
       "      <th>networkDomain</th>\n",
       "      <th>latitude</th>\n",
       "      <th>longitude</th>\n",
       "      <th>networkLocation</th>\n",
       "    </tr>\n",
       "  </thead>\n",
       "  <tbody>\n",
       "    <tr>\n",
       "      <th>0</th>\n",
       "      <td>Organic Search</td>\n",
       "      <td>[{'index': '4', 'value': 'EMEA'}]</td>\n",
       "      <td>20171016</td>\n",
       "      <td>{\"browser\": \"Firefox\", \"browserVersion\": \"not ...</td>\n",
       "      <td>3162355547410993243</td>\n",
       "      <td>{\"continent\": \"Europe\", \"subContinent\": \"Weste...</td>\n",
       "      <td>Not Socially Engaged</td>\n",
       "      <td>{\"visits\": \"1\", \"hits\": \"1\", \"pageviews\": \"1\",...</td>\n",
       "      <td>{\"campaign\": \"(not set)\", \"source\": \"google\", ...</td>\n",
       "      <td>1508198450</td>\n",
       "      <td>...</td>\n",
       "      <td>Western Europe</td>\n",
       "      <td>Germany</td>\n",
       "      <td>not available in demo dataset</td>\n",
       "      <td>not available in demo dataset</td>\n",
       "      <td>not available in demo dataset</td>\n",
       "      <td>not available in demo dataset</td>\n",
       "      <td>(not set)</td>\n",
       "      <td>not available in demo dataset</td>\n",
       "      <td>not available in demo dataset</td>\n",
       "      <td>not available in demo dataset</td>\n",
       "    </tr>\n",
       "    <tr>\n",
       "      <th>1</th>\n",
       "      <td>Referral</td>\n",
       "      <td>[{'index': '4', 'value': 'North America'}]</td>\n",
       "      <td>20171016</td>\n",
       "      <td>{\"browser\": \"Chrome\", \"browserVersion\": \"not a...</td>\n",
       "      <td>8934116514970143966</td>\n",
       "      <td>{\"continent\": \"Americas\", \"subContinent\": \"Nor...</td>\n",
       "      <td>Not Socially Engaged</td>\n",
       "      <td>{\"visits\": \"1\", \"hits\": \"2\", \"pageviews\": \"2\",...</td>\n",
       "      <td>{\"referralPath\": \"/a/google.com/transportation...</td>\n",
       "      <td>1508176307</td>\n",
       "      <td>...</td>\n",
       "      <td>Northern America</td>\n",
       "      <td>United States</td>\n",
       "      <td>California</td>\n",
       "      <td>San Francisco-Oakland-San Jose CA</td>\n",
       "      <td>Cupertino</td>\n",
       "      <td>not available in demo dataset</td>\n",
       "      <td>(not set)</td>\n",
       "      <td>not available in demo dataset</td>\n",
       "      <td>not available in demo dataset</td>\n",
       "      <td>not available in demo dataset</td>\n",
       "    </tr>\n",
       "    <tr>\n",
       "      <th>2</th>\n",
       "      <td>Direct</td>\n",
       "      <td>[{'index': '4', 'value': 'North America'}]</td>\n",
       "      <td>20171016</td>\n",
       "      <td>{\"browser\": \"Chrome\", \"browserVersion\": \"not a...</td>\n",
       "      <td>7992466427990357681</td>\n",
       "      <td>{\"continent\": \"Americas\", \"subContinent\": \"Nor...</td>\n",
       "      <td>Not Socially Engaged</td>\n",
       "      <td>{\"visits\": \"1\", \"hits\": \"2\", \"pageviews\": \"2\",...</td>\n",
       "      <td>{\"campaign\": \"(not set)\", \"source\": \"(direct)\"...</td>\n",
       "      <td>1508201613</td>\n",
       "      <td>...</td>\n",
       "      <td>Northern America</td>\n",
       "      <td>United States</td>\n",
       "      <td>not available in demo dataset</td>\n",
       "      <td>not available in demo dataset</td>\n",
       "      <td>not available in demo dataset</td>\n",
       "      <td>not available in demo dataset</td>\n",
       "      <td>windjammercable.net</td>\n",
       "      <td>not available in demo dataset</td>\n",
       "      <td>not available in demo dataset</td>\n",
       "      <td>not available in demo dataset</td>\n",
       "    </tr>\n",
       "    <tr>\n",
       "      <th>3</th>\n",
       "      <td>Organic Search</td>\n",
       "      <td>[{'index': '4', 'value': 'EMEA'}]</td>\n",
       "      <td>20171016</td>\n",
       "      <td>{\"browser\": \"Chrome\", \"browserVersion\": \"not a...</td>\n",
       "      <td>9075655783635761930</td>\n",
       "      <td>{\"continent\": \"Asia\", \"subContinent\": \"Western...</td>\n",
       "      <td>Not Socially Engaged</td>\n",
       "      <td>{\"visits\": \"1\", \"hits\": \"2\", \"pageviews\": \"2\",...</td>\n",
       "      <td>{\"campaign\": \"(not set)\", \"source\": \"google\", ...</td>\n",
       "      <td>1508169851</td>\n",
       "      <td>...</td>\n",
       "      <td>Western Asia</td>\n",
       "      <td>Turkey</td>\n",
       "      <td>not available in demo dataset</td>\n",
       "      <td>not available in demo dataset</td>\n",
       "      <td>not available in demo dataset</td>\n",
       "      <td>not available in demo dataset</td>\n",
       "      <td>unknown.unknown</td>\n",
       "      <td>not available in demo dataset</td>\n",
       "      <td>not available in demo dataset</td>\n",
       "      <td>not available in demo dataset</td>\n",
       "    </tr>\n",
       "    <tr>\n",
       "      <th>4</th>\n",
       "      <td>Organic Search</td>\n",
       "      <td>[{'index': '4', 'value': 'Central America'}]</td>\n",
       "      <td>20171016</td>\n",
       "      <td>{\"browser\": \"Chrome\", \"browserVersion\": \"not a...</td>\n",
       "      <td>6960673291025684308</td>\n",
       "      <td>{\"continent\": \"Americas\", \"subContinent\": \"Cen...</td>\n",
       "      <td>Not Socially Engaged</td>\n",
       "      <td>{\"visits\": \"1\", \"hits\": \"2\", \"pageviews\": \"2\",...</td>\n",
       "      <td>{\"campaign\": \"(not set)\", \"source\": \"google\", ...</td>\n",
       "      <td>1508190552</td>\n",
       "      <td>...</td>\n",
       "      <td>Central America</td>\n",
       "      <td>Mexico</td>\n",
       "      <td>not available in demo dataset</td>\n",
       "      <td>not available in demo dataset</td>\n",
       "      <td>not available in demo dataset</td>\n",
       "      <td>not available in demo dataset</td>\n",
       "      <td>prod-infinitum.com.mx</td>\n",
       "      <td>not available in demo dataset</td>\n",
       "      <td>not available in demo dataset</td>\n",
       "      <td>not available in demo dataset</td>\n",
       "    </tr>\n",
       "  </tbody>\n",
       "</table>\n",
       "<p>5 rows × 39 columns</p>\n",
       "</div>"
      ],
      "text/plain": [
       "  channelGrouping                              customDimensions      date  \\\n",
       "0  Organic Search             [{'index': '4', 'value': 'EMEA'}]  20171016   \n",
       "1        Referral    [{'index': '4', 'value': 'North America'}]  20171016   \n",
       "2          Direct    [{'index': '4', 'value': 'North America'}]  20171016   \n",
       "3  Organic Search             [{'index': '4', 'value': 'EMEA'}]  20171016   \n",
       "4  Organic Search  [{'index': '4', 'value': 'Central America'}]  20171016   \n",
       "\n",
       "                                              device        fullVisitorId  \\\n",
       "0  {\"browser\": \"Firefox\", \"browserVersion\": \"not ...  3162355547410993243   \n",
       "1  {\"browser\": \"Chrome\", \"browserVersion\": \"not a...  8934116514970143966   \n",
       "2  {\"browser\": \"Chrome\", \"browserVersion\": \"not a...  7992466427990357681   \n",
       "3  {\"browser\": \"Chrome\", \"browserVersion\": \"not a...  9075655783635761930   \n",
       "4  {\"browser\": \"Chrome\", \"browserVersion\": \"not a...  6960673291025684308   \n",
       "\n",
       "                                          geoNetwork  socialEngagementType  \\\n",
       "0  {\"continent\": \"Europe\", \"subContinent\": \"Weste...  Not Socially Engaged   \n",
       "1  {\"continent\": \"Americas\", \"subContinent\": \"Nor...  Not Socially Engaged   \n",
       "2  {\"continent\": \"Americas\", \"subContinent\": \"Nor...  Not Socially Engaged   \n",
       "3  {\"continent\": \"Asia\", \"subContinent\": \"Western...  Not Socially Engaged   \n",
       "4  {\"continent\": \"Americas\", \"subContinent\": \"Cen...  Not Socially Engaged   \n",
       "\n",
       "                                              totals  \\\n",
       "0  {\"visits\": \"1\", \"hits\": \"1\", \"pageviews\": \"1\",...   \n",
       "1  {\"visits\": \"1\", \"hits\": \"2\", \"pageviews\": \"2\",...   \n",
       "2  {\"visits\": \"1\", \"hits\": \"2\", \"pageviews\": \"2\",...   \n",
       "3  {\"visits\": \"1\", \"hits\": \"2\", \"pageviews\": \"2\",...   \n",
       "4  {\"visits\": \"1\", \"hits\": \"2\", \"pageviews\": \"2\",...   \n",
       "\n",
       "                                       trafficSource     visitId  \\\n",
       "0  {\"campaign\": \"(not set)\", \"source\": \"google\", ...  1508198450   \n",
       "1  {\"referralPath\": \"/a/google.com/transportation...  1508176307   \n",
       "2  {\"campaign\": \"(not set)\", \"source\": \"(direct)\"...  1508201613   \n",
       "3  {\"campaign\": \"(not set)\", \"source\": \"google\", ...  1508169851   \n",
       "4  {\"campaign\": \"(not set)\", \"source\": \"google\", ...  1508190552   \n",
       "\n",
       "               ...                    subContinent        country  \\\n",
       "0              ...                  Western Europe        Germany   \n",
       "1              ...                Northern America  United States   \n",
       "2              ...                Northern America  United States   \n",
       "3              ...                    Western Asia         Turkey   \n",
       "4              ...                 Central America         Mexico   \n",
       "\n",
       "                          region                              metro  \\\n",
       "0  not available in demo dataset      not available in demo dataset   \n",
       "1                     California  San Francisco-Oakland-San Jose CA   \n",
       "2  not available in demo dataset      not available in demo dataset   \n",
       "3  not available in demo dataset      not available in demo dataset   \n",
       "4  not available in demo dataset      not available in demo dataset   \n",
       "\n",
       "                            city                         cityId  \\\n",
       "0  not available in demo dataset  not available in demo dataset   \n",
       "1                      Cupertino  not available in demo dataset   \n",
       "2  not available in demo dataset  not available in demo dataset   \n",
       "3  not available in demo dataset  not available in demo dataset   \n",
       "4  not available in demo dataset  not available in demo dataset   \n",
       "\n",
       "           networkDomain                       latitude  \\\n",
       "0              (not set)  not available in demo dataset   \n",
       "1              (not set)  not available in demo dataset   \n",
       "2    windjammercable.net  not available in demo dataset   \n",
       "3        unknown.unknown  not available in demo dataset   \n",
       "4  prod-infinitum.com.mx  not available in demo dataset   \n",
       "\n",
       "                       longitude                networkLocation  \n",
       "0  not available in demo dataset  not available in demo dataset  \n",
       "1  not available in demo dataset  not available in demo dataset  \n",
       "2  not available in demo dataset  not available in demo dataset  \n",
       "3  not available in demo dataset  not available in demo dataset  \n",
       "4  not available in demo dataset  not available in demo dataset  \n",
       "\n",
       "[5 rows x 39 columns]"
      ]
     },
     "execution_count": 27,
     "metadata": {},
     "output_type": "execute_result"
    }
   ],
   "source": [
    "train_set.head()"
   ]
  },
  {
   "cell_type": "code",
   "execution_count": 16,
   "metadata": {},
   "outputs": [],
   "source": [
    "original_hits_column_train = train_set[\"hits\"]"
   ]
  },
  {
   "cell_type": "code",
   "execution_count": 17,
   "metadata": {},
   "outputs": [
    {
     "data": {
      "text/plain": [
       "\"[{'hitNumber': '1', 'time': '0', 'hour': '21', 'minute': '29', 'isInteraction': True, 'page': {'pagePath': '/home', 'hostname': 'shop.googlemerchandisestore.com', 'pageTitle': 'Home', 'pagePathLevel1': '/home', 'pagePathLevel2': '', 'pagePathLevel3': '', 'pagePathLevel4': ''}, 'appInfo': {'screenName': 'shop.googlemerchandisestore.com/home', 'landingScreenName': 'shop.googlemerchandisestore.com/home', 'exitScreenName': 'shop.googlemerchandisestore.com/home', 'screenDepth': '0'}, 'exceptionInfo': {'isFatal': True}, 'eventInfo': {'eventCategory': 'Enhanced Ecommerce', 'eventAction': 'Promotion Click'}, 'product': [], 'promotion': [{'promoId': 'Category Row 2', 'promoName': 'Accessories', 'promoCreative': 'toy.png', 'promoPosition': 'Category Row 2'}], 'promotionActionInfo': {'promoIsClick': True}, 'eCommerceAction': {'action_type': '0', 'step': '1'}, 'experiment': [], 'customVariables': [], 'customDimensions': [], 'customMetrics': [], 'type': 'EVENT', 'social': {'socialNetwork': '(not set)', 'hasSocialSourceReferral': 'No', 'socialInteractionNetworkAction': ' : '}, 'contentGroup': {'contentGroup1': '(not set)', 'contentGroup2': '(not set)', 'contentGroup3': '(not set)', 'contentGroup4': '(not set)', 'contentGroup5': '(not set)', 'previousContentGroup1': '(entrance)', 'previousContentGroup2': '(entrance)', 'previousContentGroup3': '(entrance)', 'previousContentGroup4': '(entrance)', 'previousContentGroup5': '(entrance)'}, 'dataSource': 'web', 'publisher_infos': []}, {'hitNumber': '2', 'time': '3352', 'hour': '21', 'minute': '29', 'isInteraction': True, 'isEntrance': True, 'page': {'pagePath': '/google+redesign/accessories', 'hostname': 'shop.googlemerchandisestore.com', 'pageTitle': 'Accessories | Google Merchandise Store', 'pagePathLevel1': '/google+redesign/', 'pagePathLevel2': '/accessories', 'pagePathLevel3': '', 'pagePathLevel4': ''}, 'transaction': {'currencyCode': 'USD'}, 'item': {'currencyCode': 'USD'}, 'appInfo': {'screenName': 'shop.googlemerchandisestore.com/google+redesign/accessories', 'landingScreenName': 'shop.googlemerchandisestore.com/home', 'exitScreenName': 'shop.googlemerchandisestore.com/home', 'screenDepth': '0'}, 'exceptionInfo': {'isFatal': True}, 'product': [{'productSKU': 'GGOEAKDH019899', 'v2ProductName': 'Windup Android', 'v2ProductCategory': 'Home/Accessories/', 'productVariant': '(not set)', 'productBrand': '(not set)', 'productPrice': '3990000', 'localProductPrice': '3990000', 'isImpression': True, 'customDimensions': [], 'customMetrics': [], 'productListName': 'Category', 'productListPosition': '1', 'productCouponCode': '(not set)'}, {'productSKU': 'GGOEGFSR022099', 'v2ProductName': 'Google Mini Kick Ball', 'v2ProductCategory': 'Home/Accessories/', 'productVariant': '(not set)', 'productBrand': '(not set)', 'productPrice': '1990000', 'localProductPrice': '1990000', 'isImpression': True, 'customDimensions': [], 'customMetrics': [], 'productListName': 'Category', 'productListPosition': '2', 'productCouponCode': '(not set)'}, {'productSKU': 'GGOEGEBK094499', 'v2ProductName': 'Google Bot', 'v2ProductCategory': 'Home/Accessories/', 'productVariant': '(not set)', 'productBrand': '(not set)', 'productPrice': '9990000', 'localProductPrice': '9990000', 'isImpression': True, 'customDimensions': [], 'customMetrics': [], 'productListName': 'Category', 'productListPosition': '3', 'productCouponCode': '(not set)'}, {'productSKU': 'GGOEGPJC019099', 'v2ProductName': '7&quot; Dog Frisbee', 'v2ProductCategory': 'Home/Accessories/', 'productVariant': '(not set)', 'productBrand': '(not set)', 'productPrice': '1500000', 'localProductPrice': '1500000', 'isImpression': True, 'customDimensions': [], 'customMetrics': [], 'productListName': 'Category', 'productListPosition': '4', 'productCouponCode': '(not set)'}, {'productSKU': 'GGOEAFKA087499', 'v2ProductName': 'Android Small Removable Sticker Sheet', 'v2ProductCategory': 'Home/Accessories/', 'productVariant': '(not set)', 'productBrand': '(not set)', 'productPrice': '2990000', 'localProductPrice': '2990000', 'isImpression': True, 'customDimensions': [], 'customMetrics': [], 'productListName': 'Category', 'productListPosition': '5', 'productCouponCode': '(not set)'}, {'productSKU': 'GGOEAFKA087599', 'v2ProductName': 'Android Large Removable Sticker Sheet', 'v2ProductCategory': 'Home/Accessories/', 'productVariant': '(not set)', 'productBrand': '(not set)', 'productPrice': '2990000', 'localProductPrice': '2990000', 'isImpression': True, 'customDimensions': [], 'customMetrics': [], 'productListName': 'Category', 'productListPosition': '6', 'productCouponCode': '(not set)'}, {'productSKU': 'GGOEGABL100799', 'v2ProductName': 'Google Mouse Pad Navy', 'v2ProductCategory': 'Home/Accessories/', 'productVariant': '(not set)', 'productBrand': '(not set)', 'productPrice': '4990000', 'localProductPrice': '4990000', 'isImpression': True, 'customDimensions': [], 'customMetrics': [], 'productListName': 'Category', 'productListPosition': '7', 'productCouponCode': '(not set)'}, {'productSKU': 'GGOEGCBQ098999', 'v2ProductName': 'Google Lip Balm & Sanitizer Duo', 'v2ProductCategory': 'Home/Accessories/', 'productVariant': '(not set)', 'productBrand': '(not set)', 'productPrice': '6990000', 'localProductPrice': '6990000', 'isImpression': True, 'customDimensions': [], 'customMetrics': [], 'productListName': 'Category', 'productListPosition': '8', 'productCouponCode': '(not set)'}, {'productSKU': 'GGOEGEGC099099', 'v2ProductName': 'Google Small Cable Organizer Blue', 'v2ProductCategory': 'Home/Accessories/', 'productVariant': '(not set)', 'productBrand': '(not set)', 'productPrice': '2990000', 'localProductPrice': '2990000', 'isImpression': True, 'customDimensions': [], 'customMetrics': [], 'productListName': 'Category', 'productListPosition': '9', 'productCouponCode': '(not set)'}, {'productSKU': 'GGOEGFKA086699', 'v2ProductName': 'Google Emoji Sticker Pack', 'v2ProductCategory': 'Home/Accessories/', 'productVariant': '(not set)', 'productBrand': '(not set)', 'productPrice': '4990000', 'localProductPrice': '4990000', 'isImpression': True, 'customDimensions': [], 'customMetrics': [], 'productListName': 'Category', 'productListPosition': '10', 'productCouponCode': '(not set)'}, {'productSKU': 'GGOEGFKQ020399', 'v2ProductName': 'Google Laptop and Cell Phone Stickers', 'v2ProductCategory': 'Home/Accessories/', 'productVariant': '(not set)', 'productBrand': '(not set)', 'productPrice': '2990000', 'localProductPrice': '2990000', 'isImpression': True, 'customDimensions': [], 'customMetrics': [], 'productListName': 'Category', 'productListPosition': '11', 'productCouponCode': '(not set)'}, {'productSKU': 'GGOEWCKQ085457', 'v2ProductName': 'Waze Pack of 9 Decal Set', 'v2ProductCategory': 'Home/Accessories/', 'productVariant': '(not set)', 'productBrand': '(not set)', 'productPrice': '16990000', 'localProductPrice': '16990000', 'isImpression': True, 'customDimensions': [], 'customMetrics': [], 'productListName': 'Category', 'productListPosition': '12', 'productCouponCode': '(not set)'}], 'promotion': [], 'eCommerceAction': {'action_type': '0', 'step': '1'}, 'experiment': [], 'customVariables': [], 'customDimensions': [], 'customMetrics': [], 'type': 'PAGE', 'social': {'socialNetwork': '(not set)', 'hasSocialSourceReferral': 'No', 'socialInteractionNetworkAction': ' : '}, 'contentGroup': {'contentGroup1': '(not set)', 'contentGroup2': 'Accessories', 'contentGroup3': '(not set)', 'contentGroup4': '(not set)', 'contentGroup5': '(not set)', 'previousContentGroup1': '(not set)', 'previousContentGroup2': '(not set)', 'previousContentGroup3': '(not set)', 'previousContentGroup4': '(not set)', 'previousContentGroup5': '(not set)', 'contentGroupUniqueViews2': '1'}, 'dataSource': 'web', 'publisher_infos': []}, {'hitNumber': '3', 'time': '19216', 'hour': '21', 'minute': '29', 'isInteraction': True, 'page': {'pagePath': '/home', 'hostname': 'shop.googlemerchandisestore.com', 'pageTitle': 'Home', 'pagePathLevel1': '/home', 'pagePathLevel2': '', 'pagePathLevel3': '', 'pagePathLevel4': ''}, 'appInfo': {'screenName': 'shop.googlemerchandisestore.com/home', 'landingScreenName': 'shop.googlemerchandisestore.com/home', 'exitScreenName': 'shop.googlemerchandisestore.com/home', 'screenDepth': '0'}, 'exceptionInfo': {'isFatal': True}, 'product': [], 'promotion': [{'promoId': 'Apparel Row 1', 'promoName': 'Apparel', 'promoCreative': 'home_main_link_apparel.jpg', 'promoPosition': 'Row 1'}, {'promoId': 'Backpacks Row 2 Combo', 'promoName': 'Backpacks', 'promoCreative': 'home_bags_google_2.jpg', 'promoPosition': 'Row 2 Combo'}, {'promoId': 'Mens T-Shirts Row 3-1', 'promoName': 'Mens T-Shirts', 'promoCreative': 'mens-tshirts.jpg', 'promoPosition': 'Row 3-1'}, {'promoId': 'Womens T-Shirts Row 3-2', 'promoName': 'Womens T-Shirts', 'promoCreative': 'womens-tshirts.jpg', 'promoPosition': 'Row 3-2'}, {'promoId': 'Office Row 5 Color Combo', 'promoName': 'Office', 'promoCreative': 'green_row_link_to_office.jpg', 'promoPosition': 'Row 5 Color Combo'}, {'promoId': 'Drinkware Row 4 Color Combo', 'promoName': 'Drinkware', 'promoCreative': 'red_row_hydrate.jpg', 'promoPosition': 'Row 4 Color Combo'}, {'promoId': 'Google Brand Row 7-1', 'promoName': 'Google Brand', 'promoCreative': 'home_lower_google_500.jpg', 'promoPosition': 'Brand Row 7-1'}, {'promoId': 'YouTube Brand Row 7-2', 'promoName': 'YouTube Brand', 'promoCreative': 'home_lower_youtube_500.jpg', 'promoPosition': 'Brand Row 7-2'}, {'promoId': 'Android Brand Row 7-3', 'promoName': 'Andriod Brand', 'promoCreative': 'home_lower_android_500.jpg', 'promoPosition': 'Brand Row 7-3'}], 'promotionActionInfo': {'promoIsView': True}, 'eCommerceAction': {'action_type': '0', 'step': '1'}, 'experiment': [], 'customVariables': [], 'customDimensions': [], 'customMetrics': [], 'type': 'PAGE', 'social': {'socialNetwork': '(not set)', 'hasSocialSourceReferral': 'No', 'socialInteractionNetworkAction': ' : '}, 'contentGroup': {'contentGroup1': '(not set)', 'contentGroup2': '(not set)', 'contentGroup3': '(not set)', 'contentGroup4': '(not set)', 'contentGroup5': '(not set)', 'previousContentGroup1': '(not set)', 'previousContentGroup2': 'Accessories', 'previousContentGroup3': '(not set)', 'previousContentGroup4': '(not set)', 'previousContentGroup5': '(not set)'}, 'dataSource': 'web', 'publisher_infos': []}, {'hitNumber': '4', 'time': '973047', 'hour': '21', 'minute': '45', 'isInteraction': True, 'isExit': True, 'page': {'pagePath': '/home', 'hostname': 'shop.googlemerchandisestore.com', 'pageTitle': 'Home', 'pagePathLevel1': '/home', 'pagePathLevel2': '', 'pagePathLevel3': '', 'pagePathLevel4': ''}, 'appInfo': {'screenName': 'shop.googlemerchandisestore.com/home', 'landingScreenName': 'shop.googlemerchandisestore.com/home', 'exitScreenName': 'shop.googlemerchandisestore.com/home', 'screenDepth': '0'}, 'exceptionInfo': {'isFatal': True}, 'product': [], 'promotion': [{'promoId': 'Apparel Row 1', 'promoName': 'Apparel', 'promoCreative': 'home_main_link_apparel.jpg', 'promoPosition': 'Row 1'}, {'promoId': 'Backpacks Row 2 Combo', 'promoName': 'Backpacks', 'promoCreative': 'home_bags_google_2.jpg', 'promoPosition': 'Row 2 Combo'}, {'promoId': 'Mens T-Shirts Row 3-1', 'promoName': 'Mens T-Shirts', 'promoCreative': 'mens-tshirts.jpg', 'promoPosition': 'Row 3-1'}, {'promoId': 'Womens T-Shirts Row 3-2', 'promoName': 'Womens T-Shirts', 'promoCreative': 'womens-tshirts.jpg', 'promoPosition': 'Row 3-2'}, {'promoId': 'Office Row 5 Color Combo', 'promoName': 'Office', 'promoCreative': 'green_row_link_to_office.jpg', 'promoPosition': 'Row 5 Color Combo'}, {'promoId': 'Drinkware Row 4 Color Combo', 'promoName': 'Drinkware', 'promoCreative': 'red_row_hydrate.jpg', 'promoPosition': 'Row 4 Color Combo'}, {'promoId': 'Google Brand Row 7-1', 'promoName': 'Google Brand', 'promoCreative': 'home_lower_google_500.jpg', 'promoPosition': 'Brand Row 7-1'}, {'promoId': 'YouTube Brand Row 7-2', 'promoName': 'YouTube Brand', 'promoCreative': 'home_lower_youtube_500.jpg', 'promoPosition': 'Brand Row 7-2'}, {'promoId': 'Android Brand Row 7-3', 'promoName': 'Andriod Brand', 'promoCreative': 'home_lower_android_500.jpg', 'promoPosition': 'Brand Row 7-3'}], 'promotionActionInfo': {'promoIsView': True}, 'eCommerceAction': {'action_type': '0', 'step': '1'}, 'experiment': [], 'customVariables': [], 'customDimensions': [], 'customMetrics': [], 'type': 'PAGE', 'social': {'socialNetwork': '(not set)', 'hasSocialSourceReferral': 'No', 'socialInteractionNetworkAction': ' : '}, 'contentGroup': {'contentGroup1': '(not set)', 'contentGroup2': '(not set)', 'contentGroup3': '(not set)', 'contentGroup4': '(not set)', 'contentGroup5': '(not set)', 'previousContentGroup1': '(not set)', 'previousContentGroup2': 'Accessories', 'previousContentGroup3': '(not set)', 'previousContentGroup4': '(not set)', 'previousContentGroup5': '(not set)'}, 'dataSource': 'web', 'publisher_infos': []}]\""
      ]
     },
     "execution_count": 17,
     "metadata": {},
     "output_type": "execute_result"
    }
   ],
   "source": [
    "original_hits_column_train[0]"
   ]
  },
  {
   "cell_type": "code",
   "execution_count": 18,
   "metadata": {},
   "outputs": [],
   "source": [
    "test_set.drop([\"hits\"], axis=1, inplace=True)"
   ]
  },
  {
   "cell_type": "code",
   "execution_count": 19,
   "metadata": {},
   "outputs": [
    {
     "data": {
      "text/html": [
       "<div>\n",
       "<style scoped>\n",
       "    .dataframe tbody tr th:only-of-type {\n",
       "        vertical-align: middle;\n",
       "    }\n",
       "\n",
       "    .dataframe tbody tr th {\n",
       "        vertical-align: top;\n",
       "    }\n",
       "\n",
       "    .dataframe thead th {\n",
       "        text-align: right;\n",
       "    }\n",
       "</style>\n",
       "<table border=\"1\" class=\"dataframe\">\n",
       "  <thead>\n",
       "    <tr style=\"text-align: right;\">\n",
       "      <th></th>\n",
       "      <th>channelGrouping</th>\n",
       "      <th>customDimensions</th>\n",
       "      <th>date</th>\n",
       "      <th>device</th>\n",
       "      <th>fullVisitorId</th>\n",
       "      <th>geoNetwork</th>\n",
       "      <th>socialEngagementType</th>\n",
       "      <th>totals</th>\n",
       "      <th>trafficSource</th>\n",
       "      <th>visitId</th>\n",
       "      <th>...</th>\n",
       "      <th>subContinent</th>\n",
       "      <th>country</th>\n",
       "      <th>region</th>\n",
       "      <th>metro</th>\n",
       "      <th>city</th>\n",
       "      <th>cityId</th>\n",
       "      <th>networkDomain</th>\n",
       "      <th>latitude</th>\n",
       "      <th>longitude</th>\n",
       "      <th>networkLocation</th>\n",
       "    </tr>\n",
       "  </thead>\n",
       "  <tbody>\n",
       "    <tr>\n",
       "      <th>0</th>\n",
       "      <td>Organic Search</td>\n",
       "      <td>[{'index': '4', 'value': 'APAC'}]</td>\n",
       "      <td>20180511</td>\n",
       "      <td>{\"browser\": \"Chrome\", \"browserVersion\": \"not a...</td>\n",
       "      <td>7460955084541987166</td>\n",
       "      <td>{\"continent\": \"Asia\", \"subContinent\": \"Souther...</td>\n",
       "      <td>Not Socially Engaged</td>\n",
       "      <td>{\"visits\": \"1\", \"hits\": \"4\", \"pageviews\": \"3\",...</td>\n",
       "      <td>{\"referralPath\": \"(not set)\", \"campaign\": \"(no...</td>\n",
       "      <td>1526099341</td>\n",
       "      <td>...</td>\n",
       "      <td>Southern Asia</td>\n",
       "      <td>India</td>\n",
       "      <td>Delhi</td>\n",
       "      <td>(not set)</td>\n",
       "      <td>(not set)</td>\n",
       "      <td>not available in demo dataset</td>\n",
       "      <td>unknown.unknown</td>\n",
       "      <td>not available in demo dataset</td>\n",
       "      <td>not available in demo dataset</td>\n",
       "      <td>not available in demo dataset</td>\n",
       "    </tr>\n",
       "    <tr>\n",
       "      <th>1</th>\n",
       "      <td>Direct</td>\n",
       "      <td>[{'index': '4', 'value': 'North America'}]</td>\n",
       "      <td>20180511</td>\n",
       "      <td>{\"browser\": \"Chrome\", \"browserVersion\": \"not a...</td>\n",
       "      <td>460252456180441002</td>\n",
       "      <td>{\"continent\": \"Americas\", \"subContinent\": \"Nor...</td>\n",
       "      <td>Not Socially Engaged</td>\n",
       "      <td>{\"visits\": \"1\", \"hits\": \"4\", \"pageviews\": \"3\",...</td>\n",
       "      <td>{\"referralPath\": \"(not set)\", \"campaign\": \"(no...</td>\n",
       "      <td>1526064483</td>\n",
       "      <td>...</td>\n",
       "      <td>Northern America</td>\n",
       "      <td>United States</td>\n",
       "      <td>California</td>\n",
       "      <td>San Francisco-Oakland-San Jose CA</td>\n",
       "      <td>San Francisco</td>\n",
       "      <td>not available in demo dataset</td>\n",
       "      <td>(not set)</td>\n",
       "      <td>not available in demo dataset</td>\n",
       "      <td>not available in demo dataset</td>\n",
       "      <td>not available in demo dataset</td>\n",
       "    </tr>\n",
       "    <tr>\n",
       "      <th>2</th>\n",
       "      <td>Organic Search</td>\n",
       "      <td>[{'index': '4', 'value': 'North America'}]</td>\n",
       "      <td>20180511</td>\n",
       "      <td>{\"browser\": \"Chrome\", \"browserVersion\": \"not a...</td>\n",
       "      <td>3461808543879602873</td>\n",
       "      <td>{\"continent\": \"Americas\", \"subContinent\": \"Nor...</td>\n",
       "      <td>Not Socially Engaged</td>\n",
       "      <td>{\"visits\": \"1\", \"hits\": \"4\", \"pageviews\": \"3\",...</td>\n",
       "      <td>{\"referralPath\": \"(not set)\", \"campaign\": \"(no...</td>\n",
       "      <td>1526067157</td>\n",
       "      <td>...</td>\n",
       "      <td>Northern America</td>\n",
       "      <td>United States</td>\n",
       "      <td>not available in demo dataset</td>\n",
       "      <td>not available in demo dataset</td>\n",
       "      <td>not available in demo dataset</td>\n",
       "      <td>not available in demo dataset</td>\n",
       "      <td>onlinecomputerworks.com</td>\n",
       "      <td>not available in demo dataset</td>\n",
       "      <td>not available in demo dataset</td>\n",
       "      <td>not available in demo dataset</td>\n",
       "    </tr>\n",
       "    <tr>\n",
       "      <th>3</th>\n",
       "      <td>Direct</td>\n",
       "      <td>[{'index': '4', 'value': 'North America'}]</td>\n",
       "      <td>20180511</td>\n",
       "      <td>{\"browser\": \"Chrome\", \"browserVersion\": \"not a...</td>\n",
       "      <td>975129477712150630</td>\n",
       "      <td>{\"continent\": \"Americas\", \"subContinent\": \"Nor...</td>\n",
       "      <td>Not Socially Engaged</td>\n",
       "      <td>{\"visits\": \"1\", \"hits\": \"5\", \"pageviews\": \"4\",...</td>\n",
       "      <td>{\"referralPath\": \"(not set)\", \"campaign\": \"(no...</td>\n",
       "      <td>1526107551</td>\n",
       "      <td>...</td>\n",
       "      <td>Northern America</td>\n",
       "      <td>United States</td>\n",
       "      <td>Texas</td>\n",
       "      <td>Houston TX</td>\n",
       "      <td>Houston</td>\n",
       "      <td>not available in demo dataset</td>\n",
       "      <td>(not set)</td>\n",
       "      <td>not available in demo dataset</td>\n",
       "      <td>not available in demo dataset</td>\n",
       "      <td>not available in demo dataset</td>\n",
       "    </tr>\n",
       "    <tr>\n",
       "      <th>4</th>\n",
       "      <td>Organic Search</td>\n",
       "      <td>[{'index': '4', 'value': 'North America'}]</td>\n",
       "      <td>20180511</td>\n",
       "      <td>{\"browser\": \"Internet Explorer\", \"browserVersi...</td>\n",
       "      <td>8381672768065729990</td>\n",
       "      <td>{\"continent\": \"Americas\", \"subContinent\": \"Nor...</td>\n",
       "      <td>Not Socially Engaged</td>\n",
       "      <td>{\"visits\": \"1\", \"hits\": \"5\", \"pageviews\": \"4\",...</td>\n",
       "      <td>{\"referralPath\": \"(not set)\", \"campaign\": \"(no...</td>\n",
       "      <td>1526060254</td>\n",
       "      <td>...</td>\n",
       "      <td>Northern America</td>\n",
       "      <td>United States</td>\n",
       "      <td>California</td>\n",
       "      <td>Los Angeles CA</td>\n",
       "      <td>Irvine</td>\n",
       "      <td>not available in demo dataset</td>\n",
       "      <td>com</td>\n",
       "      <td>not available in demo dataset</td>\n",
       "      <td>not available in demo dataset</td>\n",
       "      <td>not available in demo dataset</td>\n",
       "    </tr>\n",
       "  </tbody>\n",
       "</table>\n",
       "<p>5 rows × 39 columns</p>\n",
       "</div>"
      ],
      "text/plain": [
       "  channelGrouping                            customDimensions      date  \\\n",
       "0  Organic Search           [{'index': '4', 'value': 'APAC'}]  20180511   \n",
       "1          Direct  [{'index': '4', 'value': 'North America'}]  20180511   \n",
       "2  Organic Search  [{'index': '4', 'value': 'North America'}]  20180511   \n",
       "3          Direct  [{'index': '4', 'value': 'North America'}]  20180511   \n",
       "4  Organic Search  [{'index': '4', 'value': 'North America'}]  20180511   \n",
       "\n",
       "                                              device        fullVisitorId  \\\n",
       "0  {\"browser\": \"Chrome\", \"browserVersion\": \"not a...  7460955084541987166   \n",
       "1  {\"browser\": \"Chrome\", \"browserVersion\": \"not a...   460252456180441002   \n",
       "2  {\"browser\": \"Chrome\", \"browserVersion\": \"not a...  3461808543879602873   \n",
       "3  {\"browser\": \"Chrome\", \"browserVersion\": \"not a...   975129477712150630   \n",
       "4  {\"browser\": \"Internet Explorer\", \"browserVersi...  8381672768065729990   \n",
       "\n",
       "                                          geoNetwork  socialEngagementType  \\\n",
       "0  {\"continent\": \"Asia\", \"subContinent\": \"Souther...  Not Socially Engaged   \n",
       "1  {\"continent\": \"Americas\", \"subContinent\": \"Nor...  Not Socially Engaged   \n",
       "2  {\"continent\": \"Americas\", \"subContinent\": \"Nor...  Not Socially Engaged   \n",
       "3  {\"continent\": \"Americas\", \"subContinent\": \"Nor...  Not Socially Engaged   \n",
       "4  {\"continent\": \"Americas\", \"subContinent\": \"Nor...  Not Socially Engaged   \n",
       "\n",
       "                                              totals  \\\n",
       "0  {\"visits\": \"1\", \"hits\": \"4\", \"pageviews\": \"3\",...   \n",
       "1  {\"visits\": \"1\", \"hits\": \"4\", \"pageviews\": \"3\",...   \n",
       "2  {\"visits\": \"1\", \"hits\": \"4\", \"pageviews\": \"3\",...   \n",
       "3  {\"visits\": \"1\", \"hits\": \"5\", \"pageviews\": \"4\",...   \n",
       "4  {\"visits\": \"1\", \"hits\": \"5\", \"pageviews\": \"4\",...   \n",
       "\n",
       "                                       trafficSource     visitId  \\\n",
       "0  {\"referralPath\": \"(not set)\", \"campaign\": \"(no...  1526099341   \n",
       "1  {\"referralPath\": \"(not set)\", \"campaign\": \"(no...  1526064483   \n",
       "2  {\"referralPath\": \"(not set)\", \"campaign\": \"(no...  1526067157   \n",
       "3  {\"referralPath\": \"(not set)\", \"campaign\": \"(no...  1526107551   \n",
       "4  {\"referralPath\": \"(not set)\", \"campaign\": \"(no...  1526060254   \n",
       "\n",
       "               ...                    subContinent        country  \\\n",
       "0              ...                   Southern Asia          India   \n",
       "1              ...                Northern America  United States   \n",
       "2              ...                Northern America  United States   \n",
       "3              ...                Northern America  United States   \n",
       "4              ...                Northern America  United States   \n",
       "\n",
       "                          region                              metro  \\\n",
       "0                          Delhi                          (not set)   \n",
       "1                     California  San Francisco-Oakland-San Jose CA   \n",
       "2  not available in demo dataset      not available in demo dataset   \n",
       "3                          Texas                         Houston TX   \n",
       "4                     California                     Los Angeles CA   \n",
       "\n",
       "                            city                         cityId  \\\n",
       "0                      (not set)  not available in demo dataset   \n",
       "1                  San Francisco  not available in demo dataset   \n",
       "2  not available in demo dataset  not available in demo dataset   \n",
       "3                        Houston  not available in demo dataset   \n",
       "4                         Irvine  not available in demo dataset   \n",
       "\n",
       "             networkDomain                       latitude  \\\n",
       "0          unknown.unknown  not available in demo dataset   \n",
       "1                (not set)  not available in demo dataset   \n",
       "2  onlinecomputerworks.com  not available in demo dataset   \n",
       "3                (not set)  not available in demo dataset   \n",
       "4                      com  not available in demo dataset   \n",
       "\n",
       "                       longitude                networkLocation  \n",
       "0  not available in demo dataset  not available in demo dataset  \n",
       "1  not available in demo dataset  not available in demo dataset  \n",
       "2  not available in demo dataset  not available in demo dataset  \n",
       "3  not available in demo dataset  not available in demo dataset  \n",
       "4  not available in demo dataset  not available in demo dataset  \n",
       "\n",
       "[5 rows x 39 columns]"
      ]
     },
     "execution_count": 19,
     "metadata": {},
     "output_type": "execute_result"
    }
   ],
   "source": [
    "test_set.head()"
   ]
  },
  {
   "cell_type": "code",
   "execution_count": 28,
   "metadata": {
    "scrolled": false
   },
   "outputs": [],
   "source": [
    "train_set = train_set.join(train_set[\"totals\"].apply(json.loads).apply(pd.Series))"
   ]
  },
  {
   "cell_type": "code",
   "execution_count": 29,
   "metadata": {},
   "outputs": [
    {
     "data": {
      "text/html": [
       "<div>\n",
       "<style scoped>\n",
       "    .dataframe tbody tr th:only-of-type {\n",
       "        vertical-align: middle;\n",
       "    }\n",
       "\n",
       "    .dataframe tbody tr th {\n",
       "        vertical-align: top;\n",
       "    }\n",
       "\n",
       "    .dataframe thead th {\n",
       "        text-align: right;\n",
       "    }\n",
       "</style>\n",
       "<table border=\"1\" class=\"dataframe\">\n",
       "  <thead>\n",
       "    <tr style=\"text-align: right;\">\n",
       "      <th></th>\n",
       "      <th>channelGrouping</th>\n",
       "      <th>customDimensions</th>\n",
       "      <th>date</th>\n",
       "      <th>device</th>\n",
       "      <th>fullVisitorId</th>\n",
       "      <th>geoNetwork</th>\n",
       "      <th>socialEngagementType</th>\n",
       "      <th>totals</th>\n",
       "      <th>trafficSource</th>\n",
       "      <th>visitId</th>\n",
       "      <th>...</th>\n",
       "      <th>visits</th>\n",
       "      <th>hits</th>\n",
       "      <th>pageviews</th>\n",
       "      <th>bounces</th>\n",
       "      <th>newVisits</th>\n",
       "      <th>sessionQualityDim</th>\n",
       "      <th>timeOnSite</th>\n",
       "      <th>transactions</th>\n",
       "      <th>transactionRevenue</th>\n",
       "      <th>totalTransactionRevenue</th>\n",
       "    </tr>\n",
       "  </thead>\n",
       "  <tbody>\n",
       "    <tr>\n",
       "      <th>0</th>\n",
       "      <td>Organic Search</td>\n",
       "      <td>[{'index': '4', 'value': 'EMEA'}]</td>\n",
       "      <td>20171016</td>\n",
       "      <td>{\"browser\": \"Firefox\", \"browserVersion\": \"not ...</td>\n",
       "      <td>3162355547410993243</td>\n",
       "      <td>{\"continent\": \"Europe\", \"subContinent\": \"Weste...</td>\n",
       "      <td>Not Socially Engaged</td>\n",
       "      <td>{\"visits\": \"1\", \"hits\": \"1\", \"pageviews\": \"1\",...</td>\n",
       "      <td>{\"campaign\": \"(not set)\", \"source\": \"google\", ...</td>\n",
       "      <td>1508198450</td>\n",
       "      <td>...</td>\n",
       "      <td>1</td>\n",
       "      <td>1</td>\n",
       "      <td>1</td>\n",
       "      <td>1</td>\n",
       "      <td>1</td>\n",
       "      <td>1</td>\n",
       "      <td>NaN</td>\n",
       "      <td>NaN</td>\n",
       "      <td>NaN</td>\n",
       "      <td>NaN</td>\n",
       "    </tr>\n",
       "    <tr>\n",
       "      <th>1</th>\n",
       "      <td>Referral</td>\n",
       "      <td>[{'index': '4', 'value': 'North America'}]</td>\n",
       "      <td>20171016</td>\n",
       "      <td>{\"browser\": \"Chrome\", \"browserVersion\": \"not a...</td>\n",
       "      <td>8934116514970143966</td>\n",
       "      <td>{\"continent\": \"Americas\", \"subContinent\": \"Nor...</td>\n",
       "      <td>Not Socially Engaged</td>\n",
       "      <td>{\"visits\": \"1\", \"hits\": \"2\", \"pageviews\": \"2\",...</td>\n",
       "      <td>{\"referralPath\": \"/a/google.com/transportation...</td>\n",
       "      <td>1508176307</td>\n",
       "      <td>...</td>\n",
       "      <td>1</td>\n",
       "      <td>2</td>\n",
       "      <td>2</td>\n",
       "      <td>NaN</td>\n",
       "      <td>NaN</td>\n",
       "      <td>2</td>\n",
       "      <td>28</td>\n",
       "      <td>NaN</td>\n",
       "      <td>NaN</td>\n",
       "      <td>NaN</td>\n",
       "    </tr>\n",
       "    <tr>\n",
       "      <th>2</th>\n",
       "      <td>Direct</td>\n",
       "      <td>[{'index': '4', 'value': 'North America'}]</td>\n",
       "      <td>20171016</td>\n",
       "      <td>{\"browser\": \"Chrome\", \"browserVersion\": \"not a...</td>\n",
       "      <td>7992466427990357681</td>\n",
       "      <td>{\"continent\": \"Americas\", \"subContinent\": \"Nor...</td>\n",
       "      <td>Not Socially Engaged</td>\n",
       "      <td>{\"visits\": \"1\", \"hits\": \"2\", \"pageviews\": \"2\",...</td>\n",
       "      <td>{\"campaign\": \"(not set)\", \"source\": \"(direct)\"...</td>\n",
       "      <td>1508201613</td>\n",
       "      <td>...</td>\n",
       "      <td>1</td>\n",
       "      <td>2</td>\n",
       "      <td>2</td>\n",
       "      <td>NaN</td>\n",
       "      <td>1</td>\n",
       "      <td>1</td>\n",
       "      <td>38</td>\n",
       "      <td>NaN</td>\n",
       "      <td>NaN</td>\n",
       "      <td>NaN</td>\n",
       "    </tr>\n",
       "    <tr>\n",
       "      <th>3</th>\n",
       "      <td>Organic Search</td>\n",
       "      <td>[{'index': '4', 'value': 'EMEA'}]</td>\n",
       "      <td>20171016</td>\n",
       "      <td>{\"browser\": \"Chrome\", \"browserVersion\": \"not a...</td>\n",
       "      <td>9075655783635761930</td>\n",
       "      <td>{\"continent\": \"Asia\", \"subContinent\": \"Western...</td>\n",
       "      <td>Not Socially Engaged</td>\n",
       "      <td>{\"visits\": \"1\", \"hits\": \"2\", \"pageviews\": \"2\",...</td>\n",
       "      <td>{\"campaign\": \"(not set)\", \"source\": \"google\", ...</td>\n",
       "      <td>1508169851</td>\n",
       "      <td>...</td>\n",
       "      <td>1</td>\n",
       "      <td>2</td>\n",
       "      <td>2</td>\n",
       "      <td>NaN</td>\n",
       "      <td>1</td>\n",
       "      <td>1</td>\n",
       "      <td>1</td>\n",
       "      <td>NaN</td>\n",
       "      <td>NaN</td>\n",
       "      <td>NaN</td>\n",
       "    </tr>\n",
       "    <tr>\n",
       "      <th>4</th>\n",
       "      <td>Organic Search</td>\n",
       "      <td>[{'index': '4', 'value': 'Central America'}]</td>\n",
       "      <td>20171016</td>\n",
       "      <td>{\"browser\": \"Chrome\", \"browserVersion\": \"not a...</td>\n",
       "      <td>6960673291025684308</td>\n",
       "      <td>{\"continent\": \"Americas\", \"subContinent\": \"Cen...</td>\n",
       "      <td>Not Socially Engaged</td>\n",
       "      <td>{\"visits\": \"1\", \"hits\": \"2\", \"pageviews\": \"2\",...</td>\n",
       "      <td>{\"campaign\": \"(not set)\", \"source\": \"google\", ...</td>\n",
       "      <td>1508190552</td>\n",
       "      <td>...</td>\n",
       "      <td>1</td>\n",
       "      <td>2</td>\n",
       "      <td>2</td>\n",
       "      <td>NaN</td>\n",
       "      <td>1</td>\n",
       "      <td>1</td>\n",
       "      <td>52</td>\n",
       "      <td>NaN</td>\n",
       "      <td>NaN</td>\n",
       "      <td>NaN</td>\n",
       "    </tr>\n",
       "  </tbody>\n",
       "</table>\n",
       "<p>5 rows × 49 columns</p>\n",
       "</div>"
      ],
      "text/plain": [
       "  channelGrouping                              customDimensions      date  \\\n",
       "0  Organic Search             [{'index': '4', 'value': 'EMEA'}]  20171016   \n",
       "1        Referral    [{'index': '4', 'value': 'North America'}]  20171016   \n",
       "2          Direct    [{'index': '4', 'value': 'North America'}]  20171016   \n",
       "3  Organic Search             [{'index': '4', 'value': 'EMEA'}]  20171016   \n",
       "4  Organic Search  [{'index': '4', 'value': 'Central America'}]  20171016   \n",
       "\n",
       "                                              device        fullVisitorId  \\\n",
       "0  {\"browser\": \"Firefox\", \"browserVersion\": \"not ...  3162355547410993243   \n",
       "1  {\"browser\": \"Chrome\", \"browserVersion\": \"not a...  8934116514970143966   \n",
       "2  {\"browser\": \"Chrome\", \"browserVersion\": \"not a...  7992466427990357681   \n",
       "3  {\"browser\": \"Chrome\", \"browserVersion\": \"not a...  9075655783635761930   \n",
       "4  {\"browser\": \"Chrome\", \"browserVersion\": \"not a...  6960673291025684308   \n",
       "\n",
       "                                          geoNetwork  socialEngagementType  \\\n",
       "0  {\"continent\": \"Europe\", \"subContinent\": \"Weste...  Not Socially Engaged   \n",
       "1  {\"continent\": \"Americas\", \"subContinent\": \"Nor...  Not Socially Engaged   \n",
       "2  {\"continent\": \"Americas\", \"subContinent\": \"Nor...  Not Socially Engaged   \n",
       "3  {\"continent\": \"Asia\", \"subContinent\": \"Western...  Not Socially Engaged   \n",
       "4  {\"continent\": \"Americas\", \"subContinent\": \"Cen...  Not Socially Engaged   \n",
       "\n",
       "                                              totals  \\\n",
       "0  {\"visits\": \"1\", \"hits\": \"1\", \"pageviews\": \"1\",...   \n",
       "1  {\"visits\": \"1\", \"hits\": \"2\", \"pageviews\": \"2\",...   \n",
       "2  {\"visits\": \"1\", \"hits\": \"2\", \"pageviews\": \"2\",...   \n",
       "3  {\"visits\": \"1\", \"hits\": \"2\", \"pageviews\": \"2\",...   \n",
       "4  {\"visits\": \"1\", \"hits\": \"2\", \"pageviews\": \"2\",...   \n",
       "\n",
       "                                       trafficSource     visitId  \\\n",
       "0  {\"campaign\": \"(not set)\", \"source\": \"google\", ...  1508198450   \n",
       "1  {\"referralPath\": \"/a/google.com/transportation...  1508176307   \n",
       "2  {\"campaign\": \"(not set)\", \"source\": \"(direct)\"...  1508201613   \n",
       "3  {\"campaign\": \"(not set)\", \"source\": \"google\", ...  1508169851   \n",
       "4  {\"campaign\": \"(not set)\", \"source\": \"google\", ...  1508190552   \n",
       "\n",
       "            ...            visits  hits pageviews bounces newVisits  \\\n",
       "0           ...                 1     1         1       1         1   \n",
       "1           ...                 1     2         2     NaN       NaN   \n",
       "2           ...                 1     2         2     NaN         1   \n",
       "3           ...                 1     2         2     NaN         1   \n",
       "4           ...                 1     2         2     NaN         1   \n",
       "\n",
       "  sessionQualityDim timeOnSite  transactions transactionRevenue  \\\n",
       "0                 1        NaN           NaN                NaN   \n",
       "1                 2         28           NaN                NaN   \n",
       "2                 1         38           NaN                NaN   \n",
       "3                 1          1           NaN                NaN   \n",
       "4                 1         52           NaN                NaN   \n",
       "\n",
       "  totalTransactionRevenue  \n",
       "0                     NaN  \n",
       "1                     NaN  \n",
       "2                     NaN  \n",
       "3                     NaN  \n",
       "4                     NaN  \n",
       "\n",
       "[5 rows x 49 columns]"
      ]
     },
     "execution_count": 29,
     "metadata": {},
     "output_type": "execute_result"
    }
   ],
   "source": [
    "train_set.head()"
   ]
  },
  {
   "cell_type": "code",
   "execution_count": 30,
   "metadata": {},
   "outputs": [
    {
     "name": "stdout",
     "output_type": "stream",
     "text": [
      "CPU times: user 2min 35s, sys: 731 ms, total: 2min 36s\n",
      "Wall time: 2min 35s\n"
     ]
    }
   ],
   "source": [
    "%%time \n",
    "train_set = train_set.join(train_set[\"trafficSource\"].apply(json.loads).apply(pd.Series))"
   ]
  },
  {
   "cell_type": "code",
   "execution_count": 31,
   "metadata": {},
   "outputs": [
    {
     "data": {
      "text/html": [
       "<div>\n",
       "<style scoped>\n",
       "    .dataframe tbody tr th:only-of-type {\n",
       "        vertical-align: middle;\n",
       "    }\n",
       "\n",
       "    .dataframe tbody tr th {\n",
       "        vertical-align: top;\n",
       "    }\n",
       "\n",
       "    .dataframe thead th {\n",
       "        text-align: right;\n",
       "    }\n",
       "</style>\n",
       "<table border=\"1\" class=\"dataframe\">\n",
       "  <thead>\n",
       "    <tr style=\"text-align: right;\">\n",
       "      <th></th>\n",
       "      <th>channelGrouping</th>\n",
       "      <th>customDimensions</th>\n",
       "      <th>date</th>\n",
       "      <th>device</th>\n",
       "      <th>fullVisitorId</th>\n",
       "      <th>geoNetwork</th>\n",
       "      <th>socialEngagementType</th>\n",
       "      <th>totals</th>\n",
       "      <th>trafficSource</th>\n",
       "      <th>visitId</th>\n",
       "      <th>...</th>\n",
       "      <th>totalTransactionRevenue</th>\n",
       "      <th>campaign</th>\n",
       "      <th>source</th>\n",
       "      <th>medium</th>\n",
       "      <th>keyword</th>\n",
       "      <th>adwordsClickInfo</th>\n",
       "      <th>referralPath</th>\n",
       "      <th>isTrueDirect</th>\n",
       "      <th>adContent</th>\n",
       "      <th>campaignCode</th>\n",
       "    </tr>\n",
       "  </thead>\n",
       "  <tbody>\n",
       "    <tr>\n",
       "      <th>0</th>\n",
       "      <td>Organic Search</td>\n",
       "      <td>[{'index': '4', 'value': 'EMEA'}]</td>\n",
       "      <td>20171016</td>\n",
       "      <td>{\"browser\": \"Firefox\", \"browserVersion\": \"not ...</td>\n",
       "      <td>3162355547410993243</td>\n",
       "      <td>{\"continent\": \"Europe\", \"subContinent\": \"Weste...</td>\n",
       "      <td>Not Socially Engaged</td>\n",
       "      <td>{\"visits\": \"1\", \"hits\": \"1\", \"pageviews\": \"1\",...</td>\n",
       "      <td>{\"campaign\": \"(not set)\", \"source\": \"google\", ...</td>\n",
       "      <td>1508198450</td>\n",
       "      <td>...</td>\n",
       "      <td>NaN</td>\n",
       "      <td>(not set)</td>\n",
       "      <td>google</td>\n",
       "      <td>organic</td>\n",
       "      <td>water bottle</td>\n",
       "      <td>{'criteriaParameters': 'not available in demo ...</td>\n",
       "      <td>NaN</td>\n",
       "      <td>NaN</td>\n",
       "      <td>NaN</td>\n",
       "      <td>NaN</td>\n",
       "    </tr>\n",
       "    <tr>\n",
       "      <th>1</th>\n",
       "      <td>Referral</td>\n",
       "      <td>[{'index': '4', 'value': 'North America'}]</td>\n",
       "      <td>20171016</td>\n",
       "      <td>{\"browser\": \"Chrome\", \"browserVersion\": \"not a...</td>\n",
       "      <td>8934116514970143966</td>\n",
       "      <td>{\"continent\": \"Americas\", \"subContinent\": \"Nor...</td>\n",
       "      <td>Not Socially Engaged</td>\n",
       "      <td>{\"visits\": \"1\", \"hits\": \"2\", \"pageviews\": \"2\",...</td>\n",
       "      <td>{\"referralPath\": \"/a/google.com/transportation...</td>\n",
       "      <td>1508176307</td>\n",
       "      <td>...</td>\n",
       "      <td>NaN</td>\n",
       "      <td>(not set)</td>\n",
       "      <td>sites.google.com</td>\n",
       "      <td>referral</td>\n",
       "      <td>NaN</td>\n",
       "      <td>{'criteriaParameters': 'not available in demo ...</td>\n",
       "      <td>/a/google.com/transportation/mtv-services/bike...</td>\n",
       "      <td>NaN</td>\n",
       "      <td>NaN</td>\n",
       "      <td>NaN</td>\n",
       "    </tr>\n",
       "    <tr>\n",
       "      <th>2</th>\n",
       "      <td>Direct</td>\n",
       "      <td>[{'index': '4', 'value': 'North America'}]</td>\n",
       "      <td>20171016</td>\n",
       "      <td>{\"browser\": \"Chrome\", \"browserVersion\": \"not a...</td>\n",
       "      <td>7992466427990357681</td>\n",
       "      <td>{\"continent\": \"Americas\", \"subContinent\": \"Nor...</td>\n",
       "      <td>Not Socially Engaged</td>\n",
       "      <td>{\"visits\": \"1\", \"hits\": \"2\", \"pageviews\": \"2\",...</td>\n",
       "      <td>{\"campaign\": \"(not set)\", \"source\": \"(direct)\"...</td>\n",
       "      <td>1508201613</td>\n",
       "      <td>...</td>\n",
       "      <td>NaN</td>\n",
       "      <td>(not set)</td>\n",
       "      <td>(direct)</td>\n",
       "      <td>(none)</td>\n",
       "      <td>NaN</td>\n",
       "      <td>{'criteriaParameters': 'not available in demo ...</td>\n",
       "      <td>NaN</td>\n",
       "      <td>True</td>\n",
       "      <td>NaN</td>\n",
       "      <td>NaN</td>\n",
       "    </tr>\n",
       "    <tr>\n",
       "      <th>3</th>\n",
       "      <td>Organic Search</td>\n",
       "      <td>[{'index': '4', 'value': 'EMEA'}]</td>\n",
       "      <td>20171016</td>\n",
       "      <td>{\"browser\": \"Chrome\", \"browserVersion\": \"not a...</td>\n",
       "      <td>9075655783635761930</td>\n",
       "      <td>{\"continent\": \"Asia\", \"subContinent\": \"Western...</td>\n",
       "      <td>Not Socially Engaged</td>\n",
       "      <td>{\"visits\": \"1\", \"hits\": \"2\", \"pageviews\": \"2\",...</td>\n",
       "      <td>{\"campaign\": \"(not set)\", \"source\": \"google\", ...</td>\n",
       "      <td>1508169851</td>\n",
       "      <td>...</td>\n",
       "      <td>NaN</td>\n",
       "      <td>(not set)</td>\n",
       "      <td>google</td>\n",
       "      <td>organic</td>\n",
       "      <td>(not provided)</td>\n",
       "      <td>{'criteriaParameters': 'not available in demo ...</td>\n",
       "      <td>NaN</td>\n",
       "      <td>NaN</td>\n",
       "      <td>NaN</td>\n",
       "      <td>NaN</td>\n",
       "    </tr>\n",
       "    <tr>\n",
       "      <th>4</th>\n",
       "      <td>Organic Search</td>\n",
       "      <td>[{'index': '4', 'value': 'Central America'}]</td>\n",
       "      <td>20171016</td>\n",
       "      <td>{\"browser\": \"Chrome\", \"browserVersion\": \"not a...</td>\n",
       "      <td>6960673291025684308</td>\n",
       "      <td>{\"continent\": \"Americas\", \"subContinent\": \"Cen...</td>\n",
       "      <td>Not Socially Engaged</td>\n",
       "      <td>{\"visits\": \"1\", \"hits\": \"2\", \"pageviews\": \"2\",...</td>\n",
       "      <td>{\"campaign\": \"(not set)\", \"source\": \"google\", ...</td>\n",
       "      <td>1508190552</td>\n",
       "      <td>...</td>\n",
       "      <td>NaN</td>\n",
       "      <td>(not set)</td>\n",
       "      <td>google</td>\n",
       "      <td>organic</td>\n",
       "      <td>(not provided)</td>\n",
       "      <td>{'criteriaParameters': 'not available in demo ...</td>\n",
       "      <td>NaN</td>\n",
       "      <td>NaN</td>\n",
       "      <td>NaN</td>\n",
       "      <td>NaN</td>\n",
       "    </tr>\n",
       "  </tbody>\n",
       "</table>\n",
       "<p>5 rows × 58 columns</p>\n",
       "</div>"
      ],
      "text/plain": [
       "  channelGrouping                              customDimensions      date  \\\n",
       "0  Organic Search             [{'index': '4', 'value': 'EMEA'}]  20171016   \n",
       "1        Referral    [{'index': '4', 'value': 'North America'}]  20171016   \n",
       "2          Direct    [{'index': '4', 'value': 'North America'}]  20171016   \n",
       "3  Organic Search             [{'index': '4', 'value': 'EMEA'}]  20171016   \n",
       "4  Organic Search  [{'index': '4', 'value': 'Central America'}]  20171016   \n",
       "\n",
       "                                              device        fullVisitorId  \\\n",
       "0  {\"browser\": \"Firefox\", \"browserVersion\": \"not ...  3162355547410993243   \n",
       "1  {\"browser\": \"Chrome\", \"browserVersion\": \"not a...  8934116514970143966   \n",
       "2  {\"browser\": \"Chrome\", \"browserVersion\": \"not a...  7992466427990357681   \n",
       "3  {\"browser\": \"Chrome\", \"browserVersion\": \"not a...  9075655783635761930   \n",
       "4  {\"browser\": \"Chrome\", \"browserVersion\": \"not a...  6960673291025684308   \n",
       "\n",
       "                                          geoNetwork  socialEngagementType  \\\n",
       "0  {\"continent\": \"Europe\", \"subContinent\": \"Weste...  Not Socially Engaged   \n",
       "1  {\"continent\": \"Americas\", \"subContinent\": \"Nor...  Not Socially Engaged   \n",
       "2  {\"continent\": \"Americas\", \"subContinent\": \"Nor...  Not Socially Engaged   \n",
       "3  {\"continent\": \"Asia\", \"subContinent\": \"Western...  Not Socially Engaged   \n",
       "4  {\"continent\": \"Americas\", \"subContinent\": \"Cen...  Not Socially Engaged   \n",
       "\n",
       "                                              totals  \\\n",
       "0  {\"visits\": \"1\", \"hits\": \"1\", \"pageviews\": \"1\",...   \n",
       "1  {\"visits\": \"1\", \"hits\": \"2\", \"pageviews\": \"2\",...   \n",
       "2  {\"visits\": \"1\", \"hits\": \"2\", \"pageviews\": \"2\",...   \n",
       "3  {\"visits\": \"1\", \"hits\": \"2\", \"pageviews\": \"2\",...   \n",
       "4  {\"visits\": \"1\", \"hits\": \"2\", \"pageviews\": \"2\",...   \n",
       "\n",
       "                                       trafficSource     visitId     ...       \\\n",
       "0  {\"campaign\": \"(not set)\", \"source\": \"google\", ...  1508198450     ...        \n",
       "1  {\"referralPath\": \"/a/google.com/transportation...  1508176307     ...        \n",
       "2  {\"campaign\": \"(not set)\", \"source\": \"(direct)\"...  1508201613     ...        \n",
       "3  {\"campaign\": \"(not set)\", \"source\": \"google\", ...  1508169851     ...        \n",
       "4  {\"campaign\": \"(not set)\", \"source\": \"google\", ...  1508190552     ...        \n",
       "\n",
       "   totalTransactionRevenue   campaign            source    medium  \\\n",
       "0                      NaN  (not set)            google   organic   \n",
       "1                      NaN  (not set)  sites.google.com  referral   \n",
       "2                      NaN  (not set)          (direct)    (none)   \n",
       "3                      NaN  (not set)            google   organic   \n",
       "4                      NaN  (not set)            google   organic   \n",
       "\n",
       "          keyword                                   adwordsClickInfo  \\\n",
       "0    water bottle  {'criteriaParameters': 'not available in demo ...   \n",
       "1             NaN  {'criteriaParameters': 'not available in demo ...   \n",
       "2             NaN  {'criteriaParameters': 'not available in demo ...   \n",
       "3  (not provided)  {'criteriaParameters': 'not available in demo ...   \n",
       "4  (not provided)  {'criteriaParameters': 'not available in demo ...   \n",
       "\n",
       "                                        referralPath  isTrueDirect adContent  \\\n",
       "0                                                NaN           NaN       NaN   \n",
       "1  /a/google.com/transportation/mtv-services/bike...           NaN       NaN   \n",
       "2                                                NaN          True       NaN   \n",
       "3                                                NaN           NaN       NaN   \n",
       "4                                                NaN           NaN       NaN   \n",
       "\n",
       "  campaignCode  \n",
       "0          NaN  \n",
       "1          NaN  \n",
       "2          NaN  \n",
       "3          NaN  \n",
       "4          NaN  \n",
       "\n",
       "[5 rows x 58 columns]"
      ]
     },
     "execution_count": 31,
     "metadata": {},
     "output_type": "execute_result"
    }
   ],
   "source": [
    "train_set.head()"
   ]
  },
  {
   "cell_type": "code",
   "execution_count": 32,
   "metadata": {},
   "outputs": [],
   "source": [
    "train_set.drop([\"device\", \"geoNetwork\", \"totals\", \"trafficSource\"], axis=1, inplace=True)"
   ]
  },
  {
   "cell_type": "code",
   "execution_count": 33,
   "metadata": {},
   "outputs": [
    {
     "data": {
      "text/html": [
       "<div>\n",
       "<style scoped>\n",
       "    .dataframe tbody tr th:only-of-type {\n",
       "        vertical-align: middle;\n",
       "    }\n",
       "\n",
       "    .dataframe tbody tr th {\n",
       "        vertical-align: top;\n",
       "    }\n",
       "\n",
       "    .dataframe thead th {\n",
       "        text-align: right;\n",
       "    }\n",
       "</style>\n",
       "<table border=\"1\" class=\"dataframe\">\n",
       "  <thead>\n",
       "    <tr style=\"text-align: right;\">\n",
       "      <th></th>\n",
       "      <th>channelGrouping</th>\n",
       "      <th>customDimensions</th>\n",
       "      <th>date</th>\n",
       "      <th>fullVisitorId</th>\n",
       "      <th>socialEngagementType</th>\n",
       "      <th>visitId</th>\n",
       "      <th>visitNumber</th>\n",
       "      <th>visitStartTime</th>\n",
       "      <th>browser</th>\n",
       "      <th>browserVersion</th>\n",
       "      <th>...</th>\n",
       "      <th>totalTransactionRevenue</th>\n",
       "      <th>campaign</th>\n",
       "      <th>source</th>\n",
       "      <th>medium</th>\n",
       "      <th>keyword</th>\n",
       "      <th>adwordsClickInfo</th>\n",
       "      <th>referralPath</th>\n",
       "      <th>isTrueDirect</th>\n",
       "      <th>adContent</th>\n",
       "      <th>campaignCode</th>\n",
       "    </tr>\n",
       "  </thead>\n",
       "  <tbody>\n",
       "    <tr>\n",
       "      <th>0</th>\n",
       "      <td>Organic Search</td>\n",
       "      <td>[{'index': '4', 'value': 'EMEA'}]</td>\n",
       "      <td>20171016</td>\n",
       "      <td>3162355547410993243</td>\n",
       "      <td>Not Socially Engaged</td>\n",
       "      <td>1508198450</td>\n",
       "      <td>1</td>\n",
       "      <td>1508198450</td>\n",
       "      <td>Firefox</td>\n",
       "      <td>not available in demo dataset</td>\n",
       "      <td>...</td>\n",
       "      <td>NaN</td>\n",
       "      <td>(not set)</td>\n",
       "      <td>google</td>\n",
       "      <td>organic</td>\n",
       "      <td>water bottle</td>\n",
       "      <td>{'criteriaParameters': 'not available in demo ...</td>\n",
       "      <td>NaN</td>\n",
       "      <td>NaN</td>\n",
       "      <td>NaN</td>\n",
       "      <td>NaN</td>\n",
       "    </tr>\n",
       "    <tr>\n",
       "      <th>1</th>\n",
       "      <td>Referral</td>\n",
       "      <td>[{'index': '4', 'value': 'North America'}]</td>\n",
       "      <td>20171016</td>\n",
       "      <td>8934116514970143966</td>\n",
       "      <td>Not Socially Engaged</td>\n",
       "      <td>1508176307</td>\n",
       "      <td>6</td>\n",
       "      <td>1508176307</td>\n",
       "      <td>Chrome</td>\n",
       "      <td>not available in demo dataset</td>\n",
       "      <td>...</td>\n",
       "      <td>NaN</td>\n",
       "      <td>(not set)</td>\n",
       "      <td>sites.google.com</td>\n",
       "      <td>referral</td>\n",
       "      <td>NaN</td>\n",
       "      <td>{'criteriaParameters': 'not available in demo ...</td>\n",
       "      <td>/a/google.com/transportation/mtv-services/bike...</td>\n",
       "      <td>NaN</td>\n",
       "      <td>NaN</td>\n",
       "      <td>NaN</td>\n",
       "    </tr>\n",
       "    <tr>\n",
       "      <th>2</th>\n",
       "      <td>Direct</td>\n",
       "      <td>[{'index': '4', 'value': 'North America'}]</td>\n",
       "      <td>20171016</td>\n",
       "      <td>7992466427990357681</td>\n",
       "      <td>Not Socially Engaged</td>\n",
       "      <td>1508201613</td>\n",
       "      <td>1</td>\n",
       "      <td>1508201613</td>\n",
       "      <td>Chrome</td>\n",
       "      <td>not available in demo dataset</td>\n",
       "      <td>...</td>\n",
       "      <td>NaN</td>\n",
       "      <td>(not set)</td>\n",
       "      <td>(direct)</td>\n",
       "      <td>(none)</td>\n",
       "      <td>NaN</td>\n",
       "      <td>{'criteriaParameters': 'not available in demo ...</td>\n",
       "      <td>NaN</td>\n",
       "      <td>True</td>\n",
       "      <td>NaN</td>\n",
       "      <td>NaN</td>\n",
       "    </tr>\n",
       "    <tr>\n",
       "      <th>3</th>\n",
       "      <td>Organic Search</td>\n",
       "      <td>[{'index': '4', 'value': 'EMEA'}]</td>\n",
       "      <td>20171016</td>\n",
       "      <td>9075655783635761930</td>\n",
       "      <td>Not Socially Engaged</td>\n",
       "      <td>1508169851</td>\n",
       "      <td>1</td>\n",
       "      <td>1508169851</td>\n",
       "      <td>Chrome</td>\n",
       "      <td>not available in demo dataset</td>\n",
       "      <td>...</td>\n",
       "      <td>NaN</td>\n",
       "      <td>(not set)</td>\n",
       "      <td>google</td>\n",
       "      <td>organic</td>\n",
       "      <td>(not provided)</td>\n",
       "      <td>{'criteriaParameters': 'not available in demo ...</td>\n",
       "      <td>NaN</td>\n",
       "      <td>NaN</td>\n",
       "      <td>NaN</td>\n",
       "      <td>NaN</td>\n",
       "    </tr>\n",
       "    <tr>\n",
       "      <th>4</th>\n",
       "      <td>Organic Search</td>\n",
       "      <td>[{'index': '4', 'value': 'Central America'}]</td>\n",
       "      <td>20171016</td>\n",
       "      <td>6960673291025684308</td>\n",
       "      <td>Not Socially Engaged</td>\n",
       "      <td>1508190552</td>\n",
       "      <td>1</td>\n",
       "      <td>1508190552</td>\n",
       "      <td>Chrome</td>\n",
       "      <td>not available in demo dataset</td>\n",
       "      <td>...</td>\n",
       "      <td>NaN</td>\n",
       "      <td>(not set)</td>\n",
       "      <td>google</td>\n",
       "      <td>organic</td>\n",
       "      <td>(not provided)</td>\n",
       "      <td>{'criteriaParameters': 'not available in demo ...</td>\n",
       "      <td>NaN</td>\n",
       "      <td>NaN</td>\n",
       "      <td>NaN</td>\n",
       "      <td>NaN</td>\n",
       "    </tr>\n",
       "  </tbody>\n",
       "</table>\n",
       "<p>5 rows × 54 columns</p>\n",
       "</div>"
      ],
      "text/plain": [
       "  channelGrouping                              customDimensions      date  \\\n",
       "0  Organic Search             [{'index': '4', 'value': 'EMEA'}]  20171016   \n",
       "1        Referral    [{'index': '4', 'value': 'North America'}]  20171016   \n",
       "2          Direct    [{'index': '4', 'value': 'North America'}]  20171016   \n",
       "3  Organic Search             [{'index': '4', 'value': 'EMEA'}]  20171016   \n",
       "4  Organic Search  [{'index': '4', 'value': 'Central America'}]  20171016   \n",
       "\n",
       "         fullVisitorId  socialEngagementType     visitId  visitNumber  \\\n",
       "0  3162355547410993243  Not Socially Engaged  1508198450            1   \n",
       "1  8934116514970143966  Not Socially Engaged  1508176307            6   \n",
       "2  7992466427990357681  Not Socially Engaged  1508201613            1   \n",
       "3  9075655783635761930  Not Socially Engaged  1508169851            1   \n",
       "4  6960673291025684308  Not Socially Engaged  1508190552            1   \n",
       "\n",
       "   visitStartTime  browser                 browserVersion     ...       \\\n",
       "0      1508198450  Firefox  not available in demo dataset     ...        \n",
       "1      1508176307   Chrome  not available in demo dataset     ...        \n",
       "2      1508201613   Chrome  not available in demo dataset     ...        \n",
       "3      1508169851   Chrome  not available in demo dataset     ...        \n",
       "4      1508190552   Chrome  not available in demo dataset     ...        \n",
       "\n",
       "  totalTransactionRevenue   campaign            source    medium  \\\n",
       "0                     NaN  (not set)            google   organic   \n",
       "1                     NaN  (not set)  sites.google.com  referral   \n",
       "2                     NaN  (not set)          (direct)    (none)   \n",
       "3                     NaN  (not set)            google   organic   \n",
       "4                     NaN  (not set)            google   organic   \n",
       "\n",
       "          keyword                                   adwordsClickInfo  \\\n",
       "0    water bottle  {'criteriaParameters': 'not available in demo ...   \n",
       "1             NaN  {'criteriaParameters': 'not available in demo ...   \n",
       "2             NaN  {'criteriaParameters': 'not available in demo ...   \n",
       "3  (not provided)  {'criteriaParameters': 'not available in demo ...   \n",
       "4  (not provided)  {'criteriaParameters': 'not available in demo ...   \n",
       "\n",
       "                                        referralPath isTrueDirect adContent  \\\n",
       "0                                                NaN          NaN       NaN   \n",
       "1  /a/google.com/transportation/mtv-services/bike...          NaN       NaN   \n",
       "2                                                NaN         True       NaN   \n",
       "3                                                NaN          NaN       NaN   \n",
       "4                                                NaN          NaN       NaN   \n",
       "\n",
       "  campaignCode  \n",
       "0          NaN  \n",
       "1          NaN  \n",
       "2          NaN  \n",
       "3          NaN  \n",
       "4          NaN  \n",
       "\n",
       "[5 rows x 54 columns]"
      ]
     },
     "execution_count": 33,
     "metadata": {},
     "output_type": "execute_result"
    }
   ],
   "source": [
    "train_set.head()"
   ]
  },
  {
   "cell_type": "code",
   "execution_count": 34,
   "metadata": {},
   "outputs": [],
   "source": [
    "train_set.to_pickle(\"preprocessed_train_set_without_hits.pkl\")"
   ]
  },
  {
   "cell_type": "code",
   "execution_count": 19,
   "metadata": {},
   "outputs": [],
   "source": [
    "df = pd.read_pickle(\"preprocessed_train_set_without_hits.pkl\")"
   ]
  },
  {
   "cell_type": "code",
   "execution_count": 36,
   "metadata": {},
   "outputs": [
    {
     "data": {
      "text/html": [
       "<div>\n",
       "<style scoped>\n",
       "    .dataframe tbody tr th:only-of-type {\n",
       "        vertical-align: middle;\n",
       "    }\n",
       "\n",
       "    .dataframe tbody tr th {\n",
       "        vertical-align: top;\n",
       "    }\n",
       "\n",
       "    .dataframe thead th {\n",
       "        text-align: right;\n",
       "    }\n",
       "</style>\n",
       "<table border=\"1\" class=\"dataframe\">\n",
       "  <thead>\n",
       "    <tr style=\"text-align: right;\">\n",
       "      <th></th>\n",
       "      <th>channelGrouping</th>\n",
       "      <th>customDimensions</th>\n",
       "      <th>date</th>\n",
       "      <th>fullVisitorId</th>\n",
       "      <th>socialEngagementType</th>\n",
       "      <th>visitId</th>\n",
       "      <th>visitNumber</th>\n",
       "      <th>visitStartTime</th>\n",
       "      <th>browser</th>\n",
       "      <th>browserVersion</th>\n",
       "      <th>...</th>\n",
       "      <th>totalTransactionRevenue</th>\n",
       "      <th>campaign</th>\n",
       "      <th>source</th>\n",
       "      <th>medium</th>\n",
       "      <th>keyword</th>\n",
       "      <th>adwordsClickInfo</th>\n",
       "      <th>referralPath</th>\n",
       "      <th>isTrueDirect</th>\n",
       "      <th>adContent</th>\n",
       "      <th>campaignCode</th>\n",
       "    </tr>\n",
       "  </thead>\n",
       "  <tbody>\n",
       "    <tr>\n",
       "      <th>0</th>\n",
       "      <td>Organic Search</td>\n",
       "      <td>[{'index': '4', 'value': 'EMEA'}]</td>\n",
       "      <td>20171016</td>\n",
       "      <td>3162355547410993243</td>\n",
       "      <td>Not Socially Engaged</td>\n",
       "      <td>1508198450</td>\n",
       "      <td>1</td>\n",
       "      <td>1508198450</td>\n",
       "      <td>Firefox</td>\n",
       "      <td>not available in demo dataset</td>\n",
       "      <td>...</td>\n",
       "      <td>NaN</td>\n",
       "      <td>(not set)</td>\n",
       "      <td>google</td>\n",
       "      <td>organic</td>\n",
       "      <td>water bottle</td>\n",
       "      <td>{'criteriaParameters': 'not available in demo ...</td>\n",
       "      <td>NaN</td>\n",
       "      <td>NaN</td>\n",
       "      <td>NaN</td>\n",
       "      <td>NaN</td>\n",
       "    </tr>\n",
       "    <tr>\n",
       "      <th>1</th>\n",
       "      <td>Referral</td>\n",
       "      <td>[{'index': '4', 'value': 'North America'}]</td>\n",
       "      <td>20171016</td>\n",
       "      <td>8934116514970143966</td>\n",
       "      <td>Not Socially Engaged</td>\n",
       "      <td>1508176307</td>\n",
       "      <td>6</td>\n",
       "      <td>1508176307</td>\n",
       "      <td>Chrome</td>\n",
       "      <td>not available in demo dataset</td>\n",
       "      <td>...</td>\n",
       "      <td>NaN</td>\n",
       "      <td>(not set)</td>\n",
       "      <td>sites.google.com</td>\n",
       "      <td>referral</td>\n",
       "      <td>NaN</td>\n",
       "      <td>{'criteriaParameters': 'not available in demo ...</td>\n",
       "      <td>/a/google.com/transportation/mtv-services/bike...</td>\n",
       "      <td>NaN</td>\n",
       "      <td>NaN</td>\n",
       "      <td>NaN</td>\n",
       "    </tr>\n",
       "    <tr>\n",
       "      <th>2</th>\n",
       "      <td>Direct</td>\n",
       "      <td>[{'index': '4', 'value': 'North America'}]</td>\n",
       "      <td>20171016</td>\n",
       "      <td>7992466427990357681</td>\n",
       "      <td>Not Socially Engaged</td>\n",
       "      <td>1508201613</td>\n",
       "      <td>1</td>\n",
       "      <td>1508201613</td>\n",
       "      <td>Chrome</td>\n",
       "      <td>not available in demo dataset</td>\n",
       "      <td>...</td>\n",
       "      <td>NaN</td>\n",
       "      <td>(not set)</td>\n",
       "      <td>(direct)</td>\n",
       "      <td>(none)</td>\n",
       "      <td>NaN</td>\n",
       "      <td>{'criteriaParameters': 'not available in demo ...</td>\n",
       "      <td>NaN</td>\n",
       "      <td>True</td>\n",
       "      <td>NaN</td>\n",
       "      <td>NaN</td>\n",
       "    </tr>\n",
       "    <tr>\n",
       "      <th>3</th>\n",
       "      <td>Organic Search</td>\n",
       "      <td>[{'index': '4', 'value': 'EMEA'}]</td>\n",
       "      <td>20171016</td>\n",
       "      <td>9075655783635761930</td>\n",
       "      <td>Not Socially Engaged</td>\n",
       "      <td>1508169851</td>\n",
       "      <td>1</td>\n",
       "      <td>1508169851</td>\n",
       "      <td>Chrome</td>\n",
       "      <td>not available in demo dataset</td>\n",
       "      <td>...</td>\n",
       "      <td>NaN</td>\n",
       "      <td>(not set)</td>\n",
       "      <td>google</td>\n",
       "      <td>organic</td>\n",
       "      <td>(not provided)</td>\n",
       "      <td>{'criteriaParameters': 'not available in demo ...</td>\n",
       "      <td>NaN</td>\n",
       "      <td>NaN</td>\n",
       "      <td>NaN</td>\n",
       "      <td>NaN</td>\n",
       "    </tr>\n",
       "    <tr>\n",
       "      <th>4</th>\n",
       "      <td>Organic Search</td>\n",
       "      <td>[{'index': '4', 'value': 'Central America'}]</td>\n",
       "      <td>20171016</td>\n",
       "      <td>6960673291025684308</td>\n",
       "      <td>Not Socially Engaged</td>\n",
       "      <td>1508190552</td>\n",
       "      <td>1</td>\n",
       "      <td>1508190552</td>\n",
       "      <td>Chrome</td>\n",
       "      <td>not available in demo dataset</td>\n",
       "      <td>...</td>\n",
       "      <td>NaN</td>\n",
       "      <td>(not set)</td>\n",
       "      <td>google</td>\n",
       "      <td>organic</td>\n",
       "      <td>(not provided)</td>\n",
       "      <td>{'criteriaParameters': 'not available in demo ...</td>\n",
       "      <td>NaN</td>\n",
       "      <td>NaN</td>\n",
       "      <td>NaN</td>\n",
       "      <td>NaN</td>\n",
       "    </tr>\n",
       "  </tbody>\n",
       "</table>\n",
       "<p>5 rows × 54 columns</p>\n",
       "</div>"
      ],
      "text/plain": [
       "  channelGrouping                              customDimensions      date  \\\n",
       "0  Organic Search             [{'index': '4', 'value': 'EMEA'}]  20171016   \n",
       "1        Referral    [{'index': '4', 'value': 'North America'}]  20171016   \n",
       "2          Direct    [{'index': '4', 'value': 'North America'}]  20171016   \n",
       "3  Organic Search             [{'index': '4', 'value': 'EMEA'}]  20171016   \n",
       "4  Organic Search  [{'index': '4', 'value': 'Central America'}]  20171016   \n",
       "\n",
       "         fullVisitorId  socialEngagementType     visitId  visitNumber  \\\n",
       "0  3162355547410993243  Not Socially Engaged  1508198450            1   \n",
       "1  8934116514970143966  Not Socially Engaged  1508176307            6   \n",
       "2  7992466427990357681  Not Socially Engaged  1508201613            1   \n",
       "3  9075655783635761930  Not Socially Engaged  1508169851            1   \n",
       "4  6960673291025684308  Not Socially Engaged  1508190552            1   \n",
       "\n",
       "   visitStartTime  browser                 browserVersion     ...       \\\n",
       "0      1508198450  Firefox  not available in demo dataset     ...        \n",
       "1      1508176307   Chrome  not available in demo dataset     ...        \n",
       "2      1508201613   Chrome  not available in demo dataset     ...        \n",
       "3      1508169851   Chrome  not available in demo dataset     ...        \n",
       "4      1508190552   Chrome  not available in demo dataset     ...        \n",
       "\n",
       "  totalTransactionRevenue   campaign            source    medium  \\\n",
       "0                     NaN  (not set)            google   organic   \n",
       "1                     NaN  (not set)  sites.google.com  referral   \n",
       "2                     NaN  (not set)          (direct)    (none)   \n",
       "3                     NaN  (not set)            google   organic   \n",
       "4                     NaN  (not set)            google   organic   \n",
       "\n",
       "          keyword                                   adwordsClickInfo  \\\n",
       "0    water bottle  {'criteriaParameters': 'not available in demo ...   \n",
       "1             NaN  {'criteriaParameters': 'not available in demo ...   \n",
       "2             NaN  {'criteriaParameters': 'not available in demo ...   \n",
       "3  (not provided)  {'criteriaParameters': 'not available in demo ...   \n",
       "4  (not provided)  {'criteriaParameters': 'not available in demo ...   \n",
       "\n",
       "                                        referralPath isTrueDirect adContent  \\\n",
       "0                                                NaN          NaN       NaN   \n",
       "1  /a/google.com/transportation/mtv-services/bike...          NaN       NaN   \n",
       "2                                                NaN         True       NaN   \n",
       "3                                                NaN          NaN       NaN   \n",
       "4                                                NaN          NaN       NaN   \n",
       "\n",
       "  campaignCode  \n",
       "0          NaN  \n",
       "1          NaN  \n",
       "2          NaN  \n",
       "3          NaN  \n",
       "4          NaN  \n",
       "\n",
       "[5 rows x 54 columns]"
      ]
     },
     "execution_count": 36,
     "metadata": {},
     "output_type": "execute_result"
    }
   ],
   "source": [
    "df.head()"
   ]
  },
  {
   "cell_type": "code",
   "execution_count": 42,
   "metadata": {},
   "outputs": [
    {
     "data": {
      "text/plain": [
       "['channelGrouping',\n",
       " 'customDimensions',\n",
       " 'date',\n",
       " 'device',\n",
       " 'fullVisitorId',\n",
       " 'geoNetwork',\n",
       " 'hits',\n",
       " 'socialEngagementType',\n",
       " 'totals',\n",
       " 'trafficSource',\n",
       " 'visitId',\n",
       " 'visitNumber',\n",
       " 'visitStartTime']"
      ]
     },
     "execution_count": 42,
     "metadata": {},
     "output_type": "execute_result"
    }
   ],
   "source": [
    "one_row"
   ]
  },
  {
   "cell_type": "code",
   "execution_count": 57,
   "metadata": {},
   "outputs": [],
   "source": [
    "first_row = pd.read_csv(\"train_v2.csv\", nrows=1, skiprows=no_of_rows, header=None, names=one_row)"
   ]
  },
  {
   "cell_type": "code",
   "execution_count": 58,
   "metadata": {},
   "outputs": [
    {
     "data": {
      "text/html": [
       "<div>\n",
       "<style scoped>\n",
       "    .dataframe tbody tr th:only-of-type {\n",
       "        vertical-align: middle;\n",
       "    }\n",
       "\n",
       "    .dataframe tbody tr th {\n",
       "        vertical-align: top;\n",
       "    }\n",
       "\n",
       "    .dataframe thead th {\n",
       "        text-align: right;\n",
       "    }\n",
       "</style>\n",
       "<table border=\"1\" class=\"dataframe\">\n",
       "  <thead>\n",
       "    <tr style=\"text-align: right;\">\n",
       "      <th></th>\n",
       "      <th>channelGrouping</th>\n",
       "      <th>customDimensions</th>\n",
       "      <th>date</th>\n",
       "      <th>device</th>\n",
       "      <th>fullVisitorId</th>\n",
       "      <th>geoNetwork</th>\n",
       "      <th>hits</th>\n",
       "      <th>socialEngagementType</th>\n",
       "      <th>totals</th>\n",
       "      <th>trafficSource</th>\n",
       "      <th>visitId</th>\n",
       "      <th>visitNumber</th>\n",
       "      <th>visitStartTime</th>\n",
       "    </tr>\n",
       "  </thead>\n",
       "  <tbody>\n",
       "    <tr>\n",
       "      <th>0</th>\n",
       "      <td>Organic Search</td>\n",
       "      <td>[{'index': '4', 'value': 'North America'}]</td>\n",
       "      <td>20171005</td>\n",
       "      <td>{\"browser\": \"Chrome\", \"browserVersion\": \"not a...</td>\n",
       "      <td>7779444718212527610</td>\n",
       "      <td>{\"continent\": \"Americas\", \"subContinent\": \"Nor...</td>\n",
       "      <td>[{'hitNumber': '1', 'time': '0', 'hour': '17',...</td>\n",
       "      <td>Not Socially Engaged</td>\n",
       "      <td>{\"visits\": \"1\", \"hits\": \"5\", \"pageviews\": \"5\",...</td>\n",
       "      <td>{\"campaign\": \"(not set)\", \"source\": \"google\", ...</td>\n",
       "      <td>1507250518</td>\n",
       "      <td>2</td>\n",
       "      <td>1507250518</td>\n",
       "    </tr>\n",
       "  </tbody>\n",
       "</table>\n",
       "</div>"
      ],
      "text/plain": [
       "  channelGrouping                            customDimensions      date  \\\n",
       "0  Organic Search  [{'index': '4', 'value': 'North America'}]  20171005   \n",
       "\n",
       "                                              device        fullVisitorId  \\\n",
       "0  {\"browser\": \"Chrome\", \"browserVersion\": \"not a...  7779444718212527610   \n",
       "\n",
       "                                          geoNetwork  \\\n",
       "0  {\"continent\": \"Americas\", \"subContinent\": \"Nor...   \n",
       "\n",
       "                                                hits  socialEngagementType  \\\n",
       "0  [{'hitNumber': '1', 'time': '0', 'hour': '17',...  Not Socially Engaged   \n",
       "\n",
       "                                              totals  \\\n",
       "0  {\"visits\": \"1\", \"hits\": \"5\", \"pageviews\": \"5\",...   \n",
       "\n",
       "                                       trafficSource     visitId  visitNumber  \\\n",
       "0  {\"campaign\": \"(not set)\", \"source\": \"google\", ...  1507250518            2   \n",
       "\n",
       "   visitStartTime  \n",
       "0      1507250518  "
      ]
     },
     "execution_count": 58,
     "metadata": {},
     "output_type": "execute_result"
    }
   ],
   "source": [
    "first_row"
   ]
  },
  {
   "cell_type": "code",
   "execution_count": 6,
   "metadata": {},
   "outputs": [
    {
     "name": "stdout",
     "output_type": "stream",
     "text": [
      "CPU times: user 33.1 s, sys: 4.48 s, total: 37.6 s\n",
      "Wall time: 53.4 s\n"
     ]
    }
   ],
   "source": [
    "%%time \n",
    "no_of_rows = 803178\n",
    "# converter applies a converter function while you are loading the data, you are loading it as\n",
    "# json.loadstring = json.loads() for each of those columns in the list\n",
    "train_set = pd.read_csv(\"train_v2.csv\",header=None, names=one_row, usecols=[i for i in one_row if i!= 'hits'], dtype={'fullVisitorId': 'str'}, skiprows= no_of_rows)"
   ]
  },
  {
   "cell_type": "code",
   "execution_count": 7,
   "metadata": {},
   "outputs": [
    {
     "data": {
      "text/html": [
       "<div>\n",
       "<style scoped>\n",
       "    .dataframe tbody tr th:only-of-type {\n",
       "        vertical-align: middle;\n",
       "    }\n",
       "\n",
       "    .dataframe tbody tr th {\n",
       "        vertical-align: top;\n",
       "    }\n",
       "\n",
       "    .dataframe thead th {\n",
       "        text-align: right;\n",
       "    }\n",
       "</style>\n",
       "<table border=\"1\" class=\"dataframe\">\n",
       "  <thead>\n",
       "    <tr style=\"text-align: right;\">\n",
       "      <th></th>\n",
       "      <th>channelGrouping</th>\n",
       "      <th>customDimensions</th>\n",
       "      <th>date</th>\n",
       "      <th>device</th>\n",
       "      <th>fullVisitorId</th>\n",
       "      <th>geoNetwork</th>\n",
       "      <th>socialEngagementType</th>\n",
       "      <th>totals</th>\n",
       "      <th>trafficSource</th>\n",
       "      <th>visitId</th>\n",
       "      <th>visitNumber</th>\n",
       "      <th>visitStartTime</th>\n",
       "    </tr>\n",
       "  </thead>\n",
       "  <tbody>\n",
       "    <tr>\n",
       "      <th>0</th>\n",
       "      <td>Organic Search</td>\n",
       "      <td>[{'index': '4', 'value': 'North America'}]</td>\n",
       "      <td>20171005</td>\n",
       "      <td>{\"browser\": \"Chrome\", \"browserVersion\": \"not a...</td>\n",
       "      <td>7779444718212527610</td>\n",
       "      <td>{\"continent\": \"Americas\", \"subContinent\": \"Nor...</td>\n",
       "      <td>Not Socially Engaged</td>\n",
       "      <td>{\"visits\": \"1\", \"hits\": \"5\", \"pageviews\": \"5\",...</td>\n",
       "      <td>{\"campaign\": \"(not set)\", \"source\": \"google\", ...</td>\n",
       "      <td>1507250518</td>\n",
       "      <td>2</td>\n",
       "      <td>1507250518</td>\n",
       "    </tr>\n",
       "    <tr>\n",
       "      <th>1</th>\n",
       "      <td>Organic Search</td>\n",
       "      <td>[{'index': '4', 'value': 'North America'}]</td>\n",
       "      <td>20171005</td>\n",
       "      <td>{\"browser\": \"Safari\", \"browserVersion\": \"not a...</td>\n",
       "      <td>8127326206655250634</td>\n",
       "      <td>{\"continent\": \"Americas\", \"subContinent\": \"Nor...</td>\n",
       "      <td>Not Socially Engaged</td>\n",
       "      <td>{\"visits\": \"1\", \"hits\": \"6\", \"pageviews\": \"6\",...</td>\n",
       "      <td>{\"campaign\": \"(not set)\", \"source\": \"google\", ...</td>\n",
       "      <td>1507250122</td>\n",
       "      <td>1</td>\n",
       "      <td>1507250122</td>\n",
       "    </tr>\n",
       "    <tr>\n",
       "      <th>2</th>\n",
       "      <td>Organic Search</td>\n",
       "      <td>[{'index': '4', 'value': 'North America'}]</td>\n",
       "      <td>20171005</td>\n",
       "      <td>{\"browser\": \"Chrome\", \"browserVersion\": \"not a...</td>\n",
       "      <td>8512418246113365791</td>\n",
       "      <td>{\"continent\": \"Americas\", \"subContinent\": \"Nor...</td>\n",
       "      <td>Not Socially Engaged</td>\n",
       "      <td>{\"visits\": \"1\", \"hits\": \"6\", \"pageviews\": \"6\",...</td>\n",
       "      <td>{\"campaign\": \"(not set)\", \"source\": \"google\", ...</td>\n",
       "      <td>1507237813</td>\n",
       "      <td>1</td>\n",
       "      <td>1507237813</td>\n",
       "    </tr>\n",
       "    <tr>\n",
       "      <th>3</th>\n",
       "      <td>Organic Search</td>\n",
       "      <td>[{'index': '4', 'value': 'North America'}]</td>\n",
       "      <td>20171005</td>\n",
       "      <td>{\"browser\": \"Chrome\", \"browserVersion\": \"not a...</td>\n",
       "      <td>4331867527339252882</td>\n",
       "      <td>{\"continent\": \"Americas\", \"subContinent\": \"Nor...</td>\n",
       "      <td>Not Socially Engaged</td>\n",
       "      <td>{\"visits\": \"1\", \"hits\": \"6\", \"pageviews\": \"6\",...</td>\n",
       "      <td>{\"campaign\": \"(not set)\", \"source\": \"google\", ...</td>\n",
       "      <td>1507250491</td>\n",
       "      <td>1</td>\n",
       "      <td>1507250491</td>\n",
       "    </tr>\n",
       "    <tr>\n",
       "      <th>4</th>\n",
       "      <td>Organic Search</td>\n",
       "      <td>[{'index': '4', 'value': 'North America'}]</td>\n",
       "      <td>20171005</td>\n",
       "      <td>{\"browser\": \"Safari\", \"browserVersion\": \"not a...</td>\n",
       "      <td>6311336399415104146</td>\n",
       "      <td>{\"continent\": \"Americas\", \"subContinent\": \"Nor...</td>\n",
       "      <td>Not Socially Engaged</td>\n",
       "      <td>{\"visits\": \"1\", \"hits\": \"8\", \"pageviews\": \"8\",...</td>\n",
       "      <td>{\"campaign\": \"(not set)\", \"source\": \"google\", ...</td>\n",
       "      <td>1507243409</td>\n",
       "      <td>1</td>\n",
       "      <td>1507243409</td>\n",
       "    </tr>\n",
       "  </tbody>\n",
       "</table>\n",
       "</div>"
      ],
      "text/plain": [
       "  channelGrouping                            customDimensions      date  \\\n",
       "0  Organic Search  [{'index': '4', 'value': 'North America'}]  20171005   \n",
       "1  Organic Search  [{'index': '4', 'value': 'North America'}]  20171005   \n",
       "2  Organic Search  [{'index': '4', 'value': 'North America'}]  20171005   \n",
       "3  Organic Search  [{'index': '4', 'value': 'North America'}]  20171005   \n",
       "4  Organic Search  [{'index': '4', 'value': 'North America'}]  20171005   \n",
       "\n",
       "                                              device        fullVisitorId  \\\n",
       "0  {\"browser\": \"Chrome\", \"browserVersion\": \"not a...  7779444718212527610   \n",
       "1  {\"browser\": \"Safari\", \"browserVersion\": \"not a...  8127326206655250634   \n",
       "2  {\"browser\": \"Chrome\", \"browserVersion\": \"not a...  8512418246113365791   \n",
       "3  {\"browser\": \"Chrome\", \"browserVersion\": \"not a...  4331867527339252882   \n",
       "4  {\"browser\": \"Safari\", \"browserVersion\": \"not a...  6311336399415104146   \n",
       "\n",
       "                                          geoNetwork  socialEngagementType  \\\n",
       "0  {\"continent\": \"Americas\", \"subContinent\": \"Nor...  Not Socially Engaged   \n",
       "1  {\"continent\": \"Americas\", \"subContinent\": \"Nor...  Not Socially Engaged   \n",
       "2  {\"continent\": \"Americas\", \"subContinent\": \"Nor...  Not Socially Engaged   \n",
       "3  {\"continent\": \"Americas\", \"subContinent\": \"Nor...  Not Socially Engaged   \n",
       "4  {\"continent\": \"Americas\", \"subContinent\": \"Nor...  Not Socially Engaged   \n",
       "\n",
       "                                              totals  \\\n",
       "0  {\"visits\": \"1\", \"hits\": \"5\", \"pageviews\": \"5\",...   \n",
       "1  {\"visits\": \"1\", \"hits\": \"6\", \"pageviews\": \"6\",...   \n",
       "2  {\"visits\": \"1\", \"hits\": \"6\", \"pageviews\": \"6\",...   \n",
       "3  {\"visits\": \"1\", \"hits\": \"6\", \"pageviews\": \"6\",...   \n",
       "4  {\"visits\": \"1\", \"hits\": \"8\", \"pageviews\": \"8\",...   \n",
       "\n",
       "                                       trafficSource     visitId  visitNumber  \\\n",
       "0  {\"campaign\": \"(not set)\", \"source\": \"google\", ...  1507250518            2   \n",
       "1  {\"campaign\": \"(not set)\", \"source\": \"google\", ...  1507250122            1   \n",
       "2  {\"campaign\": \"(not set)\", \"source\": \"google\", ...  1507237813            1   \n",
       "3  {\"campaign\": \"(not set)\", \"source\": \"google\", ...  1507250491            1   \n",
       "4  {\"campaign\": \"(not set)\", \"source\": \"google\", ...  1507243409            1   \n",
       "\n",
       "   visitStartTime  \n",
       "0      1507250518  \n",
       "1      1507250122  \n",
       "2      1507237813  \n",
       "3      1507250491  \n",
       "4      1507243409  "
      ]
     },
     "execution_count": 7,
     "metadata": {},
     "output_type": "execute_result"
    }
   ],
   "source": [
    "train_set.head()"
   ]
  },
  {
   "cell_type": "code",
   "execution_count": 8,
   "metadata": {},
   "outputs": [
    {
     "data": {
      "text/plain": [
       "(905160, 12)"
      ]
     },
     "execution_count": 8,
     "metadata": {},
     "output_type": "execute_result"
    }
   ],
   "source": [
    "train_set.shape"
   ]
  },
  {
   "cell_type": "code",
   "execution_count": 9,
   "metadata": {},
   "outputs": [
    {
     "name": "stdout",
     "output_type": "stream",
     "text": [
      "CPU times: user 2min 43s, sys: 2.53 s, total: 2min 46s\n",
      "Wall time: 2min 46s\n"
     ]
    }
   ],
   "source": [
    "%%time\n",
    "train_set = train_set.join(train_set[\"device\"].apply(json.loads).apply(pd.Series))"
   ]
  },
  {
   "cell_type": "code",
   "execution_count": 10,
   "metadata": {},
   "outputs": [
    {
     "data": {
      "text/html": [
       "<div>\n",
       "<style scoped>\n",
       "    .dataframe tbody tr th:only-of-type {\n",
       "        vertical-align: middle;\n",
       "    }\n",
       "\n",
       "    .dataframe tbody tr th {\n",
       "        vertical-align: top;\n",
       "    }\n",
       "\n",
       "    .dataframe thead th {\n",
       "        text-align: right;\n",
       "    }\n",
       "</style>\n",
       "<table border=\"1\" class=\"dataframe\">\n",
       "  <thead>\n",
       "    <tr style=\"text-align: right;\">\n",
       "      <th></th>\n",
       "      <th>channelGrouping</th>\n",
       "      <th>customDimensions</th>\n",
       "      <th>date</th>\n",
       "      <th>device</th>\n",
       "      <th>fullVisitorId</th>\n",
       "      <th>geoNetwork</th>\n",
       "      <th>socialEngagementType</th>\n",
       "      <th>totals</th>\n",
       "      <th>trafficSource</th>\n",
       "      <th>visitId</th>\n",
       "      <th>...</th>\n",
       "      <th>mobileDeviceBranding</th>\n",
       "      <th>mobileDeviceModel</th>\n",
       "      <th>mobileInputSelector</th>\n",
       "      <th>mobileDeviceInfo</th>\n",
       "      <th>mobileDeviceMarketingName</th>\n",
       "      <th>flashVersion</th>\n",
       "      <th>language</th>\n",
       "      <th>screenColors</th>\n",
       "      <th>screenResolution</th>\n",
       "      <th>deviceCategory</th>\n",
       "    </tr>\n",
       "  </thead>\n",
       "  <tbody>\n",
       "    <tr>\n",
       "      <th>0</th>\n",
       "      <td>Organic Search</td>\n",
       "      <td>[{'index': '4', 'value': 'North America'}]</td>\n",
       "      <td>20171005</td>\n",
       "      <td>{\"browser\": \"Chrome\", \"browserVersion\": \"not a...</td>\n",
       "      <td>7779444718212527610</td>\n",
       "      <td>{\"continent\": \"Americas\", \"subContinent\": \"Nor...</td>\n",
       "      <td>Not Socially Engaged</td>\n",
       "      <td>{\"visits\": \"1\", \"hits\": \"5\", \"pageviews\": \"5\",...</td>\n",
       "      <td>{\"campaign\": \"(not set)\", \"source\": \"google\", ...</td>\n",
       "      <td>1507250518</td>\n",
       "      <td>...</td>\n",
       "      <td>not available in demo dataset</td>\n",
       "      <td>not available in demo dataset</td>\n",
       "      <td>not available in demo dataset</td>\n",
       "      <td>not available in demo dataset</td>\n",
       "      <td>not available in demo dataset</td>\n",
       "      <td>not available in demo dataset</td>\n",
       "      <td>not available in demo dataset</td>\n",
       "      <td>not available in demo dataset</td>\n",
       "      <td>not available in demo dataset</td>\n",
       "      <td>mobile</td>\n",
       "    </tr>\n",
       "    <tr>\n",
       "      <th>1</th>\n",
       "      <td>Organic Search</td>\n",
       "      <td>[{'index': '4', 'value': 'North America'}]</td>\n",
       "      <td>20171005</td>\n",
       "      <td>{\"browser\": \"Safari\", \"browserVersion\": \"not a...</td>\n",
       "      <td>8127326206655250634</td>\n",
       "      <td>{\"continent\": \"Americas\", \"subContinent\": \"Nor...</td>\n",
       "      <td>Not Socially Engaged</td>\n",
       "      <td>{\"visits\": \"1\", \"hits\": \"6\", \"pageviews\": \"6\",...</td>\n",
       "      <td>{\"campaign\": \"(not set)\", \"source\": \"google\", ...</td>\n",
       "      <td>1507250122</td>\n",
       "      <td>...</td>\n",
       "      <td>not available in demo dataset</td>\n",
       "      <td>not available in demo dataset</td>\n",
       "      <td>not available in demo dataset</td>\n",
       "      <td>not available in demo dataset</td>\n",
       "      <td>not available in demo dataset</td>\n",
       "      <td>not available in demo dataset</td>\n",
       "      <td>not available in demo dataset</td>\n",
       "      <td>not available in demo dataset</td>\n",
       "      <td>not available in demo dataset</td>\n",
       "      <td>tablet</td>\n",
       "    </tr>\n",
       "    <tr>\n",
       "      <th>2</th>\n",
       "      <td>Organic Search</td>\n",
       "      <td>[{'index': '4', 'value': 'North America'}]</td>\n",
       "      <td>20171005</td>\n",
       "      <td>{\"browser\": \"Chrome\", \"browserVersion\": \"not a...</td>\n",
       "      <td>8512418246113365791</td>\n",
       "      <td>{\"continent\": \"Americas\", \"subContinent\": \"Nor...</td>\n",
       "      <td>Not Socially Engaged</td>\n",
       "      <td>{\"visits\": \"1\", \"hits\": \"6\", \"pageviews\": \"6\",...</td>\n",
       "      <td>{\"campaign\": \"(not set)\", \"source\": \"google\", ...</td>\n",
       "      <td>1507237813</td>\n",
       "      <td>...</td>\n",
       "      <td>not available in demo dataset</td>\n",
       "      <td>not available in demo dataset</td>\n",
       "      <td>not available in demo dataset</td>\n",
       "      <td>not available in demo dataset</td>\n",
       "      <td>not available in demo dataset</td>\n",
       "      <td>not available in demo dataset</td>\n",
       "      <td>not available in demo dataset</td>\n",
       "      <td>not available in demo dataset</td>\n",
       "      <td>not available in demo dataset</td>\n",
       "      <td>desktop</td>\n",
       "    </tr>\n",
       "    <tr>\n",
       "      <th>3</th>\n",
       "      <td>Organic Search</td>\n",
       "      <td>[{'index': '4', 'value': 'North America'}]</td>\n",
       "      <td>20171005</td>\n",
       "      <td>{\"browser\": \"Chrome\", \"browserVersion\": \"not a...</td>\n",
       "      <td>4331867527339252882</td>\n",
       "      <td>{\"continent\": \"Americas\", \"subContinent\": \"Nor...</td>\n",
       "      <td>Not Socially Engaged</td>\n",
       "      <td>{\"visits\": \"1\", \"hits\": \"6\", \"pageviews\": \"6\",...</td>\n",
       "      <td>{\"campaign\": \"(not set)\", \"source\": \"google\", ...</td>\n",
       "      <td>1507250491</td>\n",
       "      <td>...</td>\n",
       "      <td>not available in demo dataset</td>\n",
       "      <td>not available in demo dataset</td>\n",
       "      <td>not available in demo dataset</td>\n",
       "      <td>not available in demo dataset</td>\n",
       "      <td>not available in demo dataset</td>\n",
       "      <td>not available in demo dataset</td>\n",
       "      <td>not available in demo dataset</td>\n",
       "      <td>not available in demo dataset</td>\n",
       "      <td>not available in demo dataset</td>\n",
       "      <td>mobile</td>\n",
       "    </tr>\n",
       "    <tr>\n",
       "      <th>4</th>\n",
       "      <td>Organic Search</td>\n",
       "      <td>[{'index': '4', 'value': 'North America'}]</td>\n",
       "      <td>20171005</td>\n",
       "      <td>{\"browser\": \"Safari\", \"browserVersion\": \"not a...</td>\n",
       "      <td>6311336399415104146</td>\n",
       "      <td>{\"continent\": \"Americas\", \"subContinent\": \"Nor...</td>\n",
       "      <td>Not Socially Engaged</td>\n",
       "      <td>{\"visits\": \"1\", \"hits\": \"8\", \"pageviews\": \"8\",...</td>\n",
       "      <td>{\"campaign\": \"(not set)\", \"source\": \"google\", ...</td>\n",
       "      <td>1507243409</td>\n",
       "      <td>...</td>\n",
       "      <td>not available in demo dataset</td>\n",
       "      <td>not available in demo dataset</td>\n",
       "      <td>not available in demo dataset</td>\n",
       "      <td>not available in demo dataset</td>\n",
       "      <td>not available in demo dataset</td>\n",
       "      <td>not available in demo dataset</td>\n",
       "      <td>not available in demo dataset</td>\n",
       "      <td>not available in demo dataset</td>\n",
       "      <td>not available in demo dataset</td>\n",
       "      <td>mobile</td>\n",
       "    </tr>\n",
       "  </tbody>\n",
       "</table>\n",
       "<p>5 rows × 28 columns</p>\n",
       "</div>"
      ],
      "text/plain": [
       "  channelGrouping                            customDimensions      date  \\\n",
       "0  Organic Search  [{'index': '4', 'value': 'North America'}]  20171005   \n",
       "1  Organic Search  [{'index': '4', 'value': 'North America'}]  20171005   \n",
       "2  Organic Search  [{'index': '4', 'value': 'North America'}]  20171005   \n",
       "3  Organic Search  [{'index': '4', 'value': 'North America'}]  20171005   \n",
       "4  Organic Search  [{'index': '4', 'value': 'North America'}]  20171005   \n",
       "\n",
       "                                              device        fullVisitorId  \\\n",
       "0  {\"browser\": \"Chrome\", \"browserVersion\": \"not a...  7779444718212527610   \n",
       "1  {\"browser\": \"Safari\", \"browserVersion\": \"not a...  8127326206655250634   \n",
       "2  {\"browser\": \"Chrome\", \"browserVersion\": \"not a...  8512418246113365791   \n",
       "3  {\"browser\": \"Chrome\", \"browserVersion\": \"not a...  4331867527339252882   \n",
       "4  {\"browser\": \"Safari\", \"browserVersion\": \"not a...  6311336399415104146   \n",
       "\n",
       "                                          geoNetwork  socialEngagementType  \\\n",
       "0  {\"continent\": \"Americas\", \"subContinent\": \"Nor...  Not Socially Engaged   \n",
       "1  {\"continent\": \"Americas\", \"subContinent\": \"Nor...  Not Socially Engaged   \n",
       "2  {\"continent\": \"Americas\", \"subContinent\": \"Nor...  Not Socially Engaged   \n",
       "3  {\"continent\": \"Americas\", \"subContinent\": \"Nor...  Not Socially Engaged   \n",
       "4  {\"continent\": \"Americas\", \"subContinent\": \"Nor...  Not Socially Engaged   \n",
       "\n",
       "                                              totals  \\\n",
       "0  {\"visits\": \"1\", \"hits\": \"5\", \"pageviews\": \"5\",...   \n",
       "1  {\"visits\": \"1\", \"hits\": \"6\", \"pageviews\": \"6\",...   \n",
       "2  {\"visits\": \"1\", \"hits\": \"6\", \"pageviews\": \"6\",...   \n",
       "3  {\"visits\": \"1\", \"hits\": \"6\", \"pageviews\": \"6\",...   \n",
       "4  {\"visits\": \"1\", \"hits\": \"8\", \"pageviews\": \"8\",...   \n",
       "\n",
       "                                       trafficSource     visitId  \\\n",
       "0  {\"campaign\": \"(not set)\", \"source\": \"google\", ...  1507250518   \n",
       "1  {\"campaign\": \"(not set)\", \"source\": \"google\", ...  1507250122   \n",
       "2  {\"campaign\": \"(not set)\", \"source\": \"google\", ...  1507237813   \n",
       "3  {\"campaign\": \"(not set)\", \"source\": \"google\", ...  1507250491   \n",
       "4  {\"campaign\": \"(not set)\", \"source\": \"google\", ...  1507243409   \n",
       "\n",
       "       ...                 mobileDeviceBranding  \\\n",
       "0      ...        not available in demo dataset   \n",
       "1      ...        not available in demo dataset   \n",
       "2      ...        not available in demo dataset   \n",
       "3      ...        not available in demo dataset   \n",
       "4      ...        not available in demo dataset   \n",
       "\n",
       "               mobileDeviceModel            mobileInputSelector  \\\n",
       "0  not available in demo dataset  not available in demo dataset   \n",
       "1  not available in demo dataset  not available in demo dataset   \n",
       "2  not available in demo dataset  not available in demo dataset   \n",
       "3  not available in demo dataset  not available in demo dataset   \n",
       "4  not available in demo dataset  not available in demo dataset   \n",
       "\n",
       "                mobileDeviceInfo      mobileDeviceMarketingName  \\\n",
       "0  not available in demo dataset  not available in demo dataset   \n",
       "1  not available in demo dataset  not available in demo dataset   \n",
       "2  not available in demo dataset  not available in demo dataset   \n",
       "3  not available in demo dataset  not available in demo dataset   \n",
       "4  not available in demo dataset  not available in demo dataset   \n",
       "\n",
       "                    flashVersion                       language  \\\n",
       "0  not available in demo dataset  not available in demo dataset   \n",
       "1  not available in demo dataset  not available in demo dataset   \n",
       "2  not available in demo dataset  not available in demo dataset   \n",
       "3  not available in demo dataset  not available in demo dataset   \n",
       "4  not available in demo dataset  not available in demo dataset   \n",
       "\n",
       "                    screenColors               screenResolution deviceCategory  \n",
       "0  not available in demo dataset  not available in demo dataset         mobile  \n",
       "1  not available in demo dataset  not available in demo dataset         tablet  \n",
       "2  not available in demo dataset  not available in demo dataset        desktop  \n",
       "3  not available in demo dataset  not available in demo dataset         mobile  \n",
       "4  not available in demo dataset  not available in demo dataset         mobile  \n",
       "\n",
       "[5 rows x 28 columns]"
      ]
     },
     "execution_count": 10,
     "metadata": {},
     "output_type": "execute_result"
    }
   ],
   "source": [
    "train_set.head()"
   ]
  },
  {
   "cell_type": "code",
   "execution_count": 11,
   "metadata": {},
   "outputs": [
    {
     "name": "stdout",
     "output_type": "stream",
     "text": [
      "CPU times: user 2min 55s, sys: 778 ms, total: 2min 56s\n",
      "Wall time: 2min 55s\n"
     ]
    }
   ],
   "source": [
    "%%time \n",
    "train_set = train_set.join(train_set[\"geoNetwork\"].apply(json.loads).apply(pd.Series))"
   ]
  },
  {
   "cell_type": "code",
   "execution_count": 12,
   "metadata": {},
   "outputs": [
    {
     "data": {
      "text/html": [
       "<div>\n",
       "<style scoped>\n",
       "    .dataframe tbody tr th:only-of-type {\n",
       "        vertical-align: middle;\n",
       "    }\n",
       "\n",
       "    .dataframe tbody tr th {\n",
       "        vertical-align: top;\n",
       "    }\n",
       "\n",
       "    .dataframe thead th {\n",
       "        text-align: right;\n",
       "    }\n",
       "</style>\n",
       "<table border=\"1\" class=\"dataframe\">\n",
       "  <thead>\n",
       "    <tr style=\"text-align: right;\">\n",
       "      <th></th>\n",
       "      <th>channelGrouping</th>\n",
       "      <th>customDimensions</th>\n",
       "      <th>date</th>\n",
       "      <th>device</th>\n",
       "      <th>fullVisitorId</th>\n",
       "      <th>geoNetwork</th>\n",
       "      <th>socialEngagementType</th>\n",
       "      <th>totals</th>\n",
       "      <th>trafficSource</th>\n",
       "      <th>visitId</th>\n",
       "      <th>...</th>\n",
       "      <th>subContinent</th>\n",
       "      <th>country</th>\n",
       "      <th>region</th>\n",
       "      <th>metro</th>\n",
       "      <th>city</th>\n",
       "      <th>cityId</th>\n",
       "      <th>networkDomain</th>\n",
       "      <th>latitude</th>\n",
       "      <th>longitude</th>\n",
       "      <th>networkLocation</th>\n",
       "    </tr>\n",
       "  </thead>\n",
       "  <tbody>\n",
       "    <tr>\n",
       "      <th>0</th>\n",
       "      <td>Organic Search</td>\n",
       "      <td>[{'index': '4', 'value': 'North America'}]</td>\n",
       "      <td>20171005</td>\n",
       "      <td>{\"browser\": \"Chrome\", \"browserVersion\": \"not a...</td>\n",
       "      <td>7779444718212527610</td>\n",
       "      <td>{\"continent\": \"Americas\", \"subContinent\": \"Nor...</td>\n",
       "      <td>Not Socially Engaged</td>\n",
       "      <td>{\"visits\": \"1\", \"hits\": \"5\", \"pageviews\": \"5\",...</td>\n",
       "      <td>{\"campaign\": \"(not set)\", \"source\": \"google\", ...</td>\n",
       "      <td>1507250518</td>\n",
       "      <td>...</td>\n",
       "      <td>Northern America</td>\n",
       "      <td>United States</td>\n",
       "      <td>not available in demo dataset</td>\n",
       "      <td>not available in demo dataset</td>\n",
       "      <td>not available in demo dataset</td>\n",
       "      <td>not available in demo dataset</td>\n",
       "      <td>spcsdns.net</td>\n",
       "      <td>not available in demo dataset</td>\n",
       "      <td>not available in demo dataset</td>\n",
       "      <td>not available in demo dataset</td>\n",
       "    </tr>\n",
       "    <tr>\n",
       "      <th>1</th>\n",
       "      <td>Organic Search</td>\n",
       "      <td>[{'index': '4', 'value': 'North America'}]</td>\n",
       "      <td>20171005</td>\n",
       "      <td>{\"browser\": \"Safari\", \"browserVersion\": \"not a...</td>\n",
       "      <td>8127326206655250634</td>\n",
       "      <td>{\"continent\": \"Americas\", \"subContinent\": \"Nor...</td>\n",
       "      <td>Not Socially Engaged</td>\n",
       "      <td>{\"visits\": \"1\", \"hits\": \"6\", \"pageviews\": \"6\",...</td>\n",
       "      <td>{\"campaign\": \"(not set)\", \"source\": \"google\", ...</td>\n",
       "      <td>1507250122</td>\n",
       "      <td>...</td>\n",
       "      <td>Northern America</td>\n",
       "      <td>United States</td>\n",
       "      <td>not available in demo dataset</td>\n",
       "      <td>not available in demo dataset</td>\n",
       "      <td>not available in demo dataset</td>\n",
       "      <td>not available in demo dataset</td>\n",
       "      <td>(not set)</td>\n",
       "      <td>not available in demo dataset</td>\n",
       "      <td>not available in demo dataset</td>\n",
       "      <td>not available in demo dataset</td>\n",
       "    </tr>\n",
       "    <tr>\n",
       "      <th>2</th>\n",
       "      <td>Organic Search</td>\n",
       "      <td>[{'index': '4', 'value': 'North America'}]</td>\n",
       "      <td>20171005</td>\n",
       "      <td>{\"browser\": \"Chrome\", \"browserVersion\": \"not a...</td>\n",
       "      <td>8512418246113365791</td>\n",
       "      <td>{\"continent\": \"Americas\", \"subContinent\": \"Nor...</td>\n",
       "      <td>Not Socially Engaged</td>\n",
       "      <td>{\"visits\": \"1\", \"hits\": \"6\", \"pageviews\": \"6\",...</td>\n",
       "      <td>{\"campaign\": \"(not set)\", \"source\": \"google\", ...</td>\n",
       "      <td>1507237813</td>\n",
       "      <td>...</td>\n",
       "      <td>Northern America</td>\n",
       "      <td>Canada</td>\n",
       "      <td>British Columbia</td>\n",
       "      <td>(not set)</td>\n",
       "      <td>Vancouver</td>\n",
       "      <td>not available in demo dataset</td>\n",
       "      <td>bigpipeinc.com</td>\n",
       "      <td>not available in demo dataset</td>\n",
       "      <td>not available in demo dataset</td>\n",
       "      <td>not available in demo dataset</td>\n",
       "    </tr>\n",
       "    <tr>\n",
       "      <th>3</th>\n",
       "      <td>Organic Search</td>\n",
       "      <td>[{'index': '4', 'value': 'North America'}]</td>\n",
       "      <td>20171005</td>\n",
       "      <td>{\"browser\": \"Chrome\", \"browserVersion\": \"not a...</td>\n",
       "      <td>4331867527339252882</td>\n",
       "      <td>{\"continent\": \"Americas\", \"subContinent\": \"Nor...</td>\n",
       "      <td>Not Socially Engaged</td>\n",
       "      <td>{\"visits\": \"1\", \"hits\": \"6\", \"pageviews\": \"6\",...</td>\n",
       "      <td>{\"campaign\": \"(not set)\", \"source\": \"google\", ...</td>\n",
       "      <td>1507250491</td>\n",
       "      <td>...</td>\n",
       "      <td>Northern America</td>\n",
       "      <td>United States</td>\n",
       "      <td>not available in demo dataset</td>\n",
       "      <td>not available in demo dataset</td>\n",
       "      <td>not available in demo dataset</td>\n",
       "      <td>not available in demo dataset</td>\n",
       "      <td>(not set)</td>\n",
       "      <td>not available in demo dataset</td>\n",
       "      <td>not available in demo dataset</td>\n",
       "      <td>not available in demo dataset</td>\n",
       "    </tr>\n",
       "    <tr>\n",
       "      <th>4</th>\n",
       "      <td>Organic Search</td>\n",
       "      <td>[{'index': '4', 'value': 'North America'}]</td>\n",
       "      <td>20171005</td>\n",
       "      <td>{\"browser\": \"Safari\", \"browserVersion\": \"not a...</td>\n",
       "      <td>6311336399415104146</td>\n",
       "      <td>{\"continent\": \"Americas\", \"subContinent\": \"Nor...</td>\n",
       "      <td>Not Socially Engaged</td>\n",
       "      <td>{\"visits\": \"1\", \"hits\": \"8\", \"pageviews\": \"8\",...</td>\n",
       "      <td>{\"campaign\": \"(not set)\", \"source\": \"google\", ...</td>\n",
       "      <td>1507243409</td>\n",
       "      <td>...</td>\n",
       "      <td>Northern America</td>\n",
       "      <td>United States</td>\n",
       "      <td>California</td>\n",
       "      <td>San Francisco-Oakland-San Jose CA</td>\n",
       "      <td>Sunnyvale</td>\n",
       "      <td>not available in demo dataset</td>\n",
       "      <td>juniper.net</td>\n",
       "      <td>not available in demo dataset</td>\n",
       "      <td>not available in demo dataset</td>\n",
       "      <td>not available in demo dataset</td>\n",
       "    </tr>\n",
       "  </tbody>\n",
       "</table>\n",
       "<p>5 rows × 39 columns</p>\n",
       "</div>"
      ],
      "text/plain": [
       "  channelGrouping                            customDimensions      date  \\\n",
       "0  Organic Search  [{'index': '4', 'value': 'North America'}]  20171005   \n",
       "1  Organic Search  [{'index': '4', 'value': 'North America'}]  20171005   \n",
       "2  Organic Search  [{'index': '4', 'value': 'North America'}]  20171005   \n",
       "3  Organic Search  [{'index': '4', 'value': 'North America'}]  20171005   \n",
       "4  Organic Search  [{'index': '4', 'value': 'North America'}]  20171005   \n",
       "\n",
       "                                              device        fullVisitorId  \\\n",
       "0  {\"browser\": \"Chrome\", \"browserVersion\": \"not a...  7779444718212527610   \n",
       "1  {\"browser\": \"Safari\", \"browserVersion\": \"not a...  8127326206655250634   \n",
       "2  {\"browser\": \"Chrome\", \"browserVersion\": \"not a...  8512418246113365791   \n",
       "3  {\"browser\": \"Chrome\", \"browserVersion\": \"not a...  4331867527339252882   \n",
       "4  {\"browser\": \"Safari\", \"browserVersion\": \"not a...  6311336399415104146   \n",
       "\n",
       "                                          geoNetwork  socialEngagementType  \\\n",
       "0  {\"continent\": \"Americas\", \"subContinent\": \"Nor...  Not Socially Engaged   \n",
       "1  {\"continent\": \"Americas\", \"subContinent\": \"Nor...  Not Socially Engaged   \n",
       "2  {\"continent\": \"Americas\", \"subContinent\": \"Nor...  Not Socially Engaged   \n",
       "3  {\"continent\": \"Americas\", \"subContinent\": \"Nor...  Not Socially Engaged   \n",
       "4  {\"continent\": \"Americas\", \"subContinent\": \"Nor...  Not Socially Engaged   \n",
       "\n",
       "                                              totals  \\\n",
       "0  {\"visits\": \"1\", \"hits\": \"5\", \"pageviews\": \"5\",...   \n",
       "1  {\"visits\": \"1\", \"hits\": \"6\", \"pageviews\": \"6\",...   \n",
       "2  {\"visits\": \"1\", \"hits\": \"6\", \"pageviews\": \"6\",...   \n",
       "3  {\"visits\": \"1\", \"hits\": \"6\", \"pageviews\": \"6\",...   \n",
       "4  {\"visits\": \"1\", \"hits\": \"8\", \"pageviews\": \"8\",...   \n",
       "\n",
       "                                       trafficSource     visitId  \\\n",
       "0  {\"campaign\": \"(not set)\", \"source\": \"google\", ...  1507250518   \n",
       "1  {\"campaign\": \"(not set)\", \"source\": \"google\", ...  1507250122   \n",
       "2  {\"campaign\": \"(not set)\", \"source\": \"google\", ...  1507237813   \n",
       "3  {\"campaign\": \"(not set)\", \"source\": \"google\", ...  1507250491   \n",
       "4  {\"campaign\": \"(not set)\", \"source\": \"google\", ...  1507243409   \n",
       "\n",
       "               ...                    subContinent        country  \\\n",
       "0              ...                Northern America  United States   \n",
       "1              ...                Northern America  United States   \n",
       "2              ...                Northern America         Canada   \n",
       "3              ...                Northern America  United States   \n",
       "4              ...                Northern America  United States   \n",
       "\n",
       "                          region                              metro  \\\n",
       "0  not available in demo dataset      not available in demo dataset   \n",
       "1  not available in demo dataset      not available in demo dataset   \n",
       "2               British Columbia                          (not set)   \n",
       "3  not available in demo dataset      not available in demo dataset   \n",
       "4                     California  San Francisco-Oakland-San Jose CA   \n",
       "\n",
       "                            city                         cityId  \\\n",
       "0  not available in demo dataset  not available in demo dataset   \n",
       "1  not available in demo dataset  not available in demo dataset   \n",
       "2                      Vancouver  not available in demo dataset   \n",
       "3  not available in demo dataset  not available in demo dataset   \n",
       "4                      Sunnyvale  not available in demo dataset   \n",
       "\n",
       "    networkDomain                       latitude  \\\n",
       "0     spcsdns.net  not available in demo dataset   \n",
       "1       (not set)  not available in demo dataset   \n",
       "2  bigpipeinc.com  not available in demo dataset   \n",
       "3       (not set)  not available in demo dataset   \n",
       "4     juniper.net  not available in demo dataset   \n",
       "\n",
       "                       longitude                networkLocation  \n",
       "0  not available in demo dataset  not available in demo dataset  \n",
       "1  not available in demo dataset  not available in demo dataset  \n",
       "2  not available in demo dataset  not available in demo dataset  \n",
       "3  not available in demo dataset  not available in demo dataset  \n",
       "4  not available in demo dataset  not available in demo dataset  \n",
       "\n",
       "[5 rows x 39 columns]"
      ]
     },
     "execution_count": 12,
     "metadata": {},
     "output_type": "execute_result"
    }
   ],
   "source": [
    "train_set.head()"
   ]
  },
  {
   "cell_type": "code",
   "execution_count": 13,
   "metadata": {},
   "outputs": [
    {
     "name": "stdout",
     "output_type": "stream",
     "text": [
      "CPU times: user 2min 44s, sys: 751 ms, total: 2min 45s\n",
      "Wall time: 2min 44s\n"
     ]
    }
   ],
   "source": [
    "%%time\n",
    "train_set = train_set.join(train_set[\"totals\"].apply(json.loads).apply(pd.Series))"
   ]
  },
  {
   "cell_type": "code",
   "execution_count": 14,
   "metadata": {},
   "outputs": [
    {
     "data": {
      "text/html": [
       "<div>\n",
       "<style scoped>\n",
       "    .dataframe tbody tr th:only-of-type {\n",
       "        vertical-align: middle;\n",
       "    }\n",
       "\n",
       "    .dataframe tbody tr th {\n",
       "        vertical-align: top;\n",
       "    }\n",
       "\n",
       "    .dataframe thead th {\n",
       "        text-align: right;\n",
       "    }\n",
       "</style>\n",
       "<table border=\"1\" class=\"dataframe\">\n",
       "  <thead>\n",
       "    <tr style=\"text-align: right;\">\n",
       "      <th></th>\n",
       "      <th>channelGrouping</th>\n",
       "      <th>customDimensions</th>\n",
       "      <th>date</th>\n",
       "      <th>device</th>\n",
       "      <th>fullVisitorId</th>\n",
       "      <th>geoNetwork</th>\n",
       "      <th>socialEngagementType</th>\n",
       "      <th>totals</th>\n",
       "      <th>trafficSource</th>\n",
       "      <th>visitId</th>\n",
       "      <th>...</th>\n",
       "      <th>visits</th>\n",
       "      <th>hits</th>\n",
       "      <th>pageviews</th>\n",
       "      <th>timeOnSite</th>\n",
       "      <th>sessionQualityDim</th>\n",
       "      <th>newVisits</th>\n",
       "      <th>transactions</th>\n",
       "      <th>transactionRevenue</th>\n",
       "      <th>totalTransactionRevenue</th>\n",
       "      <th>bounces</th>\n",
       "    </tr>\n",
       "  </thead>\n",
       "  <tbody>\n",
       "    <tr>\n",
       "      <th>0</th>\n",
       "      <td>Organic Search</td>\n",
       "      <td>[{'index': '4', 'value': 'North America'}]</td>\n",
       "      <td>20171005</td>\n",
       "      <td>{\"browser\": \"Chrome\", \"browserVersion\": \"not a...</td>\n",
       "      <td>7779444718212527610</td>\n",
       "      <td>{\"continent\": \"Americas\", \"subContinent\": \"Nor...</td>\n",
       "      <td>Not Socially Engaged</td>\n",
       "      <td>{\"visits\": \"1\", \"hits\": \"5\", \"pageviews\": \"5\",...</td>\n",
       "      <td>{\"campaign\": \"(not set)\", \"source\": \"google\", ...</td>\n",
       "      <td>1507250518</td>\n",
       "      <td>...</td>\n",
       "      <td>1</td>\n",
       "      <td>5</td>\n",
       "      <td>5</td>\n",
       "      <td>170</td>\n",
       "      <td>1</td>\n",
       "      <td>NaN</td>\n",
       "      <td>NaN</td>\n",
       "      <td>NaN</td>\n",
       "      <td>NaN</td>\n",
       "      <td>NaN</td>\n",
       "    </tr>\n",
       "    <tr>\n",
       "      <th>1</th>\n",
       "      <td>Organic Search</td>\n",
       "      <td>[{'index': '4', 'value': 'North America'}]</td>\n",
       "      <td>20171005</td>\n",
       "      <td>{\"browser\": \"Safari\", \"browserVersion\": \"not a...</td>\n",
       "      <td>8127326206655250634</td>\n",
       "      <td>{\"continent\": \"Americas\", \"subContinent\": \"Nor...</td>\n",
       "      <td>Not Socially Engaged</td>\n",
       "      <td>{\"visits\": \"1\", \"hits\": \"6\", \"pageviews\": \"6\",...</td>\n",
       "      <td>{\"campaign\": \"(not set)\", \"source\": \"google\", ...</td>\n",
       "      <td>1507250122</td>\n",
       "      <td>...</td>\n",
       "      <td>1</td>\n",
       "      <td>6</td>\n",
       "      <td>6</td>\n",
       "      <td>190</td>\n",
       "      <td>1</td>\n",
       "      <td>1</td>\n",
       "      <td>NaN</td>\n",
       "      <td>NaN</td>\n",
       "      <td>NaN</td>\n",
       "      <td>NaN</td>\n",
       "    </tr>\n",
       "    <tr>\n",
       "      <th>2</th>\n",
       "      <td>Organic Search</td>\n",
       "      <td>[{'index': '4', 'value': 'North America'}]</td>\n",
       "      <td>20171005</td>\n",
       "      <td>{\"browser\": \"Chrome\", \"browserVersion\": \"not a...</td>\n",
       "      <td>8512418246113365791</td>\n",
       "      <td>{\"continent\": \"Americas\", \"subContinent\": \"Nor...</td>\n",
       "      <td>Not Socially Engaged</td>\n",
       "      <td>{\"visits\": \"1\", \"hits\": \"6\", \"pageviews\": \"6\",...</td>\n",
       "      <td>{\"campaign\": \"(not set)\", \"source\": \"google\", ...</td>\n",
       "      <td>1507237813</td>\n",
       "      <td>...</td>\n",
       "      <td>1</td>\n",
       "      <td>6</td>\n",
       "      <td>6</td>\n",
       "      <td>20</td>\n",
       "      <td>1</td>\n",
       "      <td>1</td>\n",
       "      <td>NaN</td>\n",
       "      <td>NaN</td>\n",
       "      <td>NaN</td>\n",
       "      <td>NaN</td>\n",
       "    </tr>\n",
       "    <tr>\n",
       "      <th>3</th>\n",
       "      <td>Organic Search</td>\n",
       "      <td>[{'index': '4', 'value': 'North America'}]</td>\n",
       "      <td>20171005</td>\n",
       "      <td>{\"browser\": \"Chrome\", \"browserVersion\": \"not a...</td>\n",
       "      <td>4331867527339252882</td>\n",
       "      <td>{\"continent\": \"Americas\", \"subContinent\": \"Nor...</td>\n",
       "      <td>Not Socially Engaged</td>\n",
       "      <td>{\"visits\": \"1\", \"hits\": \"6\", \"pageviews\": \"6\",...</td>\n",
       "      <td>{\"campaign\": \"(not set)\", \"source\": \"google\", ...</td>\n",
       "      <td>1507250491</td>\n",
       "      <td>...</td>\n",
       "      <td>1</td>\n",
       "      <td>6</td>\n",
       "      <td>6</td>\n",
       "      <td>161</td>\n",
       "      <td>1</td>\n",
       "      <td>1</td>\n",
       "      <td>NaN</td>\n",
       "      <td>NaN</td>\n",
       "      <td>NaN</td>\n",
       "      <td>NaN</td>\n",
       "    </tr>\n",
       "    <tr>\n",
       "      <th>4</th>\n",
       "      <td>Organic Search</td>\n",
       "      <td>[{'index': '4', 'value': 'North America'}]</td>\n",
       "      <td>20171005</td>\n",
       "      <td>{\"browser\": \"Safari\", \"browserVersion\": \"not a...</td>\n",
       "      <td>6311336399415104146</td>\n",
       "      <td>{\"continent\": \"Americas\", \"subContinent\": \"Nor...</td>\n",
       "      <td>Not Socially Engaged</td>\n",
       "      <td>{\"visits\": \"1\", \"hits\": \"8\", \"pageviews\": \"8\",...</td>\n",
       "      <td>{\"campaign\": \"(not set)\", \"source\": \"google\", ...</td>\n",
       "      <td>1507243409</td>\n",
       "      <td>...</td>\n",
       "      <td>1</td>\n",
       "      <td>8</td>\n",
       "      <td>8</td>\n",
       "      <td>270</td>\n",
       "      <td>2</td>\n",
       "      <td>1</td>\n",
       "      <td>NaN</td>\n",
       "      <td>NaN</td>\n",
       "      <td>NaN</td>\n",
       "      <td>NaN</td>\n",
       "    </tr>\n",
       "  </tbody>\n",
       "</table>\n",
       "<p>5 rows × 49 columns</p>\n",
       "</div>"
      ],
      "text/plain": [
       "  channelGrouping                            customDimensions      date  \\\n",
       "0  Organic Search  [{'index': '4', 'value': 'North America'}]  20171005   \n",
       "1  Organic Search  [{'index': '4', 'value': 'North America'}]  20171005   \n",
       "2  Organic Search  [{'index': '4', 'value': 'North America'}]  20171005   \n",
       "3  Organic Search  [{'index': '4', 'value': 'North America'}]  20171005   \n",
       "4  Organic Search  [{'index': '4', 'value': 'North America'}]  20171005   \n",
       "\n",
       "                                              device        fullVisitorId  \\\n",
       "0  {\"browser\": \"Chrome\", \"browserVersion\": \"not a...  7779444718212527610   \n",
       "1  {\"browser\": \"Safari\", \"browserVersion\": \"not a...  8127326206655250634   \n",
       "2  {\"browser\": \"Chrome\", \"browserVersion\": \"not a...  8512418246113365791   \n",
       "3  {\"browser\": \"Chrome\", \"browserVersion\": \"not a...  4331867527339252882   \n",
       "4  {\"browser\": \"Safari\", \"browserVersion\": \"not a...  6311336399415104146   \n",
       "\n",
       "                                          geoNetwork  socialEngagementType  \\\n",
       "0  {\"continent\": \"Americas\", \"subContinent\": \"Nor...  Not Socially Engaged   \n",
       "1  {\"continent\": \"Americas\", \"subContinent\": \"Nor...  Not Socially Engaged   \n",
       "2  {\"continent\": \"Americas\", \"subContinent\": \"Nor...  Not Socially Engaged   \n",
       "3  {\"continent\": \"Americas\", \"subContinent\": \"Nor...  Not Socially Engaged   \n",
       "4  {\"continent\": \"Americas\", \"subContinent\": \"Nor...  Not Socially Engaged   \n",
       "\n",
       "                                              totals  \\\n",
       "0  {\"visits\": \"1\", \"hits\": \"5\", \"pageviews\": \"5\",...   \n",
       "1  {\"visits\": \"1\", \"hits\": \"6\", \"pageviews\": \"6\",...   \n",
       "2  {\"visits\": \"1\", \"hits\": \"6\", \"pageviews\": \"6\",...   \n",
       "3  {\"visits\": \"1\", \"hits\": \"6\", \"pageviews\": \"6\",...   \n",
       "4  {\"visits\": \"1\", \"hits\": \"8\", \"pageviews\": \"8\",...   \n",
       "\n",
       "                                       trafficSource     visitId   ...    \\\n",
       "0  {\"campaign\": \"(not set)\", \"source\": \"google\", ...  1507250518   ...     \n",
       "1  {\"campaign\": \"(not set)\", \"source\": \"google\", ...  1507250122   ...     \n",
       "2  {\"campaign\": \"(not set)\", \"source\": \"google\", ...  1507237813   ...     \n",
       "3  {\"campaign\": \"(not set)\", \"source\": \"google\", ...  1507250491   ...     \n",
       "4  {\"campaign\": \"(not set)\", \"source\": \"google\", ...  1507243409   ...     \n",
       "\n",
       "   visits  hits pageviews timeOnSite sessionQualityDim newVisits transactions  \\\n",
       "0       1     5         5        170                 1       NaN          NaN   \n",
       "1       1     6         6        190                 1         1          NaN   \n",
       "2       1     6         6         20                 1         1          NaN   \n",
       "3       1     6         6        161                 1         1          NaN   \n",
       "4       1     8         8        270                 2         1          NaN   \n",
       "\n",
       "   transactionRevenue totalTransactionRevenue bounces  \n",
       "0                 NaN                     NaN     NaN  \n",
       "1                 NaN                     NaN     NaN  \n",
       "2                 NaN                     NaN     NaN  \n",
       "3                 NaN                     NaN     NaN  \n",
       "4                 NaN                     NaN     NaN  \n",
       "\n",
       "[5 rows x 49 columns]"
      ]
     },
     "execution_count": 14,
     "metadata": {},
     "output_type": "execute_result"
    }
   ],
   "source": [
    "train_set.head()"
   ]
  },
  {
   "cell_type": "code",
   "execution_count": 15,
   "metadata": {},
   "outputs": [
    {
     "name": "stdout",
     "output_type": "stream",
     "text": [
      "CPU times: user 2min 50s, sys: 832 ms, total: 2min 50s\n",
      "Wall time: 2min 50s\n"
     ]
    }
   ],
   "source": [
    "%%time \n",
    "train_set = train_set.join(train_set[\"trafficSource\"].apply(json.loads).apply(pd.Series))"
   ]
  },
  {
   "cell_type": "code",
   "execution_count": 16,
   "metadata": {},
   "outputs": [
    {
     "data": {
      "text/html": [
       "<div>\n",
       "<style scoped>\n",
       "    .dataframe tbody tr th:only-of-type {\n",
       "        vertical-align: middle;\n",
       "    }\n",
       "\n",
       "    .dataframe tbody tr th {\n",
       "        vertical-align: top;\n",
       "    }\n",
       "\n",
       "    .dataframe thead th {\n",
       "        text-align: right;\n",
       "    }\n",
       "</style>\n",
       "<table border=\"1\" class=\"dataframe\">\n",
       "  <thead>\n",
       "    <tr style=\"text-align: right;\">\n",
       "      <th></th>\n",
       "      <th>channelGrouping</th>\n",
       "      <th>customDimensions</th>\n",
       "      <th>date</th>\n",
       "      <th>device</th>\n",
       "      <th>fullVisitorId</th>\n",
       "      <th>geoNetwork</th>\n",
       "      <th>socialEngagementType</th>\n",
       "      <th>totals</th>\n",
       "      <th>trafficSource</th>\n",
       "      <th>visitId</th>\n",
       "      <th>...</th>\n",
       "      <th>totalTransactionRevenue</th>\n",
       "      <th>bounces</th>\n",
       "      <th>campaign</th>\n",
       "      <th>source</th>\n",
       "      <th>medium</th>\n",
       "      <th>keyword</th>\n",
       "      <th>adwordsClickInfo</th>\n",
       "      <th>isTrueDirect</th>\n",
       "      <th>referralPath</th>\n",
       "      <th>adContent</th>\n",
       "    </tr>\n",
       "  </thead>\n",
       "  <tbody>\n",
       "    <tr>\n",
       "      <th>0</th>\n",
       "      <td>Organic Search</td>\n",
       "      <td>[{'index': '4', 'value': 'North America'}]</td>\n",
       "      <td>20171005</td>\n",
       "      <td>{\"browser\": \"Chrome\", \"browserVersion\": \"not a...</td>\n",
       "      <td>7779444718212527610</td>\n",
       "      <td>{\"continent\": \"Americas\", \"subContinent\": \"Nor...</td>\n",
       "      <td>Not Socially Engaged</td>\n",
       "      <td>{\"visits\": \"1\", \"hits\": \"5\", \"pageviews\": \"5\",...</td>\n",
       "      <td>{\"campaign\": \"(not set)\", \"source\": \"google\", ...</td>\n",
       "      <td>1507250518</td>\n",
       "      <td>...</td>\n",
       "      <td>NaN</td>\n",
       "      <td>NaN</td>\n",
       "      <td>(not set)</td>\n",
       "      <td>google</td>\n",
       "      <td>organic</td>\n",
       "      <td>(not provided)</td>\n",
       "      <td>{'criteriaParameters': 'not available in demo ...</td>\n",
       "      <td>True</td>\n",
       "      <td>NaN</td>\n",
       "      <td>NaN</td>\n",
       "    </tr>\n",
       "    <tr>\n",
       "      <th>1</th>\n",
       "      <td>Organic Search</td>\n",
       "      <td>[{'index': '4', 'value': 'North America'}]</td>\n",
       "      <td>20171005</td>\n",
       "      <td>{\"browser\": \"Safari\", \"browserVersion\": \"not a...</td>\n",
       "      <td>8127326206655250634</td>\n",
       "      <td>{\"continent\": \"Americas\", \"subContinent\": \"Nor...</td>\n",
       "      <td>Not Socially Engaged</td>\n",
       "      <td>{\"visits\": \"1\", \"hits\": \"6\", \"pageviews\": \"6\",...</td>\n",
       "      <td>{\"campaign\": \"(not set)\", \"source\": \"google\", ...</td>\n",
       "      <td>1507250122</td>\n",
       "      <td>...</td>\n",
       "      <td>NaN</td>\n",
       "      <td>NaN</td>\n",
       "      <td>(not set)</td>\n",
       "      <td>google</td>\n",
       "      <td>organic</td>\n",
       "      <td>(not provided)</td>\n",
       "      <td>{'criteriaParameters': 'not available in demo ...</td>\n",
       "      <td>NaN</td>\n",
       "      <td>NaN</td>\n",
       "      <td>NaN</td>\n",
       "    </tr>\n",
       "    <tr>\n",
       "      <th>2</th>\n",
       "      <td>Organic Search</td>\n",
       "      <td>[{'index': '4', 'value': 'North America'}]</td>\n",
       "      <td>20171005</td>\n",
       "      <td>{\"browser\": \"Chrome\", \"browserVersion\": \"not a...</td>\n",
       "      <td>8512418246113365791</td>\n",
       "      <td>{\"continent\": \"Americas\", \"subContinent\": \"Nor...</td>\n",
       "      <td>Not Socially Engaged</td>\n",
       "      <td>{\"visits\": \"1\", \"hits\": \"6\", \"pageviews\": \"6\",...</td>\n",
       "      <td>{\"campaign\": \"(not set)\", \"source\": \"google\", ...</td>\n",
       "      <td>1507237813</td>\n",
       "      <td>...</td>\n",
       "      <td>NaN</td>\n",
       "      <td>NaN</td>\n",
       "      <td>(not set)</td>\n",
       "      <td>google</td>\n",
       "      <td>organic</td>\n",
       "      <td>(not provided)</td>\n",
       "      <td>{'criteriaParameters': 'not available in demo ...</td>\n",
       "      <td>NaN</td>\n",
       "      <td>NaN</td>\n",
       "      <td>NaN</td>\n",
       "    </tr>\n",
       "    <tr>\n",
       "      <th>3</th>\n",
       "      <td>Organic Search</td>\n",
       "      <td>[{'index': '4', 'value': 'North America'}]</td>\n",
       "      <td>20171005</td>\n",
       "      <td>{\"browser\": \"Chrome\", \"browserVersion\": \"not a...</td>\n",
       "      <td>4331867527339252882</td>\n",
       "      <td>{\"continent\": \"Americas\", \"subContinent\": \"Nor...</td>\n",
       "      <td>Not Socially Engaged</td>\n",
       "      <td>{\"visits\": \"1\", \"hits\": \"6\", \"pageviews\": \"6\",...</td>\n",
       "      <td>{\"campaign\": \"(not set)\", \"source\": \"google\", ...</td>\n",
       "      <td>1507250491</td>\n",
       "      <td>...</td>\n",
       "      <td>NaN</td>\n",
       "      <td>NaN</td>\n",
       "      <td>(not set)</td>\n",
       "      <td>google</td>\n",
       "      <td>organic</td>\n",
       "      <td>(not provided)</td>\n",
       "      <td>{'criteriaParameters': 'not available in demo ...</td>\n",
       "      <td>NaN</td>\n",
       "      <td>NaN</td>\n",
       "      <td>NaN</td>\n",
       "    </tr>\n",
       "    <tr>\n",
       "      <th>4</th>\n",
       "      <td>Organic Search</td>\n",
       "      <td>[{'index': '4', 'value': 'North America'}]</td>\n",
       "      <td>20171005</td>\n",
       "      <td>{\"browser\": \"Safari\", \"browserVersion\": \"not a...</td>\n",
       "      <td>6311336399415104146</td>\n",
       "      <td>{\"continent\": \"Americas\", \"subContinent\": \"Nor...</td>\n",
       "      <td>Not Socially Engaged</td>\n",
       "      <td>{\"visits\": \"1\", \"hits\": \"8\", \"pageviews\": \"8\",...</td>\n",
       "      <td>{\"campaign\": \"(not set)\", \"source\": \"google\", ...</td>\n",
       "      <td>1507243409</td>\n",
       "      <td>...</td>\n",
       "      <td>NaN</td>\n",
       "      <td>NaN</td>\n",
       "      <td>(not set)</td>\n",
       "      <td>google</td>\n",
       "      <td>organic</td>\n",
       "      <td>(not provided)</td>\n",
       "      <td>{'criteriaParameters': 'not available in demo ...</td>\n",
       "      <td>NaN</td>\n",
       "      <td>NaN</td>\n",
       "      <td>NaN</td>\n",
       "    </tr>\n",
       "  </tbody>\n",
       "</table>\n",
       "<p>5 rows × 57 columns</p>\n",
       "</div>"
      ],
      "text/plain": [
       "  channelGrouping                            customDimensions      date  \\\n",
       "0  Organic Search  [{'index': '4', 'value': 'North America'}]  20171005   \n",
       "1  Organic Search  [{'index': '4', 'value': 'North America'}]  20171005   \n",
       "2  Organic Search  [{'index': '4', 'value': 'North America'}]  20171005   \n",
       "3  Organic Search  [{'index': '4', 'value': 'North America'}]  20171005   \n",
       "4  Organic Search  [{'index': '4', 'value': 'North America'}]  20171005   \n",
       "\n",
       "                                              device        fullVisitorId  \\\n",
       "0  {\"browser\": \"Chrome\", \"browserVersion\": \"not a...  7779444718212527610   \n",
       "1  {\"browser\": \"Safari\", \"browserVersion\": \"not a...  8127326206655250634   \n",
       "2  {\"browser\": \"Chrome\", \"browserVersion\": \"not a...  8512418246113365791   \n",
       "3  {\"browser\": \"Chrome\", \"browserVersion\": \"not a...  4331867527339252882   \n",
       "4  {\"browser\": \"Safari\", \"browserVersion\": \"not a...  6311336399415104146   \n",
       "\n",
       "                                          geoNetwork  socialEngagementType  \\\n",
       "0  {\"continent\": \"Americas\", \"subContinent\": \"Nor...  Not Socially Engaged   \n",
       "1  {\"continent\": \"Americas\", \"subContinent\": \"Nor...  Not Socially Engaged   \n",
       "2  {\"continent\": \"Americas\", \"subContinent\": \"Nor...  Not Socially Engaged   \n",
       "3  {\"continent\": \"Americas\", \"subContinent\": \"Nor...  Not Socially Engaged   \n",
       "4  {\"continent\": \"Americas\", \"subContinent\": \"Nor...  Not Socially Engaged   \n",
       "\n",
       "                                              totals  \\\n",
       "0  {\"visits\": \"1\", \"hits\": \"5\", \"pageviews\": \"5\",...   \n",
       "1  {\"visits\": \"1\", \"hits\": \"6\", \"pageviews\": \"6\",...   \n",
       "2  {\"visits\": \"1\", \"hits\": \"6\", \"pageviews\": \"6\",...   \n",
       "3  {\"visits\": \"1\", \"hits\": \"6\", \"pageviews\": \"6\",...   \n",
       "4  {\"visits\": \"1\", \"hits\": \"8\", \"pageviews\": \"8\",...   \n",
       "\n",
       "                                       trafficSource     visitId    ...     \\\n",
       "0  {\"campaign\": \"(not set)\", \"source\": \"google\", ...  1507250518    ...      \n",
       "1  {\"campaign\": \"(not set)\", \"source\": \"google\", ...  1507250122    ...      \n",
       "2  {\"campaign\": \"(not set)\", \"source\": \"google\", ...  1507237813    ...      \n",
       "3  {\"campaign\": \"(not set)\", \"source\": \"google\", ...  1507250491    ...      \n",
       "4  {\"campaign\": \"(not set)\", \"source\": \"google\", ...  1507243409    ...      \n",
       "\n",
       "   totalTransactionRevenue  bounces   campaign  source   medium  \\\n",
       "0                      NaN      NaN  (not set)  google  organic   \n",
       "1                      NaN      NaN  (not set)  google  organic   \n",
       "2                      NaN      NaN  (not set)  google  organic   \n",
       "3                      NaN      NaN  (not set)  google  organic   \n",
       "4                      NaN      NaN  (not set)  google  organic   \n",
       "\n",
       "          keyword                                   adwordsClickInfo  \\\n",
       "0  (not provided)  {'criteriaParameters': 'not available in demo ...   \n",
       "1  (not provided)  {'criteriaParameters': 'not available in demo ...   \n",
       "2  (not provided)  {'criteriaParameters': 'not available in demo ...   \n",
       "3  (not provided)  {'criteriaParameters': 'not available in demo ...   \n",
       "4  (not provided)  {'criteriaParameters': 'not available in demo ...   \n",
       "\n",
       "   isTrueDirect referralPath adContent  \n",
       "0          True          NaN       NaN  \n",
       "1           NaN          NaN       NaN  \n",
       "2           NaN          NaN       NaN  \n",
       "3           NaN          NaN       NaN  \n",
       "4           NaN          NaN       NaN  \n",
       "\n",
       "[5 rows x 57 columns]"
      ]
     },
     "execution_count": 16,
     "metadata": {},
     "output_type": "execute_result"
    }
   ],
   "source": [
    "train_set.head()"
   ]
  },
  {
   "cell_type": "code",
   "execution_count": 17,
   "metadata": {},
   "outputs": [],
   "source": [
    "train_set.drop([\"device\", \"geoNetwork\", \"totals\", \"trafficSource\"], axis=1, inplace=True)"
   ]
  },
  {
   "cell_type": "code",
   "execution_count": 18,
   "metadata": {},
   "outputs": [
    {
     "data": {
      "text/html": [
       "<div>\n",
       "<style scoped>\n",
       "    .dataframe tbody tr th:only-of-type {\n",
       "        vertical-align: middle;\n",
       "    }\n",
       "\n",
       "    .dataframe tbody tr th {\n",
       "        vertical-align: top;\n",
       "    }\n",
       "\n",
       "    .dataframe thead th {\n",
       "        text-align: right;\n",
       "    }\n",
       "</style>\n",
       "<table border=\"1\" class=\"dataframe\">\n",
       "  <thead>\n",
       "    <tr style=\"text-align: right;\">\n",
       "      <th></th>\n",
       "      <th>channelGrouping</th>\n",
       "      <th>customDimensions</th>\n",
       "      <th>date</th>\n",
       "      <th>fullVisitorId</th>\n",
       "      <th>socialEngagementType</th>\n",
       "      <th>visitId</th>\n",
       "      <th>visitNumber</th>\n",
       "      <th>visitStartTime</th>\n",
       "      <th>browser</th>\n",
       "      <th>browserVersion</th>\n",
       "      <th>...</th>\n",
       "      <th>totalTransactionRevenue</th>\n",
       "      <th>bounces</th>\n",
       "      <th>campaign</th>\n",
       "      <th>source</th>\n",
       "      <th>medium</th>\n",
       "      <th>keyword</th>\n",
       "      <th>adwordsClickInfo</th>\n",
       "      <th>isTrueDirect</th>\n",
       "      <th>referralPath</th>\n",
       "      <th>adContent</th>\n",
       "    </tr>\n",
       "  </thead>\n",
       "  <tbody>\n",
       "    <tr>\n",
       "      <th>0</th>\n",
       "      <td>Organic Search</td>\n",
       "      <td>[{'index': '4', 'value': 'North America'}]</td>\n",
       "      <td>20171005</td>\n",
       "      <td>7779444718212527610</td>\n",
       "      <td>Not Socially Engaged</td>\n",
       "      <td>1507250518</td>\n",
       "      <td>2</td>\n",
       "      <td>1507250518</td>\n",
       "      <td>Chrome</td>\n",
       "      <td>not available in demo dataset</td>\n",
       "      <td>...</td>\n",
       "      <td>NaN</td>\n",
       "      <td>NaN</td>\n",
       "      <td>(not set)</td>\n",
       "      <td>google</td>\n",
       "      <td>organic</td>\n",
       "      <td>(not provided)</td>\n",
       "      <td>{'criteriaParameters': 'not available in demo ...</td>\n",
       "      <td>True</td>\n",
       "      <td>NaN</td>\n",
       "      <td>NaN</td>\n",
       "    </tr>\n",
       "    <tr>\n",
       "      <th>1</th>\n",
       "      <td>Organic Search</td>\n",
       "      <td>[{'index': '4', 'value': 'North America'}]</td>\n",
       "      <td>20171005</td>\n",
       "      <td>8127326206655250634</td>\n",
       "      <td>Not Socially Engaged</td>\n",
       "      <td>1507250122</td>\n",
       "      <td>1</td>\n",
       "      <td>1507250122</td>\n",
       "      <td>Safari</td>\n",
       "      <td>not available in demo dataset</td>\n",
       "      <td>...</td>\n",
       "      <td>NaN</td>\n",
       "      <td>NaN</td>\n",
       "      <td>(not set)</td>\n",
       "      <td>google</td>\n",
       "      <td>organic</td>\n",
       "      <td>(not provided)</td>\n",
       "      <td>{'criteriaParameters': 'not available in demo ...</td>\n",
       "      <td>NaN</td>\n",
       "      <td>NaN</td>\n",
       "      <td>NaN</td>\n",
       "    </tr>\n",
       "    <tr>\n",
       "      <th>2</th>\n",
       "      <td>Organic Search</td>\n",
       "      <td>[{'index': '4', 'value': 'North America'}]</td>\n",
       "      <td>20171005</td>\n",
       "      <td>8512418246113365791</td>\n",
       "      <td>Not Socially Engaged</td>\n",
       "      <td>1507237813</td>\n",
       "      <td>1</td>\n",
       "      <td>1507237813</td>\n",
       "      <td>Chrome</td>\n",
       "      <td>not available in demo dataset</td>\n",
       "      <td>...</td>\n",
       "      <td>NaN</td>\n",
       "      <td>NaN</td>\n",
       "      <td>(not set)</td>\n",
       "      <td>google</td>\n",
       "      <td>organic</td>\n",
       "      <td>(not provided)</td>\n",
       "      <td>{'criteriaParameters': 'not available in demo ...</td>\n",
       "      <td>NaN</td>\n",
       "      <td>NaN</td>\n",
       "      <td>NaN</td>\n",
       "    </tr>\n",
       "    <tr>\n",
       "      <th>3</th>\n",
       "      <td>Organic Search</td>\n",
       "      <td>[{'index': '4', 'value': 'North America'}]</td>\n",
       "      <td>20171005</td>\n",
       "      <td>4331867527339252882</td>\n",
       "      <td>Not Socially Engaged</td>\n",
       "      <td>1507250491</td>\n",
       "      <td>1</td>\n",
       "      <td>1507250491</td>\n",
       "      <td>Chrome</td>\n",
       "      <td>not available in demo dataset</td>\n",
       "      <td>...</td>\n",
       "      <td>NaN</td>\n",
       "      <td>NaN</td>\n",
       "      <td>(not set)</td>\n",
       "      <td>google</td>\n",
       "      <td>organic</td>\n",
       "      <td>(not provided)</td>\n",
       "      <td>{'criteriaParameters': 'not available in demo ...</td>\n",
       "      <td>NaN</td>\n",
       "      <td>NaN</td>\n",
       "      <td>NaN</td>\n",
       "    </tr>\n",
       "    <tr>\n",
       "      <th>4</th>\n",
       "      <td>Organic Search</td>\n",
       "      <td>[{'index': '4', 'value': 'North America'}]</td>\n",
       "      <td>20171005</td>\n",
       "      <td>6311336399415104146</td>\n",
       "      <td>Not Socially Engaged</td>\n",
       "      <td>1507243409</td>\n",
       "      <td>1</td>\n",
       "      <td>1507243409</td>\n",
       "      <td>Safari</td>\n",
       "      <td>not available in demo dataset</td>\n",
       "      <td>...</td>\n",
       "      <td>NaN</td>\n",
       "      <td>NaN</td>\n",
       "      <td>(not set)</td>\n",
       "      <td>google</td>\n",
       "      <td>organic</td>\n",
       "      <td>(not provided)</td>\n",
       "      <td>{'criteriaParameters': 'not available in demo ...</td>\n",
       "      <td>NaN</td>\n",
       "      <td>NaN</td>\n",
       "      <td>NaN</td>\n",
       "    </tr>\n",
       "  </tbody>\n",
       "</table>\n",
       "<p>5 rows × 53 columns</p>\n",
       "</div>"
      ],
      "text/plain": [
       "  channelGrouping                            customDimensions      date  \\\n",
       "0  Organic Search  [{'index': '4', 'value': 'North America'}]  20171005   \n",
       "1  Organic Search  [{'index': '4', 'value': 'North America'}]  20171005   \n",
       "2  Organic Search  [{'index': '4', 'value': 'North America'}]  20171005   \n",
       "3  Organic Search  [{'index': '4', 'value': 'North America'}]  20171005   \n",
       "4  Organic Search  [{'index': '4', 'value': 'North America'}]  20171005   \n",
       "\n",
       "         fullVisitorId  socialEngagementType     visitId  visitNumber  \\\n",
       "0  7779444718212527610  Not Socially Engaged  1507250518            2   \n",
       "1  8127326206655250634  Not Socially Engaged  1507250122            1   \n",
       "2  8512418246113365791  Not Socially Engaged  1507237813            1   \n",
       "3  4331867527339252882  Not Socially Engaged  1507250491            1   \n",
       "4  6311336399415104146  Not Socially Engaged  1507243409            1   \n",
       "\n",
       "   visitStartTime browser                 browserVersion    ...     \\\n",
       "0      1507250518  Chrome  not available in demo dataset    ...      \n",
       "1      1507250122  Safari  not available in demo dataset    ...      \n",
       "2      1507237813  Chrome  not available in demo dataset    ...      \n",
       "3      1507250491  Chrome  not available in demo dataset    ...      \n",
       "4      1507243409  Safari  not available in demo dataset    ...      \n",
       "\n",
       "  totalTransactionRevenue bounces   campaign  source   medium         keyword  \\\n",
       "0                     NaN     NaN  (not set)  google  organic  (not provided)   \n",
       "1                     NaN     NaN  (not set)  google  organic  (not provided)   \n",
       "2                     NaN     NaN  (not set)  google  organic  (not provided)   \n",
       "3                     NaN     NaN  (not set)  google  organic  (not provided)   \n",
       "4                     NaN     NaN  (not set)  google  organic  (not provided)   \n",
       "\n",
       "                                    adwordsClickInfo isTrueDirect  \\\n",
       "0  {'criteriaParameters': 'not available in demo ...         True   \n",
       "1  {'criteriaParameters': 'not available in demo ...          NaN   \n",
       "2  {'criteriaParameters': 'not available in demo ...          NaN   \n",
       "3  {'criteriaParameters': 'not available in demo ...          NaN   \n",
       "4  {'criteriaParameters': 'not available in demo ...          NaN   \n",
       "\n",
       "  referralPath adContent  \n",
       "0          NaN       NaN  \n",
       "1          NaN       NaN  \n",
       "2          NaN       NaN  \n",
       "3          NaN       NaN  \n",
       "4          NaN       NaN  \n",
       "\n",
       "[5 rows x 53 columns]"
      ]
     },
     "execution_count": 18,
     "metadata": {},
     "output_type": "execute_result"
    }
   ],
   "source": [
    "train_set.head()"
   ]
  },
  {
   "cell_type": "code",
   "execution_count": 20,
   "metadata": {},
   "outputs": [],
   "source": [
    "train_set.to_pickle(\"preprocessed_train_set_without_hits2.pkl\")"
   ]
  },
  {
   "cell_type": "code",
   "execution_count": 21,
   "metadata": {},
   "outputs": [],
   "source": [
    "df2 = pd.read_pickle(\"preprocessed_train_set_without_hits2.pkl\")"
   ]
  },
  {
   "cell_type": "code",
   "execution_count": 22,
   "metadata": {},
   "outputs": [
    {
     "data": {
      "text/plain": [
       "Index(['channelGrouping', 'customDimensions', 'date', 'fullVisitorId',\n",
       "       'socialEngagementType', 'visitId', 'visitNumber', 'visitStartTime',\n",
       "       'browser', 'browserVersion', 'browserSize', 'operatingSystem',\n",
       "       'operatingSystemVersion', 'isMobile', 'mobileDeviceBranding',\n",
       "       'mobileDeviceModel', 'mobileInputSelector', 'mobileDeviceInfo',\n",
       "       'mobileDeviceMarketingName', 'flashVersion', 'language', 'screenColors',\n",
       "       'screenResolution', 'deviceCategory', 'continent', 'subContinent',\n",
       "       'country', 'region', 'metro', 'city', 'cityId', 'networkDomain',\n",
       "       'latitude', 'longitude', 'networkLocation', 'visits', 'hits',\n",
       "       'pageviews', 'bounces', 'newVisits', 'sessionQualityDim', 'timeOnSite',\n",
       "       'transactions', 'transactionRevenue', 'totalTransactionRevenue',\n",
       "       'campaign', 'source', 'medium', 'keyword', 'adwordsClickInfo',\n",
       "       'referralPath', 'isTrueDirect', 'adContent', 'campaignCode'],\n",
       "      dtype='object')"
      ]
     },
     "execution_count": 22,
     "metadata": {},
     "output_type": "execute_result"
    }
   ],
   "source": [
    "df.keys()"
   ]
  },
  {
   "cell_type": "code",
   "execution_count": 23,
   "metadata": {},
   "outputs": [
    {
     "data": {
      "text/plain": [
       "Index(['channelGrouping', 'customDimensions', 'date', 'fullVisitorId',\n",
       "       'socialEngagementType', 'visitId', 'visitNumber', 'visitStartTime',\n",
       "       'browser', 'browserVersion', 'browserSize', 'operatingSystem',\n",
       "       'operatingSystemVersion', 'isMobile', 'mobileDeviceBranding',\n",
       "       'mobileDeviceModel', 'mobileInputSelector', 'mobileDeviceInfo',\n",
       "       'mobileDeviceMarketingName', 'flashVersion', 'language', 'screenColors',\n",
       "       'screenResolution', 'deviceCategory', 'continent', 'subContinent',\n",
       "       'country', 'region', 'metro', 'city', 'cityId', 'networkDomain',\n",
       "       'latitude', 'longitude', 'networkLocation', 'visits', 'hits',\n",
       "       'pageviews', 'timeOnSite', 'sessionQualityDim', 'newVisits',\n",
       "       'transactions', 'transactionRevenue', 'totalTransactionRevenue',\n",
       "       'bounces', 'campaign', 'source', 'medium', 'keyword',\n",
       "       'adwordsClickInfo', 'isTrueDirect', 'referralPath', 'adContent'],\n",
       "      dtype='object')"
      ]
     },
     "execution_count": 23,
     "metadata": {},
     "output_type": "execute_result"
    }
   ],
   "source": [
    "df2.keys()"
   ]
  },
  {
   "cell_type": "code",
   "execution_count": 25,
   "metadata": {},
   "outputs": [
    {
     "ename": "ValueError",
     "evalue": "Lengths must match to compare",
     "output_type": "error",
     "traceback": [
      "\u001b[0;31m---------------------------------------------------------------------------\u001b[0m",
      "\u001b[0;31mValueError\u001b[0m                                Traceback (most recent call last)",
      "\u001b[0;32m<ipython-input-25-3766801a474c>\u001b[0m in \u001b[0;36m<module>\u001b[0;34m()\u001b[0m\n\u001b[0;32m----> 1\u001b[0;31m \u001b[0mdf\u001b[0m\u001b[0;34m.\u001b[0m\u001b[0mkeys\u001b[0m\u001b[0;34m(\u001b[0m\u001b[0;34m)\u001b[0m \u001b[0;34m==\u001b[0m \u001b[0mdf2\u001b[0m\u001b[0;34m.\u001b[0m\u001b[0mkeys\u001b[0m\u001b[0;34m(\u001b[0m\u001b[0;34m)\u001b[0m\u001b[0;34m[\u001b[0m\u001b[0;34m:\u001b[0m\u001b[0;34m-\u001b[0m\u001b[0;36m1\u001b[0m\u001b[0;34m]\u001b[0m\u001b[0;34m\u001b[0m\u001b[0m\n\u001b[0m",
      "\u001b[0;32m~/anaconda3/lib/python3.6/site-packages/pandas/core/indexes/base.py\u001b[0m in \u001b[0;36mcmp_method\u001b[0;34m(self, other)\u001b[0m\n\u001b[1;32m     90\u001b[0m         \u001b[0;32mif\u001b[0m \u001b[0misinstance\u001b[0m\u001b[0;34m(\u001b[0m\u001b[0mother\u001b[0m\u001b[0;34m,\u001b[0m \u001b[0;34m(\u001b[0m\u001b[0mnp\u001b[0m\u001b[0;34m.\u001b[0m\u001b[0mndarray\u001b[0m\u001b[0;34m,\u001b[0m \u001b[0mIndex\u001b[0m\u001b[0;34m,\u001b[0m \u001b[0mABCSeries\u001b[0m\u001b[0;34m)\u001b[0m\u001b[0;34m)\u001b[0m\u001b[0;34m:\u001b[0m\u001b[0;34m\u001b[0m\u001b[0m\n\u001b[1;32m     91\u001b[0m             \u001b[0;32mif\u001b[0m \u001b[0mother\u001b[0m\u001b[0;34m.\u001b[0m\u001b[0mndim\u001b[0m \u001b[0;34m>\u001b[0m \u001b[0;36m0\u001b[0m \u001b[0;32mand\u001b[0m \u001b[0mlen\u001b[0m\u001b[0;34m(\u001b[0m\u001b[0mself\u001b[0m\u001b[0;34m)\u001b[0m \u001b[0;34m!=\u001b[0m \u001b[0mlen\u001b[0m\u001b[0;34m(\u001b[0m\u001b[0mother\u001b[0m\u001b[0;34m)\u001b[0m\u001b[0;34m:\u001b[0m\u001b[0;34m\u001b[0m\u001b[0m\n\u001b[0;32m---> 92\u001b[0;31m                 \u001b[0;32mraise\u001b[0m \u001b[0mValueError\u001b[0m\u001b[0;34m(\u001b[0m\u001b[0;34m'Lengths must match to compare'\u001b[0m\u001b[0;34m)\u001b[0m\u001b[0;34m\u001b[0m\u001b[0m\n\u001b[0m\u001b[1;32m     93\u001b[0m \u001b[0;34m\u001b[0m\u001b[0m\n\u001b[1;32m     94\u001b[0m         \u001b[0;31m# we may need to directly compare underlying\u001b[0m\u001b[0;34m\u001b[0m\u001b[0;34m\u001b[0m\u001b[0m\n",
      "\u001b[0;31mValueError\u001b[0m: Lengths must match to compare"
     ]
    }
   ],
   "source": [
    "df.keys() == df2.keys()"
   ]
  },
  {
   "cell_type": "code",
   "execution_count": 28,
   "metadata": {},
   "outputs": [],
   "source": [
    "df2 = list(df2.keys())"
   ]
  },
  {
   "cell_type": "code",
   "execution_count": 32,
   "metadata": {},
   "outputs": [
    {
     "data": {
      "text/plain": [
       "['channelGrouping',\n",
       " 'customDimensions',\n",
       " 'date',\n",
       " 'fullVisitorId',\n",
       " 'socialEngagementType',\n",
       " 'visitId',\n",
       " 'visitNumber',\n",
       " 'visitStartTime',\n",
       " 'browser',\n",
       " 'browserVersion',\n",
       " 'browserSize',\n",
       " 'operatingSystem',\n",
       " 'operatingSystemVersion',\n",
       " 'isMobile',\n",
       " 'mobileDeviceBranding',\n",
       " 'mobileDeviceModel',\n",
       " 'mobileInputSelector',\n",
       " 'mobileDeviceInfo',\n",
       " 'mobileDeviceMarketingName',\n",
       " 'flashVersion',\n",
       " 'language',\n",
       " 'screenColors',\n",
       " 'screenResolution',\n",
       " 'deviceCategory',\n",
       " 'continent',\n",
       " 'subContinent',\n",
       " 'country',\n",
       " 'region',\n",
       " 'metro',\n",
       " 'city',\n",
       " 'cityId',\n",
       " 'networkDomain',\n",
       " 'latitude',\n",
       " 'longitude',\n",
       " 'networkLocation',\n",
       " 'visits',\n",
       " 'hits',\n",
       " 'pageviews',\n",
       " 'timeOnSite',\n",
       " 'sessionQualityDim',\n",
       " 'newVisits',\n",
       " 'transactions',\n",
       " 'transactionRevenue',\n",
       " 'totalTransactionRevenue',\n",
       " 'bounces',\n",
       " 'campaign',\n",
       " 'source',\n",
       " 'medium',\n",
       " 'keyword',\n",
       " 'adwordsClickInfo',\n",
       " 'isTrueDirect',\n",
       " 'referralPath',\n",
       " 'adContent']"
      ]
     },
     "execution_count": 32,
     "metadata": {},
     "output_type": "execute_result"
    }
   ],
   "source": [
    "df2"
   ]
  },
  {
   "cell_type": "code",
   "execution_count": 34,
   "metadata": {},
   "outputs": [],
   "source": [
    "df = list(df.keys())"
   ]
  },
  {
   "cell_type": "code",
   "execution_count": 33,
   "metadata": {
    "scrolled": false
   },
   "outputs": [
    {
     "data": {
      "text/plain": [
       "False"
      ]
     },
     "execution_count": 33,
     "metadata": {},
     "output_type": "execute_result"
    }
   ],
   "source": [
    "list(df.keys()) == df2[:-1]"
   ]
  },
  {
   "cell_type": "code",
   "execution_count": 35,
   "metadata": {},
   "outputs": [
    {
     "name": "stdout",
     "output_type": "stream",
     "text": [
      "bounces timeOnSite\n",
      "newVisits sessionQualityDim\n",
      "sessionQualityDim newVisits\n",
      "timeOnSite transactions\n",
      "transactions transactionRevenue\n",
      "transactionRevenue totalTransactionRevenue\n",
      "totalTransactionRevenue bounces\n",
      "referralPath isTrueDirect\n",
      "isTrueDirect referralPath\n"
     ]
    }
   ],
   "source": [
    "for one, two in zip(df, df2):\n",
    "    if one != two:\n",
    "        print(one, two)"
   ]
  },
  {
   "cell_type": "code",
   "execution_count": 44,
   "metadata": {},
   "outputs": [],
   "source": [
    "df = sorted(df)"
   ]
  },
  {
   "cell_type": "code",
   "execution_count": 45,
   "metadata": {},
   "outputs": [],
   "source": [
    "df2 = sorted(df2)"
   ]
  },
  {
   "cell_type": "code",
   "execution_count": 46,
   "metadata": {},
   "outputs": [
    {
     "name": "stdout",
     "output_type": "stream",
     "text": [
      "campaignCode channelGrouping\n",
      "channelGrouping city\n",
      "city cityId\n",
      "cityId continent\n",
      "continent country\n",
      "country customDimensions\n",
      "customDimensions date\n",
      "date deviceCategory\n",
      "deviceCategory flashVersion\n",
      "flashVersion fullVisitorId\n",
      "fullVisitorId hits\n",
      "hits isMobile\n",
      "isMobile isTrueDirect\n",
      "isTrueDirect keyword\n",
      "keyword language\n",
      "language latitude\n",
      "latitude longitude\n",
      "longitude medium\n",
      "medium metro\n",
      "metro mobileDeviceBranding\n",
      "mobileDeviceBranding mobileDeviceInfo\n",
      "mobileDeviceInfo mobileDeviceMarketingName\n",
      "mobileDeviceMarketingName mobileDeviceModel\n",
      "mobileDeviceModel mobileInputSelector\n",
      "mobileInputSelector networkDomain\n",
      "networkDomain networkLocation\n",
      "networkLocation newVisits\n",
      "newVisits operatingSystem\n",
      "operatingSystem operatingSystemVersion\n",
      "operatingSystemVersion pageviews\n",
      "pageviews referralPath\n",
      "referralPath region\n",
      "region screenColors\n",
      "screenColors screenResolution\n",
      "screenResolution sessionQualityDim\n",
      "sessionQualityDim socialEngagementType\n",
      "socialEngagementType source\n",
      "source subContinent\n",
      "subContinent timeOnSite\n",
      "timeOnSite totalTransactionRevenue\n",
      "totalTransactionRevenue transactionRevenue\n",
      "transactionRevenue transactions\n",
      "transactions visitId\n",
      "visitId visitNumber\n",
      "visitNumber visitStartTime\n",
      "visitStartTime visits\n"
     ]
    }
   ],
   "source": [
    "for one, two in zip(df, df2):\n",
    "    if one != two:\n",
    "        print(one, two)"
   ]
  },
  {
   "cell_type": "code",
   "execution_count": 49,
   "metadata": {},
   "outputs": [
    {
     "data": {
      "text/plain": [
       "['adContent',\n",
       " 'adwordsClickInfo',\n",
       " 'bounces',\n",
       " 'browser',\n",
       " 'browserSize',\n",
       " 'browserVersion',\n",
       " 'campaign',\n",
       " 'channelGrouping',\n",
       " 'city',\n",
       " 'cityId',\n",
       " 'continent',\n",
       " 'country',\n",
       " 'customDimensions',\n",
       " 'date',\n",
       " 'deviceCategory',\n",
       " 'flashVersion',\n",
       " 'fullVisitorId',\n",
       " 'hits',\n",
       " 'isMobile',\n",
       " 'isTrueDirect',\n",
       " 'keyword',\n",
       " 'language',\n",
       " 'latitude',\n",
       " 'longitude',\n",
       " 'medium',\n",
       " 'metro',\n",
       " 'mobileDeviceBranding',\n",
       " 'mobileDeviceInfo',\n",
       " 'mobileDeviceMarketingName',\n",
       " 'mobileDeviceModel',\n",
       " 'mobileInputSelector',\n",
       " 'networkDomain',\n",
       " 'networkLocation',\n",
       " 'newVisits',\n",
       " 'operatingSystem',\n",
       " 'operatingSystemVersion',\n",
       " 'pageviews',\n",
       " 'referralPath',\n",
       " 'region',\n",
       " 'screenColors',\n",
       " 'screenResolution',\n",
       " 'sessionQualityDim',\n",
       " 'socialEngagementType',\n",
       " 'source',\n",
       " 'subContinent',\n",
       " 'timeOnSite',\n",
       " 'totalTransactionRevenue',\n",
       " 'transactionRevenue',\n",
       " 'transactions',\n",
       " 'visitId',\n",
       " 'visitNumber',\n",
       " 'visitStartTime',\n",
       " 'visits']"
      ]
     },
     "execution_count": 49,
     "metadata": {},
     "output_type": "execute_result"
    }
   ],
   "source": [
    "df2"
   ]
  },
  {
   "cell_type": "code",
   "execution_count": 48,
   "metadata": {},
   "outputs": [
    {
     "data": {
      "text/plain": [
       "['adContent',\n",
       " 'adwordsClickInfo',\n",
       " 'bounces',\n",
       " 'browser',\n",
       " 'browserSize',\n",
       " 'browserVersion',\n",
       " 'campaign',\n",
       " 'campaignCode',\n",
       " 'channelGrouping',\n",
       " 'city',\n",
       " 'cityId',\n",
       " 'continent',\n",
       " 'country',\n",
       " 'customDimensions',\n",
       " 'date',\n",
       " 'deviceCategory',\n",
       " 'flashVersion',\n",
       " 'fullVisitorId',\n",
       " 'hits',\n",
       " 'isMobile',\n",
       " 'isTrueDirect',\n",
       " 'keyword',\n",
       " 'language',\n",
       " 'latitude',\n",
       " 'longitude',\n",
       " 'medium',\n",
       " 'metro',\n",
       " 'mobileDeviceBranding',\n",
       " 'mobileDeviceInfo',\n",
       " 'mobileDeviceMarketingName',\n",
       " 'mobileDeviceModel',\n",
       " 'mobileInputSelector',\n",
       " 'networkDomain',\n",
       " 'networkLocation',\n",
       " 'newVisits',\n",
       " 'operatingSystem',\n",
       " 'operatingSystemVersion',\n",
       " 'pageviews',\n",
       " 'referralPath',\n",
       " 'region',\n",
       " 'screenColors',\n",
       " 'screenResolution',\n",
       " 'sessionQualityDim',\n",
       " 'socialEngagementType',\n",
       " 'source',\n",
       " 'subContinent',\n",
       " 'timeOnSite',\n",
       " 'totalTransactionRevenue',\n",
       " 'transactionRevenue',\n",
       " 'transactions',\n",
       " 'visitId',\n",
       " 'visitNumber',\n",
       " 'visitStartTime',\n",
       " 'visits']"
      ]
     },
     "execution_count": 48,
     "metadata": {},
     "output_type": "execute_result"
    }
   ],
   "source": [
    "df"
   ]
  },
  {
   "cell_type": "code",
   "execution_count": 40,
   "metadata": {},
   "outputs": [],
   "source": [
    "d = {}\n",
    "for one in df:\n",
    "    d[one] = 1"
   ]
  },
  {
   "cell_type": "code",
   "execution_count": 41,
   "metadata": {},
   "outputs": [],
   "source": [
    "d2 = {}\n",
    "for two in df2:\n",
    "    d2[two] = 1"
   ]
  },
  {
   "cell_type": "code",
   "execution_count": 42,
   "metadata": {},
   "outputs": [
    {
     "data": {
      "text/plain": [
       "dict_keys(['channelGrouping', 'customDimensions', 'date', 'fullVisitorId', 'socialEngagementType', 'visitId', 'visitNumber', 'visitStartTime', 'browser', 'browserVersion', 'browserSize', 'operatingSystem', 'operatingSystemVersion', 'isMobile', 'mobileDeviceBranding', 'mobileDeviceModel', 'mobileInputSelector', 'mobileDeviceInfo', 'mobileDeviceMarketingName', 'flashVersion', 'language', 'screenColors', 'screenResolution', 'deviceCategory', 'continent', 'subContinent', 'country', 'region', 'metro', 'city', 'cityId', 'networkDomain', 'latitude', 'longitude', 'networkLocation', 'visits', 'hits', 'pageviews', 'bounces', 'newVisits', 'sessionQualityDim', 'timeOnSite', 'transactions', 'transactionRevenue', 'totalTransactionRevenue', 'campaign', 'source', 'medium', 'keyword', 'adwordsClickInfo', 'referralPath', 'isTrueDirect', 'adContent', 'campaignCode'])"
      ]
     },
     "execution_count": 42,
     "metadata": {},
     "output_type": "execute_result"
    }
   ],
   "source": [
    "d.keys()"
   ]
  },
  {
   "cell_type": "code",
   "execution_count": 43,
   "metadata": {},
   "outputs": [
    {
     "data": {
      "text/plain": [
       "dict_keys(['channelGrouping', 'customDimensions', 'date', 'fullVisitorId', 'socialEngagementType', 'visitId', 'visitNumber', 'visitStartTime', 'browser', 'browserVersion', 'browserSize', 'operatingSystem', 'operatingSystemVersion', 'isMobile', 'mobileDeviceBranding', 'mobileDeviceModel', 'mobileInputSelector', 'mobileDeviceInfo', 'mobileDeviceMarketingName', 'flashVersion', 'language', 'screenColors', 'screenResolution', 'deviceCategory', 'continent', 'subContinent', 'country', 'region', 'metro', 'city', 'cityId', 'networkDomain', 'latitude', 'longitude', 'networkLocation', 'visits', 'hits', 'pageviews', 'timeOnSite', 'sessionQualityDim', 'newVisits', 'transactions', 'transactionRevenue', 'totalTransactionRevenue', 'bounces', 'campaign', 'source', 'medium', 'keyword', 'adwordsClickInfo', 'isTrueDirect', 'referralPath', 'adContent'])"
      ]
     },
     "execution_count": 43,
     "metadata": {},
     "output_type": "execute_result"
    }
   ],
   "source": [
    "d2.keys()"
   ]
  },
  {
   "cell_type": "code",
   "execution_count": 2,
   "metadata": {},
   "outputs": [],
   "source": [
    "df= pd.read_pickle(\"preprocessed_train_set_without_hits.pkl\")"
   ]
  },
  {
   "cell_type": "code",
   "execution_count": 54,
   "metadata": {},
   "outputs": [],
   "source": [
    "df.drop([\"campaignCode\"], axis=1, inplace=True)"
   ]
  },
  {
   "cell_type": "code",
   "execution_count": 55,
   "metadata": {},
   "outputs": [],
   "source": [
    "df.to_pickle(\"preprocessed_train_set_without_hits.pkl\")"
   ]
  },
  {
   "cell_type": "code",
   "execution_count": 60,
   "metadata": {},
   "outputs": [],
   "source": [
    "tf = pd.read_pickle(\"preprocessed_test_set_without_hits.pkl\")"
   ]
  },
  {
   "cell_type": "code",
   "execution_count": 61,
   "metadata": {},
   "outputs": [],
   "source": [
    "tf = sorted(list(tf.keys()))"
   ]
  },
  {
   "cell_type": "code",
   "execution_count": null,
   "metadata": {},
   "outputs": [],
   "source": [
    "original_hits_column.to_pickle(\"test_set_hits_column.pkl\")"
   ]
  },
  {
   "cell_type": "code",
   "execution_count": 3,
   "metadata": {},
   "outputs": [
    {
     "data": {
      "text/plain": [
       "(803178, 53)"
      ]
     },
     "execution_count": 3,
     "metadata": {},
     "output_type": "execute_result"
    }
   ],
   "source": [
    "df.shape"
   ]
  },
  {
   "cell_type": "code",
   "execution_count": 22,
   "metadata": {},
   "outputs": [
    {
     "name": "stdout",
     "output_type": "stream",
     "text": [
      "channelGrouping\n",
      "(Other)               52\n",
      "Affiliates         14892\n",
      "Direct            130066\n",
      "Display            23662\n",
      "Organic Search    338636\n",
      "Paid Search        21531\n",
      "Referral          101174\n",
      "Social            173165\n",
      "dtype: int64\n",
      "\n",
      "\n",
      "\n",
      "\n",
      "<class 'pandas.core.series.Series'>\n",
      "(Other) 52\n",
      "Affiliates 14892\n",
      "Direct 130066\n",
      "Display 23662\n",
      "Organic Search 338636\n",
      "Paid Search 21531\n",
      "Referral 101174\n",
      "Social 173165\n"
     ]
    }
   ],
   "source": [
    "for column in df.keys():\n",
    "    print(df.groupby(column).size())\n",
    "    print(\"\\n\")\n",
    "    print(\"\\n\")\n",
    "    print(type(df.groupby(column).size()))\n",
    "    a = df.groupby(column).size()\n",
    "    for k, v in a.iteritems():\n",
    "        print(k, v)\n",
    "    break\n",
    "    "
   ]
  },
  {
   "cell_type": "code",
   "execution_count": 4,
   "metadata": {},
   "outputs": [],
   "source": [
    "df2 = pd.read_pickle(\"preprocessed_train_set_without_hits2.pkl\")"
   ]
  },
  {
   "cell_type": "code",
   "execution_count": 15,
   "metadata": {},
   "outputs": [
    {
     "name": "stdout",
     "output_type": "stream",
     "text": [
      "channelGrouping\n",
      "(Other)               85\n",
      "Affiliates         18023\n",
      "Direct            143068\n",
      "Display            27621\n",
      "Organic Search    400328\n",
      "Paid Search        24096\n",
      "Referral          110133\n",
      "Social            181806\n",
      "dtype: int64\n",
      "\n",
      "\n",
      "\n",
      "\n"
     ]
    }
   ],
   "source": [
    "for column in df2.keys():\n",
    "    print(df2.groupby(column).size())\n",
    "    print(\"\\n\")\n",
    "    print(\"\\n\")\n",
    "    break"
   ]
  },
  {
   "cell_type": "code",
   "execution_count": 5,
   "metadata": {},
   "outputs": [],
   "source": [
    "total = []\n",
    "xaxis = []\n",
    "column_names = list(df.keys())"
   ]
  },
  {
   "cell_type": "code",
   "execution_count": 7,
   "metadata": {},
   "outputs": [
    {
     "data": {
      "text/plain": [
       "['channelGrouping',\n",
       " 'customDimensions',\n",
       " 'date',\n",
       " 'fullVisitorId',\n",
       " 'socialEngagementType',\n",
       " 'visitId',\n",
       " 'visitNumber',\n",
       " 'visitStartTime',\n",
       " 'browser',\n",
       " 'browserVersion',\n",
       " 'browserSize',\n",
       " 'operatingSystem',\n",
       " 'operatingSystemVersion',\n",
       " 'isMobile',\n",
       " 'mobileDeviceBranding',\n",
       " 'mobileDeviceModel',\n",
       " 'mobileInputSelector',\n",
       " 'mobileDeviceInfo',\n",
       " 'mobileDeviceMarketingName',\n",
       " 'flashVersion',\n",
       " 'language',\n",
       " 'screenColors',\n",
       " 'screenResolution',\n",
       " 'deviceCategory',\n",
       " 'continent',\n",
       " 'subContinent',\n",
       " 'country',\n",
       " 'region',\n",
       " 'metro',\n",
       " 'city',\n",
       " 'cityId',\n",
       " 'networkDomain',\n",
       " 'latitude',\n",
       " 'longitude',\n",
       " 'networkLocation',\n",
       " 'visits',\n",
       " 'hits',\n",
       " 'pageviews',\n",
       " 'bounces',\n",
       " 'newVisits',\n",
       " 'sessionQualityDim',\n",
       " 'timeOnSite',\n",
       " 'transactions',\n",
       " 'transactionRevenue',\n",
       " 'totalTransactionRevenue',\n",
       " 'campaign',\n",
       " 'source',\n",
       " 'medium',\n",
       " 'keyword',\n",
       " 'adwordsClickInfo',\n",
       " 'referralPath',\n",
       " 'isTrueDirect',\n",
       " 'adContent']"
      ]
     },
     "execution_count": 7,
     "metadata": {},
     "output_type": "execute_result"
    }
   ],
   "source": [
    "column_names"
   ]
  },
  {
   "cell_type": "code",
   "execution_count": 14,
   "metadata": {
    "scrolled": true
   },
   "outputs": [
    {
     "data": {
      "text/plain": [
       "socialEngagementType\n",
       "Not Socially Engaged    803178\n",
       "dtype: int64"
      ]
     },
     "execution_count": 14,
     "metadata": {},
     "output_type": "execute_result"
    }
   ],
   "source": [
    "df.groupby(\"socialEngagementType\").size()"
   ]
  },
  {
   "cell_type": "code",
   "execution_count": 13,
   "metadata": {
    "scrolled": true
   },
   "outputs": [
    {
     "data": {
      "text/plain": [
       "socialEngagementType\n",
       "Not Socially Engaged    905160\n",
       "dtype: int64"
      ]
     },
     "execution_count": 13,
     "metadata": {},
     "output_type": "execute_result"
    }
   ],
   "source": [
    "df2.groupby(\"socialEngagementType\").size()"
   ]
  },
  {
   "cell_type": "code",
   "execution_count": 15,
   "metadata": {},
   "outputs": [
    {
     "data": {
      "text/plain": [
       "visitNumber\n",
       "1      616774\n",
       "2       84785\n",
       "3       32971\n",
       "4       17705\n",
       "5       10766\n",
       "6        7277\n",
       "7        5192\n",
       "8        3894\n",
       "9        2979\n",
       "10       2387\n",
       "11       1884\n",
       "12       1559\n",
       "13       1308\n",
       "14       1058\n",
       "15        914\n",
       "16        829\n",
       "17        672\n",
       "18        617\n",
       "19        581\n",
       "20        490\n",
       "21        446\n",
       "22        388\n",
       "23        362\n",
       "24        321\n",
       "25        308\n",
       "26        275\n",
       "27        267\n",
       "28        234\n",
       "29        193\n",
       "30        187\n",
       "        ...  \n",
       "403         1\n",
       "404         1\n",
       "407         1\n",
       "408         1\n",
       "413         1\n",
       "414         1\n",
       "416         1\n",
       "418         1\n",
       "420         1\n",
       "421         1\n",
       "422         1\n",
       "423         1\n",
       "424         1\n",
       "425         1\n",
       "428         1\n",
       "429         1\n",
       "432         1\n",
       "440         1\n",
       "441         1\n",
       "443         1\n",
       "445         1\n",
       "447         1\n",
       "448         1\n",
       "449         1\n",
       "450         1\n",
       "452         1\n",
       "453         1\n",
       "455         1\n",
       "456         1\n",
       "457         1\n",
       "Length: 389, dtype: int64"
      ]
     },
     "execution_count": 15,
     "metadata": {},
     "output_type": "execute_result"
    }
   ],
   "source": [
    "df.groupby(\"visitNumber\").size()"
   ]
  },
  {
   "cell_type": "code",
   "execution_count": 16,
   "metadata": {},
   "outputs": [
    {
     "data": {
      "text/plain": [
       "visitNumber\n",
       "1      690656\n",
       "2       97758\n",
       "3       37991\n",
       "4       20181\n",
       "5       12548\n",
       "6        8425\n",
       "7        6002\n",
       "8        4444\n",
       "9        3371\n",
       "10       2631\n",
       "11       2123\n",
       "12       1724\n",
       "13       1421\n",
       "14       1253\n",
       "15       1067\n",
       "16        908\n",
       "17        840\n",
       "18        729\n",
       "19        614\n",
       "20        583\n",
       "21        509\n",
       "22        478\n",
       "23        404\n",
       "24        395\n",
       "25        353\n",
       "26        328\n",
       "27        282\n",
       "28        272\n",
       "29        273\n",
       "30        249\n",
       "        ...  \n",
       "393         1\n",
       "394         1\n",
       "397         2\n",
       "398         1\n",
       "399         1\n",
       "405         1\n",
       "406         1\n",
       "409         1\n",
       "410         1\n",
       "411         1\n",
       "412         1\n",
       "415         1\n",
       "417         1\n",
       "419         1\n",
       "426         1\n",
       "427         1\n",
       "430         1\n",
       "431         1\n",
       "433         1\n",
       "434         1\n",
       "435         1\n",
       "436         1\n",
       "437         1\n",
       "438         1\n",
       "439         1\n",
       "442         1\n",
       "444         1\n",
       "446         1\n",
       "451         1\n",
       "454         1\n",
       "Length: 401, dtype: int64"
      ]
     },
     "execution_count": 16,
     "metadata": {},
     "output_type": "execute_result"
    }
   ],
   "source": [
    "df2.groupby(\"visitNumber\").size()"
   ]
  },
  {
   "cell_type": "code",
   "execution_count": 17,
   "metadata": {},
   "outputs": [
    {
     "data": {
      "text/plain": [
       "browser\n",
       "(not set)                                                    2\n",
       "+Simple Browser                                              4\n",
       ";__CT_JOB_ID__:2547db0b-ec43-452a-a0d4-ff42b7dc7907;         1\n",
       ";__CT_JOB_ID__:4333777f-bb0c-4a18-935e-df5658dbce2d;         1\n",
       ";__CT_JOB_ID__:58e2ecba-7666-4a10-b498-8216457ce472;         1\n",
       ";__CT_JOB_ID__:65da7e5f-0f05-4b5d-8d31-1f4d470a2b82;         1\n",
       ";__CT_JOB_ID__:6e9dcf2f-f58f-4938-91e3-77e00868177b;         1\n",
       ";__CT_JOB_ID__:7e575295-571e-4e82-9254-7f2c8bbb9183;         1\n",
       ";__CT_JOB_ID__:89e59554-ad41-4e94-957b-f12bd012530c;         1\n",
       ";__CT_JOB_ID__:a4f837b8-8d78-4c42-ba9a-d870cf1a4a7e;         1\n",
       ";__CT_JOB_ID__:a80e8e16-6e98-455b-885a-a4dd40f3d344;         1\n",
       ";__CT_JOB_ID__:d14534ff-e2fc-4692-92aa-e34508f1c418;         1\n",
       ";__CT_JOB_ID__:dd6177aa-1baa-4007-9b38-b7cab4f7611c;         1\n",
       "ADM                                                          1\n",
       "Amazon Silk                                                708\n",
       "Amazon.com                                                   1\n",
       "Android Browser                                            465\n",
       "Android Runtime                                              1\n",
       "Android Webview                                          14649\n",
       "Apple-iPhone7C2                                              4\n",
       "Autn-WKOOP                                                   2\n",
       "BlackBerry                                                 122\n",
       "Browser                                                      2\n",
       "CSM Click                                                    1\n",
       "Changa 99695759                                              1\n",
       "Chrome                                                  550947\n",
       "Coc Coc                                                    546\n",
       "DASH_JR_3G                                                   2\n",
       "DDG-Android-3.1.1                                            1\n",
       "DESKTOP                                                      3\n",
       "                                                         ...  \n",
       "Mozilla Compatible Agent                                   255\n",
       "Netscape                                                     1\n",
       "Nichrome                                                     4\n",
       "Nintendo Browser                                            79\n",
       "Nokia Browser                                               50\n",
       "NokiaE52-1                                                   1\n",
       "Opera                                                     4466\n",
       "Opera Mini                                                6847\n",
       "Playstation Vita Browser                                     3\n",
       "Puffin                                                     108\n",
       "SAMSUNG-SM-B355E Opera                                       1\n",
       "Safari                                                  150162\n",
       "Safari (in-app)                                           5745\n",
       "Samsung Internet                                          7619\n",
       "SeaMonkey                                                   12\n",
       "Seznam                                                       9\n",
       "ThumbSniper                                                  2\n",
       "UC Browser                                                2432\n",
       "YE                                                           1\n",
       "YaBrowser                                                 1504\n",
       "[Use default User-agent string] LIVRENPOCHE                  1\n",
       "epxmjusghnvircdfkwqlotzbay                                   1\n",
       "flobzsdixhuwqakptjmcrveygn                                   1\n",
       "jdbknvrluyeaxoipgwczmthsqf                                   1\n",
       "njroiedbwpmvykqlatxzuhcfgs                                   1\n",
       "no-ua                                                        2\n",
       "osee2unifiedRelease                                         15\n",
       "subjectAgent: NoticiasBoom                                   1\n",
       "tfowdqmibyshaklxuregpcnzvj                                   1\n",
       "vjebamzrktwcysxpdlonhiufqg                                   1\n",
       "Length: 76, dtype: int64"
      ]
     },
     "execution_count": 17,
     "metadata": {},
     "output_type": "execute_result"
    }
   ],
   "source": [
    "df.groupby(\"browser\").size()"
   ]
  },
  {
   "cell_type": "code",
   "execution_count": 18,
   "metadata": {},
   "outputs": [
    {
     "data": {
      "text/plain": [
       "browser\n",
       "(not set)                                                   10\n",
       "+Simple Browser                                              4\n",
       "0                                                            7\n",
       ";__CT_JOB_ID__:0a075729-93a5-43d0-9638-4cbd41d5f5a5;         1\n",
       ";__CT_JOB_ID__:0b39e7ca-1431-42e3-ba1f-9d8951a65840;         1\n",
       ";__CT_JOB_ID__:2e0eca60-83ab-482d-bb81-343d113254fb;         1\n",
       ";__CT_JOB_ID__:76fd1acb-e365-43c0-b967-908bcf5d5b59;         1\n",
       ";__CT_JOB_ID__:85da5736-a78e-45a9-837e-f5a53e5cd725;         1\n",
       ";__CT_JOB_ID__:97909e28-4228-4b55-8ad5-cc791f2b583c;         1\n",
       ";__CT_JOB_ID__:a24a8978-e5e8-4dc9-af66-c4ed89ea25d7;         1\n",
       ";__CT_JOB_ID__:a7ed0808-e70c-4b19-b1a3-1018bbb7dc7f;         1\n",
       ";__CT_JOB_ID__:fe02e46f-b6ae-41f1-8563-3b40bbb623a9;         1\n",
       "Amazon Silk                                                759\n",
       "Amazon.com                                                   1\n",
       "Android Browser                                            476\n",
       "Android Runtime                                              1\n",
       "Android Webview                                          19617\n",
       "Apple-iPhone7C2                                             12\n",
       "Autn-WKOOP                                                   2\n",
       "BlackBerry                                                 121\n",
       "Browser                                                      3\n",
       "CSM Click                                                    3\n",
       "Chrome                                                  622110\n",
       "Coc Coc                                                    696\n",
       "DASH_JR_3G                                                   2\n",
       "DESKTOP                                                      2\n",
       "Dillo                                                        1\n",
       "Edge                                                     11109\n",
       "Firefox                                                  34111\n",
       "Hisense M20-M_LTE                                            1\n",
       "                                                         ...  \n",
       "ecwozghsufybtdkjrlvxpamiqn                                   1\n",
       "efkaxnbyohqtspzlvcwrjmigdu                                   1\n",
       "ejpxuidzlmagvthsfbqnkwyocr                                   1\n",
       "eosutpkiahjzvdgcwxlmyfqbrn                                   1\n",
       "flwadqukonrjegpbisyxztvhcm                                   1\n",
       "fspmihbxzowgnuctrqykjlvade                                   1\n",
       "hbijxvdyrgnatwzmlcpkfusqoe                                   1\n",
       "ighfsbrmpoctzjqxlywdenvuka                                   1\n",
       "jscatcher                                                    1\n",
       "kqebrzuwmiycxdvtoljnhsfpga                                   1\n",
       "lhkbrtuwomdeafnqygvxcspizj                                   1\n",
       "lpmqaxwbzyteokrfusnjhvdigc                                   1\n",
       "lxjwoyfivgdbkqtuzsrmhencpa                                   1\n",
       "mhwxofpevcagujznbsiqlrkytd                                   1\n",
       "no-ua                                                        2\n",
       "ohfgqlpiuyknvmbctszjarxdwe                                   1\n",
       "ohukwejvqmdtibfrzpycgxanls                                   1\n",
       "osee2unifiedRelease                                         12\n",
       "rbydojcflwzvnuaepmsgxhiktq                                   1\n",
       "rpfanjzoxyemsgbtichqkudwlv                                   1\n",
       "starmaker                                                    1\n",
       "uhdypcxbgzajmeqwlofnrsitkv                                   1\n",
       "ujvrzsonxihlgaqdmkwtbfcpey                                   1\n",
       "uybjlgntzwpacihremkqsxdovf                                   1\n",
       "wdhtapevfnqzskcroxgjmiybul                                   1\n",
       "wfpknuqxovyilmrdzbhgtecjas                                   1\n",
       "wncrmxukofqljsgvzahiybpdet                                   1\n",
       "wvsmagudcqeytijorlhxnfzkbp                                   1\n",
       "ymzsbiduaejrchvxlwkfnqgtop                                   1\n",
       "zurcqesbhljxmpwdgnvkoyafit                                   1\n",
       "Length: 103, dtype: int64"
      ]
     },
     "execution_count": 18,
     "metadata": {},
     "output_type": "execute_result"
    }
   ],
   "source": [
    "df2.groupby(\"browser\").size()\n"
   ]
  },
  {
   "cell_type": "code",
   "execution_count": 19,
   "metadata": {},
   "outputs": [
    {
     "data": {
      "text/plain": [
       "browserVersion\n",
       "not available in demo dataset    803178\n",
       "dtype: int64"
      ]
     },
     "execution_count": 19,
     "metadata": {},
     "output_type": "execute_result"
    }
   ],
   "source": [
    "df.groupby(\"browserVersion\").size()"
   ]
  },
  {
   "cell_type": "code",
   "execution_count": 20,
   "metadata": {},
   "outputs": [
    {
     "data": {
      "text/plain": [
       "browserVersion\n",
       "not available in demo dataset    905160\n",
       "dtype: int64"
      ]
     },
     "execution_count": 20,
     "metadata": {},
     "output_type": "execute_result"
    }
   ],
   "source": [
    "df2.groupby(\"browserVersion\").size()\n"
   ]
  },
  {
   "cell_type": "code",
   "execution_count": 21,
   "metadata": {},
   "outputs": [
    {
     "data": {
      "text/plain": [
       "browserSize\n",
       "not available in demo dataset    803178\n",
       "dtype: int64"
      ]
     },
     "execution_count": 21,
     "metadata": {},
     "output_type": "execute_result"
    }
   ],
   "source": [
    "df.groupby(\"browserSize\").size()"
   ]
  },
  {
   "cell_type": "code",
   "execution_count": 22,
   "metadata": {},
   "outputs": [
    {
     "data": {
      "text/plain": [
       "browserSize\n",
       "not available in demo dataset    905160\n",
       "dtype: int64"
      ]
     },
     "execution_count": 22,
     "metadata": {},
     "output_type": "execute_result"
    }
   ],
   "source": [
    "df2.groupby(\"browserSize\").size()"
   ]
  },
  {
   "cell_type": "code",
   "execution_count": 23,
   "metadata": {},
   "outputs": [
    {
     "data": {
      "text/plain": [
       "operatingSystem\n",
       "(not set)             5306\n",
       "Android             138739\n",
       "BlackBerry             169\n",
       "Chrome OS            23748\n",
       "Firefox OS              52\n",
       "FreeBSD                  8\n",
       "Linux                30282\n",
       "Macintosh           210840\n",
       "NTT DoCoMo               1\n",
       "Nintendo 3DS             5\n",
       "Nintendo Wii            53\n",
       "Nintendo WiiU           19\n",
       "Nokia                    1\n",
       "OS/2                    98\n",
       "OpenBSD                  1\n",
       "Playstation Vita         3\n",
       "Samsung                420\n",
       "SunOS                    2\n",
       "SymbianOS                1\n",
       "Tizen                  310\n",
       "Windows             292320\n",
       "Windows Phone          785\n",
       "Xbox                    58\n",
       "iOS                  99957\n",
       "dtype: int64"
      ]
     },
     "execution_count": 23,
     "metadata": {},
     "output_type": "execute_result"
    }
   ],
   "source": [
    "df.groupby(\"operatingSystem\").size()"
   ]
  },
  {
   "cell_type": "code",
   "execution_count": 24,
   "metadata": {},
   "outputs": [
    {
     "data": {
      "text/plain": [
       "operatingSystem\n",
       "(not set)             6509\n",
       "Android             160648\n",
       "BlackBerry             181\n",
       "Chrome OS            27570\n",
       "Firefox OS              45\n",
       "FreeBSD                 10\n",
       "Linux                33689\n",
       "Macintosh           227674\n",
       "Nintendo 3DS             4\n",
       "Nintendo Wii            47\n",
       "Nintendo WiiU           32\n",
       "Nokia                    2\n",
       "OS/2                   101\n",
       "OpenBSD                  2\n",
       "Playstation Vita        12\n",
       "Samsung                491\n",
       "SunOS                    1\n",
       "SymbianOS                1\n",
       "Tizen                  399\n",
       "Windows             327400\n",
       "Windows Phone          890\n",
       "Xbox                    75\n",
       "iOS                 119377\n",
       "dtype: int64"
      ]
     },
     "execution_count": 24,
     "metadata": {},
     "output_type": "execute_result"
    }
   ],
   "source": [
    "df2.groupby(\"operatingSystem\").size()"
   ]
  },
  {
   "cell_type": "code",
   "execution_count": 25,
   "metadata": {
    "scrolled": true
   },
   "outputs": [
    {
     "data": {
      "text/plain": [
       "operatingSystemVersion\n",
       "not available in demo dataset    803178\n",
       "dtype: int64"
      ]
     },
     "execution_count": 25,
     "metadata": {},
     "output_type": "execute_result"
    }
   ],
   "source": [
    "df.groupby(\"operatingSystemVersion\").size()"
   ]
  },
  {
   "cell_type": "code",
   "execution_count": 26,
   "metadata": {},
   "outputs": [
    {
     "data": {
      "text/plain": [
       "operatingSystemVersion\n",
       "not available in demo dataset    905160\n",
       "dtype: int64"
      ]
     },
     "execution_count": 26,
     "metadata": {},
     "output_type": "execute_result"
    }
   ],
   "source": [
    "df2.groupby(\"operatingSystemVersion\").size()"
   ]
  },
  {
   "cell_type": "code",
   "execution_count": 27,
   "metadata": {},
   "outputs": [
    {
     "data": {
      "text/plain": [
       "isMobile\n",
       "False    556257\n",
       "True     246921\n",
       "dtype: int64"
      ]
     },
     "execution_count": 27,
     "metadata": {},
     "output_type": "execute_result"
    }
   ],
   "source": [
    "df.groupby(\"isMobile\").size()"
   ]
  },
  {
   "cell_type": "code",
   "execution_count": 28,
   "metadata": {},
   "outputs": [
    {
     "data": {
      "text/plain": [
       "isMobile\n",
       "False    615413\n",
       "True     289747\n",
       "dtype: int64"
      ]
     },
     "execution_count": 28,
     "metadata": {},
     "output_type": "execute_result"
    }
   ],
   "source": [
    "df2.groupby(\"isMobile\").size()"
   ]
  },
  {
   "cell_type": "code",
   "execution_count": 29,
   "metadata": {},
   "outputs": [
    {
     "data": {
      "text/plain": [
       "mobileDeviceBranding\n",
       "not available in demo dataset    803178\n",
       "dtype: int64"
      ]
     },
     "execution_count": 29,
     "metadata": {},
     "output_type": "execute_result"
    }
   ],
   "source": [
    "df.groupby(\"mobileDeviceBranding\").size()"
   ]
  },
  {
   "cell_type": "code",
   "execution_count": 30,
   "metadata": {},
   "outputs": [
    {
     "data": {
      "text/plain": [
       "mobileDeviceBranding\n",
       "not available in demo dataset    905160\n",
       "dtype: int64"
      ]
     },
     "execution_count": 30,
     "metadata": {},
     "output_type": "execute_result"
    }
   ],
   "source": [
    "df2.groupby(\"mobileDeviceBranding\").size()"
   ]
  },
  {
   "cell_type": "code",
   "execution_count": 31,
   "metadata": {},
   "outputs": [
    {
     "data": {
      "text/plain": [
       "mobileDeviceModel\n",
       "not available in demo dataset    803178\n",
       "dtype: int64"
      ]
     },
     "execution_count": 31,
     "metadata": {},
     "output_type": "execute_result"
    }
   ],
   "source": [
    "df.groupby(\"mobileDeviceModel\").size()"
   ]
  },
  {
   "cell_type": "code",
   "execution_count": 32,
   "metadata": {},
   "outputs": [
    {
     "data": {
      "text/plain": [
       "mobileDeviceModel\n",
       "not available in demo dataset    905160\n",
       "dtype: int64"
      ]
     },
     "execution_count": 32,
     "metadata": {},
     "output_type": "execute_result"
    }
   ],
   "source": [
    "df2.groupby(\"mobileDeviceModel\").size()"
   ]
  },
  {
   "cell_type": "code",
   "execution_count": 33,
   "metadata": {},
   "outputs": [
    {
     "data": {
      "text/plain": [
       "mobileInputSelector\n",
       "not available in demo dataset    803178\n",
       "dtype: int64"
      ]
     },
     "execution_count": 33,
     "metadata": {},
     "output_type": "execute_result"
    }
   ],
   "source": [
    "df.groupby(\"mobileInputSelector\").size()"
   ]
  },
  {
   "cell_type": "code",
   "execution_count": 34,
   "metadata": {},
   "outputs": [
    {
     "data": {
      "text/plain": [
       "mobileInputSelector\n",
       "not available in demo dataset    905160\n",
       "dtype: int64"
      ]
     },
     "execution_count": 34,
     "metadata": {},
     "output_type": "execute_result"
    }
   ],
   "source": [
    "df2.groupby(\"mobileInputSelector\").size()"
   ]
  },
  {
   "cell_type": "code",
   "execution_count": 35,
   "metadata": {},
   "outputs": [
    {
     "data": {
      "text/plain": [
       "mobileDeviceInfo\n",
       "not available in demo dataset    803178\n",
       "dtype: int64"
      ]
     },
     "execution_count": 35,
     "metadata": {},
     "output_type": "execute_result"
    }
   ],
   "source": [
    "df.groupby(\"mobileDeviceInfo\").size()"
   ]
  },
  {
   "cell_type": "code",
   "execution_count": 36,
   "metadata": {},
   "outputs": [
    {
     "data": {
      "text/plain": [
       "mobileDeviceInfo\n",
       "not available in demo dataset    905160\n",
       "dtype: int64"
      ]
     },
     "execution_count": 36,
     "metadata": {},
     "output_type": "execute_result"
    }
   ],
   "source": [
    "df2.groupby(\"mobileDeviceInfo\").size()"
   ]
  },
  {
   "cell_type": "code",
   "execution_count": 37,
   "metadata": {},
   "outputs": [
    {
     "data": {
      "text/plain": [
       "mobileDeviceMarketingName\n",
       "not available in demo dataset    803178\n",
       "dtype: int64"
      ]
     },
     "execution_count": 37,
     "metadata": {},
     "output_type": "execute_result"
    }
   ],
   "source": [
    "df.groupby(\"mobileDeviceMarketingName\").size()"
   ]
  },
  {
   "cell_type": "code",
   "execution_count": 38,
   "metadata": {},
   "outputs": [
    {
     "data": {
      "text/plain": [
       "mobileDeviceMarketingName\n",
       "not available in demo dataset    905160\n",
       "dtype: int64"
      ]
     },
     "execution_count": 38,
     "metadata": {},
     "output_type": "execute_result"
    }
   ],
   "source": [
    "df2.groupby(\"mobileDeviceMarketingName\").size()"
   ]
  },
  {
   "cell_type": "code",
   "execution_count": 39,
   "metadata": {},
   "outputs": [
    {
     "data": {
      "text/plain": [
       "flashVersion\n",
       "not available in demo dataset    803178\n",
       "dtype: int64"
      ]
     },
     "execution_count": 39,
     "metadata": {},
     "output_type": "execute_result"
    }
   ],
   "source": [
    "df.groupby(\"flashVersion\").size()"
   ]
  },
  {
   "cell_type": "code",
   "execution_count": 40,
   "metadata": {},
   "outputs": [
    {
     "data": {
      "text/plain": [
       "flashVersion\n",
       "not available in demo dataset    905160\n",
       "dtype: int64"
      ]
     },
     "execution_count": 40,
     "metadata": {},
     "output_type": "execute_result"
    }
   ],
   "source": [
    "df2.groupby(\"flashVersion\").size()"
   ]
  },
  {
   "cell_type": "code",
   "execution_count": 41,
   "metadata": {},
   "outputs": [
    {
     "data": {
      "text/plain": [
       "language\n",
       "not available in demo dataset    803178\n",
       "dtype: int64"
      ]
     },
     "execution_count": 41,
     "metadata": {},
     "output_type": "execute_result"
    }
   ],
   "source": [
    "df.groupby(\"language\").size()"
   ]
  },
  {
   "cell_type": "code",
   "execution_count": 42,
   "metadata": {},
   "outputs": [
    {
     "data": {
      "text/plain": [
       "language\n",
       "not available in demo dataset    905160\n",
       "dtype: int64"
      ]
     },
     "execution_count": 42,
     "metadata": {},
     "output_type": "execute_result"
    }
   ],
   "source": [
    "df2.groupby(\"language\").size()"
   ]
  },
  {
   "cell_type": "code",
   "execution_count": 43,
   "metadata": {},
   "outputs": [
    {
     "data": {
      "text/plain": [
       "screenColors\n",
       "not available in demo dataset    803178\n",
       "dtype: int64"
      ]
     },
     "execution_count": 43,
     "metadata": {},
     "output_type": "execute_result"
    }
   ],
   "source": [
    "df.groupby(\"screenColors\").size()"
   ]
  },
  {
   "cell_type": "code",
   "execution_count": 44,
   "metadata": {},
   "outputs": [
    {
     "data": {
      "text/plain": [
       "screenColors\n",
       "not available in demo dataset    905160\n",
       "dtype: int64"
      ]
     },
     "execution_count": 44,
     "metadata": {},
     "output_type": "execute_result"
    }
   ],
   "source": [
    "df2.groupby(\"screenColors\").size()"
   ]
  },
  {
   "cell_type": "code",
   "execution_count": 45,
   "metadata": {},
   "outputs": [
    {
     "data": {
      "text/plain": [
       "screenResolution\n",
       "not available in demo dataset    803178\n",
       "dtype: int64"
      ]
     },
     "execution_count": 45,
     "metadata": {},
     "output_type": "execute_result"
    }
   ],
   "source": [
    "df.groupby(\"screenResolution\").size()"
   ]
  },
  {
   "cell_type": "code",
   "execution_count": 46,
   "metadata": {},
   "outputs": [
    {
     "data": {
      "text/plain": [
       "screenResolution\n",
       "not available in demo dataset    905160\n",
       "dtype: int64"
      ]
     },
     "execution_count": 46,
     "metadata": {},
     "output_type": "execute_result"
    }
   ],
   "source": [
    "df2.groupby(\"screenResolution\").size()"
   ]
  },
  {
   "cell_type": "code",
   "execution_count": 47,
   "metadata": {},
   "outputs": [
    {
     "data": {
      "text/plain": [
       "deviceCategory\n",
       "desktop    556219\n",
       "mobile     216414\n",
       "tablet      30545\n",
       "dtype: int64"
      ]
     },
     "execution_count": 47,
     "metadata": {},
     "output_type": "execute_result"
    }
   ],
   "source": [
    "df.groupby(\"deviceCategory\").size()"
   ]
  },
  {
   "cell_type": "code",
   "execution_count": 48,
   "metadata": {
    "scrolled": true
   },
   "outputs": [
    {
     "data": {
      "text/plain": [
       "deviceCategory\n",
       "desktop    615360\n",
       "mobile     254923\n",
       "tablet      34877\n",
       "dtype: int64"
      ]
     },
     "execution_count": 48,
     "metadata": {},
     "output_type": "execute_result"
    }
   ],
   "source": [
    "df2.groupby(\"deviceCategory\").size()"
   ]
  },
  {
   "cell_type": "code",
   "execution_count": 49,
   "metadata": {},
   "outputs": [
    {
     "data": {
      "text/plain": [
       "continent\n",
       "(not set)      1135\n",
       "Africa        16070\n",
       "Americas     413373\n",
       "Asia         189611\n",
       "Europe       170295\n",
       "Oceania       12694\n",
       "dtype: int64"
      ]
     },
     "execution_count": 49,
     "metadata": {},
     "output_type": "execute_result"
    }
   ],
   "source": [
    "df.groupby(\"continent\").size()"
   ]
  },
  {
   "cell_type": "code",
   "execution_count": 50,
   "metadata": {},
   "outputs": [
    {
     "data": {
      "text/plain": [
       "continent\n",
       "(not set)      1382\n",
       "Africa        19411\n",
       "Americas     464031\n",
       "Asia         207108\n",
       "Europe       197742\n",
       "Oceania       15486\n",
       "dtype: int64"
      ]
     },
     "execution_count": 50,
     "metadata": {},
     "output_type": "execute_result"
    }
   ],
   "source": [
    "df2.groupby(\"continent\").size()"
   ]
  },
  {
   "cell_type": "code",
   "execution_count": 51,
   "metadata": {},
   "outputs": [
    {
     "data": {
      "text/plain": [
       "subContinent\n",
       "(not set)               1135\n",
       "Australasia            12563\n",
       "Caribbean               2131\n",
       "Central America        14477\n",
       "Central Asia             965\n",
       "Eastern Africa          1905\n",
       "Eastern Asia           41953\n",
       "Eastern Europe         35020\n",
       "Melanesia                 65\n",
       "Micronesian Region        51\n",
       "Middle Africa            462\n",
       "Northern Africa         7798\n",
       "Northern America      359676\n",
       "Northern Europe        50975\n",
       "Polynesia                 15\n",
       "South America          37089\n",
       "Southeast Asia         61583\n",
       "Southern Africa         2621\n",
       "Southern Asia          55655\n",
       "Southern Europe        31122\n",
       "Western Africa          3284\n",
       "Western Asia           29455\n",
       "Western Europe         53178\n",
       "dtype: int64"
      ]
     },
     "execution_count": 51,
     "metadata": {},
     "output_type": "execute_result"
    }
   ],
   "source": [
    "df.groupby(\"subContinent\").size()"
   ]
  },
  {
   "cell_type": "code",
   "execution_count": 52,
   "metadata": {},
   "outputs": [
    {
     "data": {
      "text/plain": [
       "subContinent\n",
       "(not set)               1382\n",
       "Australasia            15304\n",
       "Caribbean               2251\n",
       "Central America        15087\n",
       "Central Asia            1020\n",
       "Eastern Africa          2289\n",
       "Eastern Asia           49119\n",
       "Eastern Europe         38987\n",
       "Melanesia                 68\n",
       "Micronesian Region        77\n",
       "Middle Africa            465\n",
       "Northern Africa         9457\n",
       "Northern America      408670\n",
       "Northern Europe        60718\n",
       "Polynesia                 37\n",
       "South America          38023\n",
       "Southeast Asia         60051\n",
       "Southern Africa         3398\n",
       "Southern Asia          65407\n",
       "Southern Europe        36062\n",
       "Western Africa          3802\n",
       "Western Asia           31511\n",
       "Western Europe         61975\n",
       "dtype: int64"
      ]
     },
     "execution_count": 52,
     "metadata": {},
     "output_type": "execute_result"
    }
   ],
   "source": [
    "df2.groupby(\"subContinent\").size()"
   ]
  },
  {
   "cell_type": "code",
   "execution_count": 53,
   "metadata": {},
   "outputs": [
    {
     "data": {
      "text/plain": [
       "country\n",
       "(not set)                   1135\n",
       "Afghanistan                   57\n",
       "Albania                      388\n",
       "Algeria                     1555\n",
       "American Samoa                 1\n",
       "Andorra                       20\n",
       "Angola                        56\n",
       "Anguilla                       1\n",
       "Antigua & Barbuda              9\n",
       "Argentina                   4757\n",
       "Armenia                      217\n",
       "Aruba                         10\n",
       "Australia                  10638\n",
       "Austria                     2311\n",
       "Azerbaijan                   375\n",
       "Bahamas                       45\n",
       "Bahrain                      204\n",
       "Bangladesh                  2234\n",
       "Barbados                      67\n",
       "Belarus                      806\n",
       "Belgium                     4047\n",
       "Belize                        24\n",
       "Benin                         67\n",
       "Bermuda                       30\n",
       "Bhutan                        12\n",
       "Bolivia                      310\n",
       "Bosnia & Herzegovina         692\n",
       "Botswana                      19\n",
       "Brazil                     18076\n",
       "British Virgin Islands         3\n",
       "                           ...  \n",
       "Sweden                      4612\n",
       "Switzerland                 3724\n",
       "Syria                          5\n",
       "Taiwan                     12341\n",
       "Tajikistan                     8\n",
       "Tanzania                     290\n",
       "Thailand                   15715\n",
       "Timor-Leste                    4\n",
       "Togo                          27\n",
       "Tonga                          1\n",
       "Trinidad & Tobago            150\n",
       "Tunisia                      840\n",
       "Turkey                     14513\n",
       "Turkmenistan                  13\n",
       "Turks & Caicos Islands         9\n",
       "U.S. Virgin Islands           16\n",
       "Uganda                       180\n",
       "Ukraine                     4698\n",
       "United Arab Emirates        2480\n",
       "United Kingdom             33458\n",
       "United States             335805\n",
       "Uruguay                      600\n",
       "Uzbekistan                    97\n",
       "Vanuatu                        1\n",
       "Venezuela                   1406\n",
       "Vietnam                    18929\n",
       "Yemen                        102\n",
       "Zambia                        41\n",
       "Zimbabwe                      38\n",
       "Åland Islands                  1\n",
       "Length: 222, dtype: int64"
      ]
     },
     "execution_count": 53,
     "metadata": {},
     "output_type": "execute_result"
    }
   ],
   "source": [
    "df.groupby(\"country\").size()"
   ]
  },
  {
   "cell_type": "code",
   "execution_count": 54,
   "metadata": {},
   "outputs": [
    {
     "data": {
      "text/plain": [
       "country\n",
       "(not set)                   1382\n",
       "Afghanistan                   76\n",
       "Albania                      380\n",
       "Algeria                     1649\n",
       "American Samoa                 1\n",
       "Andorra                       25\n",
       "Angola                        62\n",
       "Antigua & Barbuda              5\n",
       "Argentina                   5371\n",
       "Armenia                      225\n",
       "Aruba                         32\n",
       "Australia                  13022\n",
       "Austria                     2839\n",
       "Azerbaijan                   425\n",
       "Bahamas                       56\n",
       "Bahrain                      193\n",
       "Bangladesh                  2558\n",
       "Barbados                      62\n",
       "Belarus                      875\n",
       "Belgium                     4617\n",
       "Belize                        26\n",
       "Benin                         68\n",
       "Bermuda                       26\n",
       "Bhutan                        14\n",
       "Bolivia                      334\n",
       "Bosnia & Herzegovina         772\n",
       "Botswana                      21\n",
       "Brazil                     17356\n",
       "British Virgin Islands         4\n",
       "Brunei                        61\n",
       "                           ...  \n",
       "Swaziland                     15\n",
       "Sweden                      5283\n",
       "Switzerland                 4343\n",
       "Syria                         12\n",
       "São Tomé & Príncipe            1\n",
       "Taiwan                     14219\n",
       "Tajikistan                    13\n",
       "Tanzania                     319\n",
       "Thailand                   14144\n",
       "Timor-Leste                    8\n",
       "Togo                          23\n",
       "Trinidad & Tobago            162\n",
       "Tunisia                      870\n",
       "Turkey                     14653\n",
       "Turkmenistan                  28\n",
       "Turks & Caicos Islands         7\n",
       "U.S. Virgin Islands           17\n",
       "Uganda                       208\n",
       "Ukraine                     5161\n",
       "United Arab Emirates        2886\n",
       "United Kingdom             39883\n",
       "United States             381413\n",
       "Uruguay                      573\n",
       "Uzbekistan                   101\n",
       "Vanuatu                        3\n",
       "Venezuela                   1503\n",
       "Vietnam                    15940\n",
       "Yemen                        121\n",
       "Zambia                        55\n",
       "Zimbabwe                      61\n",
       "Length: 219, dtype: int64"
      ]
     },
     "execution_count": 54,
     "metadata": {},
     "output_type": "execute_result"
    }
   ],
   "source": [
    "df2.groupby(\"country\").size()"
   ]
  },
  {
   "cell_type": "code",
   "execution_count": 55,
   "metadata": {},
   "outputs": [
    {
     "data": {
      "text/plain": [
       "region\n",
       "(not set)                         22878\n",
       "Abu Dhabi                            57\n",
       "Adana                               113\n",
       "Aguascalientes                        6\n",
       "Aichi Prefecture                     33\n",
       "Akershus                             12\n",
       "Al Madinah Province                   9\n",
       "Alabama                              51\n",
       "Alberta                             528\n",
       "Alexandria Governorate              156\n",
       "Algiers Province                     25\n",
       "Almaty Province                      21\n",
       "Amman Governorate                   116\n",
       "Andalusia                           182\n",
       "Andhra Pradesh                       18\n",
       "Ankara                             1046\n",
       "Antalya                             151\n",
       "Antioquia                           184\n",
       "Aquitaine                            13\n",
       "Aragon                              103\n",
       "Arequipa                             16\n",
       "Arizona                             587\n",
       "Assam                                84\n",
       "Asturias                             12\n",
       "Atlantico                             7\n",
       "Attica                              595\n",
       "Auckland                            310\n",
       "Aust-Agder                            8\n",
       "Auvergne-Rhone-Alpes                338\n",
       "Aveiro District                      14\n",
       "                                  ...  \n",
       "Uttar Pradesh                       705\n",
       "Valencian Community                 131\n",
       "Valle del Cauca                      73\n",
       "Vastra Gotaland County              414\n",
       "Vaud                                  6\n",
       "Veneto                               50\n",
       "Victoria                           2306\n",
       "Vienna                              579\n",
       "Vientiane Prefecture                  7\n",
       "Vilnius County                       22\n",
       "Vinh Phuc Province                   27\n",
       "Virginia                           1922\n",
       "Vladimir Oblast                      18\n",
       "Vojvodina                            59\n",
       "Waikato                              13\n",
       "Walloon Region                       26\n",
       "Washington                         7125\n",
       "Wellington                           22\n",
       "West Bengal                        1817\n",
       "West Java                           287\n",
       "Western Australia                   174\n",
       "Western Cape                        189\n",
       "Western Province                    383\n",
       "Wisconsin                           430\n",
       "Yangon Region                         8\n",
       "Yucatan                              18\n",
       "Zhejiang                             95\n",
       "Zulia                               105\n",
       "Zurich                             1061\n",
       "not available in demo dataset    435927\n",
       "Length: 430, dtype: int64"
      ]
     },
     "execution_count": 55,
     "metadata": {},
     "output_type": "execute_result"
    }
   ],
   "source": [
    "df.groupby(\"region\").size()"
   ]
  },
  {
   "cell_type": "code",
   "execution_count": 56,
   "metadata": {},
   "outputs": [
    {
     "data": {
      "text/plain": [
       "region\n",
       "(not set)                         26896\n",
       "Abruzzo                               6\n",
       "Abu Dhabi                            48\n",
       "Adana                               152\n",
       "Aichi Prefecture                     21\n",
       "Alabama                              33\n",
       "Alaska                               12\n",
       "Alba County                          21\n",
       "Alberta                             551\n",
       "Alexandria Governorate              337\n",
       "Algiers Province                     21\n",
       "Almaty Province                      12\n",
       "Amman Governorate                   111\n",
       "Andalusia                           185\n",
       "Andhra Pradesh                        6\n",
       "Ankara                              957\n",
       "Antalya                              86\n",
       "Antioquia                           109\n",
       "Apulia                                6\n",
       "Aquitaine                            55\n",
       "Aragon                               43\n",
       "Arequipa                             14\n",
       "Arizona                             947\n",
       "Assam                                75\n",
       "Asturias                             10\n",
       "Atlantico                             8\n",
       "Attica                              582\n",
       "Auckland                            421\n",
       "Aust-Agder                            9\n",
       "Australian Capital Territory          7\n",
       "                                  ...  \n",
       "Utrecht                             209\n",
       "Uttar Pradesh                       815\n",
       "Valencian Community                 176\n",
       "Valle del Cauca                     109\n",
       "Valparaiso Region                     7\n",
       "Vastra Gotaland County              347\n",
       "Vaud                                 30\n",
       "Veneto                              106\n",
       "Viana do Castelo District             8\n",
       "Victoria                           3158\n",
       "Vienna                              764\n",
       "Vilnius County                       54\n",
       "Vinh Phuc Province                   14\n",
       "Virginia                           2048\n",
       "Vojvodina                            22\n",
       "Wales                                20\n",
       "Washington                         8247\n",
       "Wellington                           30\n",
       "West Bengal                        2156\n",
       "West Java                           129\n",
       "West Pomeranian Voivodeship          25\n",
       "West Virginia                        14\n",
       "Western Australia                   145\n",
       "Western Cape                        284\n",
       "Western Province                    344\n",
       "Wisconsin                           552\n",
       "Zhejiang                            111\n",
       "Zulia                               134\n",
       "Zurich                             1292\n",
       "not available in demo dataset    497033\n",
       "Length: 388, dtype: int64"
      ]
     },
     "execution_count": 56,
     "metadata": {},
     "output_type": "execute_result"
    }
   ],
   "source": [
    "df2.groupby(\"region\").size()"
   ]
  },
  {
   "cell_type": "code",
   "execution_count": 57,
   "metadata": {},
   "outputs": [
    {
     "data": {
      "text/plain": [
       "metro\n",
       "(not set)                                 184841\n",
       "Albany-Schenectady-Troy NY                    59\n",
       "Atlanta GA                                  2591\n",
       "Austin TX                                   3565\n",
       "Baltimore MD                                  47\n",
       "Birmingham (Ann and Tusc) AL                  15\n",
       "Boise ID                                      23\n",
       "Boston MA-Manchester NH                     2767\n",
       "Buffalo NY                                     5\n",
       "Butte-Bozeman MT                              48\n",
       "Central Scotland                              45\n",
       "Charleston SC                                 60\n",
       "Charlotte NC                                1010\n",
       "Chattanooga TN                                44\n",
       "Chicago IL                                  7235\n",
       "Chico-Redding CA                              46\n",
       "Cincinnati OH                                 92\n",
       "Cleveland-Akron (Canton) OH                  145\n",
       "Columbus GA                                   29\n",
       "Columbus OH                                  440\n",
       "Dallas-Ft. Worth TX                         2763\n",
       "Dayton OH                                      6\n",
       "Denver CO                                   1238\n",
       "Des Moines-Ames IA                             6\n",
       "Detroit MI                                  2119\n",
       "East Of England                               20\n",
       "El Paso TX                                    19\n",
       "Fresno-Visalia CA                             45\n",
       "Ft. Wayne IN                                   8\n",
       "Grand Rapids-Kalamazoo-Battle Creek MI       136\n",
       "                                           ...  \n",
       "Philadelphia PA                             1214\n",
       "Phoenix AZ                                   580\n",
       "Pittsburgh PA                               1023\n",
       "Portland OR                                  840\n",
       "Raleigh-Durham (Fayetteville) NC             127\n",
       "Reno NV                                       40\n",
       "Richmond-Petersburg VA                         7\n",
       "Roanoke-Lynchburg VA                        1306\n",
       "Sacramento-Stockton-Modesto CA               116\n",
       "Salt Lake City UT                            151\n",
       "San Antonio TX                               620\n",
       "San Diego CA                                1711\n",
       "San Francisco-Oakland-San Jose CA          86449\n",
       "Seattle-Tacoma WA                           7085\n",
       "Sioux City IA                                 20\n",
       "Spokane WA                                    40\n",
       "Springfield MO                                17\n",
       "Springfield-Holyoke MA                         6\n",
       "St. Louis MO                                  81\n",
       "Tallahassee FL-Thomasville GA                  6\n",
       "Tampa-St. Petersburg (Sarasota) FL           246\n",
       "Tri-Cities TN-VA                               8\n",
       "Tucson (Sierra Vista) AZ                       7\n",
       "Tulsa OK                                      39\n",
       "Washington DC (Hagerstown MD)               3256\n",
       "West Palm Beach-Ft. Pierce FL                 15\n",
       "Wichita-Hutchinson KS                          9\n",
       "Wilkes Barre-Scranton PA                      23\n",
       "Yorkshire                                    119\n",
       "not available in demo dataset             435927\n",
       "Length: 102, dtype: int64"
      ]
     },
     "execution_count": 57,
     "metadata": {},
     "output_type": "execute_result"
    }
   ],
   "source": [
    "df.groupby(\"metro\").size()"
   ]
  },
  {
   "cell_type": "code",
   "execution_count": 58,
   "metadata": {},
   "outputs": [
    {
     "data": {
      "text/plain": [
       "metro\n",
       "(not set)                             202055\n",
       "Abilene-Sweetwater TX                     10\n",
       "Albany-Schenectady-Troy NY                89\n",
       "Anchorage AK                              12\n",
       "Atlanta GA                              2873\n",
       "Augusta GA                                 7\n",
       "Austin TX                               3724\n",
       "Baltimore MD                              49\n",
       "Birmingham (Ann and Tusc) AL              15\n",
       "Boise ID                                  47\n",
       "Boston MA-Manchester NH                 3101\n",
       "Butte-Bozeman MT                          78\n",
       "Central Scotland                          67\n",
       "Champaign & Springfield-Decatur IL         6\n",
       "Charleston SC                             58\n",
       "Charlotte NC                             901\n",
       "Charlottesville VA                        13\n",
       "Chicago IL                              8065\n",
       "Chico-Redding CA                          77\n",
       "Cincinnati OH                            139\n",
       "Cleveland-Akron (Canton) OH              127\n",
       "Colorado Springs-Pueblo CO                16\n",
       "Columbus GA                               18\n",
       "Columbus OH                              335\n",
       "Dallas-Ft. Worth TX                     3024\n",
       "Denver CO                               1334\n",
       "Detroit MI                              2398\n",
       "El Paso TX                                34\n",
       "Erie PA                                   11\n",
       "Flint-Saginaw-Bay City MI                  9\n",
       "                                       ...  \n",
       "Phoenix AZ                               928\n",
       "Pittsburgh PA                           1108\n",
       "Portland OR                              965\n",
       "Providence-New Bedford,MA                 14\n",
       "Raleigh-Durham (Fayetteville) NC         136\n",
       "Reno NV                                  110\n",
       "Roanoke-Lynchburg VA                    1368\n",
       "Rochester NY                              29\n",
       "Rochester-Mason City-Austin,IA             6\n",
       "Sacramento-Stockton-Modesto CA           119\n",
       "Salt Lake City UT                        119\n",
       "San Antonio TX                           779\n",
       "San Diego CA                            1773\n",
       "San Francisco-Oakland-San Jose CA      96296\n",
       "Seattle-Tacoma WA                       8166\n",
       "Sioux City IA                             30\n",
       "Spokane WA                                81\n",
       "St. Louis MO                              47\n",
       "Syracuse NY                                7\n",
       "Tampa-St. Petersburg (Sarasota) FL       146\n",
       "Toledo OH                                 20\n",
       "Tucson (Sierra Vista) AZ                  19\n",
       "Tulsa OK                                  67\n",
       "Ulster                                    27\n",
       "Utica NY                                  23\n",
       "Washington DC (Hagerstown MD)           3765\n",
       "West Palm Beach-Ft. Pierce FL             33\n",
       "Wheeling WV-Steubenville OH               14\n",
       "Yorkshire                                153\n",
       "not available in demo dataset         497033\n",
       "Length: 107, dtype: int64"
      ]
     },
     "execution_count": 58,
     "metadata": {},
     "output_type": "execute_result"
    }
   ],
   "source": [
    "df2.groupby(\"metro\").size()"
   ]
  },
  {
   "cell_type": "code",
   "execution_count": 59,
   "metadata": {},
   "outputs": [
    {
     "data": {
      "text/plain": [
       "city\n",
       "'s Hertogenbosch                      7\n",
       "(not set)                         31079\n",
       "Aachen                                9\n",
       "Aalborg                              39\n",
       "Aberdeen                             21\n",
       "Abu Dhabi                            57\n",
       "Accra                                 9\n",
       "Adana                               113\n",
       "Addis Ababa                          43\n",
       "Adelaide                             38\n",
       "Agra                                 54\n",
       "Aguascalientes                        6\n",
       "Ahmedabad                          1225\n",
       "Akron                               136\n",
       "Alameda                               8\n",
       "Alba                                  7\n",
       "Alexandria                          156\n",
       "Alicante                             27\n",
       "Almaty                               21\n",
       "Almelo                               11\n",
       "Almeria                              53\n",
       "Almetyevsk                           36\n",
       "Amberg                               37\n",
       "Amersfoort                            7\n",
       "Amherst                               6\n",
       "Amiens                                8\n",
       "Amsterdam                          1788\n",
       "Amã                                  20\n",
       "Anaheim                               8\n",
       "Angers                                8\n",
       "                                  ...  \n",
       "Waterloo                             23\n",
       "Watertown                            10\n",
       "Weingarten                           13\n",
       "Wellesley                           129\n",
       "Wellington                           22\n",
       "Wembley                              17\n",
       "Westlake Village                      9\n",
       "White Plains                          7\n",
       "Whitewater                           39\n",
       "Wichita                               9\n",
       "Williamsport                         23\n",
       "Winnipeg                             37\n",
       "Wollongong                            6\n",
       "Woluwe-Saint-Lambert                 43\n",
       "Wroclaw                              92\n",
       "Wurzburg                              7\n",
       "Yangon                                8\n",
       "Yekaterinburg                        17\n",
       "Yokohama                            363\n",
       "York                                  7\n",
       "Yverdon-les-Bains                     6\n",
       "Zagreb                              221\n",
       "Zapopan                               8\n",
       "Zaragoza                            103\n",
       "Zaventem                              9\n",
       "Zhongli District                    191\n",
       "Zhubei City                          28\n",
       "Zhudong Township                    183\n",
       "Zurich                             1061\n",
       "not available in demo dataset    435927\n",
       "Length: 742, dtype: int64"
      ]
     },
     "execution_count": 59,
     "metadata": {},
     "output_type": "execute_result"
    }
   ],
   "source": [
    "df.groupby(\"city\").size()"
   ]
  },
  {
   "cell_type": "code",
   "execution_count": 60,
   "metadata": {},
   "outputs": [
    {
     "data": {
      "text/plain": [
       "city\n",
       "(not set)                         34788\n",
       "Aalborg                              32\n",
       "Aalen                                 9\n",
       "Abu Dhabi                            48\n",
       "Adana                               152\n",
       "Addis Ababa                          61\n",
       "Adelaide                              6\n",
       "Agra                                 27\n",
       "Ahmedabad                          1256\n",
       "Akron                               119\n",
       "Alameda                               6\n",
       "Alba Iulia                           21\n",
       "Alexandria                          337\n",
       "Alicante                             17\n",
       "Allendale Charter Township            8\n",
       "Almaty                               12\n",
       "Almeria                             105\n",
       "Alton                                 6\n",
       "Altrincham                           14\n",
       "Amberg                               12\n",
       "Amiens                                6\n",
       "Amsterdam                          1682\n",
       "Amã                                  64\n",
       "Anaheim                               4\n",
       "Anchorage                            12\n",
       "Aneby                                 6\n",
       "Angers                               31\n",
       "Ankara                              957\n",
       "Ann Arbor                          2066\n",
       "Annecy-le-Vieux                      37\n",
       "                                  ...  \n",
       "Wedel                                13\n",
       "Wellesley                            90\n",
       "Wellington                           30\n",
       "Wembley                              32\n",
       "West Palm Beach                       6\n",
       "West Windsor Township                 7\n",
       "Westhampton Beach                     6\n",
       "Westlake Village                     14\n",
       "Westville                             8\n",
       "Wheaton                              16\n",
       "Wheeling                             14\n",
       "Wieselburg                           29\n",
       "Woluwe-Saint-Lambert                 21\n",
       "Woodbridge Township                  12\n",
       "Wrexham                               9\n",
       "Wroclaw                              85\n",
       "Yekaterinburg                         6\n",
       "Yokohama                            391\n",
       "Yverdon-les-Bains                    13\n",
       "Zagreb                              210\n",
       "Zamudio                              14\n",
       "Zaoqiao Township                      7\n",
       "Zapopan                               6\n",
       "Zaragoza                             43\n",
       "Zhongli District                    592\n",
       "Zhubei City                          10\n",
       "Zhudong Township                     17\n",
       "Zurich                             1292\n",
       "Zwolle                                6\n",
       "not available in demo dataset    497033\n",
       "Length: 748, dtype: int64"
      ]
     },
     "execution_count": 60,
     "metadata": {},
     "output_type": "execute_result"
    }
   ],
   "source": [
    "df2.groupby(\"city\").size()"
   ]
  },
  {
   "cell_type": "code",
   "execution_count": 61,
   "metadata": {},
   "outputs": [
    {
     "data": {
      "text/plain": [
       "cityId\n",
       "not available in demo dataset    803178\n",
       "dtype: int64"
      ]
     },
     "execution_count": 61,
     "metadata": {},
     "output_type": "execute_result"
    }
   ],
   "source": [
    "df.groupby(\"cityId\").size()"
   ]
  },
  {
   "cell_type": "code",
   "execution_count": 62,
   "metadata": {},
   "outputs": [
    {
     "data": {
      "text/plain": [
       "cityId\n",
       "not available in demo dataset    905160\n",
       "dtype: int64"
      ]
     },
     "execution_count": 62,
     "metadata": {},
     "output_type": "execute_result"
    }
   ],
   "source": [
    "df2.groupby(\"cityId\").size()"
   ]
  },
  {
   "cell_type": "code",
   "execution_count": 63,
   "metadata": {},
   "outputs": [
    {
     "data": {
      "text/plain": [
       "networkDomain\n",
       "(not set)                  233532\n",
       "0101.net.au                     2\n",
       "012.net.il                    224\n",
       "018.net.il                     87\n",
       "02.net                        458\n",
       "099.net.il                     21\n",
       "0pb.org                         1\n",
       "0rbitel.net                     7\n",
       "0und1.net                       1\n",
       "1-pipexbd.com                   2\n",
       "10035.com.cn                    1\n",
       "100megabit.ru                  12\n",
       "100tb.com                      21\n",
       "101netlink.com                  1\n",
       "103-ebonenet.com                1\n",
       "10call.com                      1\n",
       "10gbps.io                      39\n",
       "10net.net                       2\n",
       "10outof10winning.net            1\n",
       "111-tataidc.co.in             208\n",
       "115-tataidc.co.in               8\n",
       "1151518.com                     2\n",
       "122-airtelbroadband.in        154\n",
       "123.net                        21\n",
       "123ce.fr                        4\n",
       "123multimedia.com               1\n",
       "123planosdesaude.com.br         7\n",
       "130.2                           1\n",
       "133513.com                      1\n",
       "13onlinebd.com                  1\n",
       "                            ...  \n",
       "zsassociates.com                1\n",
       "zscaler.net                     2\n",
       "zscaler9.net                   87\n",
       "zscalertwo.net                 62\n",
       "zscloud.net                    11\n",
       "zsf.com.hk                      1\n",
       "zsr.sk                          1\n",
       "zssk.sk                         1\n",
       "zsttk.net                      26\n",
       "zsttk.ru                        1\n",
       "zt-ron.at                       1\n",
       "zt.hu                           6\n",
       "zt.ua                           1\n",
       "ztcneda.com                     1\n",
       "ztomy.com                    1565\n",
       "ztv.ne.jp                       9\n",
       "zu.edu.eg                       2\n",
       "zubbsteel.com                   1\n",
       "zuehlke.com                     1\n",
       "zuku.co.ke                      1\n",
       "zumpatelecom.com.br             1\n",
       "zumpnet.com.br                  1\n",
       "zumtelecom.net.br               2\n",
       "zvi.ru                          1\n",
       "zxonlinebd.com                  7\n",
       "zyduscadila.com                 3\n",
       "zyetel.com                      1\n",
       "zylon.net                       1\n",
       "zzauto.cz                       1\n",
       "zzone.cz                        1\n",
       "Length: 27545, dtype: int64"
      ]
     },
     "execution_count": 63,
     "metadata": {},
     "output_type": "execute_result"
    }
   ],
   "source": [
    "df.groupby(\"networkDomain\").size()"
   ]
  },
  {
   "cell_type": "code",
   "execution_count": 64,
   "metadata": {},
   "outputs": [
    {
     "data": {
      "text/plain": [
       "networkDomain\n",
       "(not set)                      265517\n",
       "0101.net.au                         2\n",
       "012.net.il                        231\n",
       "018.net.il                         89\n",
       "01net.com                           2\n",
       "02.net                            589\n",
       "04.1-512mb-nyc1-01                  1\n",
       "04.4-x64                            1\n",
       "099.net.il                         35\n",
       "0beta                               1\n",
       "0rbitel.net                         5\n",
       "1-bk.ru                             1\n",
       "1-pipexbd.com                       1\n",
       "10-42.net                           1\n",
       "10035.com.cn                        3\n",
       "100megabit.ru                      14\n",
       "100porcento.net                     1\n",
       "100tb.com                          37\n",
       "101email.com                        2\n",
       "101netlink.com                      2\n",
       "103-static-fiberlink.net.pk         1\n",
       "109.235                             1\n",
       "10gbps.io                          67\n",
       "10net.net                           1\n",
       "11.com                              1\n",
       "111-tataidc.co.in                 219\n",
       "115-tataidc.co.in                  14\n",
       "1151518.com                         1\n",
       "122-airtelbroadband.in            183\n",
       "123.net                            11\n",
       "                                ...  \n",
       "zscaler.net                         2\n",
       "zscaler9.net                      128\n",
       "zscalertwo.net                     86\n",
       "zscloud.net                         8\n",
       "zskorenskeho.cz                     1\n",
       "zskrymska.sk                        1\n",
       "zslic.com                           1\n",
       "zsrosi.cz                           1\n",
       "zsttk.net                          36\n",
       "zsttk.ru                            8\n",
       "zt.hu                               6\n",
       "zt.ua                               5\n",
       "ztomy.com                        1538\n",
       "ztv.ne.jp                          10\n",
       "zubatkin.com                        1\n",
       "zuehlke.com                         1\n",
       "zuku.co.ke                          3\n",
       "zummartinsepp.at                    1\n",
       "zumtelecom.net.br                   1\n",
       "zurmo.com                           2\n",
       "zuzino.net.ru                       2\n",
       "zvezdamedia.ru                      1\n",
       "zvjs.sk                             1\n",
       "zxonlinebd.com                      5\n",
       "zyduscadila.com                     1\n",
       "zyetel.com                          5\n",
       "zylinc.com                          2\n",
       "zynga.com                           1\n",
       "zzcempionats.lv                     1\n",
       "zzone.cz                            3\n",
       "Length: 29349, dtype: int64"
      ]
     },
     "execution_count": 64,
     "metadata": {},
     "output_type": "execute_result"
    }
   ],
   "source": [
    "df2.groupby(\"networkDomain\").size()"
   ]
  },
  {
   "cell_type": "code",
   "execution_count": 65,
   "metadata": {},
   "outputs": [
    {
     "data": {
      "text/plain": [
       "latitude\n",
       "not available in demo dataset    803178\n",
       "dtype: int64"
      ]
     },
     "execution_count": 65,
     "metadata": {},
     "output_type": "execute_result"
    }
   ],
   "source": [
    "df.groupby(\"latitude\").size()"
   ]
  },
  {
   "cell_type": "code",
   "execution_count": 66,
   "metadata": {},
   "outputs": [
    {
     "data": {
      "text/plain": [
       "latitude\n",
       "not available in demo dataset    905160\n",
       "dtype: int64"
      ]
     },
     "execution_count": 66,
     "metadata": {},
     "output_type": "execute_result"
    }
   ],
   "source": [
    "df2.groupby(\"latitude\").size()"
   ]
  },
  {
   "cell_type": "code",
   "execution_count": 68,
   "metadata": {},
   "outputs": [
    {
     "data": {
      "text/plain": [
       "longitude\n",
       "not available in demo dataset    803178\n",
       "dtype: int64"
      ]
     },
     "execution_count": 68,
     "metadata": {},
     "output_type": "execute_result"
    }
   ],
   "source": [
    "df.groupby(\"longitude\").size()"
   ]
  },
  {
   "cell_type": "code",
   "execution_count": 69,
   "metadata": {},
   "outputs": [
    {
     "data": {
      "text/plain": [
       "longitude\n",
       "not available in demo dataset    905160\n",
       "dtype: int64"
      ]
     },
     "execution_count": 69,
     "metadata": {},
     "output_type": "execute_result"
    }
   ],
   "source": [
    "df2.groupby(\"longitude\").size()"
   ]
  },
  {
   "cell_type": "code",
   "execution_count": 70,
   "metadata": {},
   "outputs": [
    {
     "data": {
      "text/plain": [
       "networkLocation\n",
       "not available in demo dataset    803178\n",
       "dtype: int64"
      ]
     },
     "execution_count": 70,
     "metadata": {},
     "output_type": "execute_result"
    }
   ],
   "source": [
    "df.groupby(\"networkLocation\").size()"
   ]
  },
  {
   "cell_type": "code",
   "execution_count": 71,
   "metadata": {},
   "outputs": [
    {
     "data": {
      "text/plain": [
       "networkLocation\n",
       "not available in demo dataset    905160\n",
       "dtype: int64"
      ]
     },
     "execution_count": 71,
     "metadata": {},
     "output_type": "execute_result"
    }
   ],
   "source": [
    "df2.groupby(\"networkLocation\").size()"
   ]
  },
  {
   "cell_type": "code",
   "execution_count": 72,
   "metadata": {
    "scrolled": true
   },
   "outputs": [
    {
     "data": {
      "text/plain": [
       "visits\n",
       "1    803178\n",
       "dtype: int64"
      ]
     },
     "execution_count": 72,
     "metadata": {},
     "output_type": "execute_result"
    }
   ],
   "source": [
    "df.groupby(\"visits\").size()"
   ]
  },
  {
   "cell_type": "code",
   "execution_count": 73,
   "metadata": {},
   "outputs": [
    {
     "data": {
      "text/plain": [
       "visits\n",
       "1    905160\n",
       "dtype: int64"
      ]
     },
     "execution_count": 73,
     "metadata": {},
     "output_type": "execute_result"
    }
   ],
   "source": [
    "df2.groupby(\"visits\").size()"
   ]
  },
  {
   "cell_type": "code",
   "execution_count": 74,
   "metadata": {},
   "outputs": [
    {
     "data": {
      "text/plain": [
       "hits\n",
       "1      406121\n",
       "10       9432\n",
       "100        24\n",
       "101        20\n",
       "102        23\n",
       "103        16\n",
       "104        28\n",
       "105        23\n",
       "106        19\n",
       "107        11\n",
       "108        17\n",
       "109        18\n",
       "11       8093\n",
       "110        16\n",
       "111        15\n",
       "112        10\n",
       "113        18\n",
       "114        12\n",
       "115        16\n",
       "116        18\n",
       "117         9\n",
       "118         6\n",
       "119        12\n",
       "12       6903\n",
       "120        11\n",
       "121        11\n",
       "122        14\n",
       "123         7\n",
       "124         8\n",
       "125        10\n",
       "        ...  \n",
       "72         73\n",
       "73         93\n",
       "74         81\n",
       "75         69\n",
       "76         77\n",
       "77         58\n",
       "78         53\n",
       "79         46\n",
       "8       13863\n",
       "80         49\n",
       "81         54\n",
       "82         56\n",
       "83         49\n",
       "84         54\n",
       "85         38\n",
       "86         45\n",
       "87         26\n",
       "88         34\n",
       "89         38\n",
       "9       11501\n",
       "90         35\n",
       "91         37\n",
       "92         23\n",
       "93         31\n",
       "94         34\n",
       "95         31\n",
       "96         33\n",
       "97         16\n",
       "98         20\n",
       "99         24\n",
       "Length: 243, dtype: int64"
      ]
     },
     "execution_count": 74,
     "metadata": {},
     "output_type": "execute_result"
    }
   ],
   "source": [
    "df.groupby(\"hits\").size()"
   ]
  },
  {
   "cell_type": "code",
   "execution_count": 75,
   "metadata": {},
   "outputs": [
    {
     "data": {
      "text/plain": [
       "hits\n",
       "1      457943\n",
       "10      10874\n",
       "100        36\n",
       "101        30\n",
       "102        23\n",
       "103        26\n",
       "104        19\n",
       "105        22\n",
       "106        24\n",
       "107        18\n",
       "108        19\n",
       "109        19\n",
       "11       9413\n",
       "110        23\n",
       "111        17\n",
       "112        25\n",
       "113         8\n",
       "114        16\n",
       "115        14\n",
       "116        17\n",
       "117        15\n",
       "118        17\n",
       "119        11\n",
       "12       7974\n",
       "120        17\n",
       "121        12\n",
       "122        17\n",
       "123        15\n",
       "124        12\n",
       "125        12\n",
       "        ...  \n",
       "72         90\n",
       "73         87\n",
       "74         87\n",
       "75         76\n",
       "76         74\n",
       "77         65\n",
       "78         66\n",
       "79         77\n",
       "8       15854\n",
       "80         70\n",
       "81         68\n",
       "82         53\n",
       "83         52\n",
       "84         63\n",
       "85         47\n",
       "86         47\n",
       "87         50\n",
       "88         35\n",
       "89         39\n",
       "9       13498\n",
       "90         36\n",
       "91         34\n",
       "92         33\n",
       "93         32\n",
       "94         45\n",
       "95         35\n",
       "96         25\n",
       "97         28\n",
       "98         33\n",
       "99         18\n",
       "Length: 261, dtype: int64"
      ]
     },
     "execution_count": 75,
     "metadata": {},
     "output_type": "execute_result"
    }
   ],
   "source": [
    "df2.groupby(\"hits\").size()"
   ]
  },
  {
   "cell_type": "code",
   "execution_count": 76,
   "metadata": {},
   "outputs": [
    {
     "data": {
      "text/plain": [
       "pageviews\n",
       "1      411672\n",
       "10       8925\n",
       "100         7\n",
       "101         6\n",
       "102         6\n",
       "103         3\n",
       "104         5\n",
       "105         3\n",
       "106         6\n",
       "107         4\n",
       "108         7\n",
       "11       7649\n",
       "110         4\n",
       "111         5\n",
       "112         6\n",
       "113         6\n",
       "114         3\n",
       "115         8\n",
       "116         3\n",
       "117         3\n",
       "118         4\n",
       "119         3\n",
       "12       6238\n",
       "120         4\n",
       "121         4\n",
       "122         1\n",
       "123         3\n",
       "124         2\n",
       "125         4\n",
       "126         4\n",
       "        ...  \n",
       "72         30\n",
       "73         29\n",
       "74         27\n",
       "75         29\n",
       "76         21\n",
       "77         21\n",
       "78         23\n",
       "79         13\n",
       "8       13809\n",
       "80         18\n",
       "81         18\n",
       "82         15\n",
       "83          9\n",
       "84         12\n",
       "85         13\n",
       "86         14\n",
       "87          9\n",
       "88         10\n",
       "89         13\n",
       "9       11254\n",
       "90         11\n",
       "91         11\n",
       "92         13\n",
       "93          6\n",
       "94          6\n",
       "95          5\n",
       "96          9\n",
       "97          8\n",
       "98          9\n",
       "99          7\n",
       "Length: 185, dtype: int64"
      ]
     },
     "execution_count": 76,
     "metadata": {},
     "output_type": "execute_result"
    }
   ],
   "source": [
    "df.groupby(\"pageviews\").size()"
   ]
  },
  {
   "cell_type": "code",
   "execution_count": 77,
   "metadata": {},
   "outputs": [
    {
     "data": {
      "text/plain": [
       "pageviews\n",
       "1      464656\n",
       "10      10303\n",
       "100        10\n",
       "101         7\n",
       "102         8\n",
       "103         8\n",
       "104         8\n",
       "105         7\n",
       "106         6\n",
       "107         7\n",
       "108         6\n",
       "109         7\n",
       "11       8861\n",
       "110         9\n",
       "111         5\n",
       "112         5\n",
       "113         7\n",
       "114         5\n",
       "115         2\n",
       "116         4\n",
       "117         4\n",
       "118         7\n",
       "119         2\n",
       "12       7176\n",
       "120         2\n",
       "121         6\n",
       "122         2\n",
       "123         3\n",
       "124         4\n",
       "125         1\n",
       "        ...  \n",
       "72         25\n",
       "73         35\n",
       "74         26\n",
       "75         33\n",
       "76         29\n",
       "77         23\n",
       "78         23\n",
       "79         21\n",
       "8       15777\n",
       "80         28\n",
       "81         18\n",
       "82         14\n",
       "83         19\n",
       "84         12\n",
       "85         17\n",
       "86         11\n",
       "87         12\n",
       "88         16\n",
       "89         18\n",
       "9       12899\n",
       "90         19\n",
       "91         10\n",
       "92          9\n",
       "93         18\n",
       "94         12\n",
       "95         11\n",
       "96         11\n",
       "97          5\n",
       "98          9\n",
       "99          7\n",
       "Length: 195, dtype: int64"
      ]
     },
     "execution_count": 77,
     "metadata": {},
     "output_type": "execute_result"
    }
   ],
   "source": [
    "df2.groupby(\"pageviews\").size()"
   ]
  },
  {
   "cell_type": "code",
   "execution_count": 78,
   "metadata": {},
   "outputs": [
    {
     "data": {
      "text/plain": [
       "bounces\n",
       "1    409613\n",
       "dtype: int64"
      ]
     },
     "execution_count": 78,
     "metadata": {},
     "output_type": "execute_result"
    }
   ],
   "source": [
    "df.groupby(\"bounces\").size()"
   ]
  },
  {
   "cell_type": "code",
   "execution_count": 79,
   "metadata": {},
   "outputs": [
    {
     "data": {
      "text/plain": [
       "bounces\n",
       "1    461965\n",
       "dtype: int64"
      ]
     },
     "execution_count": 79,
     "metadata": {},
     "output_type": "execute_result"
    }
   ],
   "source": [
    "df2.groupby(\"bounces\").size()"
   ]
  },
  {
   "cell_type": "code",
   "execution_count": 80,
   "metadata": {},
   "outputs": [
    {
     "data": {
      "text/plain": [
       "newVisits\n",
       "1    616774\n",
       "dtype: int64"
      ]
     },
     "execution_count": 80,
     "metadata": {},
     "output_type": "execute_result"
    }
   ],
   "source": [
    "df.groupby(\"newVisits\").size()"
   ]
  },
  {
   "cell_type": "code",
   "execution_count": 81,
   "metadata": {},
   "outputs": [
    {
     "data": {
      "text/plain": [
       "newVisits\n",
       "1    690656\n",
       "dtype: int64"
      ]
     },
     "execution_count": 81,
     "metadata": {},
     "output_type": "execute_result"
    }
   ],
   "source": [
    "df2.groupby(\"newVisits\").size()"
   ]
  },
  {
   "cell_type": "code",
   "execution_count": 82,
   "metadata": {},
   "outputs": [
    {
     "data": {
      "text/plain": [
       "sessionQualityDim\n",
       "1     313628\n",
       "10      1004\n",
       "11       887\n",
       "12       762\n",
       "13       675\n",
       "14       597\n",
       "15       561\n",
       "16       522\n",
       "17       437\n",
       "18       423\n",
       "19       434\n",
       "2      22792\n",
       "20       385\n",
       "21       386\n",
       "22       397\n",
       "23       408\n",
       "24       326\n",
       "25       357\n",
       "26       344\n",
       "27       317\n",
       "28       298\n",
       "29       329\n",
       "3       7388\n",
       "30       294\n",
       "31       319\n",
       "32       255\n",
       "33       246\n",
       "34       254\n",
       "35       257\n",
       "36       278\n",
       "       ...  \n",
       "72       226\n",
       "73       185\n",
       "74       213\n",
       "75       188\n",
       "76       218\n",
       "77       199\n",
       "78       214\n",
       "79       207\n",
       "8       1454\n",
       "80       202\n",
       "81       183\n",
       "82       162\n",
       "83       172\n",
       "84       173\n",
       "85       157\n",
       "86       146\n",
       "87       137\n",
       "88       133\n",
       "89        80\n",
       "9       1194\n",
       "90        71\n",
       "91        67\n",
       "92        62\n",
       "93        44\n",
       "94        54\n",
       "95        39\n",
       "96        18\n",
       "97        10\n",
       "98         3\n",
       "99         1\n",
       "Length: 99, dtype: int64"
      ]
     },
     "execution_count": 82,
     "metadata": {},
     "output_type": "execute_result"
    }
   ],
   "source": [
    "df.groupby(\"sessionQualityDim\").size()"
   ]
  },
  {
   "cell_type": "code",
   "execution_count": 83,
   "metadata": {},
   "outputs": [
    {
     "data": {
      "text/plain": [
       "sessionQualityDim\n",
       "1      403933\n",
       "10       1378\n",
       "100         2\n",
       "11       1183\n",
       "12       1041\n",
       "13        914\n",
       "14        815\n",
       "15        751\n",
       "16        699\n",
       "17        626\n",
       "18        572\n",
       "19        590\n",
       "2       29725\n",
       "20        565\n",
       "21        574\n",
       "22        547\n",
       "23        471\n",
       "24        443\n",
       "25        459\n",
       "26        507\n",
       "27        449\n",
       "28        456\n",
       "29        384\n",
       "3        9678\n",
       "30        402\n",
       "31        414\n",
       "32        367\n",
       "33        379\n",
       "34        332\n",
       "35        363\n",
       "        ...  \n",
       "72        293\n",
       "73        296\n",
       "74        272\n",
       "75        297\n",
       "76        268\n",
       "77        273\n",
       "78        282\n",
       "79        258\n",
       "8        1883\n",
       "80        287\n",
       "81        268\n",
       "82        254\n",
       "83        273\n",
       "84        226\n",
       "85        210\n",
       "86        181\n",
       "87        161\n",
       "88        125\n",
       "89        112\n",
       "9        1535\n",
       "90        111\n",
       "91         93\n",
       "92         65\n",
       "93         58\n",
       "94         58\n",
       "95         55\n",
       "96         34\n",
       "97         17\n",
       "98          6\n",
       "99          4\n",
       "Length: 100, dtype: int64"
      ]
     },
     "execution_count": 83,
     "metadata": {},
     "output_type": "execute_result"
    }
   ],
   "source": [
    "df2.groupby(\"sessionQualityDim\").size()"
   ]
  },
  {
   "cell_type": "code",
   "execution_count": 84,
   "metadata": {},
   "outputs": [
    {
     "data": {
      "text/plain": [
       "timeOnSite\n",
       "1         714\n",
       "10       3862\n",
       "100      1144\n",
       "1000       41\n",
       "1001       28\n",
       "1002       24\n",
       "1003       38\n",
       "1004       40\n",
       "1005       47\n",
       "1006       33\n",
       "10068       1\n",
       "1007       30\n",
       "1008       40\n",
       "1009       43\n",
       "101      1142\n",
       "1010       46\n",
       "1011       29\n",
       "1012       21\n",
       "1013       39\n",
       "1014       45\n",
       "1015       38\n",
       "1016       32\n",
       "1017       40\n",
       "1018       29\n",
       "1019       27\n",
       "102      1175\n",
       "1020       41\n",
       "1021       27\n",
       "1022       37\n",
       "1023       36\n",
       "         ... \n",
       "975        26\n",
       "976        38\n",
       "977        37\n",
       "9772        1\n",
       "978        29\n",
       "979        28\n",
       "98       1056\n",
       "980        31\n",
       "981        28\n",
       "982        35\n",
       "983        28\n",
       "9837        1\n",
       "984        33\n",
       "985        39\n",
       "986        40\n",
       "987        34\n",
       "988        30\n",
       "989        39\n",
       "99       1051\n",
       "990        46\n",
       "991        39\n",
       "992        39\n",
       "993        30\n",
       "994        45\n",
       "995        36\n",
       "996        44\n",
       "9963        1\n",
       "997        57\n",
       "998        33\n",
       "999        30\n",
       "Length: 3993, dtype: int64"
      ]
     },
     "execution_count": 84,
     "metadata": {},
     "output_type": "execute_result"
    }
   ],
   "source": [
    "df.groupby(\"timeOnSite\").size()"
   ]
  },
  {
   "cell_type": "code",
   "execution_count": 85,
   "metadata": {},
   "outputs": [
    {
     "data": {
      "text/plain": [
       "timeOnSite\n",
       "1         772\n",
       "10       4255\n",
       "100      1307\n",
       "1000       36\n",
       "1001       41\n",
       "1002       32\n",
       "1003       41\n",
       "1004       44\n",
       "10046       1\n",
       "1005       39\n",
       "1006       48\n",
       "1007       44\n",
       "10076       1\n",
       "1008       42\n",
       "1009       35\n",
       "101      1263\n",
       "1010       46\n",
       "1011       45\n",
       "1012       36\n",
       "1013       48\n",
       "1014       45\n",
       "1015       42\n",
       "1016       35\n",
       "1017       35\n",
       "1018       31\n",
       "1019       34\n",
       "102      1273\n",
       "1020       44\n",
       "1021       38\n",
       "1022       37\n",
       "         ... \n",
       "975        38\n",
       "976        44\n",
       "977        33\n",
       "978        37\n",
       "979        49\n",
       "98       1188\n",
       "980        39\n",
       "981        44\n",
       "982        33\n",
       "9826        1\n",
       "983        29\n",
       "984        50\n",
       "985        40\n",
       "9858        1\n",
       "986        46\n",
       "987        41\n",
       "988        34\n",
       "989        49\n",
       "99       1222\n",
       "990        32\n",
       "991        34\n",
       "992        64\n",
       "993        47\n",
       "9932        1\n",
       "994        31\n",
       "995        47\n",
       "996        35\n",
       "997        53\n",
       "998        50\n",
       "999        39\n",
       "Length: 4203, dtype: int64"
      ]
     },
     "execution_count": 85,
     "metadata": {},
     "output_type": "execute_result"
    }
   ],
   "source": [
    "df2.groupby(\"timeOnSite\").size()"
   ]
  },
  {
   "cell_type": "code",
   "execution_count": 86,
   "metadata": {},
   "outputs": [
    {
     "data": {
      "text/plain": [
       "transactions\n",
       "1    8479\n",
       "2     202\n",
       "3      26\n",
       "4      11\n",
       "5       5\n",
       "6       3\n",
       "7       2\n",
       "8       2\n",
       "dtype: int64"
      ]
     },
     "execution_count": 86,
     "metadata": {},
     "output_type": "execute_result"
    }
   ],
   "source": [
    "df.groupby(\"transactions\").size()"
   ]
  },
  {
   "cell_type": "code",
   "execution_count": 87,
   "metadata": {},
   "outputs": [
    {
     "data": {
      "text/plain": [
       "transactions\n",
       "1     9569\n",
       "10       1\n",
       "12       2\n",
       "15       1\n",
       "2      218\n",
       "21       1\n",
       "25       1\n",
       "3       17\n",
       "4        6\n",
       "5        6\n",
       "6        3\n",
       "7        3\n",
       "8        1\n",
       "dtype: int64"
      ]
     },
     "execution_count": 87,
     "metadata": {},
     "output_type": "execute_result"
    }
   ],
   "source": [
    "df2.groupby(\"transactions\").size()"
   ]
  },
  {
   "cell_type": "code",
   "execution_count": 88,
   "metadata": {},
   "outputs": [
    {
     "data": {
      "text/plain": [
       "transactionRevenue\n",
       "10000000       3\n",
       "100000000     30\n",
       "100050000      1\n",
       "1000780000     1\n",
       "100220000      1\n",
       "100440000      1\n",
       "1004490000     1\n",
       "100450000      1\n",
       "100700000      1\n",
       "100720000      1\n",
       "100730000      1\n",
       "100760000      1\n",
       "100770000      9\n",
       "100780000      1\n",
       "1007830000     1\n",
       "100790000      1\n",
       "100900000      1\n",
       "100920000      1\n",
       "100940000      1\n",
       "101090000      1\n",
       "101230000      1\n",
       "101490000      1\n",
       "101570000      1\n",
       "101630000      1\n",
       "101940000      2\n",
       "1019400000     1\n",
       "101950000      2\n",
       "1019500000     1\n",
       "101970000      2\n",
       "10200000       1\n",
       "              ..\n",
       "98900000       1\n",
       "98990000       6\n",
       "990000         1\n",
       "9900000        2\n",
       "99050000       1\n",
       "99130000       1\n",
       "99140000       1\n",
       "99150000       1\n",
       "99170000       1\n",
       "99260000       1\n",
       "99290000       1\n",
       "99400000       1\n",
       "99490000       1\n",
       "9950000        2\n",
       "99500000       2\n",
       "99530000       2\n",
       "99540000       1\n",
       "995450000      1\n",
       "9960000        2\n",
       "99600000       1\n",
       "996430000      1\n",
       "9980000        8\n",
       "99800000       2\n",
       "99850000       1\n",
       "9990000        9\n",
       "99900000       1\n",
       "99950000       2\n",
       "999500000      1\n",
       "99980000       2\n",
       "99990000      40\n",
       "Length: 4165, dtype: int64"
      ]
     },
     "execution_count": 88,
     "metadata": {},
     "output_type": "execute_result"
    }
   ],
   "source": [
    "df.groupby(\"transactionRevenue\").size()"
   ]
  },
  {
   "cell_type": "code",
   "execution_count": 89,
   "metadata": {},
   "outputs": [
    {
     "data": {
      "text/plain": [
       "transactionRevenue\n",
       "10000          1\n",
       "1000000        2\n",
       "10000000       6\n",
       "100000000     19\n",
       "1000290000     1\n",
       "1001590000     1\n",
       "100260000      1\n",
       "100350000      1\n",
       "100440000      2\n",
       "100560000      1\n",
       "100570000      1\n",
       "10070000       1\n",
       "100740000      1\n",
       "100760000      3\n",
       "100770000      5\n",
       "100780000      1\n",
       "100800000      1\n",
       "1008480000     1\n",
       "100930000      2\n",
       "100950000      1\n",
       "100960000      1\n",
       "101000000      1\n",
       "1012190000     1\n",
       "101230000      1\n",
       "101300000      2\n",
       "101440000      1\n",
       "101460000      1\n",
       "101480000      1\n",
       "101500000      1\n",
       "101540000      2\n",
       "              ..\n",
       "99000000       1\n",
       "99130000       2\n",
       "99160000       2\n",
       "99170000       1\n",
       "9920000        1\n",
       "99250000       2\n",
       "9925110000     1\n",
       "992800000      1\n",
       "993390000      1\n",
       "994650000      1\n",
       "9950000        2\n",
       "99500000       1\n",
       "995000000      1\n",
       "995680000      2\n",
       "9960000        3\n",
       "9970000        4\n",
       "99710000       1\n",
       "99720000       1\n",
       "99750000       2\n",
       "99760000       1\n",
       "9980000        6\n",
       "99850000       1\n",
       "998750000      1\n",
       "9990000       18\n",
       "99950000       5\n",
       "99960000       3\n",
       "99970000       1\n",
       "99980000       2\n",
       "99990000      36\n",
       "999900000      1\n",
       "Length: 4501, dtype: int64"
      ]
     },
     "execution_count": 89,
     "metadata": {},
     "output_type": "execute_result"
    }
   ],
   "source": [
    "df2.groupby(\"transactionRevenue\").size()"
   ]
  },
  {
   "cell_type": "code",
   "execution_count": 101,
   "metadata": {},
   "outputs": [
    {
     "data": {
      "text/plain": [
       "18514"
      ]
     },
     "execution_count": 101,
     "metadata": {},
     "output_type": "execute_result"
    }
   ],
   "source": [
    "sum([v for _,v in df.groupby(\"transactionRevenue\").size().iteritems()]) + sum([v for _,v in df2.groupby(\"transactionRevenue\").size().iteritems()])"
   ]
  },
  {
   "cell_type": "code",
   "execution_count": 90,
   "metadata": {},
   "outputs": [
    {
     "data": {
      "text/plain": [
       "totalTransactionRevenue\n",
       "100000000      1\n",
       "100130000      1\n",
       "100140000      1\n",
       "100170000      1\n",
       "1003430000     1\n",
       "100370000      1\n",
       "100450000      1\n",
       "100520000      1\n",
       "100540000      1\n",
       "100550000      1\n",
       "1005500000     1\n",
       "100630000      1\n",
       "100670000      1\n",
       "1006780000     1\n",
       "100700000      1\n",
       "100760000      1\n",
       "100770000      1\n",
       "100780000      1\n",
       "100810000      1\n",
       "100840000      1\n",
       "1008490000     1\n",
       "100880000      1\n",
       "100910000      1\n",
       "100940000      2\n",
       "100950000      1\n",
       "100960000      1\n",
       "100970000      1\n",
       "100980000      2\n",
       "100990000      2\n",
       "10100000       1\n",
       "              ..\n",
       "985730000      1\n",
       "987300000      1\n",
       "98870000       1\n",
       "98930000       2\n",
       "98940000       2\n",
       "98950000       1\n",
       "98960000       1\n",
       "98970000       2\n",
       "98980000       5\n",
       "98990000       1\n",
       "99100000       1\n",
       "99160000       1\n",
       "991850000      1\n",
       "99240000       1\n",
       "99410000       1\n",
       "99550000       1\n",
       "99600000       1\n",
       "99690000       1\n",
       "9970000        1\n",
       "99740000       1\n",
       "9980000        3\n",
       "99820000       1\n",
       "99830000       1\n",
       "998450000      1\n",
       "9990000       12\n",
       "99950000       1\n",
       "99960000       1\n",
       "99970000       3\n",
       "99980000       1\n",
       "99990000       1\n",
       "Length: 4847, dtype: int64"
      ]
     },
     "execution_count": 90,
     "metadata": {},
     "output_type": "execute_result"
    }
   ],
   "source": [
    "df.groupby(\"totalTransactionRevenue\").size()"
   ]
  },
  {
   "cell_type": "code",
   "execution_count": 96,
   "metadata": {},
   "outputs": [
    {
     "data": {
      "text/plain": [
       "totalTransactionRevenue\n",
       "10000000      3\n",
       "100010000     1\n",
       "100080000     1\n",
       "1001000000    1\n",
       "1001700000    1\n",
       "1001750000    1\n",
       "1001900000    1\n",
       "100210000     1\n",
       "1002290000    1\n",
       "100250000     1\n",
       "1002590000    1\n",
       "100260000     1\n",
       "100370000     1\n",
       "100380000     1\n",
       "100400000     1\n",
       "100470000     1\n",
       "100620000     1\n",
       "100640000     1\n",
       "100690000     1\n",
       "100760000     1\n",
       "100800000     2\n",
       "100950000     2\n",
       "100960000     1\n",
       "100970000     1\n",
       "100990000     6\n",
       "101000000     2\n",
       "101110000     1\n",
       "101160000     1\n",
       "101260000     1\n",
       "101270000     1\n",
       "             ..\n",
       "98940000      1\n",
       "98950000      1\n",
       "98960000      1\n",
       "98970000      5\n",
       "98980000      2\n",
       "98990000      1\n",
       "99040000      1\n",
       "99070000      1\n",
       "99130000      1\n",
       "99150000      1\n",
       "99210000      2\n",
       "99340000      1\n",
       "994390000     1\n",
       "99450000      1\n",
       "99570000      1\n",
       "9960000       2\n",
       "996120000     1\n",
       "996650000     1\n",
       "996680000     1\n",
       "9970000       3\n",
       "99760000      1\n",
       "99770000      1\n",
       "9980000       3\n",
       "99800000      2\n",
       "99880000      1\n",
       "998800000     1\n",
       "9990000       9\n",
       "99940000      1\n",
       "999680000     1\n",
       "99970000      2\n",
       "Length: 5289, dtype: int64"
      ]
     },
     "execution_count": 96,
     "metadata": {},
     "output_type": "execute_result"
    }
   ],
   "source": [
    "df2.groupby(\"totalTransactionRevenue\").size()"
   ]
  },
  {
   "cell_type": "code",
   "execution_count": 100,
   "metadata": {},
   "outputs": [
    {
     "data": {
      "text/plain": [
       "18514"
      ]
     },
     "execution_count": 100,
     "metadata": {},
     "output_type": "execute_result"
    }
   ],
   "source": [
    "sum([v for _,v in df.groupby(\"totalTransactionRevenue\").size().iteritems()]) + sum([v for _,v in df2.groupby(\"totalTransactionRevenue\").size().iteritems()])"
   ]
  },
  {
   "cell_type": "code",
   "execution_count": 102,
   "metadata": {},
   "outputs": [
    {
     "data": {
      "text/plain": [
       "campaign\n",
       "\"google + redesign/Accessories March 17\" 1 Day                               3\n",
       "\"google + redesign/Accessories March 17\" All Users                         241\n",
       "\"google + redesign/Accessories March 17\" All Users Similar Audiences       514\n",
       "(direct)                                                                     6\n",
       "(not set)                                                               756278\n",
       "1000557 | GA | US | en | Hybrid | GDN Remarketing                         6513\n",
       "1000557 | GA | US | en | Hybrid | GDN Text+Banner | AS                   11261\n",
       "AW - Accessories                                                          3504\n",
       "AW - Apparel                                                                25\n",
       "AW - Dynamic Search Ads Whole Site                                        6842\n",
       "AW - Electronics                                                            28\n",
       "All Products                                                                 1\n",
       "Data Share Promo                                                         14892\n",
       "Gmail type campaign                                                          2\n",
       "Lifestyles & Hobbies/Shutterbugs                                            54\n",
       "Media & Entertainment/Movie Lovers                                         119\n",
       "Media & Entertainment/Music Lovers                                          95\n",
       "Page: contains \"/google+redesign/bags\" 1 Day                                20\n",
       "Page: contains \"/google+redesign/bags\" All Users                            40\n",
       "Page: contains \"/google+redesign/bags\" All Users Similar Audiences          16\n",
       "Page: contains \"/google+redesign/drinkware\"                                 86\n",
       "Page: contains \"/google+redesign/drinkware\" Similar Audiences              296\n",
       "Page: contains \"/google+redesign/electronics\"                               57\n",
       "Page: contains \"/google+redesign/electronics\" Similar Audiences              2\n",
       "Page: contains \"/google+redesign/office\"                                    49\n",
       "Page: contains \"/google+redesign/office\" Similar Audiences                  83\n",
       "Run of Network Line Item                                                   125\n",
       "Smart Display Campaign                                                    1513\n",
       "Sports & Fitness/Health & Fitness Buffs                                    188\n",
       "Technology/Mobile Enthusiasts                                              132\n",
       "Technology/Technophiles                                                    102\n",
       "Value Shoppers Affinity                                                     91\n",
       "dtype: int64"
      ]
     },
     "execution_count": 102,
     "metadata": {},
     "output_type": "execute_result"
    }
   ],
   "source": [
    "df.groupby(\"campaign\").size()"
   ]
  },
  {
   "cell_type": "code",
   "execution_count": 103,
   "metadata": {},
   "outputs": [
    {
     "data": {
      "text/plain": [
       "campaign\n",
       "\"google + redesign/Accessories March 17\" 1 Day                               2\n",
       "\"google + redesign/Accessories March 17\" All Users                         321\n",
       "\"google + redesign/Accessories March 17\" All Users Similar Audiences       665\n",
       "(direct)                                                                     6\n",
       "(not set)                                                               848249\n",
       "1000557 | GA | US | en | Hybrid | GDN Remarketing                         8636\n",
       "1000557 | GA | US | en | Hybrid | GDN Text+Banner | AS                   13149\n",
       "AW - Accessories                                                          4468\n",
       "AW - Apparel                                                                19\n",
       "AW - Dynamic Search Ads Whole Site                                        8304\n",
       "AW - Electronics                                                            47\n",
       "All Products                                                                 3\n",
       "Data Share                                                                   1\n",
       "Data Share Promo                                                         18022\n",
       "Lifestyles & Hobbies/Shutterbugs                                            77\n",
       "Media & Entertainment/Movie Lovers                                         192\n",
       "Media & Entertainment/Music Lovers                                         100\n",
       "Page: contains \"/google+redesign/bags\" 1 Day                                 7\n",
       "Page: contains \"/google+redesign/bags\" All Users                            43\n",
       "Page: contains \"/google+redesign/bags\" All Users Similar Audiences          26\n",
       "Page: contains \"/google+redesign/drinkware\"                                106\n",
       "Page: contains \"/google+redesign/drinkware\" Similar Audiences              315\n",
       "Page: contains \"/google+redesign/electronics\"                               40\n",
       "Page: contains \"/google+redesign/electronics\" Similar Audiences              7\n",
       "Page: contains \"/google+redesign/office\"                                    44\n",
       "Page: contains \"/google+redesign/office\" Similar Audiences                  99\n",
       "Run of Network Line Item                                                   303\n",
       "Smart Display Campaign                                                    1151\n",
       "Sports & Fitness/Health & Fitness Buffs                                    275\n",
       "Technology/Mobile Enthusiasts                                              178\n",
       "Technology/Technophiles                                                    188\n",
       "Value Shoppers Affinity                                                    117\n",
       "dtype: int64"
      ]
     },
     "execution_count": 103,
     "metadata": {},
     "output_type": "execute_result"
    }
   ],
   "source": [
    "df2.groupby(\"campaign\").size()"
   ]
  },
  {
   "cell_type": "code",
   "execution_count": 104,
   "metadata": {},
   "outputs": [
    {
     "data": {
      "text/plain": [
       "source\n",
       "(direct)                           280649\n",
       "(not set)                              29\n",
       "Partners                            14900\n",
       "admin.globalaccess.com                  2\n",
       "adwords.google.com                     75\n",
       "allo.google.com                         3\n",
       "amazon.com                              8\n",
       "amp.reddit.com                          3\n",
       "analytics.google.com                16996\n",
       "aol                                     6\n",
       "apis.mail.yahoo.com                     4\n",
       "apps.rackspace.com                      1\n",
       "ar.search.yahoo.com                     1\n",
       "arstechnica.com                        14\n",
       "ask                                   188\n",
       "au.search.yahoo.com                    14\n",
       "aulagrado.esic.edu                     17\n",
       "ausdroid.net                            1\n",
       "away.vk.com                           240\n",
       "baidu                                2341\n",
       "baidu.com                               6\n",
       "basecamp.com                            2\n",
       "bing                                 1536\n",
       "bing.com                                1\n",
       "blackboard.bentley.edu                  1\n",
       "blackboard.neu.edu                      1\n",
       "blackboard.vsu.edu                     17\n",
       "blog.golang.org                       620\n",
       "blognone.com                            3\n",
       "bluequill.franklin.edu                  6\n",
       "                                    ...  \n",
       "staging.talkgadget.google.com           2\n",
       "start.wow.com                           1\n",
       "startpage.com                           7\n",
       "suche.t-online.de                       9\n",
       "support.google.com                    283\n",
       "t.co                                  860\n",
       "trainup.withgoogle.com                  3\n",
       "trends.google.com                       1\n",
       "tumblr.com                              1\n",
       "tw.search.yahoo.com                    17\n",
       "twitter.com                             1\n",
       "uk.businessinsider.com                  4\n",
       "uk.search.yahoo.com                    10\n",
       "us-mg5.mail.yahoo.com                   2\n",
       "us.search.yahoo.com                    40\n",
       "us.yhs4.search.yahoo.com                2\n",
       "uweoconnect.extn.washington.edu         6\n",
       "ve.search.yahoo.com                     1\n",
       "vk.com                                 20\n",
       "wap.sogou.com                          18\n",
       "web.facebook.com                        5\n",
       "web.skype.com                           3\n",
       "web.telegram.org                        2\n",
       "web.whatsapp.com                        5\n",
       "wheretoget.it                           8\n",
       "wikihow.com                             1\n",
       "yahoo                                1195\n",
       "yandex                                 15\n",
       "youtube.com                        163234\n",
       "youtube.thinkwithgoogle.com            13\n",
       "Length: 275, dtype: int64"
      ]
     },
     "execution_count": 104,
     "metadata": {},
     "output_type": "execute_result"
    }
   ],
   "source": [
    "df.groupby(\"source\").size()"
   ]
  },
  {
   "cell_type": "code",
   "execution_count": 105,
   "metadata": {},
   "outputs": [
    {
     "data": {
      "text/plain": [
       "source\n",
       "(direct)                           285326\n",
       "(not set)                              41\n",
       "9to5google.com                          2\n",
       "Partners                            18031\n",
       "ad.doubleclick.net                      3\n",
       "adwords.google.com                    102\n",
       "amazon.com                              9\n",
       "amp.reddit.com                         10\n",
       "analytics.google.com                20440\n",
       "aol                                     7\n",
       "apis.mail.yahoo.com                     4\n",
       "ar.search.yahoo.com                     2\n",
       "arstechnica.com                        22\n",
       "ask                                   229\n",
       "au.search.yahoo.com                    10\n",
       "aulagrado.esic.edu                     28\n",
       "ausdroid.net                            1\n",
       "away.vk.com                           373\n",
       "baidu                                2630\n",
       "baidu.com                               4\n",
       "basecamp.com                            1\n",
       "bbhosted.cuny.edu                       8\n",
       "bing                                 1832\n",
       "bing.com                                3\n",
       "blackboard.bentley.edu                  1\n",
       "blackboard.towson.edu                   1\n",
       "blackboard.vsu.edu                     15\n",
       "blog.golang.org                       762\n",
       "blognone.com                            5\n",
       "br.pinterest.com                        1\n",
       "                                    ...  \n",
       "takeout.google.com                      1\n",
       "trainup.withgoogle.com                 23\n",
       "tw.search.yahoo.com                    32\n",
       "tweetdeck.twitter.com                   1\n",
       "twitter.com                             6\n",
       "uk.businessinsider.com                 10\n",
       "uk.search.yahoo.com                    14\n",
       "us-mg5.mail.yahoo.com                   2\n",
       "us.reddit.com                           1\n",
       "us.search.yahoo.com                    26\n",
       "us.wow.com                              1\n",
       "uwec.courses.wisconsin.edu              1\n",
       "uweoconnect.extn.washington.edu         1\n",
       "ve.search.yahoo.com                     1\n",
       "vk.com                                 24\n",
       "voice.google.com                        1\n",
       "wanelo.com                              1\n",
       "wap.sogou.com                          19\n",
       "web.facebook.com                        6\n",
       "web.mail.comcast.net                    6\n",
       "web.skype.com                           2\n",
       "web.telegram.org                        4\n",
       "web.whatsapp.com                        2\n",
       "wheretoget.it                           5\n",
       "wikihow.com                             2\n",
       "yahoo                                1241\n",
       "yahoo.com                               1\n",
       "yandex                                 16\n",
       "youtube.com                        166216\n",
       "youtube.thinkwithgoogle.com             6\n",
       "Length: 290, dtype: int64"
      ]
     },
     "execution_count": 105,
     "metadata": {},
     "output_type": "execute_result"
    }
   ],
   "source": [
    "df2.groupby(\"source\").size()"
   ]
  },
  {
   "cell_type": "code",
   "execution_count": 106,
   "metadata": {},
   "outputs": [
    {
     "data": {
      "text/plain": [
       "medium\n",
       "(none)       280640\n",
       "(not set)        50\n",
       "affiliate     14892\n",
       "cpc           34023\n",
       "cpm            4308\n",
       "organic      258578\n",
       "referral     210687\n",
       "dtype: int64"
      ]
     },
     "execution_count": 106,
     "metadata": {},
     "output_type": "execute_result"
    }
   ],
   "source": [
    "df.groupby(\"medium\").size()"
   ]
  },
  {
   "cell_type": "code",
   "execution_count": 107,
   "metadata": {},
   "outputs": [
    {
     "data": {
      "text/plain": [
       "medium\n",
       "(none)       285317\n",
       "(not set)        84\n",
       "affiliate     18023\n",
       "cpc           41580\n",
       "cpm            4674\n",
       "organic      333206\n",
       "referral     222276\n",
       "dtype: int64"
      ]
     },
     "execution_count": 107,
     "metadata": {},
     "output_type": "execute_result"
    }
   ],
   "source": [
    "df2.groupby(\"medium\").size()"
   ]
  },
  {
   "cell_type": "code",
   "execution_count": 108,
   "metadata": {},
   "outputs": [
    {
     "data": {
      "text/plain": [
       "keyword\n",
       "\"waterproof backpack\"                               1\n",
       "\"youtube\"                                           1\n",
       "(Remarketing/Content targeting)                  2718\n",
       "(User vertical targeting)                       11912\n",
       "(automatic matching)                             8094\n",
       "(content targeting)                                19\n",
       "(not provided)                                 248389\n",
       "+Android +Merchandise                               1\n",
       "+Chrome +Products                                   1\n",
       "+Google +Gear                                       8\n",
       "+Google +Merchandise                              188\n",
       "+Google +Products                                  77\n",
       "+Google +Swag                                      67\n",
       "+Google +accessories                               15\n",
       "+Google +glassware                                  2\n",
       "+Google +pet                                        2\n",
       "+Google cap                                         1\n",
       "+YouTube +Gear                                      1\n",
       "+YouTube +Merchandise                              31\n",
       "+YouTube +Products                                  2\n",
       "+YouTube +apparel                                   4\n",
       "+YouTube +kit                                       1\n",
       "+google +accessories +store                         1\n",
       "+google +apperal                                    1\n",
       "+google +backpack                                  27\n",
       "+google +backpacks                                  1\n",
       "+google +bags                                       4\n",
       "+google +coffee +mug                                2\n",
       "+google +coffee +mugs                               1\n",
       "+google +men +jackets                               1\n",
       "                                                ...  \n",
       "ютцуб                                               1\n",
       "חנות גוגל                                           1\n",
       "حقيبة غوغل                                          1\n",
       "سیکسی ‏YOUTUB‏ ‏STORE                               1\n",
       "قوقل                                                1\n",
       "يوتتوب                                              1\n",
       "يوتيوب                                              2\n",
       "गूगल हट वीडीवपाकीसतानी                              1\n",
       "बैग googly                                          1\n",
       "युतुब आनलाइन                                        1\n",
       "यू tube                                             1\n",
       "यूट्यूब stor                                        1\n",
       "यूट्यूब स्टोर                                       1\n",
       "यूट्यूब.कॉम                                         1\n",
       "रेड टुब                                             1\n",
       "शर्ट का साईज S M XL L YOU TUBE                      1\n",
       "होम शॉप टी शर्ट                                     1\n",
       "একটা t shirt কে কিভাবে রপ্তানূযোগ্য করা যায়         1\n",
       "কমদামী ভালো t-shart                                 1\n",
       "কাউন্টার টা দিস t shirt                             1\n",
       "জাতীয় পতাকা ডিজাইনের T-Shairt                       1\n",
       "বৈশাখী স্টিকার for t-shirt                          1\n",
       "กูเกิ้ง ยูทุป                                       1\n",
       "ソニックＴシャツ グーグル                                       1\n",
       "ㅛ ㅐ ㅕ 셔 ㅠㄷ 채 ㅡ                                      1\n",
       "緑谷出久 爆豪勝己                                           1\n",
       "谷歌store                                             3\n",
       "谷歌商城软件网站                                            1\n",
       "谷歌在线商城                                              1\n",
       "구글                                                  1\n",
       "Length: 2400, dtype: int64"
      ]
     },
     "execution_count": 108,
     "metadata": {},
     "output_type": "execute_result"
    }
   ],
   "source": [
    "df.groupby(\"keyword\").size()"
   ]
  },
  {
   "cell_type": "code",
   "execution_count": 109,
   "metadata": {},
   "outputs": [
    {
     "data": {
      "text/plain": [
       "keyword\n",
       "(/google+redesign/shop+by+brand/youtube                       1\n",
       "(Remarketing/Content targeting)                            3108\n",
       "(User vertical targeting)                                 14006\n",
       "(automatic matching)                                      10370\n",
       "(content targeting)                                          23\n",
       "(not provided)                                           320545\n",
       "*board/shop lifestyle/cap                                     1\n",
       "+Android +Gear                                                2\n",
       "+Chrome +Merchandise                                          2\n",
       "+Google +Gear                                                13\n",
       "+Google +Merchandise                                        270\n",
       "+Google +Products                                           115\n",
       "+Google +Swag                                                62\n",
       "+Google +accessories                                         13\n",
       "+Google +drinkware                                            2\n",
       "+Google +glassware                                            4\n",
       "+Google +men's +apparel                                       1\n",
       "+Google +paraphernalia                                        2\n",
       "+YouTube +Gear                                                3\n",
       "+YouTube +Merchandise                                        23\n",
       "+YouTube +Products                                            1\n",
       "+YouTube +accessories                                         1\n",
       "+YouTube +apparel                                             3\n",
       "+YouTube +kit                                                 4\n",
       "+buy +from +google +store                                     4\n",
       "+goggle +store                                                2\n",
       "+google +accessories +store                                   1\n",
       "+google +backpack                                            24\n",
       "+google +backpacks                                            2\n",
       "+google +bags                                                 7\n",
       "                                                          ...  \n",
       "погода кривой рог                                             1\n",
       "пщщпду                                                        1\n",
       "рюкзак гугл                                                   1\n",
       "рюкзак от google                                              1\n",
       "стор гугл                                                     1\n",
       "электроник google                                             1\n",
       "ютуб                                                          3\n",
       "ютюб                                                          2\n",
       "فوتبول                                                        1\n",
       "يوتوب م                                                       1\n",
       "يوتيوب                                                        1\n",
       "يوتيوب ستور                                                   1\n",
       "गूगल शर्ट प्राइस                                              1\n",
       "युटयुब                                                        1\n",
       "युटू स्टोर                                                    1\n",
       "यू टी ऊबे                                                     1\n",
       "यूटूब                                                         2\n",
       "यूट्यूबt                                                      1\n",
       "यौ ट्यूब                                                      2\n",
       "रेड तुबे                                                      1\n",
       "কি ভাবে পাইকারদের কাছ থেকে t shart kinbo                      1\n",
       "কিভাবে আমেরিকায় T-shirt সেল করা যায়                           1\n",
       "ঢাকা বিশ্ববিদ্যালয়ের আশেপাশে কোথাও কি t shirt তৈরি হয়         1\n",
       "নতুন T-shirt                                                  1\n",
       "নিউলাইফ স্টাইল t shirt এর মূল্য                               1\n",
       "アイフォンの写真を印刷する                                                 1\n",
       "ストア グーグル                                                      1\n",
       "谷歌store                                                       4\n",
       "谷歌纪念品商店                                                       1\n",
       "구글 usa                                                        1\n",
       "Length: 2937, dtype: int64"
      ]
     },
     "execution_count": 109,
     "metadata": {},
     "output_type": "execute_result"
    }
   ],
   "source": [
    "df2.groupby(\"keyword\").size()"
   ]
  },
  {
   "cell_type": "code",
   "execution_count": null,
   "metadata": {
    "scrolled": true
   },
   "outputs": [],
   "source": [
    "df.groupby(\"adwordsClickInfo\").size()"
   ]
  },
  {
   "cell_type": "code",
   "execution_count": null,
   "metadata": {},
   "outputs": [],
   "source": [
    "df2.groupby(\"adwordsClickInfo\").size()"
   ]
  },
  {
   "cell_type": "code",
   "execution_count": 111,
   "metadata": {},
   "outputs": [
    {
     "data": {
      "text/plain": [
       "referralPath\n",
       "/                                                                                            63896\n",
       "//r/golang/comments/4zk0qy/in_serious_need_of_some_gopher_golang_swag/                           1\n",
       "//yt/about/fr/                                                                                   1\n",
       "/0FRjgIcmaR                                                                                      1\n",
       "/0xpEZvuoUz                                                                                      4\n",
       "/2015/03/11/google-merch-store-new-url/                                                        155\n",
       "/2015/06/08/the-googleplex-really-is-one-of-the-most-fun-places-to-work/                         1\n",
       "/2017/06/360.html                                                                                1\n",
       "/2jOketZr1r                                                                                      1\n",
       "/3oIBwdLr5K                                                                                     23\n",
       "/3s5wmZUF1D                                                                                      1\n",
       "/3y6VruMRCz                                                                                      1\n",
       "/4hthkXzOuE                                                                                      3\n",
       "/5833404830711808                                                                                2\n",
       "/5893803076747264                                                                                4\n",
       "/6746990277033984                                                                                7\n",
       "/72le5JvxTO                                                                                      1\n",
       "/AFabwkOSNa                                                                                      1\n",
       "/APfyhRAkfL                                                                                      4\n",
       "/AVsZ0feZuA                                                                                      5\n",
       "/AlGoy7m4DT                                                                                      1\n",
       "/Are-there-any-websites-in-India-which-provides-free-T-shirts-when-you-join-register-them        1\n",
       "/BNRXVnfS6u                                                                                      5\n",
       "/C1HS0hIP0E                                                                                      4\n",
       "/CHZY7Viw1a                                                                                      2\n",
       "/CcxArxJCrv                                                                                      3\n",
       "/Client.html                                                                                    35\n",
       "/CudkVdIGqC                                                                                     10\n",
       "/DSmY7hNZth                                                                                      2\n",
       "/DVbDmqErUv                                                                                      2\n",
       "                                                                                             ...  \n",
       "/yt/space/mumbai/location.html                                                                   2\n",
       "/yt/space/mumbai/unlock.html                                                                     1\n",
       "/yt/space/newyork/                                                                              15\n",
       "/yt/space/newyork/access.html                                                                    5\n",
       "/yt/space/newyork/calendar.html                                                                  2\n",
       "/yt/space/newyork/facilities.html                                                                7\n",
       "/yt/space/newyork/learn.html                                                                     1\n",
       "/yt/space/newyork/sets.html                                                                      1\n",
       "/yt/space/newyork/unlock.html                                                                    2\n",
       "/yt/space/paris/                                                                                 3\n",
       "/yt/space/paris/calendar.html                                                                    1\n",
       "/yt/space/rio/                                                                                   2\n",
       "/yt/space/rio/unlock.html                                                                        1\n",
       "/yt/space/rio/workshops-events.html                                                              1\n",
       "/yt/space/tokyo/                                                                                 3\n",
       "/yt/space/tokyo/calendar.html                                                                    4\n",
       "/yt/space/tokyo/facilities.html                                                                  1\n",
       "/yt/space/tokyo/location.html                                                                    1\n",
       "/yt/space/tokyo/unlock.html                                                                      3\n",
       "/yt/space/toronto/                                                                               2\n",
       "/yt/space/toronto/access.html                                                                    2\n",
       "/yt/space/toronto/calendar.html                                                                  2\n",
       "/yt/space/toronto/unlock.html                                                                    1\n",
       "/yt/startcreating/ALL_de/index.html                                                              1\n",
       "/yt/startcreating/ALL_jp/index.html                                                              8\n",
       "/yt/videomasthead/                                                                              10\n",
       "/yt/videomasthead/zh-HK/index.html                                                               1\n",
       "/zuY3dWqwCI                                                                                      2\n",
       "/zwzp9zSOvd                                                                                      1\n",
       "/~kristiyan/2082_pure_mix/index.html                                                             1\n",
       "Length: 2342, dtype: int64"
      ]
     },
     "execution_count": 111,
     "metadata": {},
     "output_type": "execute_result"
    }
   ],
   "source": [
    "df.groupby(\"referralPath\").size()"
   ]
  },
  {
   "cell_type": "code",
   "execution_count": 112,
   "metadata": {},
   "outputs": [
    {
     "data": {
      "text/plain": [
       "referralPath\n",
       "/                                                                                            74397\n",
       "//QwaujgsLA4                                                                                     1\n",
       "/02BvQNNV8S                                                                                      1\n",
       "/0x50/items/208dcb46005533a9d889                                                                 5\n",
       "/0xpEZvuoUz                                                                                      6\n",
       "/19JPpPMW0p                                                                                      6\n",
       "/1uXVFaurAg                                                                                      1\n",
       "/2015/03/11/google-merch-store-new-url/                                                        158\n",
       "/2015/03/11/google-merch-store-new-url/amp/                                                      2\n",
       "/2015/06/08/the-googleplex-really-is-one-of-the-most-fun-places-to-work/                         1\n",
       "/2015/12/03/9to5google-gift-guide-android-fanboys/                                               2\n",
       "/2610273/projects/12161610/todos/250267685                                                       1\n",
       "/2jOketZr1r                                                                                      1\n",
       "/3HFkTPo8YI                                                                                      2\n",
       "/3LQzqD40xj                                                                                      1\n",
       "/3oIBwdLr5K                                                                                      3\n",
       "/3y6VruMRCz                                                                                      4\n",
       "/4UHQQd1nd2                                                                                      1\n",
       "/524723/161a7f5409/1651089867/6e837e43eb/                                                        1\n",
       "/5893803076747264                                                                                1\n",
       "/6746990277033984                                                                                2\n",
       "/7KS863JwBM                                                                                      1\n",
       "/7e6dod2QVe                                                                                      1\n",
       "/9pIKUZlwZj                                                                                      2\n",
       "/A7IUErkDTO                                                                                      1\n",
       "/AVsZ0feZuA                                                                                      1\n",
       "/Are-there-any-websites-in-India-which-provides-free-T-shirts-when-you-join-register-them        2\n",
       "/BB1QfReObs                                                                                      3\n",
       "/BdsFHRVkiw                                                                                      1\n",
       "/Bp1v7iLpTF                                                                                      1\n",
       "                                                                                             ...  \n",
       "/yt/space/mumbai/unlock.html                                                                     5\n",
       "/yt/space/newyork/                                                                              22\n",
       "/yt/space/newyork/access.html                                                                    3\n",
       "/yt/space/newyork/calendar.html                                                                  8\n",
       "/yt/space/newyork/facilities.html                                                               12\n",
       "/yt/space/newyork/location.html                                                                  1\n",
       "/yt/space/newyork/unlock.html                                                                    2\n",
       "/yt/space/paris/                                                                                 2\n",
       "/yt/space/paris/calendar.html                                                                    2\n",
       "/yt/space/rio/                                                                                   1\n",
       "/yt/space/rio/access.html                                                                        1\n",
       "/yt/space/rio/workshops-events.html                                                              1\n",
       "/yt/space/tokyo/                                                                                 5\n",
       "/yt/space/tokyo/calendar.html                                                                    2\n",
       "/yt/space/tokyo/creative.html                                                                    1\n",
       "/yt/space/tokyo/facilities.html                                                                  2\n",
       "/yt/space/tokyo/learn.html                                                                       1\n",
       "/yt/space/tokyo/unlock.html                                                                      1\n",
       "/yt/space/toronto/                                                                              10\n",
       "/yt/space/toronto/access.html                                                                    5\n",
       "/yt/space/toronto/calendar.html                                                                  2\n",
       "/yt/space/toronto/index.html                                                                     1\n",
       "/yt/space/toronto/learn.html                                                                     1\n",
       "/yt/startcreating/ALL_jp/index.html                                                              8\n",
       "/yt/videomasthead/                                                                              17\n",
       "/yt/videomasthead/tr/index.html                                                                  1\n",
       "/zimbra/h/printmessage                                                                           1\n",
       "/zimbra/m/zmain                                                                                  1\n",
       "/zimbra/mail                                                                                     4\n",
       "/zuY3dWqwCI                                                                                      1\n",
       "Length: 2510, dtype: int64"
      ]
     },
     "execution_count": 112,
     "metadata": {},
     "output_type": "execute_result"
    }
   ],
   "source": [
    "df2.groupby(\"referralPath\").size()"
   ]
  },
  {
   "cell_type": "code",
   "execution_count": 113,
   "metadata": {},
   "outputs": [
    {
     "data": {
      "text/plain": [
       "isTrueDirect\n",
       "True    251026\n",
       "dtype: int64"
      ]
     },
     "execution_count": 113,
     "metadata": {},
     "output_type": "execute_result"
    }
   ],
   "source": [
    "df.groupby(\"isTrueDirect\").size()"
   ]
  },
  {
   "cell_type": "code",
   "execution_count": 114,
   "metadata": {},
   "outputs": [
    {
     "data": {
      "text/plain": [
       "isTrueDirect\n",
       "True    283493\n",
       "dtype: int64"
      ]
     },
     "execution_count": 114,
     "metadata": {},
     "output_type": "execute_result"
    }
   ],
   "source": [
    "df2.groupby(\"isTrueDirect\").size()"
   ]
  },
  {
   "cell_type": "code",
   "execution_count": 115,
   "metadata": {},
   "outputs": [
    {
     "data": {
      "text/plain": [
       "adContent\n",
       "20% discount                             38\n",
       "Accessories Placement 336 x 280           8\n",
       "Ad from 11/3/16                         261\n",
       "Ad from 11/7/16                          45\n",
       "Ad from 12/13/16                        296\n",
       "Ad from 12/15/17                        326\n",
       "Ad from 12/21/16                          9\n",
       "BQ                                       68\n",
       "Bags 160 x 600                            8\n",
       "Bags 300x250                             40\n",
       "Bags 336x280                             28\n",
       "Display Ad created 11/17/14              40\n",
       "Display Ad created 3/11/14             1060\n",
       "Display Ad created 3/11/15              232\n",
       "Drinkware 120x600                         2\n",
       "Drinkware 336x280                        43\n",
       "First Full Auto Template Test Ad         53\n",
       "Full auto ad IMAGE ONLY                 410\n",
       "Full auto ad NATIVE ONLY                  1\n",
       "Full auto ad TEXT ONLY                   10\n",
       "Full auto ad TEXT/NATIVE                  2\n",
       "Full auto ad with Primary Color           2\n",
       "GA Help Center                            1\n",
       "Google Apparel                            1\n",
       "Google Merchandise                       37\n",
       "Google Merchandise Collection          3126\n",
       "Google Merchandise Store              17774\n",
       "Google Online Store                     921\n",
       "Google Paraphernalia                      4\n",
       "Google Store                              5\n",
       "                                      ...  \n",
       "Placement Accessories 160 x 600          96\n",
       "Placement Accessories 300 x 250         128\n",
       "Placement Accessories 336 x 280         131\n",
       "Placement Accessories2 120 x 600          9\n",
       "Placement Drinkware 300x250             310\n",
       "Placement Elecronics 300 x 250           94\n",
       "Placement Electronics 160 x 600          15\n",
       "Placement Office 300x250                 45\n",
       "Placement Office 336x280                 10\n",
       "Smart display ad - 2/6/2018              26\n",
       "Smart display ad - 8/17/2017           1513\n",
       "Swag with Google Logos                   80\n",
       "Want Google Sunglasses                    5\n",
       "cool                                      2\n",
       "free shipping                             2\n",
       "google store                              2\n",
       "test_tyler_hr_merchant                    3\n",
       "url_builder                               1\n",
       "visit us again                            2\n",
       "{KeyWord:Google Brand Items}            196\n",
       "{KeyWord:Google Branded Apparel}          7\n",
       "{KeyWord:Google Branded Gear}            41\n",
       "{KeyWord:Google Branded Kit}              9\n",
       "{KeyWord:Google Branded Outerwear}        3\n",
       "{KeyWord:Google Drinkware}               32\n",
       "{KeyWord:Google Men's T-Shirts}          25\n",
       "{KeyWord:Google Merchandise}            128\n",
       "{KeyWord:Looking for Google Bags?}       50\n",
       "{KeyWord:Want Google Pet Toys?}           5\n",
       "{KeyWord:Want Google Stickers?}          26\n",
       "Length: 72, dtype: int64"
      ]
     },
     "execution_count": 115,
     "metadata": {},
     "output_type": "execute_result"
    }
   ],
   "source": [
    "df.groupby(\"adContent\").size()"
   ]
  },
  {
   "cell_type": "code",
   "execution_count": 116,
   "metadata": {},
   "outputs": [
    {
     "data": {
      "text/plain": [
       "adContent\n",
       "20% discount                             37\n",
       "Accessories Placement 336 x 280           5\n",
       "Ad from 11/3/16                         228\n",
       "Ad from 11/7/16                          78\n",
       "Ad from 12/13/16                        314\n",
       "Ad from 12/15/17                        527\n",
       "Ad from 12/21/16                         39\n",
       "Ad from 2/17/17                           3\n",
       "BQ                                      219\n",
       "Bags 160 x 600                            5\n",
       "Bags 300x250                             50\n",
       "Bags 336x280                             21\n",
       "Display Ad created 11/17/14              10\n",
       "Display Ad created 3/11/14             1284\n",
       "Display Ad created 3/11/15              160\n",
       "Drinkware 120x600                         4\n",
       "Drinkware 336x280                        53\n",
       "First Full Auto Template Test Ad         34\n",
       "Free Shipping!                            2\n",
       "Full auto ad IMAGE ONLY                 412\n",
       "Full auto ad NATIVE ONLY                  2\n",
       "Full auto ad TEXT ONLY                    6\n",
       "Full auto ad TEXT/NATIVE                  5\n",
       "Full auto ad with Primary Color           1\n",
       "Google Merchandise                       50\n",
       "Google Merchandise Collection          3636\n",
       "Google Merchandise Store              21792\n",
       "Google Online Store                     852\n",
       "Google Paraphernalia                      4\n",
       "Google Store                              3\n",
       "                                      ...  \n",
       "Placement Accessores 300 x 250         1829\n",
       "Placement Accessories 160 x 600         165\n",
       "Placement Accessories 300 x 250         152\n",
       "Placement Accessories 336 x 280         177\n",
       "Placement Accessories2 120 x 600         15\n",
       "Placement Drinkware 300x250             343\n",
       "Placement Elecronics 300 x 250           96\n",
       "Placement Electronics 160 x 600          10\n",
       "Placement Office 300x250                 35\n",
       "Placement Office 336x280                  5\n",
       "Smart display ad - 2/6/2018               7\n",
       "Smart display ad - 8/17/2017           1151\n",
       "Swag w/ Google Logos                      1\n",
       "Swag with Google Logos                   67\n",
       "Want Google Sunglasses                    4\n",
       "free shipping                             1\n",
       "test_tyler_hr_merchant                    5\n",
       "url_builder                               2\n",
       "visit us again                            5\n",
       "{KeyWord:Google Brand Items}            222\n",
       "{KeyWord:Google Branded Apparel}          3\n",
       "{KeyWord:Google Branded Gear}            54\n",
       "{KeyWord:Google Branded Kit}             10\n",
       "{KeyWord:Google Branded Outerwear}        2\n",
       "{KeyWord:Google Drinkware}               23\n",
       "{KeyWord:Google Men's T-Shirts}          13\n",
       "{KeyWord:Google Merchandise}            146\n",
       "{KeyWord:Looking for Google Bags?}       39\n",
       "{KeyWord:Want Google Pet Toys?}           6\n",
       "{KeyWord:Want Google Stickers?}          38\n",
       "Length: 72, dtype: int64"
      ]
     },
     "execution_count": 116,
     "metadata": {},
     "output_type": "execute_result"
    }
   ],
   "source": [
    "df2.groupby(\"adContent\").size()"
   ]
  },
  {
   "cell_type": "code",
   "execution_count": 127,
   "metadata": {},
   "outputs": [],
   "source": [
    "keep = [\"channelGrouping\", \"date\", \"customDimensions\", \"visitNumber\",\n",
    "        \"visitStartTime\",\"browser\", \"operatingSystem\", \"isMobile\", \"deviceCategory\",\n",
    "        \"continent\", \"subContinent\", \"country\", \"region\", \"city\", \"metro\", \"networkDomain\",\n",
    "        \"hits\", \"pageviews\",\"sessionQualityDim\", \"timeOnSite\", \"transactions\", \"transactionRevenue\",\n",
    "        \"totalTransactionRevenue\",'campaign','source', 'medium','keyword',  'referralPath','isTrueDirect','adContent']"
   ]
  },
  {
   "cell_type": "code",
   "execution_count": 131,
   "metadata": {},
   "outputs": [],
   "source": [
    "to_drop = [\"socialEngagementType\", \"fullVisitorId\", \"visitId\", \"browserVersion\", \"browserSize\",\"mobileDeviceBranding\", \"mobileDeviceModel\",\"mobileInputSelector\", \"mobileDeviceInfo\",'flashVersion',\n",
    " 'language','screenColors','screenResolution',\"cityId\", \"mobileDeviceMarketingName\", \"operatingSystemVersion\",\n",
    "\"latitude\", \"longitude\", \"networkLocation\", \"visits\", \"bounces\", \"newVisits\", \"adwordsClickInfo\"]"
   ]
  },
  {
   "cell_type": "code",
   "execution_count": 132,
   "metadata": {},
   "outputs": [
    {
     "data": {
      "text/plain": [
       "53"
      ]
     },
     "execution_count": 132,
     "metadata": {},
     "output_type": "execute_result"
    }
   ],
   "source": [
    "len(keep) + len(to_drop)"
   ]
  },
  {
   "cell_type": "code",
   "execution_count": 133,
   "metadata": {},
   "outputs": [
    {
     "data": {
      "text/plain": [
       "53"
      ]
     },
     "execution_count": 133,
     "metadata": {},
     "output_type": "execute_result"
    }
   ],
   "source": [
    "len(column_names)"
   ]
  },
  {
   "cell_type": "code",
   "execution_count": 134,
   "metadata": {},
   "outputs": [
    {
     "data": {
      "text/plain": [
       "((803178, 53), (905160, 53))"
      ]
     },
     "execution_count": 134,
     "metadata": {},
     "output_type": "execute_result"
    }
   ],
   "source": [
    "df.shape, df2.shape"
   ]
  },
  {
   "cell_type": "code",
   "execution_count": 135,
   "metadata": {},
   "outputs": [],
   "source": [
    "df.drop(to_drop,axis=1, inplace=True)"
   ]
  },
  {
   "cell_type": "code",
   "execution_count": 136,
   "metadata": {},
   "outputs": [],
   "source": [
    "df2.drop(to_drop,axis=1, inplace=True)"
   ]
  },
  {
   "cell_type": "code",
   "execution_count": 137,
   "metadata": {},
   "outputs": [
    {
     "data": {
      "text/plain": [
       "((803178, 30), (905160, 30))"
      ]
     },
     "execution_count": 137,
     "metadata": {},
     "output_type": "execute_result"
    }
   ],
   "source": [
    "df.shape, df2.shape"
   ]
  },
  {
   "cell_type": "code",
   "execution_count": null,
   "metadata": {},
   "outputs": [],
   "source": [
    "#starting to process hits\n"
   ]
  },
  {
   "cell_type": "markdown",
   "metadata": {},
   "source": [
    "# DONT RUN NEXT 6 CELLS"
   ]
  },
  {
   "cell_type": "code",
   "execution_count": 138,
   "metadata": {},
   "outputs": [],
   "source": [
    "one_row = pd.read_csv(\"train_v2.csv\", nrows=1)\n",
    "one_row = list(one_row)\n",
    "one_row"
   ]
  },
  {
   "cell_type": "code",
   "execution_count": 142,
   "metadata": {},
   "outputs": [
    {
     "name": "stdout",
     "output_type": "stream",
     "text": [
      "CPU times: user 1min 13s, sys: 16.2 s, total: 1min 29s\n",
      "Wall time: 1min 34s\n"
     ]
    }
   ],
   "source": [
    "%%time \n",
    "no_of_rows = 803178\n",
    "# converter applies a converter function while you are loading the data, you are loading it as\n",
    "# json.loadstring = json.loads() for each of those columns in the list\n",
    "train_set = pd.read_csv(\"train_v2.csv\", usecols=[i for i in one_row if i== 'hits'], nrows = no_of_rows)"
   ]
  },
  {
   "cell_type": "code",
   "execution_count": 152,
   "metadata": {},
   "outputs": [
    {
     "data": {
      "text/plain": [
       "[{'hitNumber': '1',\n",
       "  'time': '0',\n",
       "  'hour': '17',\n",
       "  'minute': '0',\n",
       "  'isInteraction': True,\n",
       "  'isEntrance': True,\n",
       "  'isExit': True,\n",
       "  'referer': 'https://www.google.co.uk/search?q=water+bottle&ie=utf-8&num=100&oe=utf-8&hl=en&gl=GB&uule=w+CAIQIFISCamRx0IRO1oCEXoliDJDoPjE&glp=1&gws_rd=cr&fg=1',\n",
       "  'page': {'pagePath': '/google+redesign/bags/water+bottles+and+tumblers',\n",
       "   'hostname': 'shop.googlemerchandisestore.com',\n",
       "   'pageTitle': 'Water Bottles & Tumblers | Drinkware | Google Merchandise Store',\n",
       "   'pagePathLevel1': '/google+redesign/',\n",
       "   'pagePathLevel2': '/bags/',\n",
       "   'pagePathLevel3': '/water+bottles+and+tumblers',\n",
       "   'pagePathLevel4': ''},\n",
       "  'transaction': {'currencyCode': 'USD'},\n",
       "  'item': {'currencyCode': 'USD'},\n",
       "  'appInfo': {'screenName': 'shop.googlemerchandisestore.com/google+redesign/bags/water+bottles+and+tumblers',\n",
       "   'landingScreenName': 'shop.googlemerchandisestore.com/google+redesign/bags/water+bottles+and+tumblers',\n",
       "   'exitScreenName': 'shop.googlemerchandisestore.com/google+redesign/bags/water+bottles+and+tumblers',\n",
       "   'screenDepth': '0'},\n",
       "  'exceptionInfo': {'isFatal': True},\n",
       "  'product': [{'productSKU': 'GGOEGDHC074099',\n",
       "    'v2ProductName': 'Google 17oz Stainless Steel Sport Bottle',\n",
       "    'v2ProductCategory': 'Home/Drinkware/Water Bottles and Tumblers/',\n",
       "    'productVariant': '(not set)',\n",
       "    'productBrand': '(not set)',\n",
       "    'productPrice': '23990000',\n",
       "    'localProductPrice': '23990000',\n",
       "    'isImpression': True,\n",
       "    'customDimensions': [],\n",
       "    'customMetrics': [],\n",
       "    'productListName': 'Category',\n",
       "    'productListPosition': '1'},\n",
       "   {'productSKU': 'GGOEGDHQ015399',\n",
       "    'v2ProductName': '26 oz Double Wall Insulated Bottle',\n",
       "    'v2ProductCategory': 'Home/Drinkware/Water Bottles and Tumblers/',\n",
       "    'productVariant': '(not set)',\n",
       "    'productBrand': '(not set)',\n",
       "    'productPrice': '24990000',\n",
       "    'localProductPrice': '24990000',\n",
       "    'isImpression': True,\n",
       "    'customDimensions': [],\n",
       "    'customMetrics': [],\n",
       "    'productListName': 'Category',\n",
       "    'productListPosition': '2'},\n",
       "   {'productSKU': 'GGOEYDHJ056099',\n",
       "    'v2ProductName': '22 oz YouTube Bottle Infuser',\n",
       "    'v2ProductCategory': 'Home/Drinkware/Water Bottles and Tumblers/',\n",
       "    'productVariant': '(not set)',\n",
       "    'productBrand': '(not set)',\n",
       "    'productPrice': '4990000',\n",
       "    'localProductPrice': '4990000',\n",
       "    'isImpression': True,\n",
       "    'customDimensions': [],\n",
       "    'customMetrics': [],\n",
       "    'productListName': 'Category',\n",
       "    'productListPosition': '3'},\n",
       "   {'productSKU': 'GGOEGAAX0074',\n",
       "    'v2ProductName': 'Google 22 oz Water Bottle',\n",
       "    'v2ProductCategory': 'Home/Drinkware/Water Bottles and Tumblers/',\n",
       "    'productVariant': '(not set)',\n",
       "    'productBrand': '(not set)',\n",
       "    'productPrice': '2990000',\n",
       "    'localProductPrice': '2990000',\n",
       "    'isImpression': True,\n",
       "    'customDimensions': [],\n",
       "    'customMetrics': [],\n",
       "    'productListName': 'Category',\n",
       "    'productListPosition': '4'}],\n",
       "  'promotion': [],\n",
       "  'eCommerceAction': {'action_type': '0', 'step': '1'},\n",
       "  'experiment': [],\n",
       "  'customVariables': [],\n",
       "  'customDimensions': [],\n",
       "  'customMetrics': [],\n",
       "  'type': 'PAGE',\n",
       "  'social': {'socialNetwork': '(not set)',\n",
       "   'hasSocialSourceReferral': 'No',\n",
       "   'socialInteractionNetworkAction': ' : '},\n",
       "  'contentGroup': {'contentGroup1': '(not set)',\n",
       "   'contentGroup2': 'Bags',\n",
       "   'contentGroup3': '(not set)',\n",
       "   'contentGroup4': '(not set)',\n",
       "   'contentGroup5': '(not set)',\n",
       "   'previousContentGroup1': '(entrance)',\n",
       "   'previousContentGroup2': '(entrance)',\n",
       "   'previousContentGroup3': '(entrance)',\n",
       "   'previousContentGroup4': '(entrance)',\n",
       "   'previousContentGroup5': '(entrance)',\n",
       "   'contentGroupUniqueViews2': '1'},\n",
       "  'dataSource': 'web',\n",
       "  'publisher_infos': []}]"
      ]
     },
     "execution_count": 152,
     "metadata": {},
     "output_type": "execute_result"
    }
   ],
   "source": [
    "y = eval(train_set[\"hits\"][0])\n",
    "y\n"
   ]
  },
  {
   "cell_type": "code",
   "execution_count": null,
   "metadata": {
    "scrolled": false
   },
   "outputs": [],
   "source": [
    "for i, j in train_set[\"hits\"].iteritems():\n",
    "    train_set[\"hits\"][i] = eval(j)"
   ]
  },
  {
   "cell_type": "code",
   "execution_count": null,
   "metadata": {},
   "outputs": [],
   "source": [
    "for i, j in train_set[\"hits\"].iteritems():\n",
    "    train_set[\"hits\"][i] = train_set[\"hits\"][i][0]\n",
    "    train_set[\"hits\"][i] = json.dumps(train_set[\"hits\"][i])"
   ]
  },
  {
   "cell_type": "code",
   "execution_count": null,
   "metadata": {
    "scrolled": false
   },
   "outputs": [],
   "source": [
    "train_set = train_set.join(json.dumps()).apply(json.loads).apply(pd.Series))"
   ]
  },
  {
   "cell_type": "code",
   "execution_count": 167,
   "metadata": {},
   "outputs": [
    {
     "data": {
      "text/html": [
       "<div>\n",
       "<style scoped>\n",
       "    .dataframe tbody tr th:only-of-type {\n",
       "        vertical-align: middle;\n",
       "    }\n",
       "\n",
       "    .dataframe tbody tr th {\n",
       "        vertical-align: top;\n",
       "    }\n",
       "\n",
       "    .dataframe thead th {\n",
       "        text-align: right;\n",
       "    }\n",
       "</style>\n",
       "<table border=\"1\" class=\"dataframe\">\n",
       "  <thead>\n",
       "    <tr style=\"text-align: right;\">\n",
       "      <th></th>\n",
       "      <th>channelGrouping</th>\n",
       "      <th>customDimensions</th>\n",
       "      <th>date</th>\n",
       "      <th>visitNumber</th>\n",
       "      <th>visitStartTime</th>\n",
       "      <th>browser</th>\n",
       "      <th>operatingSystem</th>\n",
       "      <th>isMobile</th>\n",
       "      <th>deviceCategory</th>\n",
       "      <th>continent</th>\n",
       "      <th>...</th>\n",
       "      <th>transactions</th>\n",
       "      <th>transactionRevenue</th>\n",
       "      <th>totalTransactionRevenue</th>\n",
       "      <th>campaign</th>\n",
       "      <th>source</th>\n",
       "      <th>medium</th>\n",
       "      <th>keyword</th>\n",
       "      <th>referralPath</th>\n",
       "      <th>isTrueDirect</th>\n",
       "      <th>adContent</th>\n",
       "    </tr>\n",
       "  </thead>\n",
       "  <tbody>\n",
       "    <tr>\n",
       "      <th>0</th>\n",
       "      <td>Organic Search</td>\n",
       "      <td>[{'index': '4', 'value': 'EMEA'}]</td>\n",
       "      <td>20171016</td>\n",
       "      <td>1</td>\n",
       "      <td>1508198450</td>\n",
       "      <td>Firefox</td>\n",
       "      <td>Windows</td>\n",
       "      <td>False</td>\n",
       "      <td>desktop</td>\n",
       "      <td>Europe</td>\n",
       "      <td>...</td>\n",
       "      <td>NaN</td>\n",
       "      <td>NaN</td>\n",
       "      <td>NaN</td>\n",
       "      <td>(not set)</td>\n",
       "      <td>google</td>\n",
       "      <td>organic</td>\n",
       "      <td>water bottle</td>\n",
       "      <td>NaN</td>\n",
       "      <td>NaN</td>\n",
       "      <td>NaN</td>\n",
       "    </tr>\n",
       "    <tr>\n",
       "      <th>1</th>\n",
       "      <td>Referral</td>\n",
       "      <td>[{'index': '4', 'value': 'North America'}]</td>\n",
       "      <td>20171016</td>\n",
       "      <td>6</td>\n",
       "      <td>1508176307</td>\n",
       "      <td>Chrome</td>\n",
       "      <td>Chrome OS</td>\n",
       "      <td>False</td>\n",
       "      <td>desktop</td>\n",
       "      <td>Americas</td>\n",
       "      <td>...</td>\n",
       "      <td>NaN</td>\n",
       "      <td>NaN</td>\n",
       "      <td>NaN</td>\n",
       "      <td>(not set)</td>\n",
       "      <td>sites.google.com</td>\n",
       "      <td>referral</td>\n",
       "      <td>NaN</td>\n",
       "      <td>/a/google.com/transportation/mtv-services/bike...</td>\n",
       "      <td>NaN</td>\n",
       "      <td>NaN</td>\n",
       "    </tr>\n",
       "    <tr>\n",
       "      <th>2</th>\n",
       "      <td>Direct</td>\n",
       "      <td>[{'index': '4', 'value': 'North America'}]</td>\n",
       "      <td>20171016</td>\n",
       "      <td>1</td>\n",
       "      <td>1508201613</td>\n",
       "      <td>Chrome</td>\n",
       "      <td>Android</td>\n",
       "      <td>True</td>\n",
       "      <td>mobile</td>\n",
       "      <td>Americas</td>\n",
       "      <td>...</td>\n",
       "      <td>NaN</td>\n",
       "      <td>NaN</td>\n",
       "      <td>NaN</td>\n",
       "      <td>(not set)</td>\n",
       "      <td>(direct)</td>\n",
       "      <td>(none)</td>\n",
       "      <td>NaN</td>\n",
       "      <td>NaN</td>\n",
       "      <td>True</td>\n",
       "      <td>NaN</td>\n",
       "    </tr>\n",
       "    <tr>\n",
       "      <th>3</th>\n",
       "      <td>Organic Search</td>\n",
       "      <td>[{'index': '4', 'value': 'EMEA'}]</td>\n",
       "      <td>20171016</td>\n",
       "      <td>1</td>\n",
       "      <td>1508169851</td>\n",
       "      <td>Chrome</td>\n",
       "      <td>Windows</td>\n",
       "      <td>False</td>\n",
       "      <td>desktop</td>\n",
       "      <td>Asia</td>\n",
       "      <td>...</td>\n",
       "      <td>NaN</td>\n",
       "      <td>NaN</td>\n",
       "      <td>NaN</td>\n",
       "      <td>(not set)</td>\n",
       "      <td>google</td>\n",
       "      <td>organic</td>\n",
       "      <td>(not provided)</td>\n",
       "      <td>NaN</td>\n",
       "      <td>NaN</td>\n",
       "      <td>NaN</td>\n",
       "    </tr>\n",
       "    <tr>\n",
       "      <th>4</th>\n",
       "      <td>Organic Search</td>\n",
       "      <td>[{'index': '4', 'value': 'Central America'}]</td>\n",
       "      <td>20171016</td>\n",
       "      <td>1</td>\n",
       "      <td>1508190552</td>\n",
       "      <td>Chrome</td>\n",
       "      <td>Windows</td>\n",
       "      <td>False</td>\n",
       "      <td>desktop</td>\n",
       "      <td>Americas</td>\n",
       "      <td>...</td>\n",
       "      <td>NaN</td>\n",
       "      <td>NaN</td>\n",
       "      <td>NaN</td>\n",
       "      <td>(not set)</td>\n",
       "      <td>google</td>\n",
       "      <td>organic</td>\n",
       "      <td>(not provided)</td>\n",
       "      <td>NaN</td>\n",
       "      <td>NaN</td>\n",
       "      <td>NaN</td>\n",
       "    </tr>\n",
       "  </tbody>\n",
       "</table>\n",
       "<p>5 rows × 30 columns</p>\n",
       "</div>"
      ],
      "text/plain": [
       "  channelGrouping                              customDimensions      date  \\\n",
       "0  Organic Search             [{'index': '4', 'value': 'EMEA'}]  20171016   \n",
       "1        Referral    [{'index': '4', 'value': 'North America'}]  20171016   \n",
       "2          Direct    [{'index': '4', 'value': 'North America'}]  20171016   \n",
       "3  Organic Search             [{'index': '4', 'value': 'EMEA'}]  20171016   \n",
       "4  Organic Search  [{'index': '4', 'value': 'Central America'}]  20171016   \n",
       "\n",
       "   visitNumber  visitStartTime  browser operatingSystem  isMobile  \\\n",
       "0            1      1508198450  Firefox         Windows     False   \n",
       "1            6      1508176307   Chrome       Chrome OS     False   \n",
       "2            1      1508201613   Chrome         Android      True   \n",
       "3            1      1508169851   Chrome         Windows     False   \n",
       "4            1      1508190552   Chrome         Windows     False   \n",
       "\n",
       "  deviceCategory continent    ...    transactions transactionRevenue  \\\n",
       "0        desktop    Europe    ...             NaN                NaN   \n",
       "1        desktop  Americas    ...             NaN                NaN   \n",
       "2         mobile  Americas    ...             NaN                NaN   \n",
       "3        desktop      Asia    ...             NaN                NaN   \n",
       "4        desktop  Americas    ...             NaN                NaN   \n",
       "\n",
       "  totalTransactionRevenue   campaign            source    medium  \\\n",
       "0                     NaN  (not set)            google   organic   \n",
       "1                     NaN  (not set)  sites.google.com  referral   \n",
       "2                     NaN  (not set)          (direct)    (none)   \n",
       "3                     NaN  (not set)            google   organic   \n",
       "4                     NaN  (not set)            google   organic   \n",
       "\n",
       "          keyword                                       referralPath  \\\n",
       "0    water bottle                                                NaN   \n",
       "1             NaN  /a/google.com/transportation/mtv-services/bike...   \n",
       "2             NaN                                                NaN   \n",
       "3  (not provided)                                                NaN   \n",
       "4  (not provided)                                                NaN   \n",
       "\n",
       "  isTrueDirect adContent  \n",
       "0          NaN       NaN  \n",
       "1          NaN       NaN  \n",
       "2         True       NaN  \n",
       "3          NaN       NaN  \n",
       "4          NaN       NaN  \n",
       "\n",
       "[5 rows x 30 columns]"
      ]
     },
     "execution_count": 167,
     "metadata": {},
     "output_type": "execute_result"
    }
   ],
   "source": [
    "df.head()"
   ]
  },
  {
   "cell_type": "code",
   "execution_count": 168,
   "metadata": {},
   "outputs": [
    {
     "data": {
      "text/html": [
       "<div>\n",
       "<style scoped>\n",
       "    .dataframe tbody tr th:only-of-type {\n",
       "        vertical-align: middle;\n",
       "    }\n",
       "\n",
       "    .dataframe tbody tr th {\n",
       "        vertical-align: top;\n",
       "    }\n",
       "\n",
       "    .dataframe thead th {\n",
       "        text-align: right;\n",
       "    }\n",
       "</style>\n",
       "<table border=\"1\" class=\"dataframe\">\n",
       "  <thead>\n",
       "    <tr style=\"text-align: right;\">\n",
       "      <th></th>\n",
       "      <th>channelGrouping</th>\n",
       "      <th>customDimensions</th>\n",
       "      <th>date</th>\n",
       "      <th>visitNumber</th>\n",
       "      <th>visitStartTime</th>\n",
       "      <th>browser</th>\n",
       "      <th>operatingSystem</th>\n",
       "      <th>isMobile</th>\n",
       "      <th>deviceCategory</th>\n",
       "      <th>continent</th>\n",
       "      <th>...</th>\n",
       "      <th>transactions</th>\n",
       "      <th>transactionRevenue</th>\n",
       "      <th>totalTransactionRevenue</th>\n",
       "      <th>campaign</th>\n",
       "      <th>source</th>\n",
       "      <th>medium</th>\n",
       "      <th>keyword</th>\n",
       "      <th>isTrueDirect</th>\n",
       "      <th>referralPath</th>\n",
       "      <th>adContent</th>\n",
       "    </tr>\n",
       "  </thead>\n",
       "  <tbody>\n",
       "    <tr>\n",
       "      <th>0</th>\n",
       "      <td>Organic Search</td>\n",
       "      <td>[{'index': '4', 'value': 'North America'}]</td>\n",
       "      <td>20171005</td>\n",
       "      <td>2</td>\n",
       "      <td>1507250518</td>\n",
       "      <td>Chrome</td>\n",
       "      <td>Android</td>\n",
       "      <td>True</td>\n",
       "      <td>mobile</td>\n",
       "      <td>Americas</td>\n",
       "      <td>...</td>\n",
       "      <td>NaN</td>\n",
       "      <td>NaN</td>\n",
       "      <td>NaN</td>\n",
       "      <td>(not set)</td>\n",
       "      <td>google</td>\n",
       "      <td>organic</td>\n",
       "      <td>(not provided)</td>\n",
       "      <td>True</td>\n",
       "      <td>NaN</td>\n",
       "      <td>NaN</td>\n",
       "    </tr>\n",
       "    <tr>\n",
       "      <th>1</th>\n",
       "      <td>Organic Search</td>\n",
       "      <td>[{'index': '4', 'value': 'North America'}]</td>\n",
       "      <td>20171005</td>\n",
       "      <td>1</td>\n",
       "      <td>1507250122</td>\n",
       "      <td>Safari</td>\n",
       "      <td>iOS</td>\n",
       "      <td>True</td>\n",
       "      <td>tablet</td>\n",
       "      <td>Americas</td>\n",
       "      <td>...</td>\n",
       "      <td>NaN</td>\n",
       "      <td>NaN</td>\n",
       "      <td>NaN</td>\n",
       "      <td>(not set)</td>\n",
       "      <td>google</td>\n",
       "      <td>organic</td>\n",
       "      <td>(not provided)</td>\n",
       "      <td>NaN</td>\n",
       "      <td>NaN</td>\n",
       "      <td>NaN</td>\n",
       "    </tr>\n",
       "    <tr>\n",
       "      <th>2</th>\n",
       "      <td>Organic Search</td>\n",
       "      <td>[{'index': '4', 'value': 'North America'}]</td>\n",
       "      <td>20171005</td>\n",
       "      <td>1</td>\n",
       "      <td>1507237813</td>\n",
       "      <td>Chrome</td>\n",
       "      <td>Windows</td>\n",
       "      <td>False</td>\n",
       "      <td>desktop</td>\n",
       "      <td>Americas</td>\n",
       "      <td>...</td>\n",
       "      <td>NaN</td>\n",
       "      <td>NaN</td>\n",
       "      <td>NaN</td>\n",
       "      <td>(not set)</td>\n",
       "      <td>google</td>\n",
       "      <td>organic</td>\n",
       "      <td>(not provided)</td>\n",
       "      <td>NaN</td>\n",
       "      <td>NaN</td>\n",
       "      <td>NaN</td>\n",
       "    </tr>\n",
       "    <tr>\n",
       "      <th>3</th>\n",
       "      <td>Organic Search</td>\n",
       "      <td>[{'index': '4', 'value': 'North America'}]</td>\n",
       "      <td>20171005</td>\n",
       "      <td>1</td>\n",
       "      <td>1507250491</td>\n",
       "      <td>Chrome</td>\n",
       "      <td>Android</td>\n",
       "      <td>True</td>\n",
       "      <td>mobile</td>\n",
       "      <td>Americas</td>\n",
       "      <td>...</td>\n",
       "      <td>NaN</td>\n",
       "      <td>NaN</td>\n",
       "      <td>NaN</td>\n",
       "      <td>(not set)</td>\n",
       "      <td>google</td>\n",
       "      <td>organic</td>\n",
       "      <td>(not provided)</td>\n",
       "      <td>NaN</td>\n",
       "      <td>NaN</td>\n",
       "      <td>NaN</td>\n",
       "    </tr>\n",
       "    <tr>\n",
       "      <th>4</th>\n",
       "      <td>Organic Search</td>\n",
       "      <td>[{'index': '4', 'value': 'North America'}]</td>\n",
       "      <td>20171005</td>\n",
       "      <td>1</td>\n",
       "      <td>1507243409</td>\n",
       "      <td>Safari</td>\n",
       "      <td>iOS</td>\n",
       "      <td>True</td>\n",
       "      <td>mobile</td>\n",
       "      <td>Americas</td>\n",
       "      <td>...</td>\n",
       "      <td>NaN</td>\n",
       "      <td>NaN</td>\n",
       "      <td>NaN</td>\n",
       "      <td>(not set)</td>\n",
       "      <td>google</td>\n",
       "      <td>organic</td>\n",
       "      <td>(not provided)</td>\n",
       "      <td>NaN</td>\n",
       "      <td>NaN</td>\n",
       "      <td>NaN</td>\n",
       "    </tr>\n",
       "  </tbody>\n",
       "</table>\n",
       "<p>5 rows × 30 columns</p>\n",
       "</div>"
      ],
      "text/plain": [
       "  channelGrouping                            customDimensions      date  \\\n",
       "0  Organic Search  [{'index': '4', 'value': 'North America'}]  20171005   \n",
       "1  Organic Search  [{'index': '4', 'value': 'North America'}]  20171005   \n",
       "2  Organic Search  [{'index': '4', 'value': 'North America'}]  20171005   \n",
       "3  Organic Search  [{'index': '4', 'value': 'North America'}]  20171005   \n",
       "4  Organic Search  [{'index': '4', 'value': 'North America'}]  20171005   \n",
       "\n",
       "   visitNumber  visitStartTime browser operatingSystem  isMobile  \\\n",
       "0            2      1507250518  Chrome         Android      True   \n",
       "1            1      1507250122  Safari             iOS      True   \n",
       "2            1      1507237813  Chrome         Windows     False   \n",
       "3            1      1507250491  Chrome         Android      True   \n",
       "4            1      1507243409  Safari             iOS      True   \n",
       "\n",
       "  deviceCategory continent    ...    transactions transactionRevenue  \\\n",
       "0         mobile  Americas    ...             NaN                NaN   \n",
       "1         tablet  Americas    ...             NaN                NaN   \n",
       "2        desktop  Americas    ...             NaN                NaN   \n",
       "3         mobile  Americas    ...             NaN                NaN   \n",
       "4         mobile  Americas    ...             NaN                NaN   \n",
       "\n",
       "  totalTransactionRevenue   campaign  source   medium         keyword  \\\n",
       "0                     NaN  (not set)  google  organic  (not provided)   \n",
       "1                     NaN  (not set)  google  organic  (not provided)   \n",
       "2                     NaN  (not set)  google  organic  (not provided)   \n",
       "3                     NaN  (not set)  google  organic  (not provided)   \n",
       "4                     NaN  (not set)  google  organic  (not provided)   \n",
       "\n",
       "  isTrueDirect referralPath adContent  \n",
       "0         True          NaN       NaN  \n",
       "1          NaN          NaN       NaN  \n",
       "2          NaN          NaN       NaN  \n",
       "3          NaN          NaN       NaN  \n",
       "4          NaN          NaN       NaN  \n",
       "\n",
       "[5 rows x 30 columns]"
      ]
     },
     "execution_count": 168,
     "metadata": {},
     "output_type": "execute_result"
    }
   ],
   "source": [
    "df2.head()"
   ]
  },
  {
   "cell_type": "code",
   "execution_count": 169,
   "metadata": {},
   "outputs": [],
   "source": [
    "tf = pd.read_pickle(\"preprocessed_test_set_without_hits.pkl\")"
   ]
  },
  {
   "cell_type": "code",
   "execution_count": 170,
   "metadata": {},
   "outputs": [],
   "source": [
    "tf.drop(to_drop, axis=1, inplace=True)"
   ]
  },
  {
   "cell_type": "code",
   "execution_count": 171,
   "metadata": {},
   "outputs": [
    {
     "data": {
      "text/plain": [
       "(401589, 30)"
      ]
     },
     "execution_count": 171,
     "metadata": {},
     "output_type": "execute_result"
    }
   ],
   "source": [
    "tf.shape"
   ]
  },
  {
   "cell_type": "code",
   "execution_count": 172,
   "metadata": {},
   "outputs": [],
   "source": [
    "# convert the int64 datatype of date to meaningful dates of typedatetime64\n",
    "df.date = pd.to_datetime(df.date,format='%Y%m%d')"
   ]
  },
  {
   "cell_type": "code",
   "execution_count": 174,
   "metadata": {},
   "outputs": [],
   "source": [
    "# convert the int64 datatype of date to meaningful dates of typedatetime64\n",
    "df2.date = pd.to_datetime(df2.date,format='%Y%m%d')"
   ]
  },
  {
   "cell_type": "code",
   "execution_count": 175,
   "metadata": {},
   "outputs": [],
   "source": [
    "# convert the int64 datatype of date to meaningful dates of typedatetime64\n",
    "tf.date = pd.to_datetime(tf.date,format='%Y%m%d')"
   ]
  },
  {
   "cell_type": "code",
   "execution_count": 177,
   "metadata": {},
   "outputs": [],
   "source": [
    "df[\"is_month_start\"] = pd.DataFrame(df.date.dt.is_month_start)\n",
    "df[\"is_month_end\"] = pd.DataFrame(df.date.dt.is_month_end)\n",
    "df[\"is_year_end\"] = pd.DataFrame(df.date.dt.is_year_end)\n",
    "df[\"is_year_start\"] = pd.DataFrame(df.date.dt.is_year_start)\n",
    "df[\"is_quarter_end\"] = pd.DataFrame(df.date.dt.is_quarter_end)\n",
    "df[\"is_quarter_start\"] = pd.DataFrame(df.date.dt.is_quarter_start)\n",
    "df[\"weekofyear\"] = pd.DataFrame(df.date.dt.weekofyear)"
   ]
  },
  {
   "cell_type": "code",
   "execution_count": 179,
   "metadata": {},
   "outputs": [
    {
     "data": {
      "text/plain": [
       "(803178, 37)"
      ]
     },
     "execution_count": 179,
     "metadata": {},
     "output_type": "execute_result"
    }
   ],
   "source": [
    "df.shape"
   ]
  },
  {
   "cell_type": "code",
   "execution_count": 180,
   "metadata": {
    "scrolled": true
   },
   "outputs": [
    {
     "data": {
      "text/plain": [
       "((905160, 30), (401589, 30))"
      ]
     },
     "execution_count": 180,
     "metadata": {},
     "output_type": "execute_result"
    }
   ],
   "source": [
    "df2.shape, tf.shape"
   ]
  },
  {
   "cell_type": "code",
   "execution_count": 181,
   "metadata": {},
   "outputs": [],
   "source": [
    "df2[\"is_month_start\"] = pd.DataFrame(df2.date.dt.is_month_start)\n",
    "df2[\"is_month_end\"] = pd.DataFrame(df2.date.dt.is_month_end)\n",
    "df2[\"is_year_end\"] = pd.DataFrame(df2.date.dt.is_year_end)\n",
    "df2[\"is_year_start\"] = pd.DataFrame(df2.date.dt.is_year_start)\n",
    "df2[\"is_quarter_end\"] = pd.DataFrame(df2.date.dt.is_quarter_end)\n",
    "df2[\"is_quarter_start\"] = pd.DataFrame(df2.date.dt.is_quarter_start)\n",
    "df2[\"weekofyear\"] = pd.DataFrame(df2.date.dt.weekofyear)"
   ]
  },
  {
   "cell_type": "code",
   "execution_count": 182,
   "metadata": {},
   "outputs": [],
   "source": [
    "tf[\"is_month_start\"] = pd.DataFrame(tf.date.dt.is_month_start)\n",
    "tf[\"is_month_end\"] = pd.DataFrame(tf.date.dt.is_month_end)\n",
    "tf[\"is_year_end\"] = pd.DataFrame(tf.date.dt.is_year_end)\n",
    "tf[\"is_year_start\"] = pd.DataFrame(tf.date.dt.is_year_start)\n",
    "tf[\"is_quarter_end\"] = pd.DataFrame(tf.date.dt.is_quarter_end)\n",
    "tf[\"is_quarter_start\"] = pd.DataFrame(tf.date.dt.is_quarter_start)\n",
    "tf[\"weekofyear\"] = pd.DataFrame(tf.date.dt.weekofyear)"
   ]
  },
  {
   "cell_type": "code",
   "execution_count": 183,
   "metadata": {
    "scrolled": true
   },
   "outputs": [
    {
     "data": {
      "text/plain": [
       "((905160, 37), (401589, 37))"
      ]
     },
     "execution_count": 183,
     "metadata": {},
     "output_type": "execute_result"
    }
   ],
   "source": [
    "df2.shape, tf.shape"
   ]
  },
  {
   "cell_type": "code",
   "execution_count": 247,
   "metadata": {},
   "outputs": [],
   "source": [
    "df.to_pickle(\"train_set.pkl\")"
   ]
  },
  {
   "cell_type": "code",
   "execution_count": 248,
   "metadata": {},
   "outputs": [],
   "source": [
    "df2.to_pickle(\"train_set2.pkl\")"
   ]
  },
  {
   "cell_type": "code",
   "execution_count": 249,
   "metadata": {},
   "outputs": [],
   "source": [
    "tf.to_pickle(\"test_set.pkl\")"
   ]
  },
  {
   "cell_type": "code",
   "execution_count": 189,
   "metadata": {},
   "outputs": [],
   "source": [
    "df[\"visitStartTime\"] = pd.DataFrame(pd.to_datetime(df[\"visitStartTime\"], unit=\"s\"))"
   ]
  },
  {
   "cell_type": "code",
   "execution_count": 190,
   "metadata": {},
   "outputs": [],
   "source": [
    "df2[\"visitStartTime\"] = pd.DataFrame(pd.to_datetime(df2[\"visitStartTime\"], unit=\"s\"))"
   ]
  },
  {
   "cell_type": "code",
   "execution_count": 215,
   "metadata": {},
   "outputs": [],
   "source": [
    "tf[\"visitStartTime\"] = pd.DataFrame(pd.to_datetime(tf[\"visitStartTime\"], unit=\"s\"))"
   ]
  },
  {
   "cell_type": "code",
   "execution_count": 192,
   "metadata": {},
   "outputs": [],
   "source": [
    "df.drop([\"timestamp\"], axis=1, inplace=True)"
   ]
  },
  {
   "cell_type": "code",
   "execution_count": 193,
   "metadata": {
    "scrolled": true
   },
   "outputs": [
    {
     "data": {
      "text/plain": [
       "((803178, 37), (905160, 37), (401589, 37))"
      ]
     },
     "execution_count": 193,
     "metadata": {},
     "output_type": "execute_result"
    }
   ],
   "source": [
    "df.shape, df2.shape, tf.shape"
   ]
  },
  {
   "cell_type": "code",
   "execution_count": 197,
   "metadata": {},
   "outputs": [
    {
     "data": {
      "text/html": [
       "<div>\n",
       "<style scoped>\n",
       "    .dataframe tbody tr th:only-of-type {\n",
       "        vertical-align: middle;\n",
       "    }\n",
       "\n",
       "    .dataframe tbody tr th {\n",
       "        vertical-align: top;\n",
       "    }\n",
       "\n",
       "    .dataframe thead th {\n",
       "        text-align: right;\n",
       "    }\n",
       "</style>\n",
       "<table border=\"1\" class=\"dataframe\">\n",
       "  <thead>\n",
       "    <tr style=\"text-align: right;\">\n",
       "      <th></th>\n",
       "      <th>channelGrouping</th>\n",
       "      <th>customDimensions</th>\n",
       "      <th>date</th>\n",
       "      <th>visitNumber</th>\n",
       "      <th>visitStartTime</th>\n",
       "      <th>browser</th>\n",
       "      <th>operatingSystem</th>\n",
       "      <th>isMobile</th>\n",
       "      <th>deviceCategory</th>\n",
       "      <th>continent</th>\n",
       "      <th>...</th>\n",
       "      <th>referralPath</th>\n",
       "      <th>isTrueDirect</th>\n",
       "      <th>adContent</th>\n",
       "      <th>is_month_start</th>\n",
       "      <th>is_month_end</th>\n",
       "      <th>is_year_end</th>\n",
       "      <th>is_year_start</th>\n",
       "      <th>is_quarter_end</th>\n",
       "      <th>is_quarter_start</th>\n",
       "      <th>weekofyear</th>\n",
       "    </tr>\n",
       "  </thead>\n",
       "  <tbody>\n",
       "    <tr>\n",
       "      <th>0</th>\n",
       "      <td>Organic Search</td>\n",
       "      <td>[{'index': '4', 'value': 'EMEA'}]</td>\n",
       "      <td>2017-10-16</td>\n",
       "      <td>1</td>\n",
       "      <td>2017-10-17 00:00:50</td>\n",
       "      <td>Firefox</td>\n",
       "      <td>Windows</td>\n",
       "      <td>False</td>\n",
       "      <td>desktop</td>\n",
       "      <td>Europe</td>\n",
       "      <td>...</td>\n",
       "      <td>NaN</td>\n",
       "      <td>NaN</td>\n",
       "      <td>NaN</td>\n",
       "      <td>False</td>\n",
       "      <td>False</td>\n",
       "      <td>False</td>\n",
       "      <td>False</td>\n",
       "      <td>False</td>\n",
       "      <td>False</td>\n",
       "      <td>42</td>\n",
       "    </tr>\n",
       "    <tr>\n",
       "      <th>1</th>\n",
       "      <td>Referral</td>\n",
       "      <td>[{'index': '4', 'value': 'North America'}]</td>\n",
       "      <td>2017-10-16</td>\n",
       "      <td>6</td>\n",
       "      <td>2017-10-16 17:51:47</td>\n",
       "      <td>Chrome</td>\n",
       "      <td>Chrome OS</td>\n",
       "      <td>False</td>\n",
       "      <td>desktop</td>\n",
       "      <td>Americas</td>\n",
       "      <td>...</td>\n",
       "      <td>/a/google.com/transportation/mtv-services/bike...</td>\n",
       "      <td>NaN</td>\n",
       "      <td>NaN</td>\n",
       "      <td>False</td>\n",
       "      <td>False</td>\n",
       "      <td>False</td>\n",
       "      <td>False</td>\n",
       "      <td>False</td>\n",
       "      <td>False</td>\n",
       "      <td>42</td>\n",
       "    </tr>\n",
       "    <tr>\n",
       "      <th>2</th>\n",
       "      <td>Direct</td>\n",
       "      <td>[{'index': '4', 'value': 'North America'}]</td>\n",
       "      <td>2017-10-16</td>\n",
       "      <td>1</td>\n",
       "      <td>2017-10-17 00:53:33</td>\n",
       "      <td>Chrome</td>\n",
       "      <td>Android</td>\n",
       "      <td>True</td>\n",
       "      <td>mobile</td>\n",
       "      <td>Americas</td>\n",
       "      <td>...</td>\n",
       "      <td>NaN</td>\n",
       "      <td>True</td>\n",
       "      <td>NaN</td>\n",
       "      <td>False</td>\n",
       "      <td>False</td>\n",
       "      <td>False</td>\n",
       "      <td>False</td>\n",
       "      <td>False</td>\n",
       "      <td>False</td>\n",
       "      <td>42</td>\n",
       "    </tr>\n",
       "    <tr>\n",
       "      <th>3</th>\n",
       "      <td>Organic Search</td>\n",
       "      <td>[{'index': '4', 'value': 'EMEA'}]</td>\n",
       "      <td>2017-10-16</td>\n",
       "      <td>1</td>\n",
       "      <td>2017-10-16 16:04:11</td>\n",
       "      <td>Chrome</td>\n",
       "      <td>Windows</td>\n",
       "      <td>False</td>\n",
       "      <td>desktop</td>\n",
       "      <td>Asia</td>\n",
       "      <td>...</td>\n",
       "      <td>NaN</td>\n",
       "      <td>NaN</td>\n",
       "      <td>NaN</td>\n",
       "      <td>False</td>\n",
       "      <td>False</td>\n",
       "      <td>False</td>\n",
       "      <td>False</td>\n",
       "      <td>False</td>\n",
       "      <td>False</td>\n",
       "      <td>42</td>\n",
       "    </tr>\n",
       "    <tr>\n",
       "      <th>4</th>\n",
       "      <td>Organic Search</td>\n",
       "      <td>[{'index': '4', 'value': 'Central America'}]</td>\n",
       "      <td>2017-10-16</td>\n",
       "      <td>1</td>\n",
       "      <td>2017-10-16 21:49:12</td>\n",
       "      <td>Chrome</td>\n",
       "      <td>Windows</td>\n",
       "      <td>False</td>\n",
       "      <td>desktop</td>\n",
       "      <td>Americas</td>\n",
       "      <td>...</td>\n",
       "      <td>NaN</td>\n",
       "      <td>NaN</td>\n",
       "      <td>NaN</td>\n",
       "      <td>False</td>\n",
       "      <td>False</td>\n",
       "      <td>False</td>\n",
       "      <td>False</td>\n",
       "      <td>False</td>\n",
       "      <td>False</td>\n",
       "      <td>42</td>\n",
       "    </tr>\n",
       "  </tbody>\n",
       "</table>\n",
       "<p>5 rows × 37 columns</p>\n",
       "</div>"
      ],
      "text/plain": [
       "  channelGrouping                              customDimensions       date  \\\n",
       "0  Organic Search             [{'index': '4', 'value': 'EMEA'}] 2017-10-16   \n",
       "1        Referral    [{'index': '4', 'value': 'North America'}] 2017-10-16   \n",
       "2          Direct    [{'index': '4', 'value': 'North America'}] 2017-10-16   \n",
       "3  Organic Search             [{'index': '4', 'value': 'EMEA'}] 2017-10-16   \n",
       "4  Organic Search  [{'index': '4', 'value': 'Central America'}] 2017-10-16   \n",
       "\n",
       "   visitNumber      visitStartTime  browser operatingSystem  isMobile  \\\n",
       "0            1 2017-10-17 00:00:50  Firefox         Windows     False   \n",
       "1            6 2017-10-16 17:51:47   Chrome       Chrome OS     False   \n",
       "2            1 2017-10-17 00:53:33   Chrome         Android      True   \n",
       "3            1 2017-10-16 16:04:11   Chrome         Windows     False   \n",
       "4            1 2017-10-16 21:49:12   Chrome         Windows     False   \n",
       "\n",
       "  deviceCategory continent    ...      \\\n",
       "0        desktop    Europe    ...       \n",
       "1        desktop  Americas    ...       \n",
       "2         mobile  Americas    ...       \n",
       "3        desktop      Asia    ...       \n",
       "4        desktop  Americas    ...       \n",
       "\n",
       "                                        referralPath isTrueDirect adContent  \\\n",
       "0                                                NaN          NaN       NaN   \n",
       "1  /a/google.com/transportation/mtv-services/bike...          NaN       NaN   \n",
       "2                                                NaN         True       NaN   \n",
       "3                                                NaN          NaN       NaN   \n",
       "4                                                NaN          NaN       NaN   \n",
       "\n",
       "  is_month_start is_month_end is_year_end is_year_start is_quarter_end  \\\n",
       "0          False        False       False         False          False   \n",
       "1          False        False       False         False          False   \n",
       "2          False        False       False         False          False   \n",
       "3          False        False       False         False          False   \n",
       "4          False        False       False         False          False   \n",
       "\n",
       "  is_quarter_start weekofyear  \n",
       "0            False         42  \n",
       "1            False         42  \n",
       "2            False         42  \n",
       "3            False         42  \n",
       "4            False         42  \n",
       "\n",
       "[5 rows x 37 columns]"
      ]
     },
     "execution_count": 197,
     "metadata": {},
     "output_type": "execute_result"
    }
   ],
   "source": [
    "df.head()"
   ]
  },
  {
   "cell_type": "code",
   "execution_count": 211,
   "metadata": {},
   "outputs": [],
   "source": [
    "df[\"hourofday\"] = df.visitStartTime.dt.hour\n"
   ]
  },
  {
   "cell_type": "code",
   "execution_count": null,
   "metadata": {
    "scrolled": true
   },
   "outputs": [],
   "source": [
    "df2[\"hourofday\"] = df2.visitStartTime.dt.hour\n"
   ]
  },
  {
   "cell_type": "code",
   "execution_count": 217,
   "metadata": {},
   "outputs": [],
   "source": [
    "tf[\"hourofday\"] = tf.visitStartTime.dt.hour"
   ]
  },
  {
   "cell_type": "code",
   "execution_count": 222,
   "metadata": {},
   "outputs": [],
   "source": [
    "df.drop([\"date\", \"visitStartTime\"], axis=1, inplace=True)\n",
    "df2.drop([\"date\", \"visitStartTime\"], axis=1, inplace=True)\n",
    "tf.drop([\"date\", \"visitStartTime\"], axis=1, inplace=True)"
   ]
  },
  {
   "cell_type": "code",
   "execution_count": 250,
   "metadata": {
    "scrolled": true
   },
   "outputs": [
    {
     "data": {
      "text/plain": [
       "((803178, 35), (905160, 35), (401589, 35))"
      ]
     },
     "execution_count": 250,
     "metadata": {},
     "output_type": "execute_result"
    }
   ],
   "source": [
    "df.shape, df2.shape, tf.shape"
   ]
  },
  {
   "cell_type": "code",
   "execution_count": 232,
   "metadata": {},
   "outputs": [
    {
     "data": {
      "text/html": [
       "<div>\n",
       "<style scoped>\n",
       "    .dataframe tbody tr th:only-of-type {\n",
       "        vertical-align: middle;\n",
       "    }\n",
       "\n",
       "    .dataframe tbody tr th {\n",
       "        vertical-align: top;\n",
       "    }\n",
       "\n",
       "    .dataframe thead th {\n",
       "        text-align: right;\n",
       "    }\n",
       "</style>\n",
       "<table border=\"1\" class=\"dataframe\">\n",
       "  <thead>\n",
       "    <tr style=\"text-align: right;\">\n",
       "      <th></th>\n",
       "      <th>channelGrouping</th>\n",
       "      <th>customDimensions</th>\n",
       "      <th>visitNumber</th>\n",
       "      <th>browser</th>\n",
       "      <th>operatingSystem</th>\n",
       "      <th>isMobile</th>\n",
       "      <th>deviceCategory</th>\n",
       "      <th>continent</th>\n",
       "      <th>subContinent</th>\n",
       "      <th>country</th>\n",
       "      <th>...</th>\n",
       "      <th>referralPath</th>\n",
       "      <th>adContent</th>\n",
       "      <th>is_month_start</th>\n",
       "      <th>is_month_end</th>\n",
       "      <th>is_year_end</th>\n",
       "      <th>is_year_start</th>\n",
       "      <th>is_quarter_end</th>\n",
       "      <th>is_quarter_start</th>\n",
       "      <th>weekofyear</th>\n",
       "      <th>hourofday</th>\n",
       "    </tr>\n",
       "  </thead>\n",
       "  <tbody>\n",
       "    <tr>\n",
       "      <th>0</th>\n",
       "      <td>Organic Search</td>\n",
       "      <td>[{'index': '4', 'value': 'EMEA'}]</td>\n",
       "      <td>1</td>\n",
       "      <td>Firefox</td>\n",
       "      <td>Windows</td>\n",
       "      <td>False</td>\n",
       "      <td>desktop</td>\n",
       "      <td>Europe</td>\n",
       "      <td>Western Europe</td>\n",
       "      <td>Germany</td>\n",
       "      <td>...</td>\n",
       "      <td>NaN</td>\n",
       "      <td>NaN</td>\n",
       "      <td>False</td>\n",
       "      <td>False</td>\n",
       "      <td>False</td>\n",
       "      <td>False</td>\n",
       "      <td>False</td>\n",
       "      <td>False</td>\n",
       "      <td>42</td>\n",
       "      <td>0</td>\n",
       "    </tr>\n",
       "    <tr>\n",
       "      <th>1</th>\n",
       "      <td>Referral</td>\n",
       "      <td>[{'index': '4', 'value': 'North America'}]</td>\n",
       "      <td>6</td>\n",
       "      <td>Chrome</td>\n",
       "      <td>Chrome OS</td>\n",
       "      <td>False</td>\n",
       "      <td>desktop</td>\n",
       "      <td>Americas</td>\n",
       "      <td>Northern America</td>\n",
       "      <td>United States</td>\n",
       "      <td>...</td>\n",
       "      <td>/a/google.com/transportation/mtv-services/bike...</td>\n",
       "      <td>NaN</td>\n",
       "      <td>False</td>\n",
       "      <td>False</td>\n",
       "      <td>False</td>\n",
       "      <td>False</td>\n",
       "      <td>False</td>\n",
       "      <td>False</td>\n",
       "      <td>42</td>\n",
       "      <td>17</td>\n",
       "    </tr>\n",
       "    <tr>\n",
       "      <th>2</th>\n",
       "      <td>Direct</td>\n",
       "      <td>[{'index': '4', 'value': 'North America'}]</td>\n",
       "      <td>1</td>\n",
       "      <td>Chrome</td>\n",
       "      <td>Android</td>\n",
       "      <td>True</td>\n",
       "      <td>mobile</td>\n",
       "      <td>Americas</td>\n",
       "      <td>Northern America</td>\n",
       "      <td>United States</td>\n",
       "      <td>...</td>\n",
       "      <td>NaN</td>\n",
       "      <td>NaN</td>\n",
       "      <td>False</td>\n",
       "      <td>False</td>\n",
       "      <td>False</td>\n",
       "      <td>False</td>\n",
       "      <td>False</td>\n",
       "      <td>False</td>\n",
       "      <td>42</td>\n",
       "      <td>0</td>\n",
       "    </tr>\n",
       "    <tr>\n",
       "      <th>3</th>\n",
       "      <td>Organic Search</td>\n",
       "      <td>[{'index': '4', 'value': 'EMEA'}]</td>\n",
       "      <td>1</td>\n",
       "      <td>Chrome</td>\n",
       "      <td>Windows</td>\n",
       "      <td>False</td>\n",
       "      <td>desktop</td>\n",
       "      <td>Asia</td>\n",
       "      <td>Western Asia</td>\n",
       "      <td>Turkey</td>\n",
       "      <td>...</td>\n",
       "      <td>NaN</td>\n",
       "      <td>NaN</td>\n",
       "      <td>False</td>\n",
       "      <td>False</td>\n",
       "      <td>False</td>\n",
       "      <td>False</td>\n",
       "      <td>False</td>\n",
       "      <td>False</td>\n",
       "      <td>42</td>\n",
       "      <td>16</td>\n",
       "    </tr>\n",
       "    <tr>\n",
       "      <th>4</th>\n",
       "      <td>Organic Search</td>\n",
       "      <td>[{'index': '4', 'value': 'Central America'}]</td>\n",
       "      <td>1</td>\n",
       "      <td>Chrome</td>\n",
       "      <td>Windows</td>\n",
       "      <td>False</td>\n",
       "      <td>desktop</td>\n",
       "      <td>Americas</td>\n",
       "      <td>Central America</td>\n",
       "      <td>Mexico</td>\n",
       "      <td>...</td>\n",
       "      <td>NaN</td>\n",
       "      <td>NaN</td>\n",
       "      <td>False</td>\n",
       "      <td>False</td>\n",
       "      <td>False</td>\n",
       "      <td>False</td>\n",
       "      <td>False</td>\n",
       "      <td>False</td>\n",
       "      <td>42</td>\n",
       "      <td>21</td>\n",
       "    </tr>\n",
       "  </tbody>\n",
       "</table>\n",
       "<p>5 rows × 35 columns</p>\n",
       "</div>"
      ],
      "text/plain": [
       "  channelGrouping                              customDimensions  visitNumber  \\\n",
       "0  Organic Search             [{'index': '4', 'value': 'EMEA'}]            1   \n",
       "1        Referral    [{'index': '4', 'value': 'North America'}]            6   \n",
       "2          Direct    [{'index': '4', 'value': 'North America'}]            1   \n",
       "3  Organic Search             [{'index': '4', 'value': 'EMEA'}]            1   \n",
       "4  Organic Search  [{'index': '4', 'value': 'Central America'}]            1   \n",
       "\n",
       "   browser operatingSystem  isMobile deviceCategory continent  \\\n",
       "0  Firefox         Windows     False        desktop    Europe   \n",
       "1   Chrome       Chrome OS     False        desktop  Americas   \n",
       "2   Chrome         Android      True         mobile  Americas   \n",
       "3   Chrome         Windows     False        desktop      Asia   \n",
       "4   Chrome         Windows     False        desktop  Americas   \n",
       "\n",
       "       subContinent        country    ...     \\\n",
       "0    Western Europe        Germany    ...      \n",
       "1  Northern America  United States    ...      \n",
       "2  Northern America  United States    ...      \n",
       "3      Western Asia         Turkey    ...      \n",
       "4   Central America         Mexico    ...      \n",
       "\n",
       "                                        referralPath adContent is_month_start  \\\n",
       "0                                                NaN       NaN          False   \n",
       "1  /a/google.com/transportation/mtv-services/bike...       NaN          False   \n",
       "2                                                NaN       NaN          False   \n",
       "3                                                NaN       NaN          False   \n",
       "4                                                NaN       NaN          False   \n",
       "\n",
       "  is_month_end is_year_end is_year_start is_quarter_end is_quarter_start  \\\n",
       "0        False       False         False          False            False   \n",
       "1        False       False         False          False            False   \n",
       "2        False       False         False          False            False   \n",
       "3        False       False         False          False            False   \n",
       "4        False       False         False          False            False   \n",
       "\n",
       "  weekofyear hourofday  \n",
       "0         42         0  \n",
       "1         42        17  \n",
       "2         42         0  \n",
       "3         42        16  \n",
       "4         42        21  \n",
       "\n",
       "[5 rows x 35 columns]"
      ]
     },
     "execution_count": 232,
     "metadata": {},
     "output_type": "execute_result"
    }
   ],
   "source": [
    "df.head()"
   ]
  },
  {
   "cell_type": "code",
   "execution_count": 228,
   "metadata": {},
   "outputs": [],
   "source": [
    "df.drop([\"isTrueDirect\"], axis=1, inplace=True)\n",
    "df2.drop([\"isTrueDirect\"], axis=1, inplace=True)\n",
    "tf.drop([\"isTrueDirect\"], axis=1, inplace=True)"
   ]
  },
  {
   "cell_type": "code",
   "execution_count": null,
   "metadata": {},
   "outputs": [],
   "source": [
    "#NOT REQUIRED\n",
    "counter = 0\n",
    "for column in df.keys():\n",
    "    total = []\n",
    "    xaxis = []\n",
    "    a = df.groupby(column).size()\n",
    "    b = df2.groupby(column).size()\n",
    "    for aa, bb in zip(a.iteritems(), b.iteritems()):\n",
    "        total.append(aa[1] + bb[1])\n",
    "        xaxis.append(aa[0])\n",
    "        \n",
    "    y_pos = np.arange(len(xaxis))    \n",
    "        \n",
    "    plt.barh(y_pos, total, align = \"center\", alpha= 0.5)\n",
    "    plt.yticks(y_pos, xaxis)\n",
    "    plt.title(column_names[counter] + \" Spread\")\n",
    "    plt.show()\n",
    "    counter+=1"
   ]
  },
  {
   "cell_type": "code",
   "execution_count": null,
   "metadata": {},
   "outputs": [],
   "source": [
    "column_names"
   ]
  },
  {
   "cell_type": "code",
   "execution_count": 238,
   "metadata": {},
   "outputs": [],
   "source": [
    "df[\"transactionRevenue\"].fillna(0, inplace=True)\n",
    "df2[\"transactionRevenue\"].fillna(0, inplace=True)\n",
    "\n"
   ]
  },
  {
   "cell_type": "code",
   "execution_count": 239,
   "metadata": {},
   "outputs": [
    {
     "name": "stdout",
     "output_type": "stream",
     "text": [
      "Variables not in test but in train :  set()\n"
     ]
    }
   ],
   "source": [
    "print(\"Variables not in test but in train : \", set(df.columns).difference(set(tf.columns)))"
   ]
  },
  {
   "cell_type": "code",
   "execution_count": 245,
   "metadata": {},
   "outputs": [
    {
     "data": {
      "text/plain": [
       "4594"
      ]
     },
     "execution_count": 245,
     "metadata": {},
     "output_type": "execute_result"
    }
   ],
   "source": [
    "sum([v for _, v in tf.groupby(\"transactionRevenue\").size().iteritems()])"
   ]
  },
  {
   "cell_type": "code",
   "execution_count": 262,
   "metadata": {},
   "outputs": [
    {
     "data": {
      "text/plain": [
       "array([0, 0, 0, ..., 0, 0, 0], dtype=object)"
      ]
     },
     "execution_count": 262,
     "metadata": {},
     "output_type": "execute_result"
    }
   ],
   "source": [
    "df[df.transactionRevenue == 0]\n",
    "df.transactionRevenue.values"
   ]
  },
  {
   "cell_type": "code",
   "execution_count": null,
   "metadata": {},
   "outputs": [],
   "source": []
  }
 ],
 "metadata": {
  "kernelspec": {
   "display_name": "Python [default]",
   "language": "python",
   "name": "python3"
  },
  "language_info": {
   "codemirror_mode": {
    "name": "ipython",
    "version": 3
   },
   "file_extension": ".py",
   "mimetype": "text/x-python",
   "name": "python",
   "nbconvert_exporter": "python",
   "pygments_lexer": "ipython3",
   "version": "3.6.6"
  }
 },
 "nbformat": 4,
 "nbformat_minor": 2
}
